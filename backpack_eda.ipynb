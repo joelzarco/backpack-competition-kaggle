{
  "cells": [
    {
      "cell_type": "markdown",
      "metadata": {
        "id": "60YbGp2AIA3p"
      },
      "source": [
        "## Kaggle, backpack prediction challenge."
      ]
    },
    {
      "cell_type": "markdown",
      "metadata": {
        "id": "oPX1gh44Otcr"
      },
      "source": [
        "\n",
        "In This section of the project I perform exploratory data analysis (EDA) and preprocessing on a backpack dataset from a Kaggle competition. Here's a breakdown of the key insights obtained from this processes:\n",
        "\n",
        "**Data Exploration:**\n",
        "\n",
        "* **Missing Values:** The code identifies and addresses missing values in several columns ('Brand', 'Material', 'Size', 'Laptop Compartment', 'Waterproof', 'Style', 'Color', 'Weight Capacity (kg)').  Different strategies are used:\n",
        "    * Filling with 'Unknown' for categorical features.\n",
        "    * Using the mode (with random tie-breaking) for binary features ('Laptop Compartment', 'Waterproof').\n",
        "    * Imputing the mean for 'Weight Capacity (kg)'.\n",
        "* **Data Types:** The code corrects data types for certain columns. 'Compartments' is converted to integer type. 'Laptop Compartment' and 'Waterproof' are converted to boolean.\n",
        "* **Categorical Features:**  The analysis examines the distributions of categorical features like 'Brand', 'Material', 'Size', 'Style', and 'Color' using value counts and bar plots.  These visualizations help understand the prevalence of different categories.\n",
        "* **Numerical Features:** 'Weight Capacity (kg)' and 'Price' are analyzed using box plots and descriptive statistics (mean, median, quartiles, etc.) to identify potential outliers and understand the distribution.\n",
        "* **Column Renaming:** Column names are cleaned and simplified (lowercase, spaces replaced with underscores).\n",
        "\n",
        "**Data Preprocessing:**\n",
        "\n",
        "* **Missing Value Imputation:** As mentioned above, various methods are employed to fill in missing data. The choice of method depends on the nature of the variable.\n",
        "* **Data Type Conversion:**  Columns are converted to appropriate data types.\n",
        "* **Encoding Categorical Variables:** This section was left commented-out given several techniques will be studied in separate cases like One-Hot Encoding (for 'brand', 'material', 'style', and 'color') and Ordinal Encoding (for 'size').   The final dataset retains the original categorical features for now.\n",
        "\n",
        "The notebook provides a good foundation for further analysis and model building.  In the next section of the project I will explore encoding techniques to handle categorical features and training models.\n"
      ]
    },
    {
      "cell_type": "code",
      "execution_count": 1,
      "metadata": {
        "id": "4FBvDUH0H6cM"
      },
      "outputs": [
        {
          "name": "stdout",
          "output_type": "stream",
          "text": [
            "Note: you may need to restart the kernel to use updated packages.\n"
          ]
        }
      ],
      "source": [
        "%pip install -q kaggle"
      ]
    },
    {
      "cell_type": "code",
      "execution_count": 2,
      "metadata": {
        "colab": {
          "base_uri": "https://localhost:8080/"
        },
        "id": "PLdXoEi5ICCZ",
        "outputId": "f5c2b8bf-c4e3-4ede-a26d-b91876c81bec"
      },
      "outputs": [
        {
          "name": "stdout",
          "output_type": "stream",
          "text": [
            "Requirement already satisfied: opendatasets in /opt/anaconda3/lib/python3.11/site-packages (0.1.22)\n",
            "Requirement already satisfied: tqdm in /opt/anaconda3/lib/python3.11/site-packages (from opendatasets) (4.65.0)\n",
            "Requirement already satisfied: kaggle in /opt/anaconda3/lib/python3.11/site-packages (from opendatasets) (1.6.17)\n",
            "Requirement already satisfied: click in /opt/anaconda3/lib/python3.11/site-packages (from opendatasets) (8.1.7)\n",
            "Requirement already satisfied: six>=1.10 in /opt/anaconda3/lib/python3.11/site-packages (from kaggle->opendatasets) (1.16.0)\n",
            "Requirement already satisfied: certifi>=2023.7.22 in /opt/anaconda3/lib/python3.11/site-packages (from kaggle->opendatasets) (2024.7.4)\n",
            "Requirement already satisfied: python-dateutil in /opt/anaconda3/lib/python3.11/site-packages (from kaggle->opendatasets) (2.8.2)\n",
            "Requirement already satisfied: requests in /opt/anaconda3/lib/python3.11/site-packages (from kaggle->opendatasets) (2.31.0)\n",
            "Requirement already satisfied: python-slugify in /opt/anaconda3/lib/python3.11/site-packages (from kaggle->opendatasets) (5.0.2)\n",
            "Requirement already satisfied: urllib3 in /opt/anaconda3/lib/python3.11/site-packages (from kaggle->opendatasets) (2.0.7)\n",
            "Requirement already satisfied: bleach in /opt/anaconda3/lib/python3.11/site-packages (from kaggle->opendatasets) (4.1.0)\n",
            "Requirement already satisfied: packaging in /opt/anaconda3/lib/python3.11/site-packages (from bleach->kaggle->opendatasets) (23.1)\n",
            "Requirement already satisfied: webencodings in /opt/anaconda3/lib/python3.11/site-packages (from bleach->kaggle->opendatasets) (0.5.1)\n",
            "Requirement already satisfied: text-unidecode>=1.3 in /opt/anaconda3/lib/python3.11/site-packages (from python-slugify->kaggle->opendatasets) (1.3)\n",
            "Requirement already satisfied: charset-normalizer<4,>=2 in /opt/anaconda3/lib/python3.11/site-packages (from requests->kaggle->opendatasets) (2.0.4)\n",
            "Requirement already satisfied: idna<4,>=2.5 in /opt/anaconda3/lib/python3.11/site-packages (from requests->kaggle->opendatasets) (3.4)\n",
            "Note: you may need to restart the kernel to use updated packages.\n"
          ]
        }
      ],
      "source": [
        "%pip install opendatasets"
      ]
    },
    {
      "cell_type": "code",
      "execution_count": 3,
      "metadata": {
        "colab": {
          "base_uri": "https://localhost:8080/"
        },
        "id": "ca8ABx_EIII1",
        "outputId": "a0469b3f-68e1-4acd-a740-3ec4aca6cd7a"
      },
      "outputs": [
        {
          "name": "stdout",
          "output_type": "stream",
          "text": [
            "playground-series-s5e2.zip: Skipping, found more recently modified local copy (use --force to force download)\n"
          ]
        }
      ],
      "source": [
        "#import opendatasets as od\n",
        "#od.download('https://www.kaggle.com/competitions/playground-series-s5e2/data')\n",
        "import os\n",
        "import pandas as pd\n",
        "\n",
        "# Set the environment variable to point to the directory containing kaggle.json\n",
        "os.environ['KAGGLE_CONFIG_DIR'] = '/Users/czarco/Documents/kaggle/'\n",
        "\n",
        "# Download the dataset from Kaggle\n",
        "!kaggle competitions download -c playground-series-s5e2\n",
        "\n",
        "# Unzip the downloaded files\n",
        "import zipfile\n",
        "with zipfile.ZipFile('playground-series-s5e2.zip', 'r') as zip_ref:\n",
        "    zip_ref.extractall('playground-series-s5e2')\n",
        "\n"
      ]
    },
    {
      "cell_type": "code",
      "execution_count": 4,
      "metadata": {
        "id": "HaD1RJKIInFz"
      },
      "outputs": [],
      "source": [
        "# Load the dataset\n",
        "df = pd.read_csv('playground-series-s5e2/train.csv')"
      ]
    },
    {
      "cell_type": "code",
      "execution_count": 5,
      "metadata": {
        "colab": {
          "base_uri": "https://localhost:8080/"
        },
        "id": "MovyZB6UIwBo",
        "outputId": "d65116d3-bd07-41bd-b08e-0fdb66b6a6a8"
      },
      "outputs": [
        {
          "name": "stdout",
          "output_type": "stream",
          "text": [
            "<class 'pandas.core.frame.DataFrame'>\n",
            "RangeIndex: 300000 entries, 0 to 299999\n",
            "Data columns (total 11 columns):\n",
            " #   Column                Non-Null Count   Dtype  \n",
            "---  ------                --------------   -----  \n",
            " 0   id                    300000 non-null  int64  \n",
            " 1   Brand                 290295 non-null  object \n",
            " 2   Material              291653 non-null  object \n",
            " 3   Size                  293405 non-null  object \n",
            " 4   Compartments          300000 non-null  float64\n",
            " 5   Laptop Compartment    292556 non-null  object \n",
            " 6   Waterproof            292950 non-null  object \n",
            " 7   Style                 292030 non-null  object \n",
            " 8   Color                 290050 non-null  object \n",
            " 9   Weight Capacity (kg)  299862 non-null  float64\n",
            " 10  Price                 300000 non-null  float64\n",
            "dtypes: float64(3), int64(1), object(7)\n",
            "memory usage: 25.2+ MB\n",
            "None\n"
          ]
        }
      ],
      "source": [
        "print(df.info())"
      ]
    },
    {
      "cell_type": "code",
      "execution_count": 6,
      "metadata": {
        "colab": {
          "base_uri": "https://localhost:8080/",
          "height": 206
        },
        "id": "8_un5PBhI4y-",
        "outputId": "9fee7bc9-d6cb-4c95-ebcc-997fcdfa3da7"
      },
      "outputs": [
        {
          "data": {
            "text/html": [
              "<div>\n",
              "<style scoped>\n",
              "    .dataframe tbody tr th:only-of-type {\n",
              "        vertical-align: middle;\n",
              "    }\n",
              "\n",
              "    .dataframe tbody tr th {\n",
              "        vertical-align: top;\n",
              "    }\n",
              "\n",
              "    .dataframe thead th {\n",
              "        text-align: right;\n",
              "    }\n",
              "</style>\n",
              "<table border=\"1\" class=\"dataframe\">\n",
              "  <thead>\n",
              "    <tr style=\"text-align: right;\">\n",
              "      <th></th>\n",
              "      <th>id</th>\n",
              "      <th>Brand</th>\n",
              "      <th>Material</th>\n",
              "      <th>Size</th>\n",
              "      <th>Compartments</th>\n",
              "      <th>Laptop Compartment</th>\n",
              "      <th>Waterproof</th>\n",
              "      <th>Style</th>\n",
              "      <th>Color</th>\n",
              "      <th>Weight Capacity (kg)</th>\n",
              "      <th>Price</th>\n",
              "    </tr>\n",
              "  </thead>\n",
              "  <tbody>\n",
              "    <tr>\n",
              "      <th>256750</th>\n",
              "      <td>256750</td>\n",
              "      <td>Under Armour</td>\n",
              "      <td>Canvas</td>\n",
              "      <td>Large</td>\n",
              "      <td>5.0</td>\n",
              "      <td>No</td>\n",
              "      <td>Yes</td>\n",
              "      <td>Backpack</td>\n",
              "      <td>Blue</td>\n",
              "      <td>20.976656</td>\n",
              "      <td>75.34056</td>\n",
              "    </tr>\n",
              "    <tr>\n",
              "      <th>23905</th>\n",
              "      <td>23905</td>\n",
              "      <td>Nike</td>\n",
              "      <td>Canvas</td>\n",
              "      <td>Large</td>\n",
              "      <td>1.0</td>\n",
              "      <td>No</td>\n",
              "      <td>No</td>\n",
              "      <td>Backpack</td>\n",
              "      <td>Blue</td>\n",
              "      <td>28.782446</td>\n",
              "      <td>144.99169</td>\n",
              "    </tr>\n",
              "    <tr>\n",
              "      <th>242874</th>\n",
              "      <td>242874</td>\n",
              "      <td>Puma</td>\n",
              "      <td>Nylon</td>\n",
              "      <td>Small</td>\n",
              "      <td>7.0</td>\n",
              "      <td>Yes</td>\n",
              "      <td>No</td>\n",
              "      <td>Backpack</td>\n",
              "      <td>Red</td>\n",
              "      <td>13.244225</td>\n",
              "      <td>139.83144</td>\n",
              "    </tr>\n",
              "    <tr>\n",
              "      <th>263250</th>\n",
              "      <td>263250</td>\n",
              "      <td>Puma</td>\n",
              "      <td>Polyester</td>\n",
              "      <td>Small</td>\n",
              "      <td>3.0</td>\n",
              "      <td>No</td>\n",
              "      <td>Yes</td>\n",
              "      <td>NaN</td>\n",
              "      <td>Pink</td>\n",
              "      <td>6.086048</td>\n",
              "      <td>149.91388</td>\n",
              "    </tr>\n",
              "    <tr>\n",
              "      <th>150997</th>\n",
              "      <td>150997</td>\n",
              "      <td>Adidas</td>\n",
              "      <td>Canvas</td>\n",
              "      <td>Small</td>\n",
              "      <td>9.0</td>\n",
              "      <td>Yes</td>\n",
              "      <td>Yes</td>\n",
              "      <td>Backpack</td>\n",
              "      <td>Black</td>\n",
              "      <td>25.251532</td>\n",
              "      <td>45.60507</td>\n",
              "    </tr>\n",
              "  </tbody>\n",
              "</table>\n",
              "</div>"
            ],
            "text/plain": [
              "            id         Brand   Material   Size  Compartments  \\\n",
              "256750  256750  Under Armour     Canvas  Large           5.0   \n",
              "23905    23905          Nike     Canvas  Large           1.0   \n",
              "242874  242874          Puma      Nylon  Small           7.0   \n",
              "263250  263250          Puma  Polyester  Small           3.0   \n",
              "150997  150997        Adidas     Canvas  Small           9.0   \n",
              "\n",
              "       Laptop Compartment Waterproof     Style  Color  Weight Capacity (kg)  \\\n",
              "256750                 No        Yes  Backpack   Blue             20.976656   \n",
              "23905                  No         No  Backpack   Blue             28.782446   \n",
              "242874                Yes         No  Backpack    Red             13.244225   \n",
              "263250                 No        Yes       NaN   Pink              6.086048   \n",
              "150997                Yes        Yes  Backpack  Black             25.251532   \n",
              "\n",
              "            Price  \n",
              "256750   75.34056  \n",
              "23905   144.99169  \n",
              "242874  139.83144  \n",
              "263250  149.91388  \n",
              "150997   45.60507  "
            ]
          },
          "metadata": {},
          "output_type": "display_data"
        }
      ],
      "source": [
        "display(df.sample(5))"
      ]
    },
    {
      "cell_type": "markdown",
      "metadata": {
        "id": "8V-hg6e9J31O"
      },
      "source": [
        "# Exploratory Data Analysis."
      ]
    },
    {
      "cell_type": "code",
      "execution_count": 7,
      "metadata": {
        "colab": {
          "base_uri": "https://localhost:8080/"
        },
        "id": "I4GOI5HQJaA5",
        "outputId": "9b59458f-f931-4bc5-bd52-a2e0fe91505e"
      },
      "outputs": [
        {
          "data": {
            "text/plain": [
              "0"
            ]
          },
          "execution_count": 7,
          "metadata": {},
          "output_type": "execute_result"
        }
      ],
      "source": [
        "# check if there is fully duplicated rows\n",
        "df.duplicated().sum()"
      ]
    },
    {
      "cell_type": "code",
      "execution_count": 8,
      "metadata": {
        "colab": {
          "base_uri": "https://localhost:8080/",
          "height": 429
        },
        "id": "TUxlqdFoKZzo",
        "outputId": "134acfbf-e971-4a5b-eebb-5fe238996065"
      },
      "outputs": [
        {
          "data": {
            "text/plain": [
              "id                         0\n",
              "Brand                   9705\n",
              "Material                8347\n",
              "Size                    6595\n",
              "Compartments               0\n",
              "Laptop Compartment      7444\n",
              "Waterproof              7050\n",
              "Style                   7970\n",
              "Color                   9950\n",
              "Weight Capacity (kg)     138\n",
              "Price                      0\n",
              "dtype: int64"
            ]
          },
          "execution_count": 8,
          "metadata": {},
          "output_type": "execute_result"
        }
      ],
      "source": [
        "# check for missing values\n",
        "df.isna().sum()"
      ]
    },
    {
      "cell_type": "code",
      "execution_count": 9,
      "metadata": {
        "colab": {
          "base_uri": "https://localhost:8080/"
        },
        "id": "6k9MIfg_K2eL",
        "outputId": "a2e284fc-1d51-44ef-a757-ed0d309ef440"
      },
      "outputs": [
        {
          "data": {
            "text/plain": [
              "Index(['id', 'Brand', 'Material', 'Size', 'Compartments', 'Laptop Compartment',\n",
              "       'Waterproof', 'Style', 'Color', 'Weight Capacity (kg)', 'Price'],\n",
              "      dtype='object')"
            ]
          },
          "execution_count": 9,
          "metadata": {},
          "output_type": "execute_result"
        }
      ],
      "source": [
        "# print column names\n",
        "df.columns"
      ]
    },
    {
      "cell_type": "markdown",
      "metadata": {
        "id": "TMJRGUcELQrv"
      },
      "source": [
        "- Brand column"
      ]
    },
    {
      "cell_type": "code",
      "execution_count": 10,
      "metadata": {
        "colab": {
          "base_uri": "https://localhost:8080/",
          "height": 304
        },
        "id": "tcQEGCuiKhqG",
        "outputId": "43f7ba1c-cbc9-472f-c76d-3117b72ff1c0"
      },
      "outputs": [
        {
          "data": {
            "text/plain": [
              "Brand\n",
              "Adidas          60077\n",
              "Under Armour    59992\n",
              "Nike            57336\n",
              "Puma            56814\n",
              "Jansport        56076\n",
              "NaN              9705\n",
              "Name: count, dtype: int64"
            ]
          },
          "execution_count": 10,
          "metadata": {},
          "output_type": "execute_result"
        }
      ],
      "source": [
        "# check brand distribution while keeping NaNs\n",
        "df['Brand'].value_counts(dropna=False)"
      ]
    },
    {
      "cell_type": "code",
      "execution_count": 11,
      "metadata": {
        "colab": {
          "base_uri": "https://localhost:8080/",
          "height": 449
        },
        "id": "wUxgxSbbKxco",
        "outputId": "729338cd-627e-4e16-98f0-f46a584c0dc4"
      },
      "outputs": [],
      "source": [
        "# Barplot Brand column\n",
        "#import seaborn as sns\n",
        "#import matplotlib.pyplot as plt\n",
        "#sns.countplot(df['Brand'])\n",
        "#plt.show()"
      ]
    },
    {
      "cell_type": "markdown",
      "metadata": {
        "id": "c4UijqfPLWLq"
      },
      "source": [
        "- Material column"
      ]
    },
    {
      "cell_type": "code",
      "execution_count": 12,
      "metadata": {
        "colab": {
          "base_uri": "https://localhost:8080/",
          "height": 272
        },
        "id": "fKSzNKA_LEKg",
        "outputId": "fc9cd0dd-9390-4bf5-ccda-58c5fb65b7d3"
      },
      "outputs": [
        {
          "data": {
            "text/plain": [
              "Material\n",
              "Polyester    79630\n",
              "Leather      73416\n",
              "Nylon        70603\n",
              "Canvas       68004\n",
              "NaN           8347\n",
              "Name: count, dtype: int64"
            ]
          },
          "execution_count": 12,
          "metadata": {},
          "output_type": "execute_result"
        }
      ],
      "source": [
        "# check Material column distribution\n",
        "df['Material'].value_counts(dropna=False)"
      ]
    },
    {
      "cell_type": "code",
      "execution_count": 13,
      "metadata": {
        "colab": {
          "base_uri": "https://localhost:8080/",
          "height": 449
        },
        "id": "u0UBGJOhLi7f",
        "outputId": "a7b839c4-9cf7-433d-99ed-2cb6eb5a3bf9"
      },
      "outputs": [],
      "source": [
        "# barplot vertically Material column\n",
        "#sns.countplot(df['Material'])\n",
        "#plt.show()"
      ]
    },
    {
      "cell_type": "code",
      "execution_count": 14,
      "metadata": {
        "colab": {
          "base_uri": "https://localhost:8080/",
          "height": 241
        },
        "id": "ZXxQFaZDLrpM",
        "outputId": "2c56d05f-a7a3-4437-b483-bf3880a60746"
      },
      "outputs": [
        {
          "data": {
            "text/plain": [
              "Size\n",
              "Medium    101906\n",
              "Large      98643\n",
              "Small      92856\n",
              "NaN         6595\n",
              "Name: count, dtype: int64"
            ]
          },
          "execution_count": 14,
          "metadata": {},
          "output_type": "execute_result"
        }
      ],
      "source": [
        "# check Size distribution, keep NaNs\n",
        "df['Size'].value_counts(dropna=False)"
      ]
    },
    {
      "cell_type": "code",
      "execution_count": 15,
      "metadata": {
        "colab": {
          "base_uri": "https://localhost:8080/",
          "height": 449
        },
        "id": "Xj_GchhINR_Y",
        "outputId": "404257f9-f956-4360-ce9a-d9c4bd710058"
      },
      "outputs": [],
      "source": [
        "# barplot Size column\n",
        "#sns.countplot(df['Size'])\n",
        "#plt.show()"
      ]
    },
    {
      "cell_type": "code",
      "execution_count": 16,
      "metadata": {
        "colab": {
          "base_uri": "https://localhost:8080/",
          "height": 429
        },
        "id": "2UwPZTdNNaZF",
        "outputId": "2a8e2c7e-1c58-4f4a-f843-53399c74a0ca"
      },
      "outputs": [
        {
          "data": {
            "text/plain": [
              "Compartments\n",
              "1.0     31568\n",
              "4.0     31498\n",
              "2.0     30595\n",
              "3.0     30293\n",
              "7.0     30158\n",
              "9.0     29965\n",
              "5.0     29959\n",
              "10.0    29815\n",
              "8.0     28909\n",
              "6.0     27240\n",
              "Name: count, dtype: int64"
            ]
          },
          "execution_count": 16,
          "metadata": {},
          "output_type": "execute_result"
        }
      ],
      "source": [
        "# ckeck Compartments dristribution\n",
        "df['Compartments'].value_counts(dropna=False)"
      ]
    },
    {
      "cell_type": "code",
      "execution_count": 17,
      "metadata": {
        "colab": {
          "base_uri": "https://localhost:8080/",
          "height": 210
        },
        "id": "ozS29xTuNl1f",
        "outputId": "f80879f4-d8f3-4b8c-8c23-6c620b191219"
      },
      "outputs": [
        {
          "data": {
            "text/plain": [
              "Laptop Compartment\n",
              "Yes    148342\n",
              "No     144214\n",
              "NaN      7444\n",
              "Name: count, dtype: int64"
            ]
          },
          "execution_count": 17,
          "metadata": {},
          "output_type": "execute_result"
        }
      ],
      "source": [
        "# check Laptop Compartment column\n",
        "df['Laptop Compartment'].value_counts(dropna=False)"
      ]
    },
    {
      "cell_type": "code",
      "execution_count": 18,
      "metadata": {
        "colab": {
          "base_uri": "https://localhost:8080/",
          "height": 210
        },
        "id": "lSkjzRChPCHa",
        "outputId": "f8012136-1f00-436e-b8eb-9188a40d7b7c"
      },
      "outputs": [
        {
          "data": {
            "text/plain": [
              "Waterproof\n",
              "Yes    148077\n",
              "No     144873\n",
              "NaN      7050\n",
              "Name: count, dtype: int64"
            ]
          },
          "execution_count": 18,
          "metadata": {},
          "output_type": "execute_result"
        }
      ],
      "source": [
        "# check Waterproof column\n",
        "df['Waterproof'].value_counts(dropna=False)"
      ]
    },
    {
      "cell_type": "code",
      "execution_count": 19,
      "metadata": {
        "colab": {
          "base_uri": "https://localhost:8080/",
          "height": 241
        },
        "id": "xkAHaxTGPUVe",
        "outputId": "8b776173-9ee5-43aa-8126-f5d9f0bfbd55"
      },
      "outputs": [
        {
          "data": {
            "text/plain": [
              "Style\n",
              "Messenger    100031\n",
              "Tote          97438\n",
              "Backpack      94561\n",
              "NaN            7970\n",
              "Name: count, dtype: int64"
            ]
          },
          "execution_count": 19,
          "metadata": {},
          "output_type": "execute_result"
        }
      ],
      "source": [
        "# Check Style column distribution\n",
        "df['Style'].value_counts(dropna=False)"
      ]
    },
    {
      "cell_type": "code",
      "execution_count": 20,
      "metadata": {
        "colab": {
          "base_uri": "https://localhost:8080/",
          "height": 335
        },
        "id": "FBPgbY26P0c4",
        "outputId": "5cc179c7-ca5a-4aea-97cb-eb4c649e4429"
      },
      "outputs": [
        {
          "data": {
            "text/plain": [
              "Color\n",
              "Pink     51690\n",
              "Gray     50280\n",
              "Blue     48097\n",
              "Red      47219\n",
              "Green    46386\n",
              "Black    46378\n",
              "NaN       9950\n",
              "Name: count, dtype: int64"
            ]
          },
          "execution_count": 20,
          "metadata": {},
          "output_type": "execute_result"
        }
      ],
      "source": [
        "# check Color column distribution\n",
        "df['Color'].value_counts(dropna=False)"
      ]
    },
    {
      "cell_type": "code",
      "execution_count": 22,
      "metadata": {
        "colab": {
          "base_uri": "https://localhost:8080/",
          "height": 411
        },
        "id": "0Ypfp5k9QC3T",
        "outputId": "94552b76-020d-4e01-ab7f-3882f7b859bd"
      },
      "outputs": [
        {
          "data": {
            "image/png": "[encoded data removed]",
            "text/plain": [
              "<Figure size 640x480 with 1 Axes>"
            ]
          },
          "metadata": {},
          "output_type": "display_data"
        }
      ],
      "source": [
        "# boxplot Weight Capacity (kg) column\n",
        "import seaborn as sns\n",
        "import matplotlib.pyplot as plt\n",
        "sns.boxplot(df['Weight Capacity (kg)'])\n",
        "plt.show()"
      ]
    },
    {
      "cell_type": "code",
      "execution_count": 23,
      "metadata": {
        "colab": {
          "base_uri": "https://localhost:8080/",
          "height": 335
        },
        "id": "tbodwTDtQTIr",
        "outputId": "f03dad12-0f14-4119-a490-409b2ed9ac21"
      },
      "outputs": [
        {
          "data": {
            "text/plain": [
              "count    299862.000000\n",
              "mean         18.029994\n",
              "std           6.966914\n",
              "min           5.000000\n",
              "25%          12.097867\n",
              "50%          18.068614\n",
              "75%          24.002375\n",
              "max          30.000000\n",
              "Name: Weight Capacity (kg), dtype: float64"
            ]
          },
          "execution_count": 23,
          "metadata": {},
          "output_type": "execute_result"
        }
      ],
      "source": [
        "# Describe Weight Capacity (kg) column\n",
        "df['Weight Capacity (kg)'].describe()"
      ]
    },
    {
      "cell_type": "code",
      "execution_count": 24,
      "metadata": {
        "colab": {
          "base_uri": "https://localhost:8080/"
        },
        "id": "JuU2_Lmlcfa0",
        "outputId": "7d24a0b2-3829-4458-8c42-59d54d775383"
      },
      "outputs": [
        {
          "data": {
            "text/plain": [
              "138"
            ]
          },
          "execution_count": 24,
          "metadata": {},
          "output_type": "execute_result"
        }
      ],
      "source": [
        "# how many missing values in Weight Capacity (kg) column?\n",
        "df['Weight Capacity (kg)'].isna().sum()"
      ]
    },
    {
      "cell_type": "code",
      "execution_count": 25,
      "metadata": {
        "colab": {
          "base_uri": "https://localhost:8080/",
          "height": 411
        },
        "id": "l8aBsNHWcuu9",
        "outputId": "094016bf-f3fb-4127-e0e1-39b208423a82"
      },
      "outputs": [
        {
          "data": {
            "image/png": "[encoded data removed]",
            "text/plain": [
              "<Figure size 640x480 with 1 Axes>"
            ]
          },
          "metadata": {},
          "output_type": "display_data"
        }
      ],
      "source": [
        "# boxplot vertically Price column\n",
        "sns.boxplot(df['Price'])\n",
        "plt.show()"
      ]
    },
    {
      "cell_type": "code",
      "execution_count": 26,
      "metadata": {
        "colab": {
          "base_uri": "https://localhost:8080/",
          "height": 335
        },
        "id": "6GfDxg_Ec18C",
        "outputId": "b68cc8cb-8259-4534-8633-cbb2eb9de6d1"
      },
      "outputs": [
        {
          "data": {
            "text/plain": [
              "count    300000.000000\n",
              "mean         81.411107\n",
              "std          39.039340\n",
              "min          15.000000\n",
              "25%          47.384620\n",
              "50%          80.956120\n",
              "75%         115.018160\n",
              "max         150.000000\n",
              "Name: Price, dtype: float64"
            ]
          },
          "execution_count": 26,
          "metadata": {},
          "output_type": "execute_result"
        }
      ],
      "source": [
        "# describe Price column\n",
        "df['Price'].describe()"
      ]
    },
    {
      "cell_type": "markdown",
      "metadata": {
        "id": "3SzgbP_wNsia"
      },
      "source": [
        "- columns names can be lower cased and simplified.\n",
        "- Brand is categorical and NaN values must be addressed.\n",
        "- Material column has NaN values and must addressed.\n",
        "- Size column has NaN values.\n",
        "- Compartments column has no missing values but needs to chage its type.\n",
        "- Laptop Compartment has missing values, is fairly balanced and must be change to Bool.\n",
        "- Waterproof column has NaNs, balanced and should be bool.\n",
        "- Style is also categorical, presents NaNs.\n",
        "- Color also Categorical, has Nans.\n",
        "- Weight Capacity (kg) has few NaNs, maybe filled with mean?"
      ]
    },
    {
      "cell_type": "markdown",
      "metadata": {
        "id": "opu6O1MQel50"
      },
      "source": [
        "# Data proccessing."
      ]
    },
    {
      "cell_type": "markdown",
      "metadata": {
        "id": "qesBfB3k7k0C"
      },
      "source": [
        "- rename columns to follow snake_case style."
      ]
    },
    {
      "cell_type": "code",
      "execution_count": 27,
      "metadata": {
        "id": "QlV3qiq2epMq"
      },
      "outputs": [],
      "source": [
        "# rename column names\n",
        "df.columns = df.columns.str.lower().str.replace(' ', '_')"
      ]
    },
    {
      "cell_type": "code",
      "execution_count": 28,
      "metadata": {
        "colab": {
          "base_uri": "https://localhost:8080/"
        },
        "id": "7VIIAlMOsU0Q",
        "outputId": "e59993e1-cf9a-46e8-8875-69f7df504d37"
      },
      "outputs": [
        {
          "data": {
            "text/plain": [
              "Index(['id', 'brand', 'material', 'size', 'compartments', 'laptop_compartment',\n",
              "       'waterproof', 'style', 'color', 'weight_capacity_(kg)', 'price'],\n",
              "      dtype='object')"
            ]
          },
          "execution_count": 28,
          "metadata": {},
          "output_type": "execute_result"
        }
      ],
      "source": [
        "# print column names\n",
        "df.columns"
      ]
    },
    {
      "cell_type": "code",
      "execution_count": 29,
      "metadata": {
        "id": "oxEywdCEsYYJ"
      },
      "outputs": [],
      "source": [
        "df = df.rename(columns={'weight_capacity_(kg)': 'weight_cap', 'price': 'Price'})"
      ]
    },
    {
      "cell_type": "code",
      "execution_count": 30,
      "metadata": {
        "id": "L9OlwrBp58_I"
      },
      "outputs": [],
      "source": [
        "#print(df.info())"
      ]
    },
    {
      "cell_type": "markdown",
      "metadata": {
        "id": "EmgqYUTp7pu9"
      },
      "source": [
        "- Fix 'brand' missing values."
      ]
    },
    {
      "cell_type": "code",
      "execution_count": 31,
      "metadata": {
        "colab": {
          "base_uri": "https://localhost:8080/"
        },
        "id": "VrSiKmS55-sn",
        "outputId": "2a5d084c-96d1-4737-e4aa-d21d9c9ee2c4"
      },
      "outputs": [],
      "source": [
        "df['brand'].fillna('Unknown', inplace=True)"
      ]
    },
    {
      "cell_type": "code",
      "execution_count": 32,
      "metadata": {
        "id": "EQXMYVGQ7Pis"
      },
      "outputs": [],
      "source": [
        "#df.info()"
      ]
    },
    {
      "cell_type": "markdown",
      "metadata": {
        "id": "7BQoQFVs9ttD"
      },
      "source": [
        "- fix material missing values."
      ]
    },
    {
      "cell_type": "code",
      "execution_count": 33,
      "metadata": {
        "colab": {
          "base_uri": "https://localhost:8080/"
        },
        "id": "ICM0F7Lc7eSn",
        "outputId": "7e59d28d-50f7-414a-84c2-d7c793921eb4"
      },
      "outputs": [],
      "source": [
        "# fix 'material' missing values\n",
        "df['material'].fillna('Unknown', inplace=True)"
      ]
    },
    {
      "cell_type": "code",
      "execution_count": 34,
      "metadata": {
        "colab": {
          "base_uri": "https://localhost:8080/"
        },
        "id": "hikjYUZr9mfl",
        "outputId": "5a5a947f-457d-42b8-ddfd-ddc277133330"
      },
      "outputs": [],
      "source": [
        "# fix 'size' missing values\n",
        "df['size'].fillna('Unknown', inplace=True)"
      ]
    },
    {
      "cell_type": "code",
      "execution_count": 35,
      "metadata": {
        "id": "ZDX4WqKRAF3g"
      },
      "outputs": [],
      "source": [
        "# change 'compartments' column to int type\n",
        "df['compartments'] = df['compartments'].astype('int')"
      ]
    },
    {
      "cell_type": "code",
      "execution_count": 36,
      "metadata": {
        "id": "RnkIKBoIAY7w"
      },
      "outputs": [],
      "source": [
        "# change laptop_compartments to bool values\n",
        "df['laptop_compartment'] = df['laptop_compartment'].map({'Yes': True, 'No': False})"
      ]
    },
    {
      "cell_type": "code",
      "execution_count": 37,
      "metadata": {
        "colab": {
          "base_uri": "https://localhost:8080/",
          "height": 210
        },
        "id": "TYMn2znJBWeF",
        "outputId": "0a7ace26-f17f-4c93-8a3c-9749a8da4fc4"
      },
      "outputs": [
        {
          "data": {
            "text/plain": [
              "laptop_compartment\n",
              "True     148342\n",
              "False    144214\n",
              "NaN        7444\n",
              "Name: count, dtype: int64"
            ]
          },
          "execution_count": 37,
          "metadata": {},
          "output_type": "execute_result"
        }
      ],
      "source": [
        "df['laptop_compartment'].value_counts(dropna=False)"
      ]
    },
    {
      "cell_type": "markdown",
      "metadata": {
        "id": "p-9KDt0SDah5"
      },
      "source": [
        "- Using the Mode (with Random Tie-breaking) to fill laptop_compartment missing values."
      ]
    },
    {
      "cell_type": "code",
      "execution_count": 38,
      "metadata": {
        "colab": {
          "base_uri": "https://localhost:8080/"
        },
        "id": "-dXXalUpBdCk",
        "outputId": "938bb167-0330-4e22-a3d4-d5d3fc0d7f69"
      },
      "outputs": [],
      "source": [
        "import random\n",
        "\n",
        "mode = df['laptop_compartment'].mode()[0]  # Get the mode\n",
        "if random.choice([True, False]):  # Introduce random tie-breaking\n",
        "    fill_value = mode\n",
        "else:\n",
        "    fill_value = not mode  # Choose the opposite of mode with 50% chance\n",
        "\n",
        "df['laptop_compartment'].fillna(fill_value, inplace=True)"
      ]
    },
    {
      "cell_type": "code",
      "execution_count": 39,
      "metadata": {
        "colab": {
          "base_uri": "https://localhost:8080/",
          "height": 210
        },
        "id": "nX1TObAwDoZO",
        "outputId": "7973fd35-72d0-4e24-cd63-c1fa07d1a4a1"
      },
      "outputs": [
        {
          "data": {
            "text/plain": [
              "waterproof\n",
              "Yes    148077\n",
              "No     144873\n",
              "NaN      7050\n",
              "Name: count, dtype: int64"
            ]
          },
          "execution_count": 39,
          "metadata": {},
          "output_type": "execute_result"
        }
      ],
      "source": [
        "df['waterproof'].value_counts(dropna=False)"
      ]
    },
    {
      "cell_type": "markdown",
      "metadata": {
        "id": "3yZeVU-FEaS8"
      },
      "source": [
        "- 'waterproof' has a similar problem as laptop_compartment"
      ]
    },
    {
      "cell_type": "code",
      "execution_count": 40,
      "metadata": {
        "id": "OmkM9W7MD0Uq"
      },
      "outputs": [],
      "source": [
        "# change 'waterproof' Yes/No values to bool values\n",
        "df['waterproof'] = df['waterproof'].map({'Yes': True, 'No': False})"
      ]
    },
    {
      "cell_type": "code",
      "execution_count": 41,
      "metadata": {
        "colab": {
          "base_uri": "https://localhost:8080/"
        },
        "id": "aywWBxGKHlg_",
        "outputId": "9eebc354-88f2-4e8a-d849-a8098c7758c8"
      },
      "outputs": [],
      "source": [
        "mode = df['waterproof'].mode()[0]\n",
        "if random.choice([True, False]):\n",
        "    fill_value = mode\n",
        "else:\n",
        "    fill_value = not mode\n",
        "\n",
        "df['waterproof'].fillna(fill_value, inplace=True)"
      ]
    },
    {
      "cell_type": "code",
      "execution_count": 42,
      "metadata": {
        "colab": {
          "base_uri": "https://localhost:8080/",
          "height": 178
        },
        "id": "QNl-g0D8HwbY",
        "outputId": "c3d61211-c18f-40f1-8f3c-5abde1e2c6c9"
      },
      "outputs": [
        {
          "data": {
            "text/plain": [
              "waterproof\n",
              "False    151923\n",
              "True     148077\n",
              "Name: count, dtype: int64"
            ]
          },
          "execution_count": 42,
          "metadata": {},
          "output_type": "execute_result"
        }
      ],
      "source": [
        "df['waterproof'].value_counts(dropna=False)"
      ]
    },
    {
      "cell_type": "markdown",
      "metadata": {
        "id": "0wxe09WFI0ow"
      },
      "source": [
        "- Fill missing values in 'Style' column with Unknown"
      ]
    },
    {
      "cell_type": "code",
      "execution_count": 43,
      "metadata": {
        "colab": {
          "base_uri": "https://localhost:8080/"
        },
        "id": "ueR-7rSZH1DQ",
        "outputId": "82d56f9d-7423-4acc-fa18-093d451df1da"
      },
      "outputs": [],
      "source": [
        "df['style'].fillna('Unknown', inplace=True)"
      ]
    },
    {
      "cell_type": "code",
      "execution_count": 44,
      "metadata": {
        "colab": {
          "base_uri": "https://localhost:8080/"
        },
        "id": "128-kEKMKeTy",
        "outputId": "0791219e-8a17-45ac-f290-f933f82d8fa9"
      },
      "outputs": [],
      "source": [
        "df['color'].fillna('Unknown', inplace=True)"
      ]
    },
    {
      "cell_type": "code",
      "execution_count": 45,
      "metadata": {
        "colab": {
          "base_uri": "https://localhost:8080/",
          "height": 335
        },
        "id": "LOBtxBtlLFyE",
        "outputId": "6642dd9c-4296-483c-86e8-7123d89f55ae"
      },
      "outputs": [
        {
          "data": {
            "text/plain": [
              "count    299862.000000\n",
              "mean         18.029994\n",
              "std           6.966914\n",
              "min           5.000000\n",
              "25%          12.097867\n",
              "50%          18.068614\n",
              "75%          24.002375\n",
              "max          30.000000\n",
              "Name: weight_cap, dtype: float64"
            ]
          },
          "execution_count": 45,
          "metadata": {},
          "output_type": "execute_result"
        }
      ],
      "source": [
        "df['weight_cap'].describe()"
      ]
    },
    {
      "cell_type": "code",
      "execution_count": 46,
      "metadata": {
        "colab": {
          "base_uri": "https://localhost:8080/"
        },
        "id": "l8wJsOH3LcJn",
        "outputId": "b78d5a1f-a28f-46fc-cbf3-2c8ce5be2c1f"
      },
      "outputs": [],
      "source": [
        "df['weight_cap'].fillna(df['weight_cap'].mean(), inplace=True)"
      ]
    },
    {
      "cell_type": "code",
      "execution_count": 47,
      "metadata": {
        "colab": {
          "base_uri": "https://localhost:8080/"
        },
        "id": "zVRQeb95L7fE",
        "outputId": "00e9c71d-0a3b-4edd-ce25-06f48a6b9375"
      },
      "outputs": [
        {
          "name": "stdout",
          "output_type": "stream",
          "text": [
            "<class 'pandas.core.frame.DataFrame'>\n",
            "RangeIndex: 300000 entries, 0 to 299999\n",
            "Data columns (total 11 columns):\n",
            " #   Column              Non-Null Count   Dtype  \n",
            "---  ------              --------------   -----  \n",
            " 0   id                  300000 non-null  int64  \n",
            " 1   brand               300000 non-null  object \n",
            " 2   material            300000 non-null  object \n",
            " 3   size                300000 non-null  object \n",
            " 4   compartments        300000 non-null  int64  \n",
            " 5   laptop_compartment  300000 non-null  bool   \n",
            " 6   waterproof          300000 non-null  bool   \n",
            " 7   style               300000 non-null  object \n",
            " 8   color               300000 non-null  object \n",
            " 9   weight_cap          300000 non-null  float64\n",
            " 10  Price               300000 non-null  float64\n",
            "dtypes: bool(2), float64(2), int64(2), object(5)\n",
            "memory usage: 21.2+ MB\n"
          ]
        }
      ],
      "source": [
        "df.info()"
      ]
    },
    {
      "cell_type": "code",
      "execution_count": 48,
      "metadata": {
        "colab": {
          "base_uri": "https://localhost:8080/"
        },
        "id": "BibnS20RL9es",
        "outputId": "79b5673e-2ad8-405b-e336-c36bf124ad49"
      },
      "outputs": [],
      "source": [
        "# save this corrected dataframe in my drive\n",
        "#from google.colab import drive\n",
        "#drive.mount('/content/drive')\n",
        "#df.to_csv('/content/drive/My Drive/categorical_backpack.csv', index=False)"
      ]
    },
    {
      "cell_type": "code",
      "execution_count": 49,
      "metadata": {},
      "outputs": [],
      "source": [
        "# write the corrected dataframe to a new csv file\n",
        "df.to_csv('cat_backpack.csv', index=False)"
      ]
    },
    {
      "cell_type": "markdown",
      "metadata": {
        "id": "1k-WWuhZfSAS"
      },
      "source": [
        "# Variables Encoding."
      ]
    },
    {
      "cell_type": "markdown",
      "metadata": {},
      "source": [
        "- This step will be done in a separate file to explore the various techniques available to handle categorical variables."
      ]
    },
    {
      "cell_type": "markdown",
      "metadata": {
        "id": "aQymls9Ui8HY"
      },
      "source": [
        "- One Hot Encoding for categorical variables : brand, material, style and color"
      ]
    },
    {
      "cell_type": "markdown",
      "metadata": {
        "id": "JME9oPWUkAyJ"
      },
      "source": [
        "- Ordinal encoding for size variable."
      ]
    }
  ],
  "metadata": {
    "colab": {
      "collapsed_sections": [
        "60YbGp2AIA3p",
        "8V-hg6e9J31O"
      ],
      "provenance": []
    },
    "kernelspec": {
      "display_name": "base",
      "language": "python",
      "name": "python3"
    },
    "language_info": {
      "codemirror_mode": {
        "name": "ipython",
        "version": 3
      },
      "file_extension": ".py",
      "mimetype": "text/x-python",
      "name": "python",
      "nbconvert_exporter": "python",
      "pygments_lexer": "ipython3",
      "version": "3.11.7"
    }
  },
  "nbformat": 4,
  "nbformat_minor": 0
}
