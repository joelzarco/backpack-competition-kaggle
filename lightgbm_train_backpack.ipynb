{
  "cells": [
    {
      "cell_type": "markdown",
      "metadata": {},
      "source": [
        "# One Hot Encoding and Training with LightGBM "
      ]
    },
    {
      "cell_type": "markdown",
      "metadata": {},
      "source": [
        "- In this first attempt I perform One Hot Encoding to the categorical features and ordinal encoding for the 'size' variable. Later I will train a LightGBM regressor with default parameters to predict The Price target variable."
      ]
    },
    {
      "cell_type": "code",
      "execution_count": 4,
      "metadata": {
        "id": "fLmPCxjcdqQM"
      },
      "outputs": [],
      "source": [
        "import pandas as pd"
      ]
    },
    {
      "cell_type": "code",
      "execution_count": null,
      "metadata": {
        "colab": {
          "base_uri": "https://localhost:8080/"
        },
        "id": "Qen2cSvPeAvs",
        "outputId": "c6147fc6-80a9-4de7-ba17-8a4f99e256c4"
      },
      "outputs": [],
      "source": [
        "# If using local environment\n",
        "df = pd.read_csv('cat_backpack.csv')"
      ]
    },
    {
      "cell_type": "markdown",
      "metadata": {},
      "source": [
        "- One hot encoding for non hierarchycal features."
      ]
    },
    {
      "cell_type": "code",
      "execution_count": 7,
      "metadata": {},
      "outputs": [],
      "source": [
        "\n",
        "# Select the categorical columns to be encoded\n",
        "categorical_cols = ['brand', 'material', 'style', 'color']\n",
        "\n",
        "# Apply one-hot encoding using get_dummies\n",
        "encoded_data = pd.get_dummies(df[categorical_cols], prefix=categorical_cols)\n",
        "\n",
        "# Concatenate the encoded data with the original DataFrame\n",
        "df = pd.concat([df, encoded_data], axis=1)\n",
        "\n",
        "# Drop the original categorical columns\n",
        "df.drop(categorical_cols, axis=1, inplace=True)"
      ]
    },
    {
      "cell_type": "markdown",
      "metadata": {},
      "source": [
        "- Ordinal encoding for 'size' column."
      ]
    },
    {
      "cell_type": "code",
      "execution_count": 8,
      "metadata": {},
      "outputs": [],
      "source": [
        "# Create a dictionary to map size categories to numerical values\n",
        "size_mapping = {\n",
        "    'Small': 0,\n",
        "    'Medium': 1,\n",
        "    'Large': 2,\n",
        "    'Unknown': 3  # Or you can assign it -1 or another distinct value\n",
        "}\n",
        "\n",
        "# Apply the mapping to the 'size' column\n",
        "df['size_encoded'] = df['size'].map(size_mapping)\n",
        "\n",
        "# Drop the original 'size' column (optional)\n",
        "df.drop('size', axis=1, inplace=True)"
      ]
    },
    {
      "cell_type": "code",
      "execution_count": 9,
      "metadata": {},
      "outputs": [
        {
          "name": "stdout",
          "output_type": "stream",
          "text": [
            "<class 'pandas.core.frame.DataFrame'>\n",
            "RangeIndex: 300000 entries, 0 to 299999\n",
            "Data columns (total 29 columns):\n",
            " #   Column              Non-Null Count   Dtype  \n",
            "---  ------              --------------   -----  \n",
            " 0   id                  300000 non-null  int64  \n",
            " 1   compartments        300000 non-null  int64  \n",
            " 2   laptop_compartment  300000 non-null  bool   \n",
            " 3   waterproof          300000 non-null  bool   \n",
            " 4   weight_cap          300000 non-null  float64\n",
            " 5   Price               300000 non-null  float64\n",
            " 6   brand_Adidas        300000 non-null  bool   \n",
            " 7   brand_Jansport      300000 non-null  bool   \n",
            " 8   brand_Nike          300000 non-null  bool   \n",
            " 9   brand_Puma          300000 non-null  bool   \n",
            " 10  brand_Under Armour  300000 non-null  bool   \n",
            " 11  brand_Unknown       300000 non-null  bool   \n",
            " 12  material_Canvas     300000 non-null  bool   \n",
            " 13  material_Leather    300000 non-null  bool   \n",
            " 14  material_Nylon      300000 non-null  bool   \n",
            " 15  material_Polyester  300000 non-null  bool   \n",
            " 16  material_Unknown    300000 non-null  bool   \n",
            " 17  style_Backpack      300000 non-null  bool   \n",
            " 18  style_Messenger     300000 non-null  bool   \n",
            " 19  style_Tote          300000 non-null  bool   \n",
            " 20  style_Unknown       300000 non-null  bool   \n",
            " 21  color_Black         300000 non-null  bool   \n",
            " 22  color_Blue          300000 non-null  bool   \n",
            " 23  color_Gray          300000 non-null  bool   \n",
            " 24  color_Green         300000 non-null  bool   \n",
            " 25  color_Pink          300000 non-null  bool   \n",
            " 26  color_Red           300000 non-null  bool   \n",
            " 27  color_Unknown       300000 non-null  bool   \n",
            " 28  size_encoded        300000 non-null  int64  \n",
            "dtypes: bool(24), float64(2), int64(3)\n",
            "memory usage: 18.3 MB\n"
          ]
        }
      ],
      "source": [
        "df.info()"
      ]
    },
    {
      "cell_type": "markdown",
      "metadata": {
        "id": "y28bC9cieXd_"
      },
      "source": [
        "# Train with LigthGBM."
      ]
    },
    {
      "cell_type": "code",
      "execution_count": 10,
      "metadata": {
        "colab": {
          "base_uri": "https://localhost:8080/"
        },
        "id": "1PY-y3huebvo",
        "outputId": "86699f2e-165c-4b51-c0fe-65e36dc1a1fd"
      },
      "outputs": [
        {
          "name": "stdout",
          "output_type": "stream",
          "text": [
            "Requirement already satisfied: lightgbm in /opt/anaconda3/lib/python3.11/site-packages (4.5.0)\n",
            "Requirement already satisfied: numpy>=1.17.0 in /opt/anaconda3/lib/python3.11/site-packages (from lightgbm) (1.26.4)\n",
            "Requirement already satisfied: scipy in /opt/anaconda3/lib/python3.11/site-packages (from lightgbm) (1.11.4)\n",
            "Note: you may need to restart the kernel to use updated packages.\n"
          ]
        }
      ],
      "source": [
        "%pip install lightgbm"
      ]
    },
    {
      "cell_type": "code",
      "execution_count": 11,
      "metadata": {
        "colab": {
          "base_uri": "https://localhost:8080/"
        },
        "id": "CGsSCbbsecjb",
        "outputId": "8b0443e5-c03f-4a19-c650-796dff9328ab"
      },
      "outputs": [],
      "source": [
        "# Import necessary libraries\n",
        "from sklearn.model_selection import train_test_split\n",
        "from sklearn.preprocessing import StandardScaler\n",
        "import lightgbm as lgb\n",
        "from sklearn.metrics import mean_squared_error\n",
        "\n",
        "# Drop the id column\n",
        "df = df.drop(columns=['id'])\n",
        "\n",
        "# Separate features and target variable\n",
        "X = df.drop(columns=['Price'])\n",
        "y = df['Price']\n",
        "\n",
        "# Split into training and testing datasets\n",
        "X_train, X_test, y_train, y_test = train_test_split(X, y, test_size=0.2, random_state=42)\n",
        "\n",
        "# Instantiate the scaler and fit on training data\n",
        "scaler = StandardScaler()\n",
        "X_train_scaled = scaler.fit_transform(X_train)\n",
        "X_test_scaled = scaler.transform(X_test)\n",
        "\n",
        "# Create LightGBM datasets\n",
        "train_data = lgb.Dataset(X_train_scaled, label=y_train)\n",
        "test_data = lgb.Dataset(X_test_scaled, label=y_test, reference=train_data)\n",
        "\n",
        "# Set up model parameters\n",
        "params = {\n",
        "    'objective': 'regression',\n",
        "    'metric': 'rmse',\n",
        "    'verbosity': -1,\n",
        "    'boosting_type': 'gbdt',\n",
        "    'seed': 42\n",
        "}"
      ]
    },
    {
      "cell_type": "code",
      "execution_count": 12,
      "metadata": {
        "colab": {
          "base_uri": "https://localhost:8080/"
        },
        "id": "oLcYH1PTe8hE",
        "outputId": "ab646a1c-5e69-4ffc-ac3c-0ee0662e9758"
      },
      "outputs": [
        {
          "name": "stdout",
          "output_type": "stream",
          "text": [
            "Training until validation scores don't improve for 50 rounds\n",
            "Early stopping, best iteration is:\n",
            "[41]\tvalid_0's rmse: 38.9136\n"
          ]
        }
      ],
      "source": [
        "# Train the model\n",
        "regressor = lgb.train(\n",
        "    params,\n",
        "    train_data,\n",
        "    num_boost_round=1000,\n",
        "    valid_sets=[test_data],\n",
        "    callbacks=[lgb.early_stopping(stopping_rounds=50), lgb.log_evaluation(100)],  # Include log_evaluation callback\n",
        "    # verbose_eval=100  # Remove this line\n",
        ")"
      ]
    },
    {
      "cell_type": "code",
      "execution_count": 14,
      "metadata": {
        "colab": {
          "base_uri": "https://localhost:8080/"
        },
        "id": "DyoOk_C3fA1u",
        "outputId": "3058dffc-3a55-4c6a-8c8b-819e778458dc"
      },
      "outputs": [
        {
          "name": "stdout",
          "output_type": "stream",
          "text": [
            "Test RMSE: 38.91359184477554\n"
          ]
        }
      ],
      "source": [
        "# Predictions and evaluation\n",
        "y_pred = regressor.predict(X_test_scaled, num_iteration=regressor.best_iteration)\n",
        "# Calculate RMSE without the 'squared' argument, then take the square root\n",
        "mse = mean_squared_error(y_test, y_pred)  # Remove squared=False\n",
        "rmse = mse**0.5  # Calculate the square root to get RMSE\n",
        "print(\"Test RMSE:\", rmse)"
      ]
    },
    {
      "cell_type": "markdown",
      "metadata": {
        "id": "SmAfpzC5pyVH"
      },
      "source": [
        "# Fine Tune LightGBM with Optuna."
      ]
    },
    {
      "cell_type": "markdown",
      "metadata": {},
      "source": [
        "- In this section I will try to fine tune the lightGBM model using the optuna library."
      ]
    },
    {
      "cell_type": "code",
      "execution_count": 15,
      "metadata": {
        "colab": {
          "base_uri": "https://localhost:8080/"
        },
        "id": "6ngzdPIzpx7j",
        "outputId": "1ad72d90-c679-4e26-ced0-f36e1f2c595b"
      },
      "outputs": [
        {
          "name": "stdout",
          "output_type": "stream",
          "text": [
            "Requirement already satisfied: optuna in /opt/anaconda3/lib/python3.11/site-packages (4.2.0)\n",
            "Requirement already satisfied: alembic>=1.5.0 in /opt/anaconda3/lib/python3.11/site-packages (from optuna) (1.14.1)\n",
            "Requirement already satisfied: colorlog in /opt/anaconda3/lib/python3.11/site-packages (from optuna) (6.9.0)\n",
            "Requirement already satisfied: numpy in /opt/anaconda3/lib/python3.11/site-packages (from optuna) (1.26.4)\n",
            "Requirement already satisfied: packaging>=20.0 in /opt/anaconda3/lib/python3.11/site-packages (from optuna) (23.1)\n",
            "Requirement already satisfied: sqlalchemy>=1.4.2 in /opt/anaconda3/lib/python3.11/site-packages (from optuna) (2.0.25)\n",
            "Requirement already satisfied: tqdm in /opt/anaconda3/lib/python3.11/site-packages (from optuna) (4.65.0)\n",
            "Requirement already satisfied: PyYAML in /opt/anaconda3/lib/python3.11/site-packages (from optuna) (6.0.1)\n",
            "Requirement already satisfied: Mako in /opt/anaconda3/lib/python3.11/site-packages (from alembic>=1.5.0->optuna) (1.3.9)\n",
            "Requirement already satisfied: typing-extensions>=4 in /opt/anaconda3/lib/python3.11/site-packages (from alembic>=1.5.0->optuna) (4.9.0)\n",
            "Requirement already satisfied: greenlet!=0.4.17 in /opt/anaconda3/lib/python3.11/site-packages (from sqlalchemy>=1.4.2->optuna) (3.0.1)\n",
            "Requirement already satisfied: MarkupSafe>=0.9.2 in /opt/anaconda3/lib/python3.11/site-packages (from Mako->alembic>=1.5.0->optuna) (2.1.3)\n",
            "Note: you may need to restart the kernel to use updated packages.\n"
          ]
        }
      ],
      "source": [
        "%pip install optuna"
      ]
    },
    {
      "cell_type": "code",
      "execution_count": 16,
      "metadata": {
        "id": "jPMcBSw8jjY4"
      },
      "outputs": [],
      "source": [
        "import lightgbm as lgb\n",
        "from sklearn.metrics import mean_squared_error\n",
        "\n",
        "def objective(trial):\n",
        "    params = {\n",
        "        'objective': 'regression',\n",
        "        'metric': 'rmse',\n",
        "        'random_state': 42,\n",
        "        'n_estimators': 100,\n",
        "        'learning_rate': trial.suggest_float('learning_rate', 0.01, 0.1),\n",
        "        'num_leaves': trial.suggest_int('num_leaves', 20, 100),\n",
        "        'max_depth': trial.suggest_int('max_depth', 3, 12),\n",
        "        'min_child_samples': trial.suggest_int('min_child_samples', 20, 200),\n",
        "        'subsample': trial.suggest_float('subsample', 0.5, 0.9),\n",
        "        'colsample_bytree': trial.suggest_float('colsample_bytree', 0.5, 0.9),\n",
        "        'reg_alpha': trial.suggest_float('reg_alpha', 1e-8, 10.0),\n",
        "        'reg_lambda': trial.suggest_float('reg_lambda', 1e-8, 10.0),\n",
        "    }\n",
        "\n",
        "    model = lgb.LGBMRegressor(**params)\n",
        "    # Pass early stopping as a callback\n",
        "    model.fit(\n",
        "        X_train_scaled,\n",
        "        y_train,\n",
        "        eval_set=[(X_test_scaled, y_test)],\n",
        "        callbacks=[lgb.early_stopping(stopping_rounds=10)]\n",
        "    )\n",
        "    predictions = model.predict(X_test_scaled)\n",
        "    rmse = mean_squared_error(y_test, predictions)\n",
        "    return rmse"
      ]
    },
    {
      "cell_type": "code",
      "execution_count": 17,
      "metadata": {
        "colab": {
          "base_uri": "https://localhost:8080/"
        },
        "id": "IfDarcxNrCtC",
        "outputId": "e1cc4156-038e-451a-c219-6a1cfa77c621"
      },
      "outputs": [
        {
          "name": "stderr",
          "output_type": "stream",
          "text": [
            "[I 2025-02-15 14:20:36,669] A new study created in memory with name: no-name-b74c9da0-6f2a-4e58-9742-bccdfb7ed702\n"
          ]
        }
      ],
      "source": [
        "import optuna\n",
        "from optuna.samplers import TPESampler\n",
        "\n",
        "sampler = TPESampler(seed=1) #  Uses the Tree-Structured Parzen Estimator algorithm [4]\n",
        "study = optuna.create_study(direction='minimize', sampler = sampler)"
      ]
    },
    {
      "cell_type": "code",
      "execution_count": 21,
      "metadata": {
        "colab": {
          "base_uri": "https://localhost:8080/"
        },
        "collapsed": true,
        "id": "9x9C1fhIrKRg",
        "outputId": "67ee9bae-642f-49af-b48f-b4dd568247fb"
      },
      "outputs": [
        {
          "name": "stderr",
          "output_type": "stream",
          "text": [
            "/opt/anaconda3/lib/python3.11/site-packages/sklearn/utils/deprecation.py:151: FutureWarning: 'force_all_finite' was renamed to 'ensure_all_finite' in 1.6 and will be removed in 1.8.\n",
            "  warnings.warn(\n"
          ]
        },
        {
          "name": "stdout",
          "output_type": "stream",
          "text": [
            "Training until validation scores don't improve for 10 rounds\n"
          ]
        },
        {
          "name": "stderr",
          "output_type": "stream",
          "text": [
            "/opt/anaconda3/lib/python3.11/site-packages/sklearn/utils/deprecation.py:151: FutureWarning: 'force_all_finite' was renamed to 'ensure_all_finite' in 1.6 and will be removed in 1.8.\n",
            "  warnings.warn(\n",
            "[I 2025-02-15 15:45:39,147] Trial 100 finished with value: 1514.29393619688 and parameters: {'learning_rate': 0.056511548500071625, 'num_leaves': 48, 'max_depth': 6, 'min_child_samples': 29, 'subsample': 0.7351574518948876, 'colsample_bytree': 0.7897765930147305, 'reg_alpha': 6.958497860857149, 'reg_lambda': 2.3726712919346844}. Best is trial 67 with value: 1513.6980983804954.\n"
          ]
        },
        {
          "name": "stdout",
          "output_type": "stream",
          "text": [
            "Early stopping, best iteration is:\n",
            "[35]\tvalid_0's rmse: 38.9139\n"
          ]
        },
        {
          "name": "stderr",
          "output_type": "stream",
          "text": [
            "/opt/anaconda3/lib/python3.11/site-packages/sklearn/utils/deprecation.py:151: FutureWarning: 'force_all_finite' was renamed to 'ensure_all_finite' in 1.6 and will be removed in 1.8.\n",
            "  warnings.warn(\n"
          ]
        },
        {
          "name": "stdout",
          "output_type": "stream",
          "text": [
            "Training until validation scores don't improve for 10 rounds\n"
          ]
        },
        {
          "name": "stderr",
          "output_type": "stream",
          "text": [
            "/opt/anaconda3/lib/python3.11/site-packages/sklearn/utils/deprecation.py:151: FutureWarning: 'force_all_finite' was renamed to 'ensure_all_finite' in 1.6 and will be removed in 1.8.\n",
            "  warnings.warn(\n",
            "[I 2025-02-15 15:45:39,976] Trial 101 finished with value: 1513.914415050527 and parameters: {'learning_rate': 0.09586749787471306, 'num_leaves': 53, 'max_depth': 3, 'min_child_samples': 87, 'subsample': 0.7066834307127233, 'colsample_bytree': 0.7082409252984635, 'reg_alpha': 3.768830586656628, 'reg_lambda': 1.36226899051508}. Best is trial 67 with value: 1513.6980983804954.\n"
          ]
        },
        {
          "name": "stdout",
          "output_type": "stream",
          "text": [
            "Did not meet early stopping. Best iteration is:\n",
            "[99]\tvalid_0's rmse: 38.9091\n"
          ]
        },
        {
          "name": "stderr",
          "output_type": "stream",
          "text": [
            "/opt/anaconda3/lib/python3.11/site-packages/sklearn/utils/deprecation.py:151: FutureWarning: 'force_all_finite' was renamed to 'ensure_all_finite' in 1.6 and will be removed in 1.8.\n",
            "  warnings.warn(\n"
          ]
        },
        {
          "name": "stdout",
          "output_type": "stream",
          "text": [
            "Training until validation scores don't improve for 10 rounds\n"
          ]
        },
        {
          "name": "stderr",
          "output_type": "stream",
          "text": [
            "/opt/anaconda3/lib/python3.11/site-packages/sklearn/utils/deprecation.py:151: FutureWarning: 'force_all_finite' was renamed to 'ensure_all_finite' in 1.6 and will be removed in 1.8.\n",
            "  warnings.warn(\n",
            "[I 2025-02-15 15:45:40,777] Trial 102 finished with value: 1513.9148714237383 and parameters: {'learning_rate': 0.0955308414924808, 'num_leaves': 51, 'max_depth': 3, 'min_child_samples': 97, 'subsample': 0.7416245267310163, 'colsample_bytree': 0.7144706577596616, 'reg_alpha': 3.5451390555975837, 'reg_lambda': 1.6996882339131603}. Best is trial 67 with value: 1513.6980983804954.\n"
          ]
        },
        {
          "name": "stdout",
          "output_type": "stream",
          "text": [
            "Did not meet early stopping. Best iteration is:\n",
            "[97]\tvalid_0's rmse: 38.9091\n"
          ]
        },
        {
          "name": "stderr",
          "output_type": "stream",
          "text": [
            "/opt/anaconda3/lib/python3.11/site-packages/sklearn/utils/deprecation.py:151: FutureWarning: 'force_all_finite' was renamed to 'ensure_all_finite' in 1.6 and will be removed in 1.8.\n",
            "  warnings.warn(\n"
          ]
        },
        {
          "name": "stdout",
          "output_type": "stream",
          "text": [
            "Training until validation scores don't improve for 10 rounds\n"
          ]
        },
        {
          "name": "stderr",
          "output_type": "stream",
          "text": [
            "/opt/anaconda3/lib/python3.11/site-packages/sklearn/utils/deprecation.py:151: FutureWarning: 'force_all_finite' was renamed to 'ensure_all_finite' in 1.6 and will be removed in 1.8.\n",
            "  warnings.warn(\n",
            "[I 2025-02-15 15:45:41,670] Trial 103 finished with value: 1514.124116217771 and parameters: {'learning_rate': 0.06451969464171456, 'num_leaves': 57, 'max_depth': 3, 'min_child_samples': 89, 'subsample': 0.642009939920273, 'colsample_bytree': 0.7026807289359147, 'reg_alpha': 2.9299702655554176, 'reg_lambda': 0.9182293143938229}. Best is trial 67 with value: 1513.6980983804954.\n"
          ]
        },
        {
          "name": "stdout",
          "output_type": "stream",
          "text": [
            "Did not meet early stopping. Best iteration is:\n",
            "[99]\tvalid_0's rmse: 38.9117\n"
          ]
        },
        {
          "name": "stderr",
          "output_type": "stream",
          "text": [
            "/opt/anaconda3/lib/python3.11/site-packages/sklearn/utils/deprecation.py:151: FutureWarning: 'force_all_finite' was renamed to 'ensure_all_finite' in 1.6 and will be removed in 1.8.\n",
            "  warnings.warn(\n"
          ]
        },
        {
          "name": "stdout",
          "output_type": "stream",
          "text": [
            "Training until validation scores don't improve for 10 rounds\n"
          ]
        },
        {
          "name": "stderr",
          "output_type": "stream",
          "text": [
            "/opt/anaconda3/lib/python3.11/site-packages/sklearn/utils/deprecation.py:151: FutureWarning: 'force_all_finite' was renamed to 'ensure_all_finite' in 1.6 and will be removed in 1.8.\n",
            "  warnings.warn(\n",
            "[I 2025-02-15 15:45:42,388] Trial 104 finished with value: 1514.088185712026 and parameters: {'learning_rate': 0.09901738493697225, 'num_leaves': 51, 'max_depth': 4, 'min_child_samples': 117, 'subsample': 0.6729290885297459, 'colsample_bytree': 0.6767349002038064, 'reg_alpha': 3.9199019472514345, 'reg_lambda': 1.2292329300888694}. Best is trial 67 with value: 1513.6980983804954.\n"
          ]
        },
        {
          "name": "stdout",
          "output_type": "stream",
          "text": [
            "Early stopping, best iteration is:\n",
            "[44]\tvalid_0's rmse: 38.9113\n"
          ]
        },
        {
          "name": "stderr",
          "output_type": "stream",
          "text": [
            "/opt/anaconda3/lib/python3.11/site-packages/sklearn/utils/deprecation.py:151: FutureWarning: 'force_all_finite' was renamed to 'ensure_all_finite' in 1.6 and will be removed in 1.8.\n",
            "  warnings.warn(\n"
          ]
        },
        {
          "name": "stdout",
          "output_type": "stream",
          "text": [
            "Training until validation scores don't improve for 10 rounds\n"
          ]
        },
        {
          "name": "stderr",
          "output_type": "stream",
          "text": [
            "/opt/anaconda3/lib/python3.11/site-packages/sklearn/utils/deprecation.py:151: FutureWarning: 'force_all_finite' was renamed to 'ensure_all_finite' in 1.6 and will be removed in 1.8.\n",
            "  warnings.warn(\n",
            "[I 2025-02-15 15:45:43,127] Trial 105 finished with value: 1513.9575744590913 and parameters: {'learning_rate': 0.09374142154659325, 'num_leaves': 86, 'max_depth': 4, 'min_child_samples': 74, 'subsample': 0.750806379848481, 'colsample_bytree': 0.7461533051496392, 'reg_alpha': 4.342720244229937, 'reg_lambda': 0.2407740002503428}. Best is trial 67 with value: 1513.6980983804954.\n"
          ]
        },
        {
          "name": "stdout",
          "output_type": "stream",
          "text": [
            "Early stopping, best iteration is:\n",
            "[57]\tvalid_0's rmse: 38.9096\n"
          ]
        },
        {
          "name": "stderr",
          "output_type": "stream",
          "text": [
            "/opt/anaconda3/lib/python3.11/site-packages/sklearn/utils/deprecation.py:151: FutureWarning: 'force_all_finite' was renamed to 'ensure_all_finite' in 1.6 and will be removed in 1.8.\n",
            "  warnings.warn(\n"
          ]
        },
        {
          "name": "stdout",
          "output_type": "stream",
          "text": [
            "Training until validation scores don't improve for 10 rounds\n"
          ]
        },
        {
          "name": "stderr",
          "output_type": "stream",
          "text": [
            "/opt/anaconda3/lib/python3.11/site-packages/sklearn/utils/deprecation.py:151: FutureWarning: 'force_all_finite' was renamed to 'ensure_all_finite' in 1.6 and will be removed in 1.8.\n",
            "  warnings.warn(\n",
            "[I 2025-02-15 15:45:44,019] Trial 106 finished with value: 1513.8952737015104 and parameters: {'learning_rate': 0.09662433772872606, 'num_leaves': 43, 'max_depth': 3, 'min_child_samples': 25, 'subsample': 0.7624560595959089, 'colsample_bytree': 0.6651965916602116, 'reg_alpha': 7.729418015954661, 'reg_lambda': 2.0560985836864902}. Best is trial 67 with value: 1513.6980983804954.\n"
          ]
        },
        {
          "name": "stdout",
          "output_type": "stream",
          "text": [
            "Did not meet early stopping. Best iteration is:\n",
            "[99]\tvalid_0's rmse: 38.9088\n"
          ]
        },
        {
          "name": "stderr",
          "output_type": "stream",
          "text": [
            "/opt/anaconda3/lib/python3.11/site-packages/sklearn/utils/deprecation.py:151: FutureWarning: 'force_all_finite' was renamed to 'ensure_all_finite' in 1.6 and will be removed in 1.8.\n",
            "  warnings.warn(\n"
          ]
        },
        {
          "name": "stdout",
          "output_type": "stream",
          "text": [
            "Training until validation scores don't improve for 10 rounds\n"
          ]
        },
        {
          "name": "stderr",
          "output_type": "stream",
          "text": [
            "/opt/anaconda3/lib/python3.11/site-packages/sklearn/utils/deprecation.py:151: FutureWarning: 'force_all_finite' was renamed to 'ensure_all_finite' in 1.6 and will be removed in 1.8.\n",
            "  warnings.warn(\n",
            "[I 2025-02-15 15:45:44,839] Trial 107 finished with value: 1514.0223930839506 and parameters: {'learning_rate': 0.09200423361797609, 'num_leaves': 65, 'max_depth': 5, 'min_child_samples': 82, 'subsample': 0.7737236082983396, 'colsample_bytree': 0.7285673112278385, 'reg_alpha': 9.494579893295754, 'reg_lambda': 1.4031480364416469}. Best is trial 67 with value: 1513.6980983804954.\n"
          ]
        },
        {
          "name": "stdout",
          "output_type": "stream",
          "text": [
            "Early stopping, best iteration is:\n",
            "[40]\tvalid_0's rmse: 38.9104\n"
          ]
        },
        {
          "name": "stderr",
          "output_type": "stream",
          "text": [
            "/opt/anaconda3/lib/python3.11/site-packages/sklearn/utils/deprecation.py:151: FutureWarning: 'force_all_finite' was renamed to 'ensure_all_finite' in 1.6 and will be removed in 1.8.\n",
            "  warnings.warn(\n"
          ]
        },
        {
          "name": "stdout",
          "output_type": "stream",
          "text": [
            "Training until validation scores don't improve for 10 rounds\n"
          ]
        },
        {
          "name": "stderr",
          "output_type": "stream",
          "text": [
            "/opt/anaconda3/lib/python3.11/site-packages/sklearn/utils/deprecation.py:151: FutureWarning: 'force_all_finite' was renamed to 'ensure_all_finite' in 1.6 and will be removed in 1.8.\n",
            "  warnings.warn(\n",
            "[I 2025-02-15 15:45:45,744] Trial 108 finished with value: 1514.0414629994207 and parameters: {'learning_rate': 0.08365665439371889, 'num_leaves': 46, 'max_depth': 3, 'min_child_samples': 56, 'subsample': 0.6899922400523012, 'colsample_bytree': 0.6953153664358808, 'reg_alpha': 4.157917473842735, 'reg_lambda': 0.6776831777726213}. Best is trial 67 with value: 1513.6980983804954.\n"
          ]
        },
        {
          "name": "stdout",
          "output_type": "stream",
          "text": [
            "Did not meet early stopping. Best iteration is:\n",
            "[92]\tvalid_0's rmse: 38.9107\n"
          ]
        },
        {
          "name": "stderr",
          "output_type": "stream",
          "text": [
            "/opt/anaconda3/lib/python3.11/site-packages/sklearn/utils/deprecation.py:151: FutureWarning: 'force_all_finite' was renamed to 'ensure_all_finite' in 1.6 and will be removed in 1.8.\n",
            "  warnings.warn(\n"
          ]
        },
        {
          "name": "stdout",
          "output_type": "stream",
          "text": [
            "Training until validation scores don't improve for 10 rounds\n"
          ]
        },
        {
          "name": "stderr",
          "output_type": "stream",
          "text": [
            "/opt/anaconda3/lib/python3.11/site-packages/sklearn/utils/deprecation.py:151: FutureWarning: 'force_all_finite' was renamed to 'ensure_all_finite' in 1.6 and will be removed in 1.8.\n",
            "  warnings.warn(\n",
            "[I 2025-02-15 15:45:46,684] Trial 109 finished with value: 1513.8905941114624 and parameters: {'learning_rate': 0.09946533272998809, 'num_leaves': 50, 'max_depth': 4, 'min_child_samples': 47, 'subsample': 0.7296780419526923, 'colsample_bytree': 0.6864753784201629, 'reg_alpha': 8.734507884145792, 'reg_lambda': 5.020741978936427}. Best is trial 67 with value: 1513.6980983804954.\n"
          ]
        },
        {
          "name": "stdout",
          "output_type": "stream",
          "text": [
            "Early stopping, best iteration is:\n",
            "[65]\tvalid_0's rmse: 38.9087\n"
          ]
        },
        {
          "name": "stderr",
          "output_type": "stream",
          "text": [
            "/opt/anaconda3/lib/python3.11/site-packages/sklearn/utils/deprecation.py:151: FutureWarning: 'force_all_finite' was renamed to 'ensure_all_finite' in 1.6 and will be removed in 1.8.\n",
            "  warnings.warn(\n"
          ]
        },
        {
          "name": "stdout",
          "output_type": "stream",
          "text": [
            "Training until validation scores don't improve for 10 rounds\n"
          ]
        },
        {
          "name": "stderr",
          "output_type": "stream",
          "text": [
            "/opt/anaconda3/lib/python3.11/site-packages/sklearn/utils/deprecation.py:151: FutureWarning: 'force_all_finite' was renamed to 'ensure_all_finite' in 1.6 and will be removed in 1.8.\n",
            "  warnings.warn(\n",
            "[I 2025-02-15 15:45:47,729] Trial 110 finished with value: 1513.8491807243342 and parameters: {'learning_rate': 0.09746570600270102, 'num_leaves': 82, 'max_depth': 6, 'min_child_samples': 34, 'subsample': 0.6307365702921556, 'colsample_bytree': 0.6593797685015798, 'reg_alpha': 3.3103386548722775, 'reg_lambda': 2.656758428038043}. Best is trial 67 with value: 1513.6980983804954.\n"
          ]
        },
        {
          "name": "stdout",
          "output_type": "stream",
          "text": [
            "Early stopping, best iteration is:\n",
            "[33]\tvalid_0's rmse: 38.9082\n"
          ]
        },
        {
          "name": "stderr",
          "output_type": "stream",
          "text": [
            "/opt/anaconda3/lib/python3.11/site-packages/sklearn/utils/deprecation.py:151: FutureWarning: 'force_all_finite' was renamed to 'ensure_all_finite' in 1.6 and will be removed in 1.8.\n",
            "  warnings.warn(\n"
          ]
        },
        {
          "name": "stdout",
          "output_type": "stream",
          "text": [
            "Training until validation scores don't improve for 10 rounds\n"
          ]
        },
        {
          "name": "stderr",
          "output_type": "stream",
          "text": [
            "/opt/anaconda3/lib/python3.11/site-packages/sklearn/utils/deprecation.py:151: FutureWarning: 'force_all_finite' was renamed to 'ensure_all_finite' in 1.6 and will be removed in 1.8.\n",
            "  warnings.warn(\n",
            "[I 2025-02-15 15:45:48,687] Trial 111 finished with value: 1513.8331346185691 and parameters: {'learning_rate': 0.0959164966841392, 'num_leaves': 35, 'max_depth': 4, 'min_child_samples': 44, 'subsample': 0.7430936232398219, 'colsample_bytree': 0.7225650947219213, 'reg_alpha': 3.0572112224024752, 'reg_lambda': 1.6142281647719985}. Best is trial 67 with value: 1513.6980983804954.\n"
          ]
        },
        {
          "name": "stdout",
          "output_type": "stream",
          "text": [
            "Early stopping, best iteration is:\n",
            "[64]\tvalid_0's rmse: 38.908\n"
          ]
        },
        {
          "name": "stderr",
          "output_type": "stream",
          "text": [
            "/opt/anaconda3/lib/python3.11/site-packages/sklearn/utils/deprecation.py:151: FutureWarning: 'force_all_finite' was renamed to 'ensure_all_finite' in 1.6 and will be removed in 1.8.\n",
            "  warnings.warn(\n"
          ]
        },
        {
          "name": "stdout",
          "output_type": "stream",
          "text": [
            "Training until validation scores don't improve for 10 rounds\n"
          ]
        },
        {
          "name": "stderr",
          "output_type": "stream",
          "text": [
            "/opt/anaconda3/lib/python3.11/site-packages/sklearn/utils/deprecation.py:151: FutureWarning: 'force_all_finite' was renamed to 'ensure_all_finite' in 1.6 and will be removed in 1.8.\n",
            "  warnings.warn(\n",
            "[I 2025-02-15 15:45:49,656] Trial 112 finished with value: 1513.942052572781 and parameters: {'learning_rate': 0.09477368126852777, 'num_leaves': 38, 'max_depth': 4, 'min_child_samples': 20, 'subsample': 0.7157577849053661, 'colsample_bytree': 0.7375709004933935, 'reg_alpha': 3.071739523286749, 'reg_lambda': 1.6908515153285781}. Best is trial 67 with value: 1513.6980983804954.\n"
          ]
        },
        {
          "name": "stdout",
          "output_type": "stream",
          "text": [
            "Early stopping, best iteration is:\n",
            "[59]\tvalid_0's rmse: 38.9094\n"
          ]
        },
        {
          "name": "stderr",
          "output_type": "stream",
          "text": [
            "/opt/anaconda3/lib/python3.11/site-packages/sklearn/utils/deprecation.py:151: FutureWarning: 'force_all_finite' was renamed to 'ensure_all_finite' in 1.6 and will be removed in 1.8.\n",
            "  warnings.warn(\n"
          ]
        },
        {
          "name": "stdout",
          "output_type": "stream",
          "text": [
            "Training until validation scores don't improve for 10 rounds\n"
          ]
        },
        {
          "name": "stderr",
          "output_type": "stream",
          "text": [
            "/opt/anaconda3/lib/python3.11/site-packages/sklearn/utils/deprecation.py:151: FutureWarning: 'force_all_finite' was renamed to 'ensure_all_finite' in 1.6 and will be removed in 1.8.\n",
            "  warnings.warn(\n",
            "[I 2025-02-15 15:45:50,522] Trial 113 finished with value: 1513.9914122280154 and parameters: {'learning_rate': 0.09990491786208498, 'num_leaves': 29, 'max_depth': 4, 'min_child_samples': 43, 'subsample': 0.7267357907313353, 'colsample_bytree': 0.7144776166555808, 'reg_alpha': 2.8017591232427224, 'reg_lambda': 1.0090859309161526}. Best is trial 67 with value: 1513.6980983804954.\n"
          ]
        },
        {
          "name": "stdout",
          "output_type": "stream",
          "text": [
            "Early stopping, best iteration is:\n",
            "[39]\tvalid_0's rmse: 38.91\n"
          ]
        },
        {
          "name": "stderr",
          "output_type": "stream",
          "text": [
            "/opt/anaconda3/lib/python3.11/site-packages/sklearn/utils/deprecation.py:151: FutureWarning: 'force_all_finite' was renamed to 'ensure_all_finite' in 1.6 and will be removed in 1.8.\n",
            "  warnings.warn(\n"
          ]
        },
        {
          "name": "stdout",
          "output_type": "stream",
          "text": [
            "Training until validation scores don't improve for 10 rounds\n"
          ]
        },
        {
          "name": "stderr",
          "output_type": "stream",
          "text": [
            "/opt/anaconda3/lib/python3.11/site-packages/sklearn/utils/deprecation.py:151: FutureWarning: 'force_all_finite' was renamed to 'ensure_all_finite' in 1.6 and will be removed in 1.8.\n",
            "  warnings.warn(\n",
            "[I 2025-02-15 15:45:51,681] Trial 114 finished with value: 1513.808140956731 and parameters: {'learning_rate': 0.0888348621252955, 'num_leaves': 36, 'max_depth': 5, 'min_child_samples': 28, 'subsample': 0.7049843377768502, 'colsample_bytree': 0.7049188701553286, 'reg_alpha': 3.60802683714305, 'reg_lambda': 2.054401826415848}. Best is trial 67 with value: 1513.6980983804954.\n"
          ]
        },
        {
          "name": "stdout",
          "output_type": "stream",
          "text": [
            "Early stopping, best iteration is:\n",
            "[55]\tvalid_0's rmse: 38.9077\n"
          ]
        },
        {
          "name": "stderr",
          "output_type": "stream",
          "text": [
            "/opt/anaconda3/lib/python3.11/site-packages/sklearn/utils/deprecation.py:151: FutureWarning: 'force_all_finite' was renamed to 'ensure_all_finite' in 1.6 and will be removed in 1.8.\n",
            "  warnings.warn(\n"
          ]
        },
        {
          "name": "stdout",
          "output_type": "stream",
          "text": [
            "Training until validation scores don't improve for 10 rounds\n"
          ]
        },
        {
          "name": "stderr",
          "output_type": "stream",
          "text": [
            "/opt/anaconda3/lib/python3.11/site-packages/sklearn/utils/deprecation.py:151: FutureWarning: 'force_all_finite' was renamed to 'ensure_all_finite' in 1.6 and will be removed in 1.8.\n",
            "  warnings.warn(\n",
            "[I 2025-02-15 15:45:52,722] Trial 115 finished with value: 1514.2159954367492 and parameters: {'learning_rate': 0.08920346665282813, 'num_leaves': 35, 'max_depth': 5, 'min_child_samples': 40, 'subsample': 0.7429802081473144, 'colsample_bytree': 0.7931838073220105, 'reg_alpha': 3.615916278595195, 'reg_lambda': 2.0516388681248916}. Best is trial 67 with value: 1513.6980983804954.\n"
          ]
        },
        {
          "name": "stdout",
          "output_type": "stream",
          "text": [
            "Early stopping, best iteration is:\n",
            "[50]\tvalid_0's rmse: 38.9129\n"
          ]
        },
        {
          "name": "stderr",
          "output_type": "stream",
          "text": [
            "/opt/anaconda3/lib/python3.11/site-packages/sklearn/utils/deprecation.py:151: FutureWarning: 'force_all_finite' was renamed to 'ensure_all_finite' in 1.6 and will be removed in 1.8.\n",
            "  warnings.warn(\n"
          ]
        },
        {
          "name": "stdout",
          "output_type": "stream",
          "text": [
            "Training until validation scores don't improve for 10 rounds\n"
          ]
        },
        {
          "name": "stderr",
          "output_type": "stream",
          "text": [
            "/opt/anaconda3/lib/python3.11/site-packages/sklearn/utils/deprecation.py:151: FutureWarning: 'force_all_finite' was renamed to 'ensure_all_finite' in 1.6 and will be removed in 1.8.\n",
            "  warnings.warn(\n",
            "[I 2025-02-15 15:45:53,821] Trial 116 finished with value: 1513.904577866525 and parameters: {'learning_rate': 0.09365164269837474, 'num_leaves': 33, 'max_depth': 5, 'min_child_samples': 28, 'subsample': 0.5181070111659002, 'colsample_bytree': 0.6502458273762736, 'reg_alpha': 2.325353462900954, 'reg_lambda': 2.803216344184386}. Best is trial 67 with value: 1513.6980983804954.\n"
          ]
        },
        {
          "name": "stdout",
          "output_type": "stream",
          "text": [
            "Early stopping, best iteration is:\n",
            "[43]\tvalid_0's rmse: 38.9089\n"
          ]
        },
        {
          "name": "stderr",
          "output_type": "stream",
          "text": [
            "/opt/anaconda3/lib/python3.11/site-packages/sklearn/utils/deprecation.py:151: FutureWarning: 'force_all_finite' was renamed to 'ensure_all_finite' in 1.6 and will be removed in 1.8.\n",
            "  warnings.warn(\n"
          ]
        },
        {
          "name": "stdout",
          "output_type": "stream",
          "text": [
            "Training until validation scores don't improve for 10 rounds\n"
          ]
        },
        {
          "name": "stderr",
          "output_type": "stream",
          "text": [
            "/opt/anaconda3/lib/python3.11/site-packages/sklearn/utils/deprecation.py:151: FutureWarning: 'force_all_finite' was renamed to 'ensure_all_finite' in 1.6 and will be removed in 1.8.\n",
            "  warnings.warn(\n",
            "[I 2025-02-15 15:45:54,829] Trial 117 finished with value: 1514.0499432253137 and parameters: {'learning_rate': 0.09190777861953883, 'num_leaves': 31, 'max_depth': 4, 'min_child_samples': 62, 'subsample': 0.6583412463404055, 'colsample_bytree': 0.7258205738617479, 'reg_alpha': 3.330791724010717, 'reg_lambda': 1.8313167611999057}. Best is trial 67 with value: 1513.6980983804954.\n"
          ]
        },
        {
          "name": "stdout",
          "output_type": "stream",
          "text": [
            "Early stopping, best iteration is:\n",
            "[59]\tvalid_0's rmse: 38.9108\n"
          ]
        },
        {
          "name": "stderr",
          "output_type": "stream",
          "text": [
            "/opt/anaconda3/lib/python3.11/site-packages/sklearn/utils/deprecation.py:151: FutureWarning: 'force_all_finite' was renamed to 'ensure_all_finite' in 1.6 and will be removed in 1.8.\n",
            "  warnings.warn(\n"
          ]
        },
        {
          "name": "stdout",
          "output_type": "stream",
          "text": [
            "Training until validation scores don't improve for 10 rounds\n"
          ]
        },
        {
          "name": "stderr",
          "output_type": "stream",
          "text": [
            "/opt/anaconda3/lib/python3.11/site-packages/sklearn/utils/deprecation.py:151: FutureWarning: 'force_all_finite' was renamed to 'ensure_all_finite' in 1.6 and will be removed in 1.8.\n",
            "  warnings.warn(\n",
            "[I 2025-02-15 15:45:56,286] Trial 118 finished with value: 1513.744026209878 and parameters: {'learning_rate': 0.08734513761404086, 'num_leaves': 37, 'max_depth': 5, 'min_child_samples': 36, 'subsample': 0.7966583032489106, 'colsample_bytree': 0.7000211793053288, 'reg_alpha': 2.5983483412685375, 'reg_lambda': 2.378230739052044}. Best is trial 67 with value: 1513.6980983804954.\n"
          ]
        },
        {
          "name": "stdout",
          "output_type": "stream",
          "text": [
            "Early stopping, best iteration is:\n",
            "[85]\tvalid_0's rmse: 38.9069\n"
          ]
        },
        {
          "name": "stderr",
          "output_type": "stream",
          "text": [
            "/opt/anaconda3/lib/python3.11/site-packages/sklearn/utils/deprecation.py:151: FutureWarning: 'force_all_finite' was renamed to 'ensure_all_finite' in 1.6 and will be removed in 1.8.\n",
            "  warnings.warn(\n"
          ]
        },
        {
          "name": "stdout",
          "output_type": "stream",
          "text": [
            "Training until validation scores don't improve for 10 rounds\n"
          ]
        },
        {
          "name": "stderr",
          "output_type": "stream",
          "text": [
            "/opt/anaconda3/lib/python3.11/site-packages/sklearn/utils/deprecation.py:151: FutureWarning: 'force_all_finite' was renamed to 'ensure_all_finite' in 1.6 and will be removed in 1.8.\n",
            "  warnings.warn(\n",
            "[I 2025-02-15 15:45:57,318] Trial 119 finished with value: 1514.0328916676212 and parameters: {'learning_rate': 0.08109078878008871, 'num_leaves': 37, 'max_depth': 5, 'min_child_samples': 36, 'subsample': 0.8024821934965712, 'colsample_bytree': 0.7019352005767141, 'reg_alpha': 1.953498783557556, 'reg_lambda': 2.4612115082127164}. Best is trial 67 with value: 1513.6980983804954.\n"
          ]
        },
        {
          "name": "stdout",
          "output_type": "stream",
          "text": [
            "Early stopping, best iteration is:\n",
            "[42]\tvalid_0's rmse: 38.9106\n"
          ]
        },
        {
          "name": "stderr",
          "output_type": "stream",
          "text": [
            "/opt/anaconda3/lib/python3.11/site-packages/sklearn/utils/deprecation.py:151: FutureWarning: 'force_all_finite' was renamed to 'ensure_all_finite' in 1.6 and will be removed in 1.8.\n",
            "  warnings.warn(\n"
          ]
        },
        {
          "name": "stdout",
          "output_type": "stream",
          "text": [
            "Training until validation scores don't improve for 10 rounds\n"
          ]
        },
        {
          "name": "stderr",
          "output_type": "stream",
          "text": [
            "/opt/anaconda3/lib/python3.11/site-packages/sklearn/utils/deprecation.py:151: FutureWarning: 'force_all_finite' was renamed to 'ensure_all_finite' in 1.6 and will be removed in 1.8.\n",
            "  warnings.warn(\n",
            "[I 2025-02-15 15:45:58,279] Trial 120 finished with value: 1514.2336902950049 and parameters: {'learning_rate': 0.08735688169414661, 'num_leaves': 24, 'max_depth': 8, 'min_child_samples': 32, 'subsample': 0.8302134714605048, 'colsample_bytree': 0.6716779683555198, 'reg_alpha': 1.755307495916238, 'reg_lambda': 2.15918472862572}. Best is trial 67 with value: 1513.6980983804954.\n"
          ]
        },
        {
          "name": "stdout",
          "output_type": "stream",
          "text": [
            "Early stopping, best iteration is:\n",
            "[33]\tvalid_0's rmse: 38.9132\n"
          ]
        },
        {
          "name": "stderr",
          "output_type": "stream",
          "text": [
            "/opt/anaconda3/lib/python3.11/site-packages/sklearn/utils/deprecation.py:151: FutureWarning: 'force_all_finite' was renamed to 'ensure_all_finite' in 1.6 and will be removed in 1.8.\n",
            "  warnings.warn(\n"
          ]
        },
        {
          "name": "stdout",
          "output_type": "stream",
          "text": [
            "Training until validation scores don't improve for 10 rounds\n"
          ]
        },
        {
          "name": "stderr",
          "output_type": "stream",
          "text": [
            "/opt/anaconda3/lib/python3.11/site-packages/sklearn/utils/deprecation.py:151: FutureWarning: 'force_all_finite' was renamed to 'ensure_all_finite' in 1.6 and will be removed in 1.8.\n",
            "  warnings.warn(\n",
            "[I 2025-02-15 15:45:59,498] Trial 121 finished with value: 1513.8349023541255 and parameters: {'learning_rate': 0.09688273841391395, 'num_leaves': 41, 'max_depth': 5, 'min_child_samples': 23, 'subsample': 0.8414356815221226, 'colsample_bytree': 0.6914599823657672, 'reg_alpha': 2.5828279482603294, 'reg_lambda': 1.5524793339860046}. Best is trial 67 with value: 1513.6980983804954.\n"
          ]
        },
        {
          "name": "stdout",
          "output_type": "stream",
          "text": [
            "Early stopping, best iteration is:\n",
            "[59]\tvalid_0's rmse: 38.908\n"
          ]
        },
        {
          "name": "stderr",
          "output_type": "stream",
          "text": [
            "/opt/anaconda3/lib/python3.11/site-packages/sklearn/utils/deprecation.py:151: FutureWarning: 'force_all_finite' was renamed to 'ensure_all_finite' in 1.6 and will be removed in 1.8.\n",
            "  warnings.warn(\n"
          ]
        },
        {
          "name": "stdout",
          "output_type": "stream",
          "text": [
            "Training until validation scores don't improve for 10 rounds\n"
          ]
        },
        {
          "name": "stderr",
          "output_type": "stream",
          "text": [
            "/opt/anaconda3/lib/python3.11/site-packages/sklearn/utils/deprecation.py:151: FutureWarning: 'force_all_finite' was renamed to 'ensure_all_finite' in 1.6 and will be removed in 1.8.\n",
            "  warnings.warn(\n",
            "[I 2025-02-15 15:46:00,454] Trial 122 finished with value: 1514.0344257836034 and parameters: {'learning_rate': 0.09065655654871571, 'num_leaves': 36, 'max_depth': 5, 'min_child_samples': 24, 'subsample': 0.8975111170758775, 'colsample_bytree': 0.6961604937886529, 'reg_alpha': 2.1928635803925083, 'reg_lambda': 9.897681703618183}. Best is trial 67 with value: 1513.6980983804954.\n"
          ]
        },
        {
          "name": "stdout",
          "output_type": "stream",
          "text": [
            "Early stopping, best iteration is:\n",
            "[43]\tvalid_0's rmse: 38.9106\n"
          ]
        },
        {
          "name": "stderr",
          "output_type": "stream",
          "text": [
            "/opt/anaconda3/lib/python3.11/site-packages/sklearn/utils/deprecation.py:151: FutureWarning: 'force_all_finite' was renamed to 'ensure_all_finite' in 1.6 and will be removed in 1.8.\n",
            "  warnings.warn(\n"
          ]
        },
        {
          "name": "stdout",
          "output_type": "stream",
          "text": [
            "Training until validation scores don't improve for 10 rounds\n"
          ]
        },
        {
          "name": "stderr",
          "output_type": "stream",
          "text": [
            "/opt/anaconda3/lib/python3.11/site-packages/sklearn/utils/deprecation.py:151: FutureWarning: 'force_all_finite' was renamed to 'ensure_all_finite' in 1.6 and will be removed in 1.8.\n",
            "  warnings.warn(\n",
            "[I 2025-02-15 15:46:01,641] Trial 123 finished with value: 1513.855318092582 and parameters: {'learning_rate': 0.07033266726734254, 'num_leaves': 40, 'max_depth': 5, 'min_child_samples': 26, 'subsample': 0.8594514183539952, 'colsample_bytree': 0.6834056530406218, 'reg_alpha': 3.048988380157073, 'reg_lambda': 2.3216775808184}. Best is trial 67 with value: 1513.6980983804954.\n"
          ]
        },
        {
          "name": "stdout",
          "output_type": "stream",
          "text": [
            "Early stopping, best iteration is:\n",
            "[65]\tvalid_0's rmse: 38.9083\n"
          ]
        },
        {
          "name": "stderr",
          "output_type": "stream",
          "text": [
            "/opt/anaconda3/lib/python3.11/site-packages/sklearn/utils/deprecation.py:151: FutureWarning: 'force_all_finite' was renamed to 'ensure_all_finite' in 1.6 and will be removed in 1.8.\n",
            "  warnings.warn(\n"
          ]
        },
        {
          "name": "stdout",
          "output_type": "stream",
          "text": [
            "Training until validation scores don't improve for 10 rounds\n"
          ]
        },
        {
          "name": "stderr",
          "output_type": "stream",
          "text": [
            "/opt/anaconda3/lib/python3.11/site-packages/sklearn/utils/deprecation.py:151: FutureWarning: 'force_all_finite' was renamed to 'ensure_all_finite' in 1.6 and will be removed in 1.8.\n",
            "  warnings.warn(\n",
            "[I 2025-02-15 15:46:02,607] Trial 124 finished with value: 1513.8814035375726 and parameters: {'learning_rate': 0.09416452174967126, 'num_leaves': 34, 'max_depth': 6, 'min_child_samples': 30, 'subsample': 0.8441335456315368, 'colsample_bytree': 0.7170476251437178, 'reg_alpha': 2.496542489231609, 'reg_lambda': 3.192517666246103}. Best is trial 67 with value: 1513.6980983804954.\n"
          ]
        },
        {
          "name": "stdout",
          "output_type": "stream",
          "text": [
            "Early stopping, best iteration is:\n",
            "[33]\tvalid_0's rmse: 38.9086\n"
          ]
        },
        {
          "name": "stderr",
          "output_type": "stream",
          "text": [
            "/opt/anaconda3/lib/python3.11/site-packages/sklearn/utils/deprecation.py:151: FutureWarning: 'force_all_finite' was renamed to 'ensure_all_finite' in 1.6 and will be removed in 1.8.\n",
            "  warnings.warn(\n"
          ]
        },
        {
          "name": "stdout",
          "output_type": "stream",
          "text": [
            "Training until validation scores don't improve for 10 rounds\n"
          ]
        },
        {
          "name": "stderr",
          "output_type": "stream",
          "text": [
            "/opt/anaconda3/lib/python3.11/site-packages/sklearn/utils/deprecation.py:151: FutureWarning: 'force_all_finite' was renamed to 'ensure_all_finite' in 1.6 and will be removed in 1.8.\n",
            "  warnings.warn(\n",
            "[I 2025-02-15 15:46:03,468] Trial 125 finished with value: 1513.89704905998 and parameters: {'learning_rate': 0.09611772392857999, 'num_leaves': 27, 'max_depth': 5, 'min_child_samples': 20, 'subsample': 0.7737428700505257, 'colsample_bytree': 0.7020428211804018, 'reg_alpha': 3.5128387097412244, 'reg_lambda': 1.5137474563589692}. Best is trial 67 with value: 1513.6980983804954.\n"
          ]
        },
        {
          "name": "stdout",
          "output_type": "stream",
          "text": [
            "Early stopping, best iteration is:\n",
            "[33]\tvalid_0's rmse: 38.9088\n"
          ]
        },
        {
          "name": "stderr",
          "output_type": "stream",
          "text": [
            "/opt/anaconda3/lib/python3.11/site-packages/sklearn/utils/deprecation.py:151: FutureWarning: 'force_all_finite' was renamed to 'ensure_all_finite' in 1.6 and will be removed in 1.8.\n",
            "  warnings.warn(\n"
          ]
        },
        {
          "name": "stdout",
          "output_type": "stream",
          "text": [
            "Training until validation scores don't improve for 10 rounds\n"
          ]
        },
        {
          "name": "stderr",
          "output_type": "stream",
          "text": [
            "/opt/anaconda3/lib/python3.11/site-packages/sklearn/utils/deprecation.py:151: FutureWarning: 'force_all_finite' was renamed to 'ensure_all_finite' in 1.6 and will be removed in 1.8.\n",
            "  warnings.warn(\n",
            "[I 2025-02-15 15:46:04,550] Trial 126 finished with value: 1513.9668560735454 and parameters: {'learning_rate': 0.08904588903747214, 'num_leaves': 38, 'max_depth': 5, 'min_child_samples': 41, 'subsample': 0.8113837352133181, 'colsample_bytree': 0.6885461463067691, 'reg_alpha': 2.8434918135987144, 'reg_lambda': 1.8991173477992382}. Best is trial 67 with value: 1513.6980983804954.\n"
          ]
        },
        {
          "name": "stdout",
          "output_type": "stream",
          "text": [
            "Early stopping, best iteration is:\n",
            "[58]\tvalid_0's rmse: 38.9097\n"
          ]
        },
        {
          "name": "stderr",
          "output_type": "stream",
          "text": [
            "/opt/anaconda3/lib/python3.11/site-packages/sklearn/utils/deprecation.py:151: FutureWarning: 'force_all_finite' was renamed to 'ensure_all_finite' in 1.6 and will be removed in 1.8.\n",
            "  warnings.warn(\n"
          ]
        },
        {
          "name": "stdout",
          "output_type": "stream",
          "text": [
            "Training until validation scores don't improve for 10 rounds\n"
          ]
        },
        {
          "name": "stderr",
          "output_type": "stream",
          "text": [
            "/opt/anaconda3/lib/python3.11/site-packages/sklearn/utils/deprecation.py:151: FutureWarning: 'force_all_finite' was renamed to 'ensure_all_finite' in 1.6 and will be removed in 1.8.\n",
            "  warnings.warn(\n",
            "[I 2025-02-15 15:46:05,636] Trial 127 finished with value: 1514.1091587572266 and parameters: {'learning_rate': 0.07476614173932147, 'num_leaves': 30, 'max_depth': 6, 'min_child_samples': 37, 'subsample': 0.8220125491831682, 'colsample_bytree': 0.6763716108548871, 'reg_alpha': 3.1319611237822045, 'reg_lambda': 1.684701846973472}. Best is trial 67 with value: 1513.6980983804954.\n"
          ]
        },
        {
          "name": "stdout",
          "output_type": "stream",
          "text": [
            "Early stopping, best iteration is:\n",
            "[49]\tvalid_0's rmse: 38.9116\n"
          ]
        },
        {
          "name": "stderr",
          "output_type": "stream",
          "text": [
            "/opt/anaconda3/lib/python3.11/site-packages/sklearn/utils/deprecation.py:151: FutureWarning: 'force_all_finite' was renamed to 'ensure_all_finite' in 1.6 and will be removed in 1.8.\n",
            "  warnings.warn(\n"
          ]
        },
        {
          "name": "stdout",
          "output_type": "stream",
          "text": [
            "Training until validation scores don't improve for 10 rounds\n"
          ]
        },
        {
          "name": "stderr",
          "output_type": "stream",
          "text": [
            "/opt/anaconda3/lib/python3.11/site-packages/sklearn/utils/deprecation.py:151: FutureWarning: 'force_all_finite' was renamed to 'ensure_all_finite' in 1.6 and will be removed in 1.8.\n",
            "  warnings.warn(\n",
            "[I 2025-02-15 15:46:06,926] Trial 128 finished with value: 1514.0027061611645 and parameters: {'learning_rate': 0.04227706844237552, 'num_leaves': 43, 'max_depth': 4, 'min_child_samples': 23, 'subsample': 0.7577289094763204, 'colsample_bytree': 0.7513939330386039, 'reg_alpha': 6.178819043156248, 'reg_lambda': 2.521370566693694}. Best is trial 67 with value: 1513.6980983804954.\n"
          ]
        },
        {
          "name": "stdout",
          "output_type": "stream",
          "text": [
            "Did not meet early stopping. Best iteration is:\n",
            "[99]\tvalid_0's rmse: 38.9102\n"
          ]
        },
        {
          "name": "stderr",
          "output_type": "stream",
          "text": [
            "/opt/anaconda3/lib/python3.11/site-packages/sklearn/utils/deprecation.py:151: FutureWarning: 'force_all_finite' was renamed to 'ensure_all_finite' in 1.6 and will be removed in 1.8.\n",
            "  warnings.warn(\n"
          ]
        },
        {
          "name": "stdout",
          "output_type": "stream",
          "text": [
            "Training until validation scores don't improve for 10 rounds\n"
          ]
        },
        {
          "name": "stderr",
          "output_type": "stream",
          "text": [
            "/opt/anaconda3/lib/python3.11/site-packages/sklearn/utils/deprecation.py:151: FutureWarning: 'force_all_finite' was renamed to 'ensure_all_finite' in 1.6 and will be removed in 1.8.\n",
            "  warnings.warn(\n",
            "[I 2025-02-15 15:46:07,985] Trial 129 finished with value: 1514.0043688950464 and parameters: {'learning_rate': 0.09695552099158425, 'num_leaves': 32, 'max_depth': 5, 'min_child_samples': 46, 'subsample': 0.8774730555798137, 'colsample_bytree': 0.7245475272464761, 'reg_alpha': 4.001294074895817, 'reg_lambda': 4.081767547343087}. Best is trial 67 with value: 1513.6980983804954.\n"
          ]
        },
        {
          "name": "stdout",
          "output_type": "stream",
          "text": [
            "Early stopping, best iteration is:\n",
            "[50]\tvalid_0's rmse: 38.9102\n"
          ]
        },
        {
          "name": "stderr",
          "output_type": "stream",
          "text": [
            "/opt/anaconda3/lib/python3.11/site-packages/sklearn/utils/deprecation.py:151: FutureWarning: 'force_all_finite' was renamed to 'ensure_all_finite' in 1.6 and will be removed in 1.8.\n",
            "  warnings.warn(\n"
          ]
        },
        {
          "name": "stdout",
          "output_type": "stream",
          "text": [
            "Training until validation scores don't improve for 10 rounds\n"
          ]
        },
        {
          "name": "stderr",
          "output_type": "stream",
          "text": [
            "/opt/anaconda3/lib/python3.11/site-packages/sklearn/utils/deprecation.py:151: FutureWarning: 'force_all_finite' was renamed to 'ensure_all_finite' in 1.6 and will be removed in 1.8.\n",
            "  warnings.warn(\n",
            "[I 2025-02-15 15:46:10,178] Trial 130 finished with value: 1513.7867422752176 and parameters: {'learning_rate': 0.08428305764425438, 'num_leaves': 41, 'max_depth': 4, 'min_child_samples': 33, 'subsample': 0.7952893613029172, 'colsample_bytree': 0.763456599236798, 'reg_alpha': 7.2614531992119336, 'reg_lambda': 2.0338609322449077}. Best is trial 67 with value: 1513.6980983804954.\n"
          ]
        },
        {
          "name": "stdout",
          "output_type": "stream",
          "text": [
            "Early stopping, best iteration is:\n",
            "[80]\tvalid_0's rmse: 38.9074\n"
          ]
        },
        {
          "name": "stderr",
          "output_type": "stream",
          "text": [
            "/opt/anaconda3/lib/python3.11/site-packages/sklearn/utils/deprecation.py:151: FutureWarning: 'force_all_finite' was renamed to 'ensure_all_finite' in 1.6 and will be removed in 1.8.\n",
            "  warnings.warn(\n"
          ]
        },
        {
          "name": "stdout",
          "output_type": "stream",
          "text": [
            "Training until validation scores don't improve for 10 rounds\n"
          ]
        },
        {
          "name": "stderr",
          "output_type": "stream",
          "text": [
            "/opt/anaconda3/lib/python3.11/site-packages/sklearn/utils/deprecation.py:151: FutureWarning: 'force_all_finite' was renamed to 'ensure_all_finite' in 1.6 and will be removed in 1.8.\n",
            "  warnings.warn(\n",
            "[I 2025-02-15 15:46:12,022] Trial 131 finished with value: 1513.596501576817 and parameters: {'learning_rate': 0.07814577909900611, 'num_leaves': 44, 'max_depth': 4, 'min_child_samples': 29, 'subsample': 0.7921825554183903, 'colsample_bytree': 0.76774512355446, 'reg_alpha': 6.6527011724307155, 'reg_lambda': 1.484352269511822}. Best is trial 131 with value: 1513.596501576817.\n"
          ]
        },
        {
          "name": "stdout",
          "output_type": "stream",
          "text": [
            "Did not meet early stopping. Best iteration is:\n",
            "[97]\tvalid_0's rmse: 38.905\n"
          ]
        },
        {
          "name": "stderr",
          "output_type": "stream",
          "text": [
            "/opt/anaconda3/lib/python3.11/site-packages/sklearn/utils/deprecation.py:151: FutureWarning: 'force_all_finite' was renamed to 'ensure_all_finite' in 1.6 and will be removed in 1.8.\n",
            "  warnings.warn(\n"
          ]
        },
        {
          "name": "stdout",
          "output_type": "stream",
          "text": [
            "Training until validation scores don't improve for 10 rounds\n"
          ]
        },
        {
          "name": "stderr",
          "output_type": "stream",
          "text": [
            "/opt/anaconda3/lib/python3.11/site-packages/sklearn/utils/deprecation.py:151: FutureWarning: 'force_all_finite' was renamed to 'ensure_all_finite' in 1.6 and will be removed in 1.8.\n",
            "  warnings.warn(\n",
            "[I 2025-02-15 15:46:13,715] Trial 132 finished with value: 1513.851773836433 and parameters: {'learning_rate': 0.07681104458219842, 'num_leaves': 41, 'max_depth': 4, 'min_child_samples': 33, 'subsample': 0.7871287309379776, 'colsample_bytree': 0.7648981367061566, 'reg_alpha': 7.362258573966143, 'reg_lambda': 1.4069642554419404}. Best is trial 131 with value: 1513.596501576817.\n"
          ]
        },
        {
          "name": "stdout",
          "output_type": "stream",
          "text": [
            "Early stopping, best iteration is:\n",
            "[85]\tvalid_0's rmse: 38.9082\n"
          ]
        },
        {
          "name": "stderr",
          "output_type": "stream",
          "text": [
            "/opt/anaconda3/lib/python3.11/site-packages/sklearn/utils/deprecation.py:151: FutureWarning: 'force_all_finite' was renamed to 'ensure_all_finite' in 1.6 and will be removed in 1.8.\n",
            "  warnings.warn(\n"
          ]
        },
        {
          "name": "stdout",
          "output_type": "stream",
          "text": [
            "Training until validation scores don't improve for 10 rounds\n"
          ]
        },
        {
          "name": "stderr",
          "output_type": "stream",
          "text": [
            "/opt/anaconda3/lib/python3.11/site-packages/sklearn/utils/deprecation.py:151: FutureWarning: 'force_all_finite' was renamed to 'ensure_all_finite' in 1.6 and will be removed in 1.8.\n",
            "  warnings.warn(\n",
            "[I 2025-02-15 15:46:14,993] Trial 133 finished with value: 1514.0294037540573 and parameters: {'learning_rate': 0.07979701894169876, 'num_leaves': 39, 'max_depth': 5, 'min_child_samples': 29, 'subsample': 0.8374344528404335, 'colsample_bytree': 0.7745984975736212, 'reg_alpha': 5.739998265726387, 'reg_lambda': 2.0683087457153677}. Best is trial 131 with value: 1513.596501576817.\n"
          ]
        },
        {
          "name": "stdout",
          "output_type": "stream",
          "text": [
            "Early stopping, best iteration is:\n",
            "[43]\tvalid_0's rmse: 38.9105\n"
          ]
        },
        {
          "name": "stderr",
          "output_type": "stream",
          "text": [
            "/opt/anaconda3/lib/python3.11/site-packages/sklearn/utils/deprecation.py:151: FutureWarning: 'force_all_finite' was renamed to 'ensure_all_finite' in 1.6 and will be removed in 1.8.\n",
            "  warnings.warn(\n"
          ]
        },
        {
          "name": "stdout",
          "output_type": "stream",
          "text": [
            "Training until validation scores don't improve for 10 rounds\n"
          ]
        },
        {
          "name": "stderr",
          "output_type": "stream",
          "text": [
            "/opt/anaconda3/lib/python3.11/site-packages/sklearn/utils/deprecation.py:151: FutureWarning: 'force_all_finite' was renamed to 'ensure_all_finite' in 1.6 and will be removed in 1.8.\n",
            "  warnings.warn(\n",
            "[I 2025-02-15 15:46:16,278] Trial 134 finished with value: 1514.2730395369995 and parameters: {'learning_rate': 0.0846266809603721, 'num_leaves': 36, 'max_depth': 12, 'min_child_samples': 26, 'subsample': 0.7972427500996413, 'colsample_bytree': 0.778122797379368, 'reg_alpha': 6.64764111729575, 'reg_lambda': 0.8679559514565731}. Best is trial 131 with value: 1513.596501576817.\n"
          ]
        },
        {
          "name": "stdout",
          "output_type": "stream",
          "text": [
            "Early stopping, best iteration is:\n",
            "[47]\tvalid_0's rmse: 38.9137\n"
          ]
        },
        {
          "name": "stderr",
          "output_type": "stream",
          "text": [
            "/opt/anaconda3/lib/python3.11/site-packages/sklearn/utils/deprecation.py:151: FutureWarning: 'force_all_finite' was renamed to 'ensure_all_finite' in 1.6 and will be removed in 1.8.\n",
            "  warnings.warn(\n"
          ]
        },
        {
          "name": "stdout",
          "output_type": "stream",
          "text": [
            "Training until validation scores don't improve for 10 rounds\n"
          ]
        },
        {
          "name": "stderr",
          "output_type": "stream",
          "text": [
            "/opt/anaconda3/lib/python3.11/site-packages/sklearn/utils/deprecation.py:151: FutureWarning: 'force_all_finite' was renamed to 'ensure_all_finite' in 1.6 and will be removed in 1.8.\n",
            "  warnings.warn(\n",
            "[I 2025-02-15 15:46:17,554] Trial 135 finished with value: 1513.7655291627668 and parameters: {'learning_rate': 0.0818777632873063, 'num_leaves': 45, 'max_depth': 4, 'min_child_samples': 35, 'subsample': 0.8074108616635188, 'colsample_bytree': 0.7395621073173129, 'reg_alpha': 8.045073393800136, 'reg_lambda': 2.2303598032562526}. Best is trial 131 with value: 1513.596501576817.\n"
          ]
        },
        {
          "name": "stdout",
          "output_type": "stream",
          "text": [
            "Early stopping, best iteration is:\n",
            "[71]\tvalid_0's rmse: 38.9071\n"
          ]
        },
        {
          "name": "stderr",
          "output_type": "stream",
          "text": [
            "/opt/anaconda3/lib/python3.11/site-packages/sklearn/utils/deprecation.py:151: FutureWarning: 'force_all_finite' was renamed to 'ensure_all_finite' in 1.6 and will be removed in 1.8.\n",
            "  warnings.warn(\n"
          ]
        },
        {
          "name": "stdout",
          "output_type": "stream",
          "text": [
            "Training until validation scores don't improve for 10 rounds\n"
          ]
        },
        {
          "name": "stderr",
          "output_type": "stream",
          "text": [
            "/opt/anaconda3/lib/python3.11/site-packages/sklearn/utils/deprecation.py:151: FutureWarning: 'force_all_finite' was renamed to 'ensure_all_finite' in 1.6 and will be removed in 1.8.\n",
            "  warnings.warn(\n",
            "[I 2025-02-15 15:46:18,818] Trial 136 finished with value: 1513.9025922013757 and parameters: {'learning_rate': 0.08286422078838909, 'num_leaves': 45, 'max_depth': 4, 'min_child_samples': 39, 'subsample': 0.8093534849798601, 'colsample_bytree': 0.7402049390399285, 'reg_alpha': 7.35928492118882, 'reg_lambda': 2.8340710072401207}. Best is trial 131 with value: 1513.596501576817.\n"
          ]
        },
        {
          "name": "stdout",
          "output_type": "stream",
          "text": [
            "Early stopping, best iteration is:\n",
            "[69]\tvalid_0's rmse: 38.9089\n"
          ]
        },
        {
          "name": "stderr",
          "output_type": "stream",
          "text": [
            "/opt/anaconda3/lib/python3.11/site-packages/sklearn/utils/deprecation.py:151: FutureWarning: 'force_all_finite' was renamed to 'ensure_all_finite' in 1.6 and will be removed in 1.8.\n",
            "  warnings.warn(\n"
          ]
        },
        {
          "name": "stdout",
          "output_type": "stream",
          "text": [
            "Training until validation scores don't improve for 10 rounds\n"
          ]
        },
        {
          "name": "stderr",
          "output_type": "stream",
          "text": [
            "/opt/anaconda3/lib/python3.11/site-packages/sklearn/utils/deprecation.py:151: FutureWarning: 'force_all_finite' was renamed to 'ensure_all_finite' in 1.6 and will be removed in 1.8.\n",
            "  warnings.warn(\n",
            "[I 2025-02-15 15:46:20,255] Trial 137 finished with value: 1513.8012345508432 and parameters: {'learning_rate': 0.08627712683999757, 'num_leaves': 47, 'max_depth': 4, 'min_child_samples': 36, 'subsample': 0.8194572908536399, 'colsample_bytree': 0.7352169221985502, 'reg_alpha': 8.22848258129382, 'reg_lambda': 2.2335956765914093}. Best is trial 131 with value: 1513.596501576817.\n"
          ]
        },
        {
          "name": "stdout",
          "output_type": "stream",
          "text": [
            "Early stopping, best iteration is:\n",
            "[78]\tvalid_0's rmse: 38.9076\n"
          ]
        },
        {
          "name": "stderr",
          "output_type": "stream",
          "text": [
            "/opt/anaconda3/lib/python3.11/site-packages/sklearn/utils/deprecation.py:151: FutureWarning: 'force_all_finite' was renamed to 'ensure_all_finite' in 1.6 and will be removed in 1.8.\n",
            "  warnings.warn(\n"
          ]
        },
        {
          "name": "stdout",
          "output_type": "stream",
          "text": [
            "Training until validation scores don't improve for 10 rounds\n"
          ]
        },
        {
          "name": "stderr",
          "output_type": "stream",
          "text": [
            "/opt/anaconda3/lib/python3.11/site-packages/sklearn/utils/deprecation.py:151: FutureWarning: 'force_all_finite' was renamed to 'ensure_all_finite' in 1.6 and will be removed in 1.8.\n",
            "  warnings.warn(\n",
            "[I 2025-02-15 15:46:21,582] Trial 138 finished with value: 1513.855270010857 and parameters: {'learning_rate': 0.08199519936420757, 'num_leaves': 42, 'max_depth': 4, 'min_child_samples': 50, 'subsample': 0.8205117882950493, 'colsample_bytree': 0.7321021944747186, 'reg_alpha': 7.7307122674293485, 'reg_lambda': 3.0425606602893343}. Best is trial 131 with value: 1513.596501576817.\n"
          ]
        },
        {
          "name": "stdout",
          "output_type": "stream",
          "text": [
            "Early stopping, best iteration is:\n",
            "[79]\tvalid_0's rmse: 38.9083\n"
          ]
        },
        {
          "name": "stderr",
          "output_type": "stream",
          "text": [
            "/opt/anaconda3/lib/python3.11/site-packages/sklearn/utils/deprecation.py:151: FutureWarning: 'force_all_finite' was renamed to 'ensure_all_finite' in 1.6 and will be removed in 1.8.\n",
            "  warnings.warn(\n"
          ]
        },
        {
          "name": "stdout",
          "output_type": "stream",
          "text": [
            "Training until validation scores don't improve for 10 rounds\n"
          ]
        },
        {
          "name": "stderr",
          "output_type": "stream",
          "text": [
            "/opt/anaconda3/lib/python3.11/site-packages/sklearn/utils/deprecation.py:151: FutureWarning: 'force_all_finite' was renamed to 'ensure_all_finite' in 1.6 and will be removed in 1.8.\n",
            "  warnings.warn(\n",
            "[I 2025-02-15 15:46:22,977] Trial 139 finished with value: 1513.7553126819992 and parameters: {'learning_rate': 0.07843247447060125, 'num_leaves': 48, 'max_depth': 4, 'min_child_samples': 36, 'subsample': 0.7943298933088635, 'colsample_bytree': 0.7563398059681824, 'reg_alpha': 8.453219744594426, 'reg_lambda': 2.253538148110981}. Best is trial 131 with value: 1513.596501576817.\n"
          ]
        },
        {
          "name": "stdout",
          "output_type": "stream",
          "text": [
            "Did not meet early stopping. Best iteration is:\n",
            "[96]\tvalid_0's rmse: 38.907\n"
          ]
        },
        {
          "name": "stderr",
          "output_type": "stream",
          "text": [
            "/opt/anaconda3/lib/python3.11/site-packages/sklearn/utils/deprecation.py:151: FutureWarning: 'force_all_finite' was renamed to 'ensure_all_finite' in 1.6 and will be removed in 1.8.\n",
            "  warnings.warn(\n"
          ]
        },
        {
          "name": "stdout",
          "output_type": "stream",
          "text": [
            "Training until validation scores don't improve for 10 rounds\n"
          ]
        },
        {
          "name": "stderr",
          "output_type": "stream",
          "text": [
            "/opt/anaconda3/lib/python3.11/site-packages/sklearn/utils/deprecation.py:151: FutureWarning: 'force_all_finite' was renamed to 'ensure_all_finite' in 1.6 and will be removed in 1.8.\n",
            "  warnings.warn(\n",
            "[I 2025-02-15 15:46:24,305] Trial 140 finished with value: 1513.8756048146454 and parameters: {'learning_rate': 0.07826969349561778, 'num_leaves': 44, 'max_depth': 4, 'min_child_samples': 35, 'subsample': 0.8297497237919299, 'colsample_bytree': 0.7544308841574088, 'reg_alpha': 8.514379019075252, 'reg_lambda': 2.2834610215542335}. Best is trial 131 with value: 1513.596501576817.\n"
          ]
        },
        {
          "name": "stdout",
          "output_type": "stream",
          "text": [
            "Early stopping, best iteration is:\n",
            "[77]\tvalid_0's rmse: 38.9086\n"
          ]
        },
        {
          "name": "stderr",
          "output_type": "stream",
          "text": [
            "/opt/anaconda3/lib/python3.11/site-packages/sklearn/utils/deprecation.py:151: FutureWarning: 'force_all_finite' was renamed to 'ensure_all_finite' in 1.6 and will be removed in 1.8.\n",
            "  warnings.warn(\n"
          ]
        },
        {
          "name": "stdout",
          "output_type": "stream",
          "text": [
            "Training until validation scores don't improve for 10 rounds\n"
          ]
        },
        {
          "name": "stderr",
          "output_type": "stream",
          "text": [
            "/opt/anaconda3/lib/python3.11/site-packages/sklearn/utils/deprecation.py:151: FutureWarning: 'force_all_finite' was renamed to 'ensure_all_finite' in 1.6 and will be removed in 1.8.\n",
            "  warnings.warn(\n",
            "[I 2025-02-15 15:46:25,581] Trial 141 finished with value: 1514.2802620150214 and parameters: {'learning_rate': 0.07842987579099883, 'num_leaves': 49, 'max_depth': 7, 'min_child_samples': 29, 'subsample': 0.7950979456222909, 'colsample_bytree': 0.7465668661769196, 'reg_alpha': 8.159992612579904, 'reg_lambda': 1.9094633215294294}. Best is trial 131 with value: 1513.596501576817.\n"
          ]
        },
        {
          "name": "stdout",
          "output_type": "stream",
          "text": [
            "Early stopping, best iteration is:\n",
            "[25]\tvalid_0's rmse: 38.9138\n"
          ]
        },
        {
          "name": "stderr",
          "output_type": "stream",
          "text": [
            "/opt/anaconda3/lib/python3.11/site-packages/sklearn/utils/deprecation.py:151: FutureWarning: 'force_all_finite' was renamed to 'ensure_all_finite' in 1.6 and will be removed in 1.8.\n",
            "  warnings.warn(\n"
          ]
        },
        {
          "name": "stdout",
          "output_type": "stream",
          "text": [
            "Training until validation scores don't improve for 10 rounds\n"
          ]
        },
        {
          "name": "stderr",
          "output_type": "stream",
          "text": [
            "/opt/anaconda3/lib/python3.11/site-packages/sklearn/utils/deprecation.py:151: FutureWarning: 'force_all_finite' was renamed to 'ensure_all_finite' in 1.6 and will be removed in 1.8.\n",
            "  warnings.warn(\n",
            "[I 2025-02-15 15:46:26,756] Trial 142 finished with value: 1513.8239921643908 and parameters: {'learning_rate': 0.08547964467789898, 'num_leaves': 48, 'max_depth': 4, 'min_child_samples': 41, 'subsample': 0.8067393001502186, 'colsample_bytree': 0.7679852691676669, 'reg_alpha': 8.821210153970767, 'reg_lambda': 2.503099660504533}. Best is trial 131 with value: 1513.596501576817.\n"
          ]
        },
        {
          "name": "stdout",
          "output_type": "stream",
          "text": [
            "Early stopping, best iteration is:\n",
            "[61]\tvalid_0's rmse: 38.9079\n"
          ]
        },
        {
          "name": "stderr",
          "output_type": "stream",
          "text": [
            "/opt/anaconda3/lib/python3.11/site-packages/sklearn/utils/deprecation.py:151: FutureWarning: 'force_all_finite' was renamed to 'ensure_all_finite' in 1.6 and will be removed in 1.8.\n",
            "  warnings.warn(\n"
          ]
        },
        {
          "name": "stdout",
          "output_type": "stream",
          "text": [
            "Training until validation scores don't improve for 10 rounds\n"
          ]
        },
        {
          "name": "stderr",
          "output_type": "stream",
          "text": [
            "/opt/anaconda3/lib/python3.11/site-packages/sklearn/utils/deprecation.py:151: FutureWarning: 'force_all_finite' was renamed to 'ensure_all_finite' in 1.6 and will be removed in 1.8.\n",
            "  warnings.warn(\n",
            "[I 2025-02-15 15:46:28,086] Trial 143 finished with value: 1513.8283539834636 and parameters: {'learning_rate': 0.08411204162943522, 'num_leaves': 46, 'max_depth': 4, 'min_child_samples': 43, 'subsample': 0.8074896367722798, 'colsample_bytree': 0.7701269842963231, 'reg_alpha': 8.787680419922815, 'reg_lambda': 2.504486336660797}. Best is trial 131 with value: 1513.596501576817.\n"
          ]
        },
        {
          "name": "stdout",
          "output_type": "stream",
          "text": [
            "Early stopping, best iteration is:\n",
            "[80]\tvalid_0's rmse: 38.9079\n"
          ]
        },
        {
          "name": "stderr",
          "output_type": "stream",
          "text": [
            "/opt/anaconda3/lib/python3.11/site-packages/sklearn/utils/deprecation.py:151: FutureWarning: 'force_all_finite' was renamed to 'ensure_all_finite' in 1.6 and will be removed in 1.8.\n",
            "  warnings.warn(\n"
          ]
        },
        {
          "name": "stdout",
          "output_type": "stream",
          "text": [
            "Training until validation scores don't improve for 10 rounds\n"
          ]
        },
        {
          "name": "stderr",
          "output_type": "stream",
          "text": [
            "/opt/anaconda3/lib/python3.11/site-packages/sklearn/utils/deprecation.py:151: FutureWarning: 'force_all_finite' was renamed to 'ensure_all_finite' in 1.6 and will be removed in 1.8.\n",
            "  warnings.warn(\n",
            "[I 2025-02-15 15:46:29,594] Trial 144 finished with value: 1513.9399762215885 and parameters: {'learning_rate': 0.07443721490319066, 'num_leaves': 48, 'max_depth': 4, 'min_child_samples': 45, 'subsample': 0.7840256691311779, 'colsample_bytree': 0.7681039224998898, 'reg_alpha': 9.258649970273474, 'reg_lambda': 2.627896785566871}. Best is trial 131 with value: 1513.596501576817.\n"
          ]
        },
        {
          "name": "stdout",
          "output_type": "stream",
          "text": [
            "Early stopping, best iteration is:\n",
            "[87]\tvalid_0's rmse: 38.9094\n"
          ]
        },
        {
          "name": "stderr",
          "output_type": "stream",
          "text": [
            "/opt/anaconda3/lib/python3.11/site-packages/sklearn/utils/deprecation.py:151: FutureWarning: 'force_all_finite' was renamed to 'ensure_all_finite' in 1.6 and will be removed in 1.8.\n",
            "  warnings.warn(\n"
          ]
        },
        {
          "name": "stdout",
          "output_type": "stream",
          "text": [
            "Training until validation scores don't improve for 10 rounds\n"
          ]
        },
        {
          "name": "stderr",
          "output_type": "stream",
          "text": [
            "/opt/anaconda3/lib/python3.11/site-packages/sklearn/utils/deprecation.py:151: FutureWarning: 'force_all_finite' was renamed to 'ensure_all_finite' in 1.6 and will be removed in 1.8.\n",
            "  warnings.warn(\n",
            "[I 2025-02-15 15:46:30,972] Trial 145 finished with value: 1513.6911715982335 and parameters: {'learning_rate': 0.08576355089829846, 'num_leaves': 46, 'max_depth': 4, 'min_child_samples': 40, 'subsample': 0.80610372740671, 'colsample_bytree': 0.7598625362352537, 'reg_alpha': 8.592276503816263, 'reg_lambda': 2.49178069996067}. Best is trial 131 with value: 1513.596501576817.\n"
          ]
        },
        {
          "name": "stdout",
          "output_type": "stream",
          "text": [
            "Early stopping, best iteration is:\n",
            "[73]\tvalid_0's rmse: 38.9062\n"
          ]
        },
        {
          "name": "stderr",
          "output_type": "stream",
          "text": [
            "/opt/anaconda3/lib/python3.11/site-packages/sklearn/utils/deprecation.py:151: FutureWarning: 'force_all_finite' was renamed to 'ensure_all_finite' in 1.6 and will be removed in 1.8.\n",
            "  warnings.warn(\n"
          ]
        },
        {
          "name": "stdout",
          "output_type": "stream",
          "text": [
            "Training until validation scores don't improve for 10 rounds\n"
          ]
        },
        {
          "name": "stderr",
          "output_type": "stream",
          "text": [
            "/opt/anaconda3/lib/python3.11/site-packages/sklearn/utils/deprecation.py:151: FutureWarning: 'force_all_finite' was renamed to 'ensure_all_finite' in 1.6 and will be removed in 1.8.\n",
            "  warnings.warn(\n",
            "[I 2025-02-15 15:46:32,383] Trial 146 finished with value: 1513.7329866297925 and parameters: {'learning_rate': 0.08626434073717963, 'num_leaves': 46, 'max_depth': 4, 'min_child_samples': 41, 'subsample': 0.8089721208073359, 'colsample_bytree': 0.7626767166547335, 'reg_alpha': 8.854175335719487, 'reg_lambda': 2.8909465826694416}. Best is trial 131 with value: 1513.596501576817.\n"
          ]
        },
        {
          "name": "stdout",
          "output_type": "stream",
          "text": [
            "Early stopping, best iteration is:\n",
            "[79]\tvalid_0's rmse: 38.9067\n"
          ]
        },
        {
          "name": "stderr",
          "output_type": "stream",
          "text": [
            "/opt/anaconda3/lib/python3.11/site-packages/sklearn/utils/deprecation.py:151: FutureWarning: 'force_all_finite' was renamed to 'ensure_all_finite' in 1.6 and will be removed in 1.8.\n",
            "  warnings.warn(\n"
          ]
        },
        {
          "name": "stdout",
          "output_type": "stream",
          "text": [
            "Training until validation scores don't improve for 10 rounds\n"
          ]
        },
        {
          "name": "stderr",
          "output_type": "stream",
          "text": [
            "/opt/anaconda3/lib/python3.11/site-packages/sklearn/utils/deprecation.py:151: FutureWarning: 'force_all_finite' was renamed to 'ensure_all_finite' in 1.6 and will be removed in 1.8.\n",
            "  warnings.warn(\n",
            "[I 2025-02-15 15:46:33,874] Trial 147 finished with value: 1513.818970852963 and parameters: {'learning_rate': 0.0846979619633021, 'num_leaves': 45, 'max_depth': 4, 'min_child_samples': 40, 'subsample': 0.8069920797818901, 'colsample_bytree': 0.7604384037677797, 'reg_alpha': 8.727142025703124, 'reg_lambda': 3.400455861966325}. Best is trial 131 with value: 1513.596501576817.\n"
          ]
        },
        {
          "name": "stdout",
          "output_type": "stream",
          "text": [
            "Early stopping, best iteration is:\n",
            "[73]\tvalid_0's rmse: 38.9078\n"
          ]
        },
        {
          "name": "stderr",
          "output_type": "stream",
          "text": [
            "/opt/anaconda3/lib/python3.11/site-packages/sklearn/utils/deprecation.py:151: FutureWarning: 'force_all_finite' was renamed to 'ensure_all_finite' in 1.6 and will be removed in 1.8.\n",
            "  warnings.warn(\n"
          ]
        },
        {
          "name": "stdout",
          "output_type": "stream",
          "text": [
            "Training until validation scores don't improve for 10 rounds\n"
          ]
        },
        {
          "name": "stderr",
          "output_type": "stream",
          "text": [
            "/opt/anaconda3/lib/python3.11/site-packages/sklearn/utils/deprecation.py:151: FutureWarning: 'force_all_finite' was renamed to 'ensure_all_finite' in 1.6 and will be removed in 1.8.\n",
            "  warnings.warn(\n",
            "[I 2025-02-15 15:46:35,330] Trial 148 finished with value: 1513.8506254799852 and parameters: {'learning_rate': 0.08609107847268281, 'num_leaves': 44, 'max_depth': 4, 'min_child_samples': 39, 'subsample': 0.8001382208229407, 'colsample_bytree': 0.7584291524134628, 'reg_alpha': 8.380228273932639, 'reg_lambda': 3.0431179283836682}. Best is trial 131 with value: 1513.596501576817.\n"
          ]
        },
        {
          "name": "stdout",
          "output_type": "stream",
          "text": [
            "Early stopping, best iteration is:\n",
            "[79]\tvalid_0's rmse: 38.9082\n"
          ]
        },
        {
          "name": "stderr",
          "output_type": "stream",
          "text": [
            "/opt/anaconda3/lib/python3.11/site-packages/sklearn/utils/deprecation.py:151: FutureWarning: 'force_all_finite' was renamed to 'ensure_all_finite' in 1.6 and will be removed in 1.8.\n",
            "  warnings.warn(\n"
          ]
        },
        {
          "name": "stdout",
          "output_type": "stream",
          "text": [
            "Training until validation scores don't improve for 10 rounds\n"
          ]
        },
        {
          "name": "stderr",
          "output_type": "stream",
          "text": [
            "/opt/anaconda3/lib/python3.11/site-packages/sklearn/utils/deprecation.py:151: FutureWarning: 'force_all_finite' was renamed to 'ensure_all_finite' in 1.6 and will be removed in 1.8.\n",
            "  warnings.warn(\n",
            "[I 2025-02-15 15:46:36,704] Trial 149 finished with value: 1513.772974518022 and parameters: {'learning_rate': 0.08148008118142203, 'num_leaves': 46, 'max_depth': 4, 'min_child_samples': 52, 'subsample': 0.8198733057537305, 'colsample_bytree': 0.7624341779505509, 'reg_alpha': 8.952041685971817, 'reg_lambda': 3.365674126144949}. Best is trial 131 with value: 1513.596501576817.\n"
          ]
        },
        {
          "name": "stdout",
          "output_type": "stream",
          "text": [
            "Early stopping, best iteration is:\n",
            "[74]\tvalid_0's rmse: 38.9072\n"
          ]
        },
        {
          "name": "stderr",
          "output_type": "stream",
          "text": [
            "/opt/anaconda3/lib/python3.11/site-packages/sklearn/utils/deprecation.py:151: FutureWarning: 'force_all_finite' was renamed to 'ensure_all_finite' in 1.6 and will be removed in 1.8.\n",
            "  warnings.warn(\n"
          ]
        },
        {
          "name": "stdout",
          "output_type": "stream",
          "text": [
            "Training until validation scores don't improve for 10 rounds\n"
          ]
        },
        {
          "name": "stderr",
          "output_type": "stream",
          "text": [
            "/opt/anaconda3/lib/python3.11/site-packages/sklearn/utils/deprecation.py:151: FutureWarning: 'force_all_finite' was renamed to 'ensure_all_finite' in 1.6 and will be removed in 1.8.\n",
            "  warnings.warn(\n",
            "[I 2025-02-15 15:46:38,117] Trial 150 finished with value: 1513.8662080623571 and parameters: {'learning_rate': 0.0818355647960821, 'num_leaves': 46, 'max_depth': 4, 'min_child_samples': 51, 'subsample': 0.8181605694129855, 'colsample_bytree': 0.7484774027493559, 'reg_alpha': 7.905190490786994, 'reg_lambda': 3.599903640377643}. Best is trial 131 with value: 1513.596501576817.\n"
          ]
        },
        {
          "name": "stdout",
          "output_type": "stream",
          "text": [
            "Early stopping, best iteration is:\n",
            "[78]\tvalid_0's rmse: 38.9084\n"
          ]
        },
        {
          "name": "stderr",
          "output_type": "stream",
          "text": [
            "/opt/anaconda3/lib/python3.11/site-packages/sklearn/utils/deprecation.py:151: FutureWarning: 'force_all_finite' was renamed to 'ensure_all_finite' in 1.6 and will be removed in 1.8.\n",
            "  warnings.warn(\n"
          ]
        },
        {
          "name": "stdout",
          "output_type": "stream",
          "text": [
            "Training until validation scores don't improve for 10 rounds\n"
          ]
        },
        {
          "name": "stderr",
          "output_type": "stream",
          "text": [
            "/opt/anaconda3/lib/python3.11/site-packages/sklearn/utils/deprecation.py:151: FutureWarning: 'force_all_finite' was renamed to 'ensure_all_finite' in 1.6 and will be removed in 1.8.\n",
            "  warnings.warn(\n",
            "[I 2025-02-15 15:46:39,673] Trial 151 finished with value: 1513.8896847421345 and parameters: {'learning_rate': 0.08536252522369213, 'num_leaves': 48, 'max_depth': 4, 'min_child_samples': 35, 'subsample': 0.8228621112038524, 'colsample_bytree': 0.7616683218302234, 'reg_alpha': 8.878670376245514, 'reg_lambda': 3.364796932681406}. Best is trial 131 with value: 1513.596501576817.\n"
          ]
        },
        {
          "name": "stdout",
          "output_type": "stream",
          "text": [
            "Early stopping, best iteration is:\n",
            "[76]\tvalid_0's rmse: 38.9087\n"
          ]
        },
        {
          "name": "stderr",
          "output_type": "stream",
          "text": [
            "/opt/anaconda3/lib/python3.11/site-packages/sklearn/utils/deprecation.py:151: FutureWarning: 'force_all_finite' was renamed to 'ensure_all_finite' in 1.6 and will be removed in 1.8.\n",
            "  warnings.warn(\n"
          ]
        },
        {
          "name": "stdout",
          "output_type": "stream",
          "text": [
            "Training until validation scores don't improve for 10 rounds\n"
          ]
        },
        {
          "name": "stderr",
          "output_type": "stream",
          "text": [
            "/opt/anaconda3/lib/python3.11/site-packages/sklearn/utils/deprecation.py:151: FutureWarning: 'force_all_finite' was renamed to 'ensure_all_finite' in 1.6 and will be removed in 1.8.\n",
            "  warnings.warn(\n",
            "[I 2025-02-15 15:46:40,905] Trial 152 finished with value: 1514.078627582817 and parameters: {'learning_rate': 0.08306888668603819, 'num_leaves': 44, 'max_depth': 4, 'min_child_samples': 41, 'subsample': 0.8072423325968665, 'colsample_bytree': 0.7824371010273524, 'reg_alpha': 8.56971423341763, 'reg_lambda': 2.833489453484718}. Best is trial 131 with value: 1513.596501576817.\n"
          ]
        },
        {
          "name": "stdout",
          "output_type": "stream",
          "text": [
            "Early stopping, best iteration is:\n",
            "[56]\tvalid_0's rmse: 38.9112\n"
          ]
        },
        {
          "name": "stderr",
          "output_type": "stream",
          "text": [
            "/opt/anaconda3/lib/python3.11/site-packages/sklearn/utils/deprecation.py:151: FutureWarning: 'force_all_finite' was renamed to 'ensure_all_finite' in 1.6 and will be removed in 1.8.\n",
            "  warnings.warn(\n"
          ]
        },
        {
          "name": "stdout",
          "output_type": "stream",
          "text": [
            "Training until validation scores don't improve for 10 rounds\n"
          ]
        },
        {
          "name": "stderr",
          "output_type": "stream",
          "text": [
            "/opt/anaconda3/lib/python3.11/site-packages/sklearn/utils/deprecation.py:151: FutureWarning: 'force_all_finite' was renamed to 'ensure_all_finite' in 1.6 and will be removed in 1.8.\n",
            "  warnings.warn(\n",
            "[I 2025-02-15 15:46:42,384] Trial 153 finished with value: 1513.8105768836697 and parameters: {'learning_rate': 0.07963027342157274, 'num_leaves': 46, 'max_depth': 4, 'min_child_samples': 33, 'subsample': 0.7945638274811869, 'colsample_bytree': 0.743135708762265, 'reg_alpha': 9.05593247878629, 'reg_lambda': 3.5414198005293347}. Best is trial 131 with value: 1513.596501576817.\n"
          ]
        },
        {
          "name": "stdout",
          "output_type": "stream",
          "text": [
            "Early stopping, best iteration is:\n",
            "[82]\tvalid_0's rmse: 38.9077\n"
          ]
        },
        {
          "name": "stderr",
          "output_type": "stream",
          "text": [
            "/opt/anaconda3/lib/python3.11/site-packages/sklearn/utils/deprecation.py:151: FutureWarning: 'force_all_finite' was renamed to 'ensure_all_finite' in 1.6 and will be removed in 1.8.\n",
            "  warnings.warn(\n"
          ]
        },
        {
          "name": "stdout",
          "output_type": "stream",
          "text": [
            "Training until validation scores don't improve for 10 rounds\n"
          ]
        },
        {
          "name": "stderr",
          "output_type": "stream",
          "text": [
            "/opt/anaconda3/lib/python3.11/site-packages/sklearn/utils/deprecation.py:151: FutureWarning: 'force_all_finite' was renamed to 'ensure_all_finite' in 1.6 and will be removed in 1.8.\n",
            "  warnings.warn(\n",
            "[I 2025-02-15 15:46:43,915] Trial 154 finished with value: 1513.8338310264628 and parameters: {'learning_rate': 0.0805506377503032, 'num_leaves': 46, 'max_depth': 4, 'min_child_samples': 33, 'subsample': 0.7889710179743138, 'colsample_bytree': 0.742421972297528, 'reg_alpha': 9.279498996055931, 'reg_lambda': 3.4758408562423133}. Best is trial 131 with value: 1513.596501576817.\n"
          ]
        },
        {
          "name": "stdout",
          "output_type": "stream",
          "text": [
            "Early stopping, best iteration is:\n",
            "[76]\tvalid_0's rmse: 38.908\n"
          ]
        },
        {
          "name": "stderr",
          "output_type": "stream",
          "text": [
            "/opt/anaconda3/lib/python3.11/site-packages/sklearn/utils/deprecation.py:151: FutureWarning: 'force_all_finite' was renamed to 'ensure_all_finite' in 1.6 and will be removed in 1.8.\n",
            "  warnings.warn(\n"
          ]
        },
        {
          "name": "stdout",
          "output_type": "stream",
          "text": [
            "Training until validation scores don't improve for 10 rounds\n"
          ]
        },
        {
          "name": "stderr",
          "output_type": "stream",
          "text": [
            "/opt/anaconda3/lib/python3.11/site-packages/sklearn/utils/deprecation.py:151: FutureWarning: 'force_all_finite' was renamed to 'ensure_all_finite' in 1.6 and will be removed in 1.8.\n",
            "  warnings.warn(\n",
            "[I 2025-02-15 15:46:45,469] Trial 155 finished with value: 1513.8189104525384 and parameters: {'learning_rate': 0.07667800494775014, 'num_leaves': 43, 'max_depth': 4, 'min_child_samples': 37, 'subsample': 0.794624247931336, 'colsample_bytree': 0.7542863151290488, 'reg_alpha': 8.041465868896733, 'reg_lambda': 3.319508862978938}. Best is trial 131 with value: 1513.596501576817.\n"
          ]
        },
        {
          "name": "stdout",
          "output_type": "stream",
          "text": [
            "Early stopping, best iteration is:\n",
            "[87]\tvalid_0's rmse: 38.9078\n"
          ]
        },
        {
          "name": "stderr",
          "output_type": "stream",
          "text": [
            "/opt/anaconda3/lib/python3.11/site-packages/sklearn/utils/deprecation.py:151: FutureWarning: 'force_all_finite' was renamed to 'ensure_all_finite' in 1.6 and will be removed in 1.8.\n",
            "  warnings.warn(\n"
          ]
        },
        {
          "name": "stdout",
          "output_type": "stream",
          "text": [
            "Training until validation scores don't improve for 10 rounds\n"
          ]
        },
        {
          "name": "stderr",
          "output_type": "stream",
          "text": [
            "/opt/anaconda3/lib/python3.11/site-packages/sklearn/utils/deprecation.py:151: FutureWarning: 'force_all_finite' was renamed to 'ensure_all_finite' in 1.6 and will be removed in 1.8.\n",
            "  warnings.warn(\n",
            "[I 2025-02-15 15:46:46,904] Trial 156 finished with value: 1513.9397628421016 and parameters: {'learning_rate': 0.07577389223499086, 'num_leaves': 42, 'max_depth': 4, 'min_child_samples': 35, 'subsample': 0.7953831967524758, 'colsample_bytree': 0.7537674665864451, 'reg_alpha': 8.100726226694015, 'reg_lambda': 3.8143561235739307}. Best is trial 131 with value: 1513.596501576817.\n"
          ]
        },
        {
          "name": "stdout",
          "output_type": "stream",
          "text": [
            "Early stopping, best iteration is:\n",
            "[81]\tvalid_0's rmse: 38.9094\n"
          ]
        },
        {
          "name": "stderr",
          "output_type": "stream",
          "text": [
            "/opt/anaconda3/lib/python3.11/site-packages/sklearn/utils/deprecation.py:151: FutureWarning: 'force_all_finite' was renamed to 'ensure_all_finite' in 1.6 and will be removed in 1.8.\n",
            "  warnings.warn(\n"
          ]
        },
        {
          "name": "stdout",
          "output_type": "stream",
          "text": [
            "Training until validation scores don't improve for 10 rounds\n"
          ]
        },
        {
          "name": "stderr",
          "output_type": "stream",
          "text": [
            "/opt/anaconda3/lib/python3.11/site-packages/sklearn/utils/deprecation.py:151: FutureWarning: 'force_all_finite' was renamed to 'ensure_all_finite' in 1.6 and will be removed in 1.8.\n",
            "  warnings.warn(\n",
            "[I 2025-02-15 15:46:48,353] Trial 157 finished with value: 1513.9618626913405 and parameters: {'learning_rate': 0.07905092335476108, 'num_leaves': 39, 'max_depth': 4, 'min_child_samples': 47, 'subsample': 0.8335264747609199, 'colsample_bytree': 0.7383281024581491, 'reg_alpha': 8.557893031521223, 'reg_lambda': 3.640152193451003}. Best is trial 131 with value: 1513.596501576817.\n"
          ]
        },
        {
          "name": "stdout",
          "output_type": "stream",
          "text": [
            "Early stopping, best iteration is:\n",
            "[70]\tvalid_0's rmse: 38.9097\n"
          ]
        },
        {
          "name": "stderr",
          "output_type": "stream",
          "text": [
            "/opt/anaconda3/lib/python3.11/site-packages/sklearn/utils/deprecation.py:151: FutureWarning: 'force_all_finite' was renamed to 'ensure_all_finite' in 1.6 and will be removed in 1.8.\n",
            "  warnings.warn(\n"
          ]
        },
        {
          "name": "stdout",
          "output_type": "stream",
          "text": [
            "Training until validation scores don't improve for 10 rounds\n"
          ]
        },
        {
          "name": "stderr",
          "output_type": "stream",
          "text": [
            "/opt/anaconda3/lib/python3.11/site-packages/sklearn/utils/deprecation.py:151: FutureWarning: 'force_all_finite' was renamed to 'ensure_all_finite' in 1.6 and will be removed in 1.8.\n",
            "  warnings.warn(\n",
            "[I 2025-02-15 15:46:49,799] Trial 158 finished with value: 1513.836996714929 and parameters: {'learning_rate': 0.07306137088851689, 'num_leaves': 44, 'max_depth': 4, 'min_child_samples': 54, 'subsample': 0.8167445815261046, 'colsample_bytree': 0.7595266995427666, 'reg_alpha': 9.726648147029753, 'reg_lambda': 3.3113999762273267}. Best is trial 131 with value: 1513.596501576817.\n"
          ]
        },
        {
          "name": "stdout",
          "output_type": "stream",
          "text": [
            "Did not meet early stopping. Best iteration is:\n",
            "[92]\tvalid_0's rmse: 38.9081\n"
          ]
        },
        {
          "name": "stderr",
          "output_type": "stream",
          "text": [
            "/opt/anaconda3/lib/python3.11/site-packages/sklearn/utils/deprecation.py:151: FutureWarning: 'force_all_finite' was renamed to 'ensure_all_finite' in 1.6 and will be removed in 1.8.\n",
            "  warnings.warn(\n"
          ]
        },
        {
          "name": "stdout",
          "output_type": "stream",
          "text": [
            "Training until validation scores don't improve for 10 rounds\n"
          ]
        },
        {
          "name": "stderr",
          "output_type": "stream",
          "text": [
            "/opt/anaconda3/lib/python3.11/site-packages/sklearn/utils/deprecation.py:151: FutureWarning: 'force_all_finite' was renamed to 'ensure_all_finite' in 1.6 and will be removed in 1.8.\n",
            "  warnings.warn(\n",
            "[I 2025-02-15 15:46:51,134] Trial 159 finished with value: 1513.9489775576333 and parameters: {'learning_rate': 0.07637693707556512, 'num_leaves': 41, 'max_depth': 3, 'min_child_samples': 31, 'subsample': 0.7847150469218438, 'colsample_bytree': 0.7737923880672194, 'reg_alpha': 9.11792792215753, 'reg_lambda': 3.1821908879108953}. Best is trial 131 with value: 1513.596501576817.\n"
          ]
        },
        {
          "name": "stdout",
          "output_type": "stream",
          "text": [
            "Did not meet early stopping. Best iteration is:\n",
            "[100]\tvalid_0's rmse: 38.9095\n"
          ]
        },
        {
          "name": "stderr",
          "output_type": "stream",
          "text": [
            "/opt/anaconda3/lib/python3.11/site-packages/sklearn/utils/deprecation.py:151: FutureWarning: 'force_all_finite' was renamed to 'ensure_all_finite' in 1.6 and will be removed in 1.8.\n",
            "  warnings.warn(\n"
          ]
        },
        {
          "name": "stdout",
          "output_type": "stream",
          "text": [
            "Training until validation scores don't improve for 10 rounds\n"
          ]
        },
        {
          "name": "stderr",
          "output_type": "stream",
          "text": [
            "/opt/anaconda3/lib/python3.11/site-packages/sklearn/utils/deprecation.py:151: FutureWarning: 'force_all_finite' was renamed to 'ensure_all_finite' in 1.6 and will be removed in 1.8.\n",
            "  warnings.warn(\n",
            "[I 2025-02-15 15:46:52,565] Trial 160 finished with value: 1513.99919796904 and parameters: {'learning_rate': 0.08087443367519812, 'num_leaves': 46, 'max_depth': 4, 'min_child_samples': 36, 'subsample': 0.8253816840074991, 'colsample_bytree': 0.7332888247419991, 'reg_alpha': 7.921508054639328, 'reg_lambda': 2.857539992103685}. Best is trial 131 with value: 1513.596501576817.\n"
          ]
        },
        {
          "name": "stdout",
          "output_type": "stream",
          "text": [
            "Early stopping, best iteration is:\n",
            "[66]\tvalid_0's rmse: 38.9101\n"
          ]
        },
        {
          "name": "stderr",
          "output_type": "stream",
          "text": [
            "/opt/anaconda3/lib/python3.11/site-packages/sklearn/utils/deprecation.py:151: FutureWarning: 'force_all_finite' was renamed to 'ensure_all_finite' in 1.6 and will be removed in 1.8.\n",
            "  warnings.warn(\n"
          ]
        },
        {
          "name": "stdout",
          "output_type": "stream",
          "text": [
            "Training until validation scores don't improve for 10 rounds\n"
          ]
        },
        {
          "name": "stderr",
          "output_type": "stream",
          "text": [
            "/opt/anaconda3/lib/python3.11/site-packages/sklearn/utils/deprecation.py:151: FutureWarning: 'force_all_finite' was renamed to 'ensure_all_finite' in 1.6 and will be removed in 1.8.\n",
            "  warnings.warn(\n",
            "[I 2025-02-15 15:46:53,917] Trial 161 finished with value: 1513.937451881826 and parameters: {'learning_rate': 0.08285924495998385, 'num_leaves': 43, 'max_depth': 4, 'min_child_samples': 39, 'subsample': 0.7995029963384385, 'colsample_bytree': 0.7451534721410688, 'reg_alpha': 9.037969294463155, 'reg_lambda': 4.380204576229868}. Best is trial 131 with value: 1513.596501576817.\n"
          ]
        },
        {
          "name": "stdout",
          "output_type": "stream",
          "text": [
            "Early stopping, best iteration is:\n",
            "[72]\tvalid_0's rmse: 38.9093\n"
          ]
        },
        {
          "name": "stderr",
          "output_type": "stream",
          "text": [
            "/opt/anaconda3/lib/python3.11/site-packages/sklearn/utils/deprecation.py:151: FutureWarning: 'force_all_finite' was renamed to 'ensure_all_finite' in 1.6 and will be removed in 1.8.\n",
            "  warnings.warn(\n"
          ]
        },
        {
          "name": "stdout",
          "output_type": "stream",
          "text": [
            "Training until validation scores don't improve for 10 rounds\n"
          ]
        },
        {
          "name": "stderr",
          "output_type": "stream",
          "text": [
            "/opt/anaconda3/lib/python3.11/site-packages/sklearn/utils/deprecation.py:151: FutureWarning: 'force_all_finite' was renamed to 'ensure_all_finite' in 1.6 and will be removed in 1.8.\n",
            "  warnings.warn(\n",
            "[I 2025-02-15 15:46:55,195] Trial 162 finished with value: 1513.889590287288 and parameters: {'learning_rate': 0.08740700406199908, 'num_leaves': 88, 'max_depth': 4, 'min_child_samples': 31, 'subsample': 0.7774945482603973, 'colsample_bytree': 0.7537362931480384, 'reg_alpha': 8.36333083259624, 'reg_lambda': 3.984289406998847}. Best is trial 131 with value: 1513.596501576817.\n"
          ]
        },
        {
          "name": "stdout",
          "output_type": "stream",
          "text": [
            "Early stopping, best iteration is:\n",
            "[59]\tvalid_0's rmse: 38.9087\n"
          ]
        },
        {
          "name": "stderr",
          "output_type": "stream",
          "text": [
            "/opt/anaconda3/lib/python3.11/site-packages/sklearn/utils/deprecation.py:151: FutureWarning: 'force_all_finite' was renamed to 'ensure_all_finite' in 1.6 and will be removed in 1.8.\n",
            "  warnings.warn(\n"
          ]
        },
        {
          "name": "stdout",
          "output_type": "stream",
          "text": [
            "Training until validation scores don't improve for 10 rounds\n"
          ]
        },
        {
          "name": "stderr",
          "output_type": "stream",
          "text": [
            "/opt/anaconda3/lib/python3.11/site-packages/sklearn/utils/deprecation.py:151: FutureWarning: 'force_all_finite' was renamed to 'ensure_all_finite' in 1.6 and will be removed in 1.8.\n",
            "  warnings.warn(\n",
            "[I 2025-02-15 15:46:56,779] Trial 163 finished with value: 1513.7870668535272 and parameters: {'learning_rate': 0.07824544821392182, 'num_leaves': 50, 'max_depth': 4, 'min_child_samples': 28, 'subsample': 0.8097351346091741, 'colsample_bytree': 0.7649730832540222, 'reg_alpha': 9.37467403545745, 'reg_lambda': 3.0142933872554143}. Best is trial 131 with value: 1513.596501576817.\n"
          ]
        },
        {
          "name": "stdout",
          "output_type": "stream",
          "text": [
            "Early stopping, best iteration is:\n",
            "[78]\tvalid_0's rmse: 38.9074\n"
          ]
        },
        {
          "name": "stderr",
          "output_type": "stream",
          "text": [
            "/opt/anaconda3/lib/python3.11/site-packages/sklearn/utils/deprecation.py:151: FutureWarning: 'force_all_finite' was renamed to 'ensure_all_finite' in 1.6 and will be removed in 1.8.\n",
            "  warnings.warn(\n"
          ]
        },
        {
          "name": "stdout",
          "output_type": "stream",
          "text": [
            "Training until validation scores don't improve for 10 rounds\n"
          ]
        },
        {
          "name": "stderr",
          "output_type": "stream",
          "text": [
            "/opt/anaconda3/lib/python3.11/site-packages/sklearn/utils/deprecation.py:151: FutureWarning: 'force_all_finite' was renamed to 'ensure_all_finite' in 1.6 and will be removed in 1.8.\n",
            "  warnings.warn(\n",
            "[I 2025-02-15 15:46:58,446] Trial 164 finished with value: 1513.7066687421293 and parameters: {'learning_rate': 0.07822961908842584, 'num_leaves': 52, 'max_depth': 4, 'min_child_samples': 27, 'subsample': 0.8014232108741123, 'colsample_bytree': 0.7618445999319637, 'reg_alpha': 9.385211621141504, 'reg_lambda': 3.0769666881820514}. Best is trial 131 with value: 1513.596501576817.\n"
          ]
        },
        {
          "name": "stdout",
          "output_type": "stream",
          "text": [
            "Early stopping, best iteration is:\n",
            "[83]\tvalid_0's rmse: 38.9064\n"
          ]
        },
        {
          "name": "stderr",
          "output_type": "stream",
          "text": [
            "/opt/anaconda3/lib/python3.11/site-packages/sklearn/utils/deprecation.py:151: FutureWarning: 'force_all_finite' was renamed to 'ensure_all_finite' in 1.6 and will be removed in 1.8.\n",
            "  warnings.warn(\n"
          ]
        },
        {
          "name": "stdout",
          "output_type": "stream",
          "text": [
            "Training until validation scores don't improve for 10 rounds\n"
          ]
        },
        {
          "name": "stderr",
          "output_type": "stream",
          "text": [
            "/opt/anaconda3/lib/python3.11/site-packages/sklearn/utils/deprecation.py:151: FutureWarning: 'force_all_finite' was renamed to 'ensure_all_finite' in 1.6 and will be removed in 1.8.\n",
            "  warnings.warn(\n",
            "[I 2025-02-15 15:46:59,765] Trial 165 finished with value: 1513.8524709635008 and parameters: {'learning_rate': 0.07777909608322894, 'num_leaves': 52, 'max_depth': 4, 'min_child_samples': 27, 'subsample': 0.7914316462496087, 'colsample_bytree': 0.7685447841024886, 'reg_alpha': 9.496408699142988, 'reg_lambda': 2.992140281391793}. Best is trial 131 with value: 1513.596501576817.\n"
          ]
        },
        {
          "name": "stdout",
          "output_type": "stream",
          "text": [
            "Early stopping, best iteration is:\n",
            "[67]\tvalid_0's rmse: 38.9083\n"
          ]
        },
        {
          "name": "stderr",
          "output_type": "stream",
          "text": [
            "/opt/anaconda3/lib/python3.11/site-packages/sklearn/utils/deprecation.py:151: FutureWarning: 'force_all_finite' was renamed to 'ensure_all_finite' in 1.6 and will be removed in 1.8.\n",
            "  warnings.warn(\n"
          ]
        },
        {
          "name": "stdout",
          "output_type": "stream",
          "text": [
            "Training until validation scores don't improve for 10 rounds\n"
          ]
        },
        {
          "name": "stderr",
          "output_type": "stream",
          "text": [
            "/opt/anaconda3/lib/python3.11/site-packages/sklearn/utils/deprecation.py:151: FutureWarning: 'force_all_finite' was renamed to 'ensure_all_finite' in 1.6 and will be removed in 1.8.\n",
            "  warnings.warn(\n",
            "[I 2025-02-15 15:47:01,481] Trial 166 finished with value: 1514.0098744401396 and parameters: {'learning_rate': 0.0798086376582089, 'num_leaves': 50, 'max_depth': 3, 'min_child_samples': 28, 'subsample': 0.8147415609763328, 'colsample_bytree': 0.5527907368300485, 'reg_alpha': 9.34389704868074, 'reg_lambda': 2.2741319455450437}. Best is trial 131 with value: 1513.596501576817.\n"
          ]
        },
        {
          "name": "stdout",
          "output_type": "stream",
          "text": [
            "Did not meet early stopping. Best iteration is:\n",
            "[100]\tvalid_0's rmse: 38.9103\n"
          ]
        },
        {
          "name": "stderr",
          "output_type": "stream",
          "text": [
            "/opt/anaconda3/lib/python3.11/site-packages/sklearn/utils/deprecation.py:151: FutureWarning: 'force_all_finite' was renamed to 'ensure_all_finite' in 1.6 and will be removed in 1.8.\n",
            "  warnings.warn(\n"
          ]
        },
        {
          "name": "stdout",
          "output_type": "stream",
          "text": [
            "Training until validation scores don't improve for 10 rounds\n"
          ]
        },
        {
          "name": "stderr",
          "output_type": "stream",
          "text": [
            "/opt/anaconda3/lib/python3.11/site-packages/sklearn/utils/deprecation.py:151: FutureWarning: 'force_all_finite' was renamed to 'ensure_all_finite' in 1.6 and will be removed in 1.8.\n",
            "  warnings.warn(\n",
            "[I 2025-02-15 15:47:02,778] Trial 167 finished with value: 1514.2840869263405 and parameters: {'learning_rate': 0.0776944861454514, 'num_leaves': 49, 'max_depth': 9, 'min_child_samples': 33, 'subsample': 0.7995024677119654, 'colsample_bytree': 0.7860107435360877, 'reg_alpha': 9.005007419388376, 'reg_lambda': 2.706905870905424}. Best is trial 131 with value: 1513.596501576817.\n"
          ]
        },
        {
          "name": "stdout",
          "output_type": "stream",
          "text": [
            "Early stopping, best iteration is:\n",
            "[34]\tvalid_0's rmse: 38.9138\n"
          ]
        },
        {
          "name": "stderr",
          "output_type": "stream",
          "text": [
            "/opt/anaconda3/lib/python3.11/site-packages/sklearn/utils/deprecation.py:151: FutureWarning: 'force_all_finite' was renamed to 'ensure_all_finite' in 1.6 and will be removed in 1.8.\n",
            "  warnings.warn(\n"
          ]
        },
        {
          "name": "stdout",
          "output_type": "stream",
          "text": [
            "Training until validation scores don't improve for 10 rounds\n"
          ]
        },
        {
          "name": "stderr",
          "output_type": "stream",
          "text": [
            "/opt/anaconda3/lib/python3.11/site-packages/sklearn/utils/deprecation.py:151: FutureWarning: 'force_all_finite' was renamed to 'ensure_all_finite' in 1.6 and will be removed in 1.8.\n",
            "  warnings.warn(\n",
            "[I 2025-02-15 15:47:04,043] Trial 168 finished with value: 1513.9651684543342 and parameters: {'learning_rate': 0.08158678179138977, 'num_leaves': 47, 'max_depth': 3, 'min_child_samples': 31, 'subsample': 0.812922873259415, 'colsample_bytree': 0.7787914403283418, 'reg_alpha': 7.595043716099781, 'reg_lambda': 3.09294666842218}. Best is trial 131 with value: 1513.596501576817.\n"
          ]
        },
        {
          "name": "stdout",
          "output_type": "stream",
          "text": [
            "Did not meet early stopping. Best iteration is:\n",
            "[96]\tvalid_0's rmse: 38.9097\n"
          ]
        },
        {
          "name": "stderr",
          "output_type": "stream",
          "text": [
            "/opt/anaconda3/lib/python3.11/site-packages/sklearn/utils/deprecation.py:151: FutureWarning: 'force_all_finite' was renamed to 'ensure_all_finite' in 1.6 and will be removed in 1.8.\n",
            "  warnings.warn(\n"
          ]
        },
        {
          "name": "stdout",
          "output_type": "stream",
          "text": [
            "Training until validation scores don't improve for 10 rounds\n"
          ]
        },
        {
          "name": "stderr",
          "output_type": "stream",
          "text": [
            "/opt/anaconda3/lib/python3.11/site-packages/sklearn/utils/deprecation.py:151: FutureWarning: 'force_all_finite' was renamed to 'ensure_all_finite' in 1.6 and will be removed in 1.8.\n",
            "  warnings.warn(\n",
            "[I 2025-02-15 15:47:05,392] Trial 169 finished with value: 1513.983543597518 and parameters: {'learning_rate': 0.07234246358607067, 'num_leaves': 53, 'max_depth': 4, 'min_child_samples': 25, 'subsample': 0.7913321401460135, 'colsample_bytree': 0.7503272555703314, 'reg_alpha': 7.174160420332763, 'reg_lambda': 2.6995224871386334}. Best is trial 131 with value: 1513.596501576817.\n"
          ]
        },
        {
          "name": "stdout",
          "output_type": "stream",
          "text": [
            "Early stopping, best iteration is:\n",
            "[75]\tvalid_0's rmse: 38.9099\n"
          ]
        },
        {
          "name": "stderr",
          "output_type": "stream",
          "text": [
            "/opt/anaconda3/lib/python3.11/site-packages/sklearn/utils/deprecation.py:151: FutureWarning: 'force_all_finite' was renamed to 'ensure_all_finite' in 1.6 and will be removed in 1.8.\n",
            "  warnings.warn(\n"
          ]
        },
        {
          "name": "stdout",
          "output_type": "stream",
          "text": [
            "Training until validation scores don't improve for 10 rounds\n"
          ]
        },
        {
          "name": "stderr",
          "output_type": "stream",
          "text": [
            "/opt/anaconda3/lib/python3.11/site-packages/sklearn/utils/deprecation.py:151: FutureWarning: 'force_all_finite' was renamed to 'ensure_all_finite' in 1.6 and will be removed in 1.8.\n",
            "  warnings.warn(\n",
            "[I 2025-02-15 15:47:06,912] Trial 170 finished with value: 1513.8741385095182 and parameters: {'learning_rate': 0.07502173215964685, 'num_leaves': 49, 'max_depth': 4, 'min_child_samples': 37, 'subsample': 0.8538323183598955, 'colsample_bytree': 0.7387317610796762, 'reg_alpha': 9.711101506399972, 'reg_lambda': 2.3863494224904573}. Best is trial 131 with value: 1513.596501576817.\n"
          ]
        },
        {
          "name": "stdout",
          "output_type": "stream",
          "text": [
            "Early stopping, best iteration is:\n",
            "[78]\tvalid_0's rmse: 38.9085\n"
          ]
        },
        {
          "name": "stderr",
          "output_type": "stream",
          "text": [
            "/opt/anaconda3/lib/python3.11/site-packages/sklearn/utils/deprecation.py:151: FutureWarning: 'force_all_finite' was renamed to 'ensure_all_finite' in 1.6 and will be removed in 1.8.\n",
            "  warnings.warn(\n"
          ]
        },
        {
          "name": "stdout",
          "output_type": "stream",
          "text": [
            "Training until validation scores don't improve for 10 rounds\n"
          ]
        },
        {
          "name": "stderr",
          "output_type": "stream",
          "text": [
            "/opt/anaconda3/lib/python3.11/site-packages/sklearn/utils/deprecation.py:151: FutureWarning: 'force_all_finite' was renamed to 'ensure_all_finite' in 1.6 and will be removed in 1.8.\n",
            "  warnings.warn(\n",
            "[I 2025-02-15 15:47:08,240] Trial 171 finished with value: 1513.8914249590314 and parameters: {'learning_rate': 0.08363718233714884, 'num_leaves': 45, 'max_depth': 4, 'min_child_samples': 38, 'subsample': 0.8046207075577472, 'colsample_bytree': 0.7617623324229285, 'reg_alpha': 8.555226440067838, 'reg_lambda': 3.627832904304511}. Best is trial 131 with value: 1513.596501576817.\n"
          ]
        },
        {
          "name": "stdout",
          "output_type": "stream",
          "text": [
            "Early stopping, best iteration is:\n",
            "[77]\tvalid_0's rmse: 38.9088\n"
          ]
        },
        {
          "name": "stderr",
          "output_type": "stream",
          "text": [
            "/opt/anaconda3/lib/python3.11/site-packages/sklearn/utils/deprecation.py:151: FutureWarning: 'force_all_finite' was renamed to 'ensure_all_finite' in 1.6 and will be removed in 1.8.\n",
            "  warnings.warn(\n"
          ]
        },
        {
          "name": "stdout",
          "output_type": "stream",
          "text": [
            "Training until validation scores don't improve for 10 rounds\n"
          ]
        },
        {
          "name": "stderr",
          "output_type": "stream",
          "text": [
            "/opt/anaconda3/lib/python3.11/site-packages/sklearn/utils/deprecation.py:151: FutureWarning: 'force_all_finite' was renamed to 'ensure_all_finite' in 1.6 and will be removed in 1.8.\n",
            "  warnings.warn(\n",
            "[I 2025-02-15 15:47:09,525] Trial 172 finished with value: 1513.8825239395965 and parameters: {'learning_rate': 0.0873419460967206, 'num_leaves': 47, 'max_depth': 4, 'min_child_samples': 42, 'subsample': 0.8136129675489927, 'colsample_bytree': 0.7599010873221648, 'reg_alpha': 8.232690110698762, 'reg_lambda': 3.304077619955198}. Best is trial 131 with value: 1513.596501576817.\n"
          ]
        },
        {
          "name": "stdout",
          "output_type": "stream",
          "text": [
            "Early stopping, best iteration is:\n",
            "[64]\tvalid_0's rmse: 38.9086\n"
          ]
        },
        {
          "name": "stderr",
          "output_type": "stream",
          "text": [
            "/opt/anaconda3/lib/python3.11/site-packages/sklearn/utils/deprecation.py:151: FutureWarning: 'force_all_finite' was renamed to 'ensure_all_finite' in 1.6 and will be removed in 1.8.\n",
            "  warnings.warn(\n"
          ]
        },
        {
          "name": "stdout",
          "output_type": "stream",
          "text": [
            "Training until validation scores don't improve for 10 rounds\n"
          ]
        },
        {
          "name": "stderr",
          "output_type": "stream",
          "text": [
            "/opt/anaconda3/lib/python3.11/site-packages/sklearn/utils/deprecation.py:151: FutureWarning: 'force_all_finite' was renamed to 'ensure_all_finite' in 1.6 and will be removed in 1.8.\n",
            "  warnings.warn(\n",
            "[I 2025-02-15 15:47:11,019] Trial 173 finished with value: 1513.8524634532696 and parameters: {'learning_rate': 0.08455127049637981, 'num_leaves': 43, 'max_depth': 4, 'min_child_samples': 49, 'subsample': 0.7704532024198935, 'colsample_bytree': 0.7661130897723819, 'reg_alpha': 8.700507028713611, 'reg_lambda': 3.493365696542544}. Best is trial 131 with value: 1513.596501576817.\n"
          ]
        },
        {
          "name": "stdout",
          "output_type": "stream",
          "text": [
            "Early stopping, best iteration is:\n",
            "[79]\tvalid_0's rmse: 38.9083\n"
          ]
        },
        {
          "name": "stderr",
          "output_type": "stream",
          "text": [
            "/opt/anaconda3/lib/python3.11/site-packages/sklearn/utils/deprecation.py:151: FutureWarning: 'force_all_finite' was renamed to 'ensure_all_finite' in 1.6 and will be removed in 1.8.\n",
            "  warnings.warn(\n"
          ]
        },
        {
          "name": "stdout",
          "output_type": "stream",
          "text": [
            "Training until validation scores don't improve for 10 rounds\n"
          ]
        },
        {
          "name": "stderr",
          "output_type": "stream",
          "text": [
            "/opt/anaconda3/lib/python3.11/site-packages/sklearn/utils/deprecation.py:151: FutureWarning: 'force_all_finite' was renamed to 'ensure_all_finite' in 1.6 and will be removed in 1.8.\n",
            "  warnings.warn(\n",
            "[I 2025-02-15 15:47:12,740] Trial 174 finished with value: 1513.918916442227 and parameters: {'learning_rate': 0.07939949275274896, 'num_leaves': 45, 'max_depth': 4, 'min_child_samples': 30, 'subsample': 0.7835058164233116, 'colsample_bytree': 0.7532168399557828, 'reg_alpha': 7.926354933666135, 'reg_lambda': 2.940812464725286}. Best is trial 131 with value: 1513.596501576817.\n"
          ]
        },
        {
          "name": "stdout",
          "output_type": "stream",
          "text": [
            "Early stopping, best iteration is:\n",
            "[90]\tvalid_0's rmse: 38.9091\n"
          ]
        },
        {
          "name": "stderr",
          "output_type": "stream",
          "text": [
            "/opt/anaconda3/lib/python3.11/site-packages/sklearn/utils/deprecation.py:151: FutureWarning: 'force_all_finite' was renamed to 'ensure_all_finite' in 1.6 and will be removed in 1.8.\n",
            "  warnings.warn(\n"
          ]
        },
        {
          "name": "stdout",
          "output_type": "stream",
          "text": [
            "Training until validation scores don't improve for 10 rounds\n"
          ]
        },
        {
          "name": "stderr",
          "output_type": "stream",
          "text": [
            "/opt/anaconda3/lib/python3.11/site-packages/sklearn/utils/deprecation.py:151: FutureWarning: 'force_all_finite' was renamed to 'ensure_all_finite' in 1.6 and will be removed in 1.8.\n",
            "  warnings.warn(\n",
            "[I 2025-02-15 15:47:14,119] Trial 175 finished with value: 1513.9053552003625 and parameters: {'learning_rate': 0.08264535500080952, 'num_leaves': 40, 'max_depth': 4, 'min_child_samples': 33, 'subsample': 0.8244710796791069, 'colsample_bytree': 0.7440077498083458, 'reg_alpha': 8.988570661732101, 'reg_lambda': 2.1250066286363003}. Best is trial 131 with value: 1513.596501576817.\n"
          ]
        },
        {
          "name": "stdout",
          "output_type": "stream",
          "text": [
            "Early stopping, best iteration is:\n",
            "[75]\tvalid_0's rmse: 38.9089\n"
          ]
        },
        {
          "name": "stderr",
          "output_type": "stream",
          "text": [
            "/opt/anaconda3/lib/python3.11/site-packages/sklearn/utils/deprecation.py:151: FutureWarning: 'force_all_finite' was renamed to 'ensure_all_finite' in 1.6 and will be removed in 1.8.\n",
            "  warnings.warn(\n"
          ]
        },
        {
          "name": "stdout",
          "output_type": "stream",
          "text": [
            "Training until validation scores don't improve for 10 rounds\n"
          ]
        },
        {
          "name": "stderr",
          "output_type": "stream",
          "text": [
            "/opt/anaconda3/lib/python3.11/site-packages/sklearn/utils/deprecation.py:151: FutureWarning: 'force_all_finite' was renamed to 'ensure_all_finite' in 1.6 and will be removed in 1.8.\n",
            "  warnings.warn(\n",
            "[I 2025-02-15 15:47:15,613] Trial 176 finished with value: 1513.805630148599 and parameters: {'learning_rate': 0.08863365396569256, 'num_leaves': 50, 'max_depth': 4, 'min_child_samples': 26, 'subsample': 0.8044844321924215, 'colsample_bytree': 0.7924798122629932, 'reg_alpha': 9.246968950283756, 'reg_lambda': 3.2263513056703457}. Best is trial 131 with value: 1513.596501576817.\n"
          ]
        },
        {
          "name": "stdout",
          "output_type": "stream",
          "text": [
            "Did not meet early stopping. Best iteration is:\n",
            "[92]\tvalid_0's rmse: 38.9077\n"
          ]
        },
        {
          "name": "stderr",
          "output_type": "stream",
          "text": [
            "/opt/anaconda3/lib/python3.11/site-packages/sklearn/utils/deprecation.py:151: FutureWarning: 'force_all_finite' was renamed to 'ensure_all_finite' in 1.6 and will be removed in 1.8.\n",
            "  warnings.warn(\n"
          ]
        },
        {
          "name": "stdout",
          "output_type": "stream",
          "text": [
            "Training until validation scores don't improve for 10 rounds\n"
          ]
        },
        {
          "name": "stderr",
          "output_type": "stream",
          "text": [
            "/opt/anaconda3/lib/python3.11/site-packages/sklearn/utils/deprecation.py:151: FutureWarning: 'force_all_finite' was renamed to 'ensure_all_finite' in 1.6 and will be removed in 1.8.\n",
            "  warnings.warn(\n",
            "[I 2025-02-15 15:47:16,999] Trial 177 finished with value: 1513.9144178326162 and parameters: {'learning_rate': 0.08854009562492772, 'num_leaves': 51, 'max_depth': 4, 'min_child_samples': 25, 'subsample': 0.7948399012795292, 'colsample_bytree': 0.7966710649267211, 'reg_alpha': 9.928444027334834, 'reg_lambda': 3.167883047721672}. Best is trial 131 with value: 1513.596501576817.\n"
          ]
        },
        {
          "name": "stdout",
          "output_type": "stream",
          "text": [
            "Early stopping, best iteration is:\n",
            "[69]\tvalid_0's rmse: 38.9091\n"
          ]
        },
        {
          "name": "stderr",
          "output_type": "stream",
          "text": [
            "/opt/anaconda3/lib/python3.11/site-packages/sklearn/utils/deprecation.py:151: FutureWarning: 'force_all_finite' was renamed to 'ensure_all_finite' in 1.6 and will be removed in 1.8.\n",
            "  warnings.warn(\n"
          ]
        },
        {
          "name": "stdout",
          "output_type": "stream",
          "text": [
            "Training until validation scores don't improve for 10 rounds\n"
          ]
        },
        {
          "name": "stderr",
          "output_type": "stream",
          "text": [
            "/opt/anaconda3/lib/python3.11/site-packages/sklearn/utils/deprecation.py:151: FutureWarning: 'force_all_finite' was renamed to 'ensure_all_finite' in 1.6 and will be removed in 1.8.\n",
            "  warnings.warn(\n",
            "[I 2025-02-15 15:47:18,281] Trial 178 finished with value: 1513.8397455660568 and parameters: {'learning_rate': 0.08652076631987532, 'num_leaves': 54, 'max_depth': 4, 'min_child_samples': 20, 'subsample': 0.8029340317103822, 'colsample_bytree': 0.7756876334195953, 'reg_alpha': 9.362579539115114, 'reg_lambda': 2.6708903157766595}. Best is trial 131 with value: 1513.596501576817.\n"
          ]
        },
        {
          "name": "stdout",
          "output_type": "stream",
          "text": [
            "Early stopping, best iteration is:\n",
            "[73]\tvalid_0's rmse: 38.9081\n"
          ]
        },
        {
          "name": "stderr",
          "output_type": "stream",
          "text": [
            "/opt/anaconda3/lib/python3.11/site-packages/sklearn/utils/deprecation.py:151: FutureWarning: 'force_all_finite' was renamed to 'ensure_all_finite' in 1.6 and will be removed in 1.8.\n",
            "  warnings.warn(\n"
          ]
        },
        {
          "name": "stdout",
          "output_type": "stream",
          "text": [
            "Training until validation scores don't improve for 10 rounds\n"
          ]
        },
        {
          "name": "stderr",
          "output_type": "stream",
          "text": [
            "/opt/anaconda3/lib/python3.11/site-packages/sklearn/utils/deprecation.py:151: FutureWarning: 'force_all_finite' was renamed to 'ensure_all_finite' in 1.6 and will be removed in 1.8.\n",
            "  warnings.warn(\n",
            "[I 2025-02-15 15:47:19,685] Trial 179 finished with value: 1513.8778647084218 and parameters: {'learning_rate': 0.08087547838503374, 'num_leaves': 48, 'max_depth': 4, 'min_child_samples': 28, 'subsample': 0.7772106612479027, 'colsample_bytree': 0.7315082161863357, 'reg_alpha': 8.382476471853426, 'reg_lambda': 2.1972769879483636}. Best is trial 131 with value: 1513.596501576817.\n"
          ]
        },
        {
          "name": "stdout",
          "output_type": "stream",
          "text": [
            "Early stopping, best iteration is:\n",
            "[77]\tvalid_0's rmse: 38.9086\n"
          ]
        },
        {
          "name": "stderr",
          "output_type": "stream",
          "text": [
            "/opt/anaconda3/lib/python3.11/site-packages/sklearn/utils/deprecation.py:151: FutureWarning: 'force_all_finite' was renamed to 'ensure_all_finite' in 1.6 and will be removed in 1.8.\n",
            "  warnings.warn(\n"
          ]
        },
        {
          "name": "stdout",
          "output_type": "stream",
          "text": [
            "Training until validation scores don't improve for 10 rounds\n"
          ]
        },
        {
          "name": "stderr",
          "output_type": "stream",
          "text": [
            "/opt/anaconda3/lib/python3.11/site-packages/sklearn/utils/deprecation.py:151: FutureWarning: 'force_all_finite' was renamed to 'ensure_all_finite' in 1.6 and will be removed in 1.8.\n",
            "  warnings.warn(\n",
            "[I 2025-02-15 15:47:20,879] Trial 180 finished with value: 1513.9855125094898 and parameters: {'learning_rate': 0.08978309793325955, 'num_leaves': 50, 'max_depth': 4, 'min_child_samples': 36, 'subsample': 0.8121500928143254, 'colsample_bytree': 0.8048706007589586, 'reg_alpha': 9.195734715220972, 'reg_lambda': 2.8829568391018667}. Best is trial 131 with value: 1513.596501576817.\n"
          ]
        },
        {
          "name": "stdout",
          "output_type": "stream",
          "text": [
            "Early stopping, best iteration is:\n",
            "[57]\tvalid_0's rmse: 38.91\n"
          ]
        },
        {
          "name": "stderr",
          "output_type": "stream",
          "text": [
            "/opt/anaconda3/lib/python3.11/site-packages/sklearn/utils/deprecation.py:151: FutureWarning: 'force_all_finite' was renamed to 'ensure_all_finite' in 1.6 and will be removed in 1.8.\n",
            "  warnings.warn(\n"
          ]
        },
        {
          "name": "stdout",
          "output_type": "stream",
          "text": [
            "Training until validation scores don't improve for 10 rounds\n"
          ]
        },
        {
          "name": "stderr",
          "output_type": "stream",
          "text": [
            "/opt/anaconda3/lib/python3.11/site-packages/sklearn/utils/deprecation.py:151: FutureWarning: 'force_all_finite' was renamed to 'ensure_all_finite' in 1.6 and will be removed in 1.8.\n",
            "  warnings.warn(\n",
            "[I 2025-02-15 15:47:22,664] Trial 181 finished with value: 1513.8000301822728 and parameters: {'learning_rate': 0.07650589790497615, 'num_leaves': 47, 'max_depth': 4, 'min_child_samples': 44, 'subsample': 0.8070485798248432, 'colsample_bytree': 0.5900730457601094, 'reg_alpha': 8.90014030603501, 'reg_lambda': 3.8668704521690374}. Best is trial 131 with value: 1513.596501576817.\n"
          ]
        },
        {
          "name": "stdout",
          "output_type": "stream",
          "text": [
            "Did not meet early stopping. Best iteration is:\n",
            "[97]\tvalid_0's rmse: 38.9076\n"
          ]
        },
        {
          "name": "stderr",
          "output_type": "stream",
          "text": [
            "/opt/anaconda3/lib/python3.11/site-packages/sklearn/utils/deprecation.py:151: FutureWarning: 'force_all_finite' was renamed to 'ensure_all_finite' in 1.6 and will be removed in 1.8.\n",
            "  warnings.warn(\n"
          ]
        },
        {
          "name": "stdout",
          "output_type": "stream",
          "text": [
            "Training until validation scores don't improve for 10 rounds\n"
          ]
        },
        {
          "name": "stderr",
          "output_type": "stream",
          "text": [
            "/opt/anaconda3/lib/python3.11/site-packages/sklearn/utils/deprecation.py:151: FutureWarning: 'force_all_finite' was renamed to 'ensure_all_finite' in 1.6 and will be removed in 1.8.\n",
            "  warnings.warn(\n",
            "[I 2025-02-15 15:47:24,696] Trial 182 finished with value: 1513.7578725698288 and parameters: {'learning_rate': 0.07636017953356075, 'num_leaves': 22, 'max_depth': 4, 'min_child_samples': 44, 'subsample': 0.8213701869275228, 'colsample_bytree': 0.5676757935816937, 'reg_alpha': 9.677386380563128, 'reg_lambda': 3.9486304013297215}. Best is trial 131 with value: 1513.596501576817.\n"
          ]
        },
        {
          "name": "stdout",
          "output_type": "stream",
          "text": [
            "Did not meet early stopping. Best iteration is:\n",
            "[97]\tvalid_0's rmse: 38.907\n"
          ]
        },
        {
          "name": "stderr",
          "output_type": "stream",
          "text": [
            "/opt/anaconda3/lib/python3.11/site-packages/sklearn/utils/deprecation.py:151: FutureWarning: 'force_all_finite' was renamed to 'ensure_all_finite' in 1.6 and will be removed in 1.8.\n",
            "  warnings.warn(\n"
          ]
        },
        {
          "name": "stdout",
          "output_type": "stream",
          "text": [
            "Training until validation scores don't improve for 10 rounds\n"
          ]
        },
        {
          "name": "stderr",
          "output_type": "stream",
          "text": [
            "/opt/anaconda3/lib/python3.11/site-packages/sklearn/utils/deprecation.py:151: FutureWarning: 'force_all_finite' was renamed to 'ensure_all_finite' in 1.6 and will be removed in 1.8.\n",
            "  warnings.warn(\n",
            "[I 2025-02-15 15:47:26,628] Trial 183 finished with value: 1513.8769878762928 and parameters: {'learning_rate': 0.07769114548977372, 'num_leaves': 22, 'max_depth': 4, 'min_child_samples': 45, 'subsample': 0.8245079506555246, 'colsample_bytree': 0.5519557840429079, 'reg_alpha': 9.437914250381773, 'reg_lambda': 4.267658005138903}. Best is trial 131 with value: 1513.596501576817.\n"
          ]
        },
        {
          "name": "stdout",
          "output_type": "stream",
          "text": [
            "Early stopping, best iteration is:\n",
            "[82]\tvalid_0's rmse: 38.9086\n"
          ]
        },
        {
          "name": "stderr",
          "output_type": "stream",
          "text": [
            "/opt/anaconda3/lib/python3.11/site-packages/sklearn/utils/deprecation.py:151: FutureWarning: 'force_all_finite' was renamed to 'ensure_all_finite' in 1.6 and will be removed in 1.8.\n",
            "  warnings.warn(\n"
          ]
        },
        {
          "name": "stdout",
          "output_type": "stream",
          "text": [
            "Training until validation scores don't improve for 10 rounds\n"
          ]
        },
        {
          "name": "stderr",
          "output_type": "stream",
          "text": [
            "/opt/anaconda3/lib/python3.11/site-packages/sklearn/utils/deprecation.py:151: FutureWarning: 'force_all_finite' was renamed to 'ensure_all_finite' in 1.6 and will be removed in 1.8.\n",
            "  warnings.warn(\n",
            "[I 2025-02-15 15:47:28,082] Trial 184 finished with value: 1513.8705521220438 and parameters: {'learning_rate': 0.07100724812932913, 'num_leaves': 21, 'max_depth': 4, 'min_child_samples': 53, 'subsample': 0.8370272179012044, 'colsample_bytree': 0.7890206874226386, 'reg_alpha': 8.910095161902346, 'reg_lambda': 3.9677429935375543}. Best is trial 131 with value: 1513.596501576817.\n"
          ]
        },
        {
          "name": "stdout",
          "output_type": "stream",
          "text": [
            "Early stopping, best iteration is:\n",
            "[80]\tvalid_0's rmse: 38.9085\n"
          ]
        },
        {
          "name": "stderr",
          "output_type": "stream",
          "text": [
            "/opt/anaconda3/lib/python3.11/site-packages/sklearn/utils/deprecation.py:151: FutureWarning: 'force_all_finite' was renamed to 'ensure_all_finite' in 1.6 and will be removed in 1.8.\n",
            "  warnings.warn(\n"
          ]
        },
        {
          "name": "stdout",
          "output_type": "stream",
          "text": [
            "Training until validation scores don't improve for 10 rounds\n"
          ]
        },
        {
          "name": "stderr",
          "output_type": "stream",
          "text": [
            "/opt/anaconda3/lib/python3.11/site-packages/sklearn/utils/deprecation.py:151: FutureWarning: 'force_all_finite' was renamed to 'ensure_all_finite' in 1.6 and will be removed in 1.8.\n",
            "  warnings.warn(\n",
            "[I 2025-02-15 15:47:30,013] Trial 185 finished with value: 1513.8603231247828 and parameters: {'learning_rate': 0.07356435717771596, 'num_leaves': 23, 'max_depth': 4, 'min_child_samples': 23, 'subsample': 0.818091496007407, 'colsample_bytree': 0.5797928868877349, 'reg_alpha': 9.808625552690486, 'reg_lambda': 4.671628221926874}. Best is trial 131 with value: 1513.596501576817.\n"
          ]
        },
        {
          "name": "stdout",
          "output_type": "stream",
          "text": [
            "Early stopping, best iteration is:\n",
            "[87]\tvalid_0's rmse: 38.9084\n"
          ]
        },
        {
          "name": "stderr",
          "output_type": "stream",
          "text": [
            "/opt/anaconda3/lib/python3.11/site-packages/sklearn/utils/deprecation.py:151: FutureWarning: 'force_all_finite' was renamed to 'ensure_all_finite' in 1.6 and will be removed in 1.8.\n",
            "  warnings.warn(\n"
          ]
        },
        {
          "name": "stdout",
          "output_type": "stream",
          "text": [
            "Training until validation scores don't improve for 10 rounds\n"
          ]
        },
        {
          "name": "stderr",
          "output_type": "stream",
          "text": [
            "/opt/anaconda3/lib/python3.11/site-packages/sklearn/utils/deprecation.py:151: FutureWarning: 'force_all_finite' was renamed to 'ensure_all_finite' in 1.6 and will be removed in 1.8.\n",
            "  warnings.warn(\n",
            "[I 2025-02-15 15:47:31,772] Trial 186 finished with value: 1514.067741662367 and parameters: {'learning_rate': 0.07929470804267098, 'num_leaves': 25, 'max_depth': 3, 'min_child_samples': 32, 'subsample': 0.8052303192288474, 'colsample_bytree': 0.5701194042031206, 'reg_alpha': 9.574527819898718, 'reg_lambda': 3.6286348357480938}. Best is trial 131 with value: 1513.596501576817.\n"
          ]
        },
        {
          "name": "stdout",
          "output_type": "stream",
          "text": [
            "Did not meet early stopping. Best iteration is:\n",
            "[97]\tvalid_0's rmse: 38.911\n"
          ]
        },
        {
          "name": "stderr",
          "output_type": "stream",
          "text": [
            "/opt/anaconda3/lib/python3.11/site-packages/sklearn/utils/deprecation.py:151: FutureWarning: 'force_all_finite' was renamed to 'ensure_all_finite' in 1.6 and will be removed in 1.8.\n",
            "  warnings.warn(\n"
          ]
        },
        {
          "name": "stdout",
          "output_type": "stream",
          "text": [
            "Training until validation scores don't improve for 10 rounds\n"
          ]
        },
        {
          "name": "stderr",
          "output_type": "stream",
          "text": [
            "/opt/anaconda3/lib/python3.11/site-packages/sklearn/utils/deprecation.py:151: FutureWarning: 'force_all_finite' was renamed to 'ensure_all_finite' in 1.6 and will be removed in 1.8.\n",
            "  warnings.warn(\n",
            "[I 2025-02-15 15:47:33,520] Trial 187 finished with value: 1513.672337308325 and parameters: {'learning_rate': 0.08614092021771368, 'num_leaves': 52, 'max_depth': 4, 'min_child_samples': 47, 'subsample': 0.830653431035488, 'colsample_bytree': 0.590536767957171, 'reg_alpha': 9.157394701991839, 'reg_lambda': 3.819699846582306}. Best is trial 131 with value: 1513.596501576817.\n"
          ]
        },
        {
          "name": "stdout",
          "output_type": "stream",
          "text": [
            "Early stopping, best iteration is:\n",
            "[79]\tvalid_0's rmse: 38.9059\n"
          ]
        },
        {
          "name": "stderr",
          "output_type": "stream",
          "text": [
            "/opt/anaconda3/lib/python3.11/site-packages/sklearn/utils/deprecation.py:151: FutureWarning: 'force_all_finite' was renamed to 'ensure_all_finite' in 1.6 and will be removed in 1.8.\n",
            "  warnings.warn(\n"
          ]
        },
        {
          "name": "stdout",
          "output_type": "stream",
          "text": [
            "Training until validation scores don't improve for 10 rounds\n"
          ]
        },
        {
          "name": "stderr",
          "output_type": "stream",
          "text": [
            "/opt/anaconda3/lib/python3.11/site-packages/sklearn/utils/deprecation.py:151: FutureWarning: 'force_all_finite' was renamed to 'ensure_all_finite' in 1.6 and will be removed in 1.8.\n",
            "  warnings.warn(\n",
            "[I 2025-02-15 15:47:35,738] Trial 188 finished with value: 1513.8506223230581 and parameters: {'learning_rate': 0.08637842117009943, 'num_leaves': 56, 'max_depth': 4, 'min_child_samples': 48, 'subsample': 0.8460096347652607, 'colsample_bytree': 0.5208760352146913, 'reg_alpha': 9.212170249875516, 'reg_lambda': 2.417265481394755}. Best is trial 131 with value: 1513.596501576817.\n"
          ]
        },
        {
          "name": "stdout",
          "output_type": "stream",
          "text": [
            "Did not meet early stopping. Best iteration is:\n",
            "[95]\tvalid_0's rmse: 38.9082\n"
          ]
        },
        {
          "name": "stderr",
          "output_type": "stream",
          "text": [
            "/opt/anaconda3/lib/python3.11/site-packages/sklearn/utils/deprecation.py:151: FutureWarning: 'force_all_finite' was renamed to 'ensure_all_finite' in 1.6 and will be removed in 1.8.\n",
            "  warnings.warn(\n"
          ]
        },
        {
          "name": "stdout",
          "output_type": "stream",
          "text": [
            "Training until validation scores don't improve for 10 rounds\n"
          ]
        },
        {
          "name": "stderr",
          "output_type": "stream",
          "text": [
            "/opt/anaconda3/lib/python3.11/site-packages/sklearn/utils/deprecation.py:151: FutureWarning: 'force_all_finite' was renamed to 'ensure_all_finite' in 1.6 and will be removed in 1.8.\n",
            "  warnings.warn(\n",
            "[I 2025-02-15 15:47:37,175] Trial 189 finished with value: 1514.0125756102502 and parameters: {'learning_rate': 0.08292832442711158, 'num_leaves': 52, 'max_depth': 4, 'min_child_samples': 44, 'subsample': 0.8346434984040939, 'colsample_bytree': 0.7734363933158335, 'reg_alpha': 9.549801974548283, 'reg_lambda': 3.801395884300326}. Best is trial 131 with value: 1513.596501576817.\n"
          ]
        },
        {
          "name": "stdout",
          "output_type": "stream",
          "text": [
            "Early stopping, best iteration is:\n",
            "[75]\tvalid_0's rmse: 38.9103\n"
          ]
        },
        {
          "name": "stderr",
          "output_type": "stream",
          "text": [
            "/opt/anaconda3/lib/python3.11/site-packages/sklearn/utils/deprecation.py:151: FutureWarning: 'force_all_finite' was renamed to 'ensure_all_finite' in 1.6 and will be removed in 1.8.\n",
            "  warnings.warn(\n"
          ]
        },
        {
          "name": "stdout",
          "output_type": "stream",
          "text": [
            "Training until validation scores don't improve for 10 rounds\n"
          ]
        },
        {
          "name": "stderr",
          "output_type": "stream",
          "text": [
            "/opt/anaconda3/lib/python3.11/site-packages/sklearn/utils/deprecation.py:151: FutureWarning: 'force_all_finite' was renamed to 'ensure_all_finite' in 1.6 and will be removed in 1.8.\n",
            "  warnings.warn(\n",
            "[I 2025-02-15 15:47:38,915] Trial 190 finished with value: 1513.8137514328641 and parameters: {'learning_rate': 0.08887680239111523, 'num_leaves': 51, 'max_depth': 4, 'min_child_samples': 59, 'subsample': 0.8285794291747314, 'colsample_bytree': 0.5814370820314885, 'reg_alpha': 8.644760052327518, 'reg_lambda': 1.9900132183287655}. Best is trial 131 with value: 1513.596501576817.\n"
          ]
        },
        {
          "name": "stdout",
          "output_type": "stream",
          "text": [
            "Early stopping, best iteration is:\n",
            "[82]\tvalid_0's rmse: 38.9078\n"
          ]
        },
        {
          "name": "stderr",
          "output_type": "stream",
          "text": [
            "/opt/anaconda3/lib/python3.11/site-packages/sklearn/utils/deprecation.py:151: FutureWarning: 'force_all_finite' was renamed to 'ensure_all_finite' in 1.6 and will be removed in 1.8.\n",
            "  warnings.warn(\n"
          ]
        },
        {
          "name": "stdout",
          "output_type": "stream",
          "text": [
            "Training until validation scores don't improve for 10 rounds\n"
          ]
        },
        {
          "name": "stderr",
          "output_type": "stream",
          "text": [
            "/opt/anaconda3/lib/python3.11/site-packages/sklearn/utils/deprecation.py:151: FutureWarning: 'force_all_finite' was renamed to 'ensure_all_finite' in 1.6 and will be removed in 1.8.\n",
            "  warnings.warn(\n",
            "[I 2025-02-15 15:47:40,724] Trial 191 finished with value: 1513.7883577921698 and parameters: {'learning_rate': 0.08091034681285399, 'num_leaves': 47, 'max_depth': 4, 'min_child_samples': 27, 'subsample': 0.8151969929460162, 'colsample_bytree': 0.614916143963915, 'reg_alpha': 9.997412064146442, 'reg_lambda': 3.111761603551681}. Best is trial 131 with value: 1513.596501576817.\n"
          ]
        },
        {
          "name": "stdout",
          "output_type": "stream",
          "text": [
            "Did not meet early stopping. Best iteration is:\n",
            "[98]\tvalid_0's rmse: 38.9074\n"
          ]
        },
        {
          "name": "stderr",
          "output_type": "stream",
          "text": [
            "/opt/anaconda3/lib/python3.11/site-packages/sklearn/utils/deprecation.py:151: FutureWarning: 'force_all_finite' was renamed to 'ensure_all_finite' in 1.6 and will be removed in 1.8.\n",
            "  warnings.warn(\n"
          ]
        },
        {
          "name": "stdout",
          "output_type": "stream",
          "text": [
            "Training until validation scores don't improve for 10 rounds\n"
          ]
        },
        {
          "name": "stderr",
          "output_type": "stream",
          "text": [
            "/opt/anaconda3/lib/python3.11/site-packages/sklearn/utils/deprecation.py:151: FutureWarning: 'force_all_finite' was renamed to 'ensure_all_finite' in 1.6 and will be removed in 1.8.\n",
            "  warnings.warn(\n",
            "[I 2025-02-15 15:47:42,225] Trial 192 finished with value: 1513.928130703873 and parameters: {'learning_rate': 0.08531220192090987, 'num_leaves': 48, 'max_depth': 4, 'min_child_samples': 27, 'subsample': 0.8188136112499379, 'colsample_bytree': 0.6009197323704334, 'reg_alpha': 9.8501815887145, 'reg_lambda': 4.103228064497587}. Best is trial 131 with value: 1513.596501576817.\n"
          ]
        },
        {
          "name": "stdout",
          "output_type": "stream",
          "text": [
            "Early stopping, best iteration is:\n",
            "[58]\tvalid_0's rmse: 38.9092\n"
          ]
        },
        {
          "name": "stderr",
          "output_type": "stream",
          "text": [
            "/opt/anaconda3/lib/python3.11/site-packages/sklearn/utils/deprecation.py:151: FutureWarning: 'force_all_finite' was renamed to 'ensure_all_finite' in 1.6 and will be removed in 1.8.\n",
            "  warnings.warn(\n"
          ]
        },
        {
          "name": "stdout",
          "output_type": "stream",
          "text": [
            "Training until validation scores don't improve for 10 rounds\n"
          ]
        },
        {
          "name": "stderr",
          "output_type": "stream",
          "text": [
            "/opt/anaconda3/lib/python3.11/site-packages/sklearn/utils/deprecation.py:151: FutureWarning: 'force_all_finite' was renamed to 'ensure_all_finite' in 1.6 and will be removed in 1.8.\n",
            "  warnings.warn(\n",
            "[I 2025-02-15 15:47:43,972] Trial 193 finished with value: 1513.8004318556452 and parameters: {'learning_rate': 0.07591219419191512, 'num_leaves': 49, 'max_depth': 4, 'min_child_samples': 42, 'subsample': 0.810390457854888, 'colsample_bytree': 0.6156543675340337, 'reg_alpha': 9.943634902114974, 'reg_lambda': 2.6729377419019675}. Best is trial 131 with value: 1513.596501576817.\n"
          ]
        },
        {
          "name": "stdout",
          "output_type": "stream",
          "text": [
            "Early stopping, best iteration is:\n",
            "[86]\tvalid_0's rmse: 38.9076\n"
          ]
        },
        {
          "name": "stderr",
          "output_type": "stream",
          "text": [
            "/opt/anaconda3/lib/python3.11/site-packages/sklearn/utils/deprecation.py:151: FutureWarning: 'force_all_finite' was renamed to 'ensure_all_finite' in 1.6 and will be removed in 1.8.\n",
            "  warnings.warn(\n"
          ]
        },
        {
          "name": "stdout",
          "output_type": "stream",
          "text": [
            "Training until validation scores don't improve for 10 rounds\n"
          ]
        },
        {
          "name": "stderr",
          "output_type": "stream",
          "text": [
            "/opt/anaconda3/lib/python3.11/site-packages/sklearn/utils/deprecation.py:151: FutureWarning: 'force_all_finite' was renamed to 'ensure_all_finite' in 1.6 and will be removed in 1.8.\n",
            "  warnings.warn(\n",
            "[I 2025-02-15 15:47:45,802] Trial 194 finished with value: 1513.8721849510796 and parameters: {'learning_rate': 0.07498174472031656, 'num_leaves': 50, 'max_depth': 4, 'min_child_samples': 42, 'subsample': 0.8104494248139319, 'colsample_bytree': 0.6144727551697858, 'reg_alpha': 9.939310297904202, 'reg_lambda': 2.6173277118818157}. Best is trial 131 with value: 1513.596501576817.\n"
          ]
        },
        {
          "name": "stdout",
          "output_type": "stream",
          "text": [
            "Did not meet early stopping. Best iteration is:\n",
            "[97]\tvalid_0's rmse: 38.9085\n"
          ]
        },
        {
          "name": "stderr",
          "output_type": "stream",
          "text": [
            "/opt/anaconda3/lib/python3.11/site-packages/sklearn/utils/deprecation.py:151: FutureWarning: 'force_all_finite' was renamed to 'ensure_all_finite' in 1.6 and will be removed in 1.8.\n",
            "  warnings.warn(\n"
          ]
        },
        {
          "name": "stdout",
          "output_type": "stream",
          "text": [
            "Training until validation scores don't improve for 10 rounds\n"
          ]
        },
        {
          "name": "stderr",
          "output_type": "stream",
          "text": [
            "/opt/anaconda3/lib/python3.11/site-packages/sklearn/utils/deprecation.py:151: FutureWarning: 'force_all_finite' was renamed to 'ensure_all_finite' in 1.6 and will be removed in 1.8.\n",
            "  warnings.warn(\n",
            "[I 2025-02-15 15:47:47,649] Trial 195 finished with value: 1513.8852667858805 and parameters: {'learning_rate': 0.07602071458237362, 'num_leaves': 47, 'max_depth': 4, 'min_child_samples': 49, 'subsample': 0.8214789807720285, 'colsample_bytree': 0.5981502161010019, 'reg_alpha': 9.696406808121235, 'reg_lambda': 3.121783461770022}. Best is trial 131 with value: 1513.596501576817.\n"
          ]
        },
        {
          "name": "stdout",
          "output_type": "stream",
          "text": [
            "Early stopping, best iteration is:\n",
            "[90]\tvalid_0's rmse: 38.9087\n"
          ]
        },
        {
          "name": "stderr",
          "output_type": "stream",
          "text": [
            "/opt/anaconda3/lib/python3.11/site-packages/sklearn/utils/deprecation.py:151: FutureWarning: 'force_all_finite' was renamed to 'ensure_all_finite' in 1.6 and will be removed in 1.8.\n",
            "  warnings.warn(\n"
          ]
        },
        {
          "name": "stdout",
          "output_type": "stream",
          "text": [
            "Training until validation scores don't improve for 10 rounds\n"
          ]
        },
        {
          "name": "stderr",
          "output_type": "stream",
          "text": [
            "/opt/anaconda3/lib/python3.11/site-packages/sklearn/utils/deprecation.py:151: FutureWarning: 'force_all_finite' was renamed to 'ensure_all_finite' in 1.6 and will be removed in 1.8.\n",
            "  warnings.warn(\n",
            "[I 2025-02-15 15:47:49,468] Trial 196 finished with value: 1513.880193885838 and parameters: {'learning_rate': 0.08182194688194895, 'num_leaves': 49, 'max_depth': 4, 'min_child_samples': 46, 'subsample': 0.8031087478132288, 'colsample_bytree': 0.6158820178577695, 'reg_alpha': 9.68280829601843, 'reg_lambda': 2.926308933211006}. Best is trial 131 with value: 1513.596501576817.\n"
          ]
        },
        {
          "name": "stdout",
          "output_type": "stream",
          "text": [
            "Did not meet early stopping. Best iteration is:\n",
            "[93]\tvalid_0's rmse: 38.9086\n"
          ]
        },
        {
          "name": "stderr",
          "output_type": "stream",
          "text": [
            "/opt/anaconda3/lib/python3.11/site-packages/sklearn/utils/deprecation.py:151: FutureWarning: 'force_all_finite' was renamed to 'ensure_all_finite' in 1.6 and will be removed in 1.8.\n",
            "  warnings.warn(\n"
          ]
        },
        {
          "name": "stdout",
          "output_type": "stream",
          "text": [
            "Training until validation scores don't improve for 10 rounds\n"
          ]
        },
        {
          "name": "stderr",
          "output_type": "stream",
          "text": [
            "/opt/anaconda3/lib/python3.11/site-packages/sklearn/utils/deprecation.py:151: FutureWarning: 'force_all_finite' was renamed to 'ensure_all_finite' in 1.6 and will be removed in 1.8.\n",
            "  warnings.warn(\n",
            "[I 2025-02-15 15:47:51,142] Trial 197 finished with value: 1513.9947316700268 and parameters: {'learning_rate': 0.07820271633726487, 'num_leaves': 53, 'max_depth': 4, 'min_child_samples': 53, 'subsample': 0.8311121308732644, 'colsample_bytree': 0.5667704621848425, 'reg_alpha': 9.284244908590647, 'reg_lambda': 3.8357208980235997}. Best is trial 131 with value: 1513.596501576817.\n"
          ]
        },
        {
          "name": "stdout",
          "output_type": "stream",
          "text": [
            "Early stopping, best iteration is:\n",
            "[59]\tvalid_0's rmse: 38.9101\n"
          ]
        },
        {
          "name": "stderr",
          "output_type": "stream",
          "text": [
            "/opt/anaconda3/lib/python3.11/site-packages/sklearn/utils/deprecation.py:151: FutureWarning: 'force_all_finite' was renamed to 'ensure_all_finite' in 1.6 and will be removed in 1.8.\n",
            "  warnings.warn(\n"
          ]
        },
        {
          "name": "stdout",
          "output_type": "stream",
          "text": [
            "Training until validation scores don't improve for 10 rounds\n"
          ]
        },
        {
          "name": "stderr",
          "output_type": "stream",
          "text": [
            "/opt/anaconda3/lib/python3.11/site-packages/sklearn/utils/deprecation.py:151: FutureWarning: 'force_all_finite' was renamed to 'ensure_all_finite' in 1.6 and will be removed in 1.8.\n",
            "  warnings.warn(\n",
            "[I 2025-02-15 15:47:52,776] Trial 198 finished with value: 1513.7452466329032 and parameters: {'learning_rate': 0.0839993726074629, 'num_leaves': 51, 'max_depth': 4, 'min_child_samples': 39, 'subsample': 0.8142276711818901, 'colsample_bytree': 0.6343853426300223, 'reg_alpha': 9.995249342049975, 'reg_lambda': 4.4508481283850845}. Best is trial 131 with value: 1513.596501576817.\n"
          ]
        },
        {
          "name": "stdout",
          "output_type": "stream",
          "text": [
            "Early stopping, best iteration is:\n",
            "[75]\tvalid_0's rmse: 38.9069\n"
          ]
        },
        {
          "name": "stderr",
          "output_type": "stream",
          "text": [
            "/opt/anaconda3/lib/python3.11/site-packages/sklearn/utils/deprecation.py:151: FutureWarning: 'force_all_finite' was renamed to 'ensure_all_finite' in 1.6 and will be removed in 1.8.\n",
            "  warnings.warn(\n"
          ]
        },
        {
          "name": "stdout",
          "output_type": "stream",
          "text": [
            "Training until validation scores don't improve for 10 rounds\n"
          ]
        },
        {
          "name": "stderr",
          "output_type": "stream",
          "text": [
            "/opt/anaconda3/lib/python3.11/site-packages/sklearn/utils/deprecation.py:151: FutureWarning: 'force_all_finite' was renamed to 'ensure_all_finite' in 1.6 and will be removed in 1.8.\n",
            "  warnings.warn(\n",
            "[I 2025-02-15 15:47:54,454] Trial 199 finished with value: 1514.063431945195 and parameters: {'learning_rate': 0.08096667673599765, 'num_leaves': 56, 'max_depth': 3, 'min_child_samples': 39, 'subsample': 0.8242647389954135, 'colsample_bytree': 0.6309992105707759, 'reg_alpha': 9.95185211035918, 'reg_lambda': 4.133065428924704}. Best is trial 131 with value: 1513.596501576817.\n"
          ]
        },
        {
          "name": "stdout",
          "output_type": "stream",
          "text": [
            "Did not meet early stopping. Best iteration is:\n",
            "[93]\tvalid_0's rmse: 38.911\n"
          ]
        },
        {
          "name": "stderr",
          "output_type": "stream",
          "text": [
            "/opt/anaconda3/lib/python3.11/site-packages/sklearn/utils/deprecation.py:151: FutureWarning: 'force_all_finite' was renamed to 'ensure_all_finite' in 1.6 and will be removed in 1.8.\n",
            "  warnings.warn(\n"
          ]
        },
        {
          "name": "stdout",
          "output_type": "stream",
          "text": [
            "Training until validation scores don't improve for 10 rounds\n"
          ]
        },
        {
          "name": "stderr",
          "output_type": "stream",
          "text": [
            "/opt/anaconda3/lib/python3.11/site-packages/sklearn/utils/deprecation.py:151: FutureWarning: 'force_all_finite' was renamed to 'ensure_all_finite' in 1.6 and will be removed in 1.8.\n",
            "  warnings.warn(\n",
            "[I 2025-02-15 15:47:55,834] Trial 200 finished with value: 1514.162592262629 and parameters: {'learning_rate': 0.0841877476948291, 'num_leaves': 47, 'max_depth': 10, 'min_child_samples': 43, 'subsample': 0.8142379617040666, 'colsample_bytree': 0.6215988226358742, 'reg_alpha': 9.976552218216291, 'reg_lambda': 2.5213697200090626}. Best is trial 131 with value: 1513.596501576817.\n"
          ]
        },
        {
          "name": "stdout",
          "output_type": "stream",
          "text": [
            "Early stopping, best iteration is:\n",
            "[24]\tvalid_0's rmse: 38.9122\n"
          ]
        },
        {
          "name": "stderr",
          "output_type": "stream",
          "text": [
            "/opt/anaconda3/lib/python3.11/site-packages/sklearn/utils/deprecation.py:151: FutureWarning: 'force_all_finite' was renamed to 'ensure_all_finite' in 1.6 and will be removed in 1.8.\n",
            "  warnings.warn(\n"
          ]
        },
        {
          "name": "stdout",
          "output_type": "stream",
          "text": [
            "Training until validation scores don't improve for 10 rounds\n"
          ]
        },
        {
          "name": "stderr",
          "output_type": "stream",
          "text": [
            "/opt/anaconda3/lib/python3.11/site-packages/sklearn/utils/deprecation.py:151: FutureWarning: 'force_all_finite' was renamed to 'ensure_all_finite' in 1.6 and will be removed in 1.8.\n",
            "  warnings.warn(\n",
            "[I 2025-02-15 15:47:57,562] Trial 201 finished with value: 1513.8574795314362 and parameters: {'learning_rate': 0.07669626699677248, 'num_leaves': 51, 'max_depth': 4, 'min_child_samples': 36, 'subsample': 0.8050875254838815, 'colsample_bytree': 0.6081094967259644, 'reg_alpha': 9.659370307446, 'reg_lambda': 5.010347183851112}. Best is trial 131 with value: 1513.596501576817.\n"
          ]
        },
        {
          "name": "stdout",
          "output_type": "stream",
          "text": [
            "Early stopping, best iteration is:\n",
            "[76]\tvalid_0's rmse: 38.9083\n"
          ]
        },
        {
          "name": "stderr",
          "output_type": "stream",
          "text": [
            "/opt/anaconda3/lib/python3.11/site-packages/sklearn/utils/deprecation.py:151: FutureWarning: 'force_all_finite' was renamed to 'ensure_all_finite' in 1.6 and will be removed in 1.8.\n",
            "  warnings.warn(\n"
          ]
        },
        {
          "name": "stdout",
          "output_type": "stream",
          "text": [
            "Training until validation scores don't improve for 10 rounds\n"
          ]
        },
        {
          "name": "stderr",
          "output_type": "stream",
          "text": [
            "/opt/anaconda3/lib/python3.11/site-packages/sklearn/utils/deprecation.py:151: FutureWarning: 'force_all_finite' was renamed to 'ensure_all_finite' in 1.6 and will be removed in 1.8.\n",
            "  warnings.warn(\n",
            "[I 2025-02-15 15:47:59,445] Trial 202 finished with value: 1513.8282410565712 and parameters: {'learning_rate': 0.08279596937986458, 'num_leaves': 52, 'max_depth': 4, 'min_child_samples': 40, 'subsample': 0.8113530199997048, 'colsample_bytree': 0.5994462695996344, 'reg_alpha': 9.466736879183955, 'reg_lambda': 4.733142173837114}. Best is trial 131 with value: 1513.596501576817.\n"
          ]
        },
        {
          "name": "stdout",
          "output_type": "stream",
          "text": [
            "Did not meet early stopping. Best iteration is:\n",
            "[92]\tvalid_0's rmse: 38.9079\n"
          ]
        },
        {
          "name": "stderr",
          "output_type": "stream",
          "text": [
            "/opt/anaconda3/lib/python3.11/site-packages/sklearn/utils/deprecation.py:151: FutureWarning: 'force_all_finite' was renamed to 'ensure_all_finite' in 1.6 and will be removed in 1.8.\n",
            "  warnings.warn(\n"
          ]
        },
        {
          "name": "stdout",
          "output_type": "stream",
          "text": [
            "Training until validation scores don't improve for 10 rounds\n"
          ]
        },
        {
          "name": "stderr",
          "output_type": "stream",
          "text": [
            "/opt/anaconda3/lib/python3.11/site-packages/sklearn/utils/deprecation.py:151: FutureWarning: 'force_all_finite' was renamed to 'ensure_all_finite' in 1.6 and will be removed in 1.8.\n",
            "  warnings.warn(\n",
            "[I 2025-02-15 15:48:01,326] Trial 203 finished with value: 1513.941192026473 and parameters: {'learning_rate': 0.08632114342506197, 'num_leaves': 49, 'max_depth': 4, 'min_child_samples': 34, 'subsample': 0.787107276382159, 'colsample_bytree': 0.6398721725671062, 'reg_alpha': 8.919753441133643, 'reg_lambda': 3.226250138442757}. Best is trial 131 with value: 1513.596501576817.\n"
          ]
        },
        {
          "name": "stdout",
          "output_type": "stream",
          "text": [
            "Did not meet early stopping. Best iteration is:\n",
            "[93]\tvalid_0's rmse: 38.9094\n"
          ]
        },
        {
          "name": "stderr",
          "output_type": "stream",
          "text": [
            "/opt/anaconda3/lib/python3.11/site-packages/sklearn/utils/deprecation.py:151: FutureWarning: 'force_all_finite' was renamed to 'ensure_all_finite' in 1.6 and will be removed in 1.8.\n",
            "  warnings.warn(\n"
          ]
        },
        {
          "name": "stdout",
          "output_type": "stream",
          "text": [
            "Training until validation scores don't improve for 10 rounds\n"
          ]
        },
        {
          "name": "stderr",
          "output_type": "stream",
          "text": [
            "/opt/anaconda3/lib/python3.11/site-packages/sklearn/utils/deprecation.py:151: FutureWarning: 'force_all_finite' was renamed to 'ensure_all_finite' in 1.6 and will be removed in 1.8.\n",
            "  warnings.warn(\n",
            "[I 2025-02-15 15:48:03,041] Trial 204 finished with value: 1513.9112617635194 and parameters: {'learning_rate': 0.08064797231812282, 'num_leaves': 95, 'max_depth': 4, 'min_child_samples': 31, 'subsample': 0.7998380190169095, 'colsample_bytree': 0.5892659753747012, 'reg_alpha': 9.418071736282698, 'reg_lambda': 4.3003667156809575}. Best is trial 131 with value: 1513.596501576817.\n"
          ]
        },
        {
          "name": "stdout",
          "output_type": "stream",
          "text": [
            "Early stopping, best iteration is:\n",
            "[84]\tvalid_0's rmse: 38.909\n"
          ]
        },
        {
          "name": "stderr",
          "output_type": "stream",
          "text": [
            "/opt/anaconda3/lib/python3.11/site-packages/sklearn/utils/deprecation.py:151: FutureWarning: 'force_all_finite' was renamed to 'ensure_all_finite' in 1.6 and will be removed in 1.8.\n",
            "  warnings.warn(\n"
          ]
        },
        {
          "name": "stdout",
          "output_type": "stream",
          "text": [
            "Training until validation scores don't improve for 10 rounds\n"
          ]
        },
        {
          "name": "stderr",
          "output_type": "stream",
          "text": [
            "/opt/anaconda3/lib/python3.11/site-packages/sklearn/utils/deprecation.py:151: FutureWarning: 'force_all_finite' was renamed to 'ensure_all_finite' in 1.6 and will be removed in 1.8.\n",
            "  warnings.warn(\n",
            "[I 2025-02-15 15:48:04,929] Trial 205 finished with value: 1513.8990675875955 and parameters: {'learning_rate': 0.07852928914476057, 'num_leaves': 54, 'max_depth': 4, 'min_child_samples': 46, 'subsample': 0.8184040055160878, 'colsample_bytree': 0.5893468460778275, 'reg_alpha': 9.095619578649684, 'reg_lambda': 2.7384617380063068}. Best is trial 131 with value: 1513.596501576817.\n"
          ]
        },
        {
          "name": "stdout",
          "output_type": "stream",
          "text": [
            "Early stopping, best iteration is:\n",
            "[80]\tvalid_0's rmse: 38.9089\n"
          ]
        },
        {
          "name": "stderr",
          "output_type": "stream",
          "text": [
            "/opt/anaconda3/lib/python3.11/site-packages/sklearn/utils/deprecation.py:151: FutureWarning: 'force_all_finite' was renamed to 'ensure_all_finite' in 1.6 and will be removed in 1.8.\n",
            "  warnings.warn(\n"
          ]
        },
        {
          "name": "stdout",
          "output_type": "stream",
          "text": [
            "Training until validation scores don't improve for 10 rounds\n"
          ]
        },
        {
          "name": "stderr",
          "output_type": "stream",
          "text": [
            "/opt/anaconda3/lib/python3.11/site-packages/sklearn/utils/deprecation.py:151: FutureWarning: 'force_all_finite' was renamed to 'ensure_all_finite' in 1.6 and will be removed in 1.8.\n",
            "  warnings.warn(\n",
            "[I 2025-02-15 15:48:06,817] Trial 206 finished with value: 1513.7413004724624 and parameters: {'learning_rate': 0.08327091029572467, 'num_leaves': 48, 'max_depth': 4, 'min_child_samples': 24, 'subsample': 0.8352515194486193, 'colsample_bytree': 0.5919218867509645, 'reg_alpha': 6.831588739422262, 'reg_lambda': 2.322213535661793}. Best is trial 131 with value: 1513.596501576817.\n"
          ]
        },
        {
          "name": "stdout",
          "output_type": "stream",
          "text": [
            "Did not meet early stopping. Best iteration is:\n",
            "[94]\tvalid_0's rmse: 38.9068\n"
          ]
        },
        {
          "name": "stderr",
          "output_type": "stream",
          "text": [
            "/opt/anaconda3/lib/python3.11/site-packages/sklearn/utils/deprecation.py:151: FutureWarning: 'force_all_finite' was renamed to 'ensure_all_finite' in 1.6 and will be removed in 1.8.\n",
            "  warnings.warn(\n"
          ]
        },
        {
          "name": "stdout",
          "output_type": "stream",
          "text": [
            "Training until validation scores don't improve for 10 rounds\n"
          ]
        },
        {
          "name": "stderr",
          "output_type": "stream",
          "text": [
            "/opt/anaconda3/lib/python3.11/site-packages/sklearn/utils/deprecation.py:151: FutureWarning: 'force_all_finite' was renamed to 'ensure_all_finite' in 1.6 and will be removed in 1.8.\n",
            "  warnings.warn(\n",
            "[I 2025-02-15 15:48:08,620] Trial 207 finished with value: 1513.8593929083706 and parameters: {'learning_rate': 0.08362994581214873, 'num_leaves': 46, 'max_depth': 4, 'min_child_samples': 38, 'subsample': 0.8395434172856713, 'colsample_bytree': 0.5725349667064406, 'reg_alpha': 6.699748297695806, 'reg_lambda': 4.485287682768489}. Best is trial 131 with value: 1513.596501576817.\n"
          ]
        },
        {
          "name": "stdout",
          "output_type": "stream",
          "text": [
            "Early stopping, best iteration is:\n",
            "[78]\tvalid_0's rmse: 38.9083\n"
          ]
        },
        {
          "name": "stderr",
          "output_type": "stream",
          "text": [
            "/opt/anaconda3/lib/python3.11/site-packages/sklearn/utils/deprecation.py:151: FutureWarning: 'force_all_finite' was renamed to 'ensure_all_finite' in 1.6 and will be removed in 1.8.\n",
            "  warnings.warn(\n"
          ]
        },
        {
          "name": "stdout",
          "output_type": "stream",
          "text": [
            "Training until validation scores don't improve for 10 rounds\n"
          ]
        },
        {
          "name": "stderr",
          "output_type": "stream",
          "text": [
            "/opt/anaconda3/lib/python3.11/site-packages/sklearn/utils/deprecation.py:151: FutureWarning: 'force_all_finite' was renamed to 'ensure_all_finite' in 1.6 and will be removed in 1.8.\n",
            "  warnings.warn(\n",
            "[I 2025-02-15 15:48:10,480] Trial 208 finished with value: 1513.8410170655136 and parameters: {'learning_rate': 0.08171868654361343, 'num_leaves': 48, 'max_depth': 4, 'min_child_samples': 51, 'subsample': 0.8477626029669753, 'colsample_bytree': 0.5883367609478735, 'reg_alpha': 8.438644426711056, 'reg_lambda': 2.409031660396436}. Best is trial 131 with value: 1513.596501576817.\n"
          ]
        },
        {
          "name": "stdout",
          "output_type": "stream",
          "text": [
            "Did not meet early stopping. Best iteration is:\n",
            "[98]\tvalid_0's rmse: 38.9081\n"
          ]
        },
        {
          "name": "stderr",
          "output_type": "stream",
          "text": [
            "/opt/anaconda3/lib/python3.11/site-packages/sklearn/utils/deprecation.py:151: FutureWarning: 'force_all_finite' was renamed to 'ensure_all_finite' in 1.6 and will be removed in 1.8.\n",
            "  warnings.warn(\n"
          ]
        },
        {
          "name": "stdout",
          "output_type": "stream",
          "text": [
            "Training until validation scores don't improve for 10 rounds\n"
          ]
        },
        {
          "name": "stderr",
          "output_type": "stream",
          "text": [
            "/opt/anaconda3/lib/python3.11/site-packages/sklearn/utils/deprecation.py:151: FutureWarning: 'force_all_finite' was renamed to 'ensure_all_finite' in 1.6 and will be removed in 1.8.\n",
            "  warnings.warn(\n",
            "[I 2025-02-15 15:48:12,341] Trial 209 finished with value: 1513.8496187111734 and parameters: {'learning_rate': 0.0765305422338167, 'num_leaves': 20, 'max_depth': 4, 'min_child_samples': 56, 'subsample': 0.8318422180859415, 'colsample_bytree': 0.5598854379744489, 'reg_alpha': 6.79068685979731, 'reg_lambda': 2.2081085589942093}. Best is trial 131 with value: 1513.596501576817.\n"
          ]
        },
        {
          "name": "stdout",
          "output_type": "stream",
          "text": [
            "Early stopping, best iteration is:\n",
            "[75]\tvalid_0's rmse: 38.9082\n"
          ]
        },
        {
          "name": "stderr",
          "output_type": "stream",
          "text": [
            "/opt/anaconda3/lib/python3.11/site-packages/sklearn/utils/deprecation.py:151: FutureWarning: 'force_all_finite' was renamed to 'ensure_all_finite' in 1.6 and will be removed in 1.8.\n",
            "  warnings.warn(\n"
          ]
        },
        {
          "name": "stdout",
          "output_type": "stream",
          "text": [
            "Training until validation scores don't improve for 10 rounds\n"
          ]
        },
        {
          "name": "stderr",
          "output_type": "stream",
          "text": [
            "/opt/anaconda3/lib/python3.11/site-packages/sklearn/utils/deprecation.py:151: FutureWarning: 'force_all_finite' was renamed to 'ensure_all_finite' in 1.6 and will be removed in 1.8.\n",
            "  warnings.warn(\n",
            "[I 2025-02-15 15:48:14,221] Trial 210 finished with value: 1513.9243613014867 and parameters: {'learning_rate': 0.07950283869938422, 'num_leaves': 44, 'max_depth': 4, 'min_child_samples': 24, 'subsample': 0.8268632152601052, 'colsample_bytree': 0.6105247689501292, 'reg_alpha': 8.755355348355787, 'reg_lambda': 2.3273095885979624}. Best is trial 131 with value: 1513.596501576817.\n"
          ]
        },
        {
          "name": "stdout",
          "output_type": "stream",
          "text": [
            "Early stopping, best iteration is:\n",
            "[87]\tvalid_0's rmse: 38.9092\n"
          ]
        },
        {
          "name": "stderr",
          "output_type": "stream",
          "text": [
            "/opt/anaconda3/lib/python3.11/site-packages/sklearn/utils/deprecation.py:151: FutureWarning: 'force_all_finite' was renamed to 'ensure_all_finite' in 1.6 and will be removed in 1.8.\n",
            "  warnings.warn(\n"
          ]
        },
        {
          "name": "stdout",
          "output_type": "stream",
          "text": [
            "Training until validation scores don't improve for 10 rounds\n"
          ]
        },
        {
          "name": "stderr",
          "output_type": "stream",
          "text": [
            "/opt/anaconda3/lib/python3.11/site-packages/sklearn/utils/deprecation.py:151: FutureWarning: 'force_all_finite' was renamed to 'ensure_all_finite' in 1.6 and will be removed in 1.8.\n",
            "  warnings.warn(\n",
            "[I 2025-02-15 15:48:15,884] Trial 211 finished with value: 1513.7760576415083 and parameters: {'learning_rate': 0.08507448498192444, 'num_leaves': 50, 'max_depth': 4, 'min_child_samples': 28, 'subsample': 0.8083119900050935, 'colsample_bytree': 0.5992455912599776, 'reg_alpha': 7.0999697626580955, 'reg_lambda': 2.9573487052658978}. Best is trial 131 with value: 1513.596501576817.\n"
          ]
        },
        {
          "name": "stdout",
          "output_type": "stream",
          "text": [
            "Early stopping, best iteration is:\n",
            "[75]\tvalid_0's rmse: 38.9073\n"
          ]
        },
        {
          "name": "stderr",
          "output_type": "stream",
          "text": [
            "/opt/anaconda3/lib/python3.11/site-packages/sklearn/utils/deprecation.py:151: FutureWarning: 'force_all_finite' was renamed to 'ensure_all_finite' in 1.6 and will be removed in 1.8.\n",
            "  warnings.warn(\n"
          ]
        },
        {
          "name": "stdout",
          "output_type": "stream",
          "text": [
            "Training until validation scores don't improve for 10 rounds\n"
          ]
        },
        {
          "name": "stderr",
          "output_type": "stream",
          "text": [
            "/opt/anaconda3/lib/python3.11/site-packages/sklearn/utils/deprecation.py:151: FutureWarning: 'force_all_finite' was renamed to 'ensure_all_finite' in 1.6 and will be removed in 1.8.\n",
            "  warnings.warn(\n",
            "[I 2025-02-15 15:48:17,692] Trial 212 finished with value: 1513.7751313329265 and parameters: {'learning_rate': 0.08507256370964478, 'num_leaves': 47, 'max_depth': 4, 'min_child_samples': 29, 'subsample': 0.8163614671268622, 'colsample_bytree': 0.5928355221338812, 'reg_alpha': 6.911382930742029, 'reg_lambda': 2.761470373563097}. Best is trial 131 with value: 1513.596501576817.\n"
          ]
        },
        {
          "name": "stdout",
          "output_type": "stream",
          "text": [
            "Early stopping, best iteration is:\n",
            "[75]\tvalid_0's rmse: 38.9073\n"
          ]
        },
        {
          "name": "stderr",
          "output_type": "stream",
          "text": [
            "/opt/anaconda3/lib/python3.11/site-packages/sklearn/utils/deprecation.py:151: FutureWarning: 'force_all_finite' was renamed to 'ensure_all_finite' in 1.6 and will be removed in 1.8.\n",
            "  warnings.warn(\n"
          ]
        },
        {
          "name": "stdout",
          "output_type": "stream",
          "text": [
            "Training until validation scores don't improve for 10 rounds\n"
          ]
        },
        {
          "name": "stderr",
          "output_type": "stream",
          "text": [
            "/opt/anaconda3/lib/python3.11/site-packages/sklearn/utils/deprecation.py:151: FutureWarning: 'force_all_finite' was renamed to 'ensure_all_finite' in 1.6 and will be removed in 1.8.\n",
            "  warnings.warn(\n",
            "[I 2025-02-15 15:48:19,431] Trial 213 finished with value: 1513.9983332030283 and parameters: {'learning_rate': 0.08414942834696355, 'num_leaves': 49, 'max_depth': 4, 'min_child_samples': 29, 'subsample': 0.8109100310425805, 'colsample_bytree': 0.5948207982973678, 'reg_alpha': 6.432822678279536, 'reg_lambda': 2.753763088550306}. Best is trial 131 with value: 1513.596501576817.\n"
          ]
        },
        {
          "name": "stdout",
          "output_type": "stream",
          "text": [
            "Early stopping, best iteration is:\n",
            "[78]\tvalid_0's rmse: 38.9101\n"
          ]
        },
        {
          "name": "stderr",
          "output_type": "stream",
          "text": [
            "/opt/anaconda3/lib/python3.11/site-packages/sklearn/utils/deprecation.py:151: FutureWarning: 'force_all_finite' was renamed to 'ensure_all_finite' in 1.6 and will be removed in 1.8.\n",
            "  warnings.warn(\n"
          ]
        },
        {
          "name": "stdout",
          "output_type": "stream",
          "text": [
            "Training until validation scores don't improve for 10 rounds\n"
          ]
        },
        {
          "name": "stderr",
          "output_type": "stream",
          "text": [
            "/opt/anaconda3/lib/python3.11/site-packages/sklearn/utils/deprecation.py:151: FutureWarning: 'force_all_finite' was renamed to 'ensure_all_finite' in 1.6 and will be removed in 1.8.\n",
            "  warnings.warn(\n",
            "[I 2025-02-15 15:48:21,136] Trial 214 finished with value: 1513.8776911508323 and parameters: {'learning_rate': 0.08222253847114246, 'num_leaves': 46, 'max_depth': 4, 'min_child_samples': 22, 'subsample': 0.7909806931258158, 'colsample_bytree': 0.6036273005589221, 'reg_alpha': 6.942426443394864, 'reg_lambda': 2.8860871490086755}. Best is trial 131 with value: 1513.596501576817.\n"
          ]
        },
        {
          "name": "stdout",
          "output_type": "stream",
          "text": [
            "Early stopping, best iteration is:\n",
            "[80]\tvalid_0's rmse: 38.9086\n"
          ]
        },
        {
          "name": "stderr",
          "output_type": "stream",
          "text": [
            "/opt/anaconda3/lib/python3.11/site-packages/sklearn/utils/deprecation.py:151: FutureWarning: 'force_all_finite' was renamed to 'ensure_all_finite' in 1.6 and will be removed in 1.8.\n",
            "  warnings.warn(\n"
          ]
        },
        {
          "name": "stdout",
          "output_type": "stream",
          "text": [
            "Training until validation scores don't improve for 10 rounds\n"
          ]
        },
        {
          "name": "stderr",
          "output_type": "stream",
          "text": [
            "/opt/anaconda3/lib/python3.11/site-packages/sklearn/utils/deprecation.py:151: FutureWarning: 'force_all_finite' was renamed to 'ensure_all_finite' in 1.6 and will be removed in 1.8.\n",
            "  warnings.warn(\n",
            "[I 2025-02-15 15:48:22,935] Trial 215 finished with value: 1513.8389025136953 and parameters: {'learning_rate': 0.08090816162384794, 'num_leaves': 52, 'max_depth': 4, 'min_child_samples': 30, 'subsample': 0.7989001996900194, 'colsample_bytree': 0.6170259241763845, 'reg_alpha': 7.147313306333141, 'reg_lambda': 3.0029548266719446}. Best is trial 131 with value: 1513.596501576817.\n"
          ]
        },
        {
          "name": "stdout",
          "output_type": "stream",
          "text": [
            "Early stopping, best iteration is:\n",
            "[76]\tvalid_0's rmse: 38.9081\n"
          ]
        },
        {
          "name": "stderr",
          "output_type": "stream",
          "text": [
            "/opt/anaconda3/lib/python3.11/site-packages/sklearn/utils/deprecation.py:151: FutureWarning: 'force_all_finite' was renamed to 'ensure_all_finite' in 1.6 and will be removed in 1.8.\n",
            "  warnings.warn(\n"
          ]
        },
        {
          "name": "stdout",
          "output_type": "stream",
          "text": [
            "Training until validation scores don't improve for 10 rounds\n"
          ]
        },
        {
          "name": "stderr",
          "output_type": "stream",
          "text": [
            "/opt/anaconda3/lib/python3.11/site-packages/sklearn/utils/deprecation.py:151: FutureWarning: 'force_all_finite' was renamed to 'ensure_all_finite' in 1.6 and will be removed in 1.8.\n",
            "  warnings.warn(\n",
            "[I 2025-02-15 15:48:24,650] Trial 216 finished with value: 1514.0227075100454 and parameters: {'learning_rate': 0.08427626474515168, 'num_leaves': 59, 'max_depth': 4, 'min_child_samples': 27, 'subsample': 0.8158052553686623, 'colsample_bytree': 0.5924833324284385, 'reg_alpha': 7.011697510894942, 'reg_lambda': 2.5513671233538058}. Best is trial 131 with value: 1513.596501576817.\n"
          ]
        },
        {
          "name": "stdout",
          "output_type": "stream",
          "text": [
            "Early stopping, best iteration is:\n",
            "[70]\tvalid_0's rmse: 38.9104\n"
          ]
        },
        {
          "name": "stderr",
          "output_type": "stream",
          "text": [
            "/opt/anaconda3/lib/python3.11/site-packages/sklearn/utils/deprecation.py:151: FutureWarning: 'force_all_finite' was renamed to 'ensure_all_finite' in 1.6 and will be removed in 1.8.\n",
            "  warnings.warn(\n"
          ]
        },
        {
          "name": "stdout",
          "output_type": "stream",
          "text": [
            "Training until validation scores don't improve for 10 rounds\n"
          ]
        },
        {
          "name": "stderr",
          "output_type": "stream",
          "text": [
            "/opt/anaconda3/lib/python3.11/site-packages/sklearn/utils/deprecation.py:151: FutureWarning: 'force_all_finite' was renamed to 'ensure_all_finite' in 1.6 and will be removed in 1.8.\n",
            "  warnings.warn(\n",
            "[I 2025-02-15 15:48:26,918] Trial 217 finished with value: 1513.8979319706607 and parameters: {'learning_rate': 0.08574429048657091, 'num_leaves': 48, 'max_depth': 4, 'min_child_samples': 20, 'subsample': 0.8077123230369229, 'colsample_bytree': 0.5773693604851452, 'reg_alpha': 6.125917919042121, 'reg_lambda': 5.302347285983013}. Best is trial 131 with value: 1513.596501576817.\n"
          ]
        },
        {
          "name": "stdout",
          "output_type": "stream",
          "text": [
            "Early stopping, best iteration is:\n",
            "[75]\tvalid_0's rmse: 38.9088\n"
          ]
        },
        {
          "name": "stderr",
          "output_type": "stream",
          "text": [
            "/opt/anaconda3/lib/python3.11/site-packages/sklearn/utils/deprecation.py:151: FutureWarning: 'force_all_finite' was renamed to 'ensure_all_finite' in 1.6 and will be removed in 1.8.\n",
            "  warnings.warn(\n"
          ]
        },
        {
          "name": "stdout",
          "output_type": "stream",
          "text": [
            "Training until validation scores don't improve for 10 rounds\n"
          ]
        },
        {
          "name": "stderr",
          "output_type": "stream",
          "text": [
            "/opt/anaconda3/lib/python3.11/site-packages/sklearn/utils/deprecation.py:151: FutureWarning: 'force_all_finite' was renamed to 'ensure_all_finite' in 1.6 and will be removed in 1.8.\n",
            "  warnings.warn(\n",
            "[I 2025-02-15 15:48:29,370] Trial 218 finished with value: 1514.1370108732076 and parameters: {'learning_rate': 0.03480530789346054, 'num_leaves': 45, 'max_depth': 4, 'min_child_samples': 33, 'subsample': 0.8371356022634493, 'colsample_bytree': 0.6044020963359066, 'reg_alpha': 7.311591286559856, 'reg_lambda': 1.1368914364137745}. Best is trial 131 with value: 1513.596501576817.\n"
          ]
        },
        {
          "name": "stdout",
          "output_type": "stream",
          "text": [
            "Did not meet early stopping. Best iteration is:\n",
            "[97]\tvalid_0's rmse: 38.9119\n"
          ]
        },
        {
          "name": "stderr",
          "output_type": "stream",
          "text": [
            "/opt/anaconda3/lib/python3.11/site-packages/sklearn/utils/deprecation.py:151: FutureWarning: 'force_all_finite' was renamed to 'ensure_all_finite' in 1.6 and will be removed in 1.8.\n",
            "  warnings.warn(\n"
          ]
        },
        {
          "name": "stdout",
          "output_type": "stream",
          "text": [
            "Training until validation scores don't improve for 10 rounds\n"
          ]
        },
        {
          "name": "stderr",
          "output_type": "stream",
          "text": [
            "/opt/anaconda3/lib/python3.11/site-packages/sklearn/utils/deprecation.py:151: FutureWarning: 'force_all_finite' was renamed to 'ensure_all_finite' in 1.6 and will be removed in 1.8.\n",
            "  warnings.warn(\n",
            "[I 2025-02-15 15:48:31,170] Trial 219 finished with value: 1513.777988700988 and parameters: {'learning_rate': 0.07813183056653016, 'num_leaves': 50, 'max_depth': 4, 'min_child_samples': 25, 'subsample': 0.8233513302409804, 'colsample_bytree': 0.5874495088957004, 'reg_alpha': 6.798654165867416, 'reg_lambda': 3.481747278996733}. Best is trial 131 with value: 1513.596501576817.\n"
          ]
        },
        {
          "name": "stdout",
          "output_type": "stream",
          "text": [
            "Early stopping, best iteration is:\n",
            "[75]\tvalid_0's rmse: 38.9073\n"
          ]
        },
        {
          "name": "stderr",
          "output_type": "stream",
          "text": [
            "/opt/anaconda3/lib/python3.11/site-packages/sklearn/utils/deprecation.py:151: FutureWarning: 'force_all_finite' was renamed to 'ensure_all_finite' in 1.6 and will be removed in 1.8.\n",
            "  warnings.warn(\n"
          ]
        },
        {
          "name": "stdout",
          "output_type": "stream",
          "text": [
            "Training until validation scores don't improve for 10 rounds\n"
          ]
        },
        {
          "name": "stderr",
          "output_type": "stream",
          "text": [
            "/opt/anaconda3/lib/python3.11/site-packages/sklearn/utils/deprecation.py:151: FutureWarning: 'force_all_finite' was renamed to 'ensure_all_finite' in 1.6 and will be removed in 1.8.\n",
            "  warnings.warn(\n",
            "[I 2025-02-15 15:48:32,965] Trial 220 finished with value: 1513.885182699003 and parameters: {'learning_rate': 0.07861180293690014, 'num_leaves': 55, 'max_depth': 4, 'min_child_samples': 24, 'subsample': 0.868112470235125, 'colsample_bytree': 0.5821676460632847, 'reg_alpha': 6.3749546520591815, 'reg_lambda': 3.5004047715332596}. Best is trial 131 with value: 1513.596501576817.\n"
          ]
        },
        {
          "name": "stdout",
          "output_type": "stream",
          "text": [
            "Early stopping, best iteration is:\n",
            "[75]\tvalid_0's rmse: 38.9087\n"
          ]
        },
        {
          "name": "stderr",
          "output_type": "stream",
          "text": [
            "/opt/anaconda3/lib/python3.11/site-packages/sklearn/utils/deprecation.py:151: FutureWarning: 'force_all_finite' was renamed to 'ensure_all_finite' in 1.6 and will be removed in 1.8.\n",
            "  warnings.warn(\n"
          ]
        },
        {
          "name": "stdout",
          "output_type": "stream",
          "text": [
            "Training until validation scores don't improve for 10 rounds\n"
          ]
        },
        {
          "name": "stderr",
          "output_type": "stream",
          "text": [
            "/opt/anaconda3/lib/python3.11/site-packages/sklearn/utils/deprecation.py:151: FutureWarning: 'force_all_finite' was renamed to 'ensure_all_finite' in 1.6 and will be removed in 1.8.\n",
            "  warnings.warn(\n",
            "[I 2025-02-15 15:48:34,710] Trial 221 finished with value: 1513.8388539407906 and parameters: {'learning_rate': 0.07386733815357671, 'num_leaves': 50, 'max_depth': 4, 'min_child_samples': 29, 'subsample': 0.8222100739777206, 'colsample_bytree': 0.6279451311684152, 'reg_alpha': 6.999555126778767, 'reg_lambda': 3.7148508878064375}. Best is trial 131 with value: 1513.596501576817.\n"
          ]
        },
        {
          "name": "stdout",
          "output_type": "stream",
          "text": [
            "Early stopping, best iteration is:\n",
            "[79]\tvalid_0's rmse: 38.9081\n"
          ]
        },
        {
          "name": "stderr",
          "output_type": "stream",
          "text": [
            "/opt/anaconda3/lib/python3.11/site-packages/sklearn/utils/deprecation.py:151: FutureWarning: 'force_all_finite' was renamed to 'ensure_all_finite' in 1.6 and will be removed in 1.8.\n",
            "  warnings.warn(\n"
          ]
        },
        {
          "name": "stdout",
          "output_type": "stream",
          "text": [
            "Training until validation scores don't improve for 10 rounds\n"
          ]
        },
        {
          "name": "stderr",
          "output_type": "stream",
          "text": [
            "/opt/anaconda3/lib/python3.11/site-packages/sklearn/utils/deprecation.py:151: FutureWarning: 'force_all_finite' was renamed to 'ensure_all_finite' in 1.6 and will be removed in 1.8.\n",
            "  warnings.warn(\n",
            "[I 2025-02-15 15:48:36,673] Trial 222 finished with value: 1515.018353087208 and parameters: {'learning_rate': 0.010080499992064854, 'num_leaves': 51, 'max_depth': 4, 'min_child_samples': 24, 'subsample': 0.8130020689931678, 'colsample_bytree': 0.5934352493181767, 'reg_alpha': 6.749699958400573, 'reg_lambda': 3.898005549563412}. Best is trial 131 with value: 1513.596501576817.\n"
          ]
        },
        {
          "name": "stdout",
          "output_type": "stream",
          "text": [
            "Did not meet early stopping. Best iteration is:\n",
            "[100]\tvalid_0's rmse: 38.9232\n"
          ]
        },
        {
          "name": "stderr",
          "output_type": "stream",
          "text": [
            "/opt/anaconda3/lib/python3.11/site-packages/sklearn/utils/deprecation.py:151: FutureWarning: 'force_all_finite' was renamed to 'ensure_all_finite' in 1.6 and will be removed in 1.8.\n",
            "  warnings.warn(\n"
          ]
        },
        {
          "name": "stdout",
          "output_type": "stream",
          "text": [
            "Training until validation scores don't improve for 10 rounds\n"
          ]
        },
        {
          "name": "stderr",
          "output_type": "stream",
          "text": [
            "/opt/anaconda3/lib/python3.11/site-packages/sklearn/utils/deprecation.py:151: FutureWarning: 'force_all_finite' was renamed to 'ensure_all_finite' in 1.6 and will be removed in 1.8.\n",
            "  warnings.warn(\n",
            "[I 2025-02-15 15:48:38,764] Trial 223 finished with value: 1513.7759463913492 and parameters: {'learning_rate': 0.07724579894873539, 'num_leaves': 48, 'max_depth': 4, 'min_child_samples': 35, 'subsample': 0.8001459320293486, 'colsample_bytree': 0.6074522501419084, 'reg_alpha': 6.554049808994778, 'reg_lambda': 3.3754267808477976}. Best is trial 131 with value: 1513.596501576817.\n"
          ]
        },
        {
          "name": "stdout",
          "output_type": "stream",
          "text": [
            "Did not meet early stopping. Best iteration is:\n",
            "[99]\tvalid_0's rmse: 38.9073\n"
          ]
        },
        {
          "name": "stderr",
          "output_type": "stream",
          "text": [
            "/opt/anaconda3/lib/python3.11/site-packages/sklearn/utils/deprecation.py:151: FutureWarning: 'force_all_finite' was renamed to 'ensure_all_finite' in 1.6 and will be removed in 1.8.\n",
            "  warnings.warn(\n"
          ]
        },
        {
          "name": "stdout",
          "output_type": "stream",
          "text": [
            "Training until validation scores don't improve for 10 rounds\n"
          ]
        },
        {
          "name": "stderr",
          "output_type": "stream",
          "text": [
            "/opt/anaconda3/lib/python3.11/site-packages/sklearn/utils/deprecation.py:151: FutureWarning: 'force_all_finite' was renamed to 'ensure_all_finite' in 1.6 and will be removed in 1.8.\n",
            "  warnings.warn(\n",
            "[I 2025-02-15 15:48:40,751] Trial 224 finished with value: 1513.7812532956216 and parameters: {'learning_rate': 0.08007914494645271, 'num_leaves': 47, 'max_depth': 4, 'min_child_samples': 34, 'subsample': 0.7972679119211145, 'colsample_bytree': 0.6057217200484345, 'reg_alpha': 6.5289841025639666, 'reg_lambda': 3.48289133727157}. Best is trial 131 with value: 1513.596501576817.\n"
          ]
        },
        {
          "name": "stdout",
          "output_type": "stream",
          "text": [
            "Did not meet early stopping. Best iteration is:\n",
            "[92]\tvalid_0's rmse: 38.9073\n"
          ]
        },
        {
          "name": "stderr",
          "output_type": "stream",
          "text": [
            "/opt/anaconda3/lib/python3.11/site-packages/sklearn/utils/deprecation.py:151: FutureWarning: 'force_all_finite' was renamed to 'ensure_all_finite' in 1.6 and will be removed in 1.8.\n",
            "  warnings.warn(\n"
          ]
        },
        {
          "name": "stdout",
          "output_type": "stream",
          "text": [
            "Training until validation scores don't improve for 10 rounds\n"
          ]
        },
        {
          "name": "stderr",
          "output_type": "stream",
          "text": [
            "/opt/anaconda3/lib/python3.11/site-packages/sklearn/utils/deprecation.py:151: FutureWarning: 'force_all_finite' was renamed to 'ensure_all_finite' in 1.6 and will be removed in 1.8.\n",
            "  warnings.warn(\n",
            "[I 2025-02-15 15:48:42,576] Trial 225 finished with value: 1513.8710335321516 and parameters: {'learning_rate': 0.0807208463991976, 'num_leaves': 45, 'max_depth': 4, 'min_child_samples': 33, 'subsample': 0.7834103565815002, 'colsample_bytree': 0.6049485024969499, 'reg_alpha': 6.556824757430546, 'reg_lambda': 3.4959459741691004}. Best is trial 131 with value: 1513.596501576817.\n"
          ]
        },
        {
          "name": "stdout",
          "output_type": "stream",
          "text": [
            "Did not meet early stopping. Best iteration is:\n",
            "[92]\tvalid_0's rmse: 38.9085\n"
          ]
        },
        {
          "name": "stderr",
          "output_type": "stream",
          "text": [
            "/opt/anaconda3/lib/python3.11/site-packages/sklearn/utils/deprecation.py:151: FutureWarning: 'force_all_finite' was renamed to 'ensure_all_finite' in 1.6 and will be removed in 1.8.\n",
            "  warnings.warn(\n"
          ]
        },
        {
          "name": "stdout",
          "output_type": "stream",
          "text": [
            "Training until validation scores don't improve for 10 rounds\n"
          ]
        },
        {
          "name": "stderr",
          "output_type": "stream",
          "text": [
            "/opt/anaconda3/lib/python3.11/site-packages/sklearn/utils/deprecation.py:151: FutureWarning: 'force_all_finite' was renamed to 'ensure_all_finite' in 1.6 and will be removed in 1.8.\n",
            "  warnings.warn(\n",
            "[I 2025-02-15 15:48:44,304] Trial 226 finished with value: 1513.8691798167163 and parameters: {'learning_rate': 0.08271264482676939, 'num_leaves': 47, 'max_depth': 4, 'min_child_samples': 29, 'subsample': 0.7957617946674885, 'colsample_bytree': 0.5978427920646112, 'reg_alpha': 6.8236133562232295, 'reg_lambda': 3.118801632544684}. Best is trial 131 with value: 1513.596501576817.\n"
          ]
        },
        {
          "name": "stdout",
          "output_type": "stream",
          "text": [
            "Early stopping, best iteration is:\n",
            "[78]\tvalid_0's rmse: 38.9085\n"
          ]
        },
        {
          "name": "stderr",
          "output_type": "stream",
          "text": [
            "/opt/anaconda3/lib/python3.11/site-packages/sklearn/utils/deprecation.py:151: FutureWarning: 'force_all_finite' was renamed to 'ensure_all_finite' in 1.6 and will be removed in 1.8.\n",
            "  warnings.warn(\n"
          ]
        },
        {
          "name": "stdout",
          "output_type": "stream",
          "text": [
            "Training until validation scores don't improve for 10 rounds\n"
          ]
        },
        {
          "name": "stderr",
          "output_type": "stream",
          "text": [
            "/opt/anaconda3/lib/python3.11/site-packages/sklearn/utils/deprecation.py:151: FutureWarning: 'force_all_finite' was renamed to 'ensure_all_finite' in 1.6 and will be removed in 1.8.\n",
            "  warnings.warn(\n",
            "[I 2025-02-15 15:48:46,106] Trial 227 finished with value: 1513.8200462158075 and parameters: {'learning_rate': 0.07844841988730236, 'num_leaves': 43, 'max_depth': 4, 'min_child_samples': 35, 'subsample': 0.7902708846312986, 'colsample_bytree': 0.5424242062695974, 'reg_alpha': 6.205369309492203, 'reg_lambda': 3.095941960675336}. Best is trial 131 with value: 1513.596501576817.\n"
          ]
        },
        {
          "name": "stdout",
          "output_type": "stream",
          "text": [
            "Early stopping, best iteration is:\n",
            "[82]\tvalid_0's rmse: 38.9078\n"
          ]
        },
        {
          "name": "stderr",
          "output_type": "stream",
          "text": [
            "/opt/anaconda3/lib/python3.11/site-packages/sklearn/utils/deprecation.py:151: FutureWarning: 'force_all_finite' was renamed to 'ensure_all_finite' in 1.6 and will be removed in 1.8.\n",
            "  warnings.warn(\n"
          ]
        },
        {
          "name": "stdout",
          "output_type": "stream",
          "text": [
            "Training until validation scores don't improve for 10 rounds\n"
          ]
        },
        {
          "name": "stderr",
          "output_type": "stream",
          "text": [
            "/opt/anaconda3/lib/python3.11/site-packages/sklearn/utils/deprecation.py:151: FutureWarning: 'force_all_finite' was renamed to 'ensure_all_finite' in 1.6 and will be removed in 1.8.\n",
            "  warnings.warn(\n",
            "[I 2025-02-15 15:48:47,428] Trial 228 finished with value: 1513.8835855801353 and parameters: {'learning_rate': 0.08007605515993431, 'num_leaves': 49, 'max_depth': 4, 'min_child_samples': 26, 'subsample': 0.7997089844877312, 'colsample_bytree': 0.7660029343353458, 'reg_alpha': 6.832398692748767, 'reg_lambda': 3.437126969967819}. Best is trial 131 with value: 1513.596501576817.\n"
          ]
        },
        {
          "name": "stdout",
          "output_type": "stream",
          "text": [
            "Early stopping, best iteration is:\n",
            "[69]\tvalid_0's rmse: 38.9087\n"
          ]
        },
        {
          "name": "stderr",
          "output_type": "stream",
          "text": [
            "/opt/anaconda3/lib/python3.11/site-packages/sklearn/utils/deprecation.py:151: FutureWarning: 'force_all_finite' was renamed to 'ensure_all_finite' in 1.6 and will be removed in 1.8.\n",
            "  warnings.warn(\n"
          ]
        },
        {
          "name": "stdout",
          "output_type": "stream",
          "text": [
            "Training until validation scores don't improve for 10 rounds\n"
          ]
        },
        {
          "name": "stderr",
          "output_type": "stream",
          "text": [
            "/opt/anaconda3/lib/python3.11/site-packages/sklearn/utils/deprecation.py:151: FutureWarning: 'force_all_finite' was renamed to 'ensure_all_finite' in 1.6 and will be removed in 1.8.\n",
            "  warnings.warn(\n",
            "[I 2025-02-15 15:48:49,050] Trial 229 finished with value: 1513.7452177767718 and parameters: {'learning_rate': 0.0849746012677799, 'num_leaves': 53, 'max_depth': 4, 'min_child_samples': 31, 'subsample': 0.8288488601735129, 'colsample_bytree': 0.6202835299241407, 'reg_alpha': 6.5135716765669915, 'reg_lambda': 3.352395914790168}. Best is trial 131 with value: 1513.596501576817.\n"
          ]
        },
        {
          "name": "stdout",
          "output_type": "stream",
          "text": [
            "Early stopping, best iteration is:\n",
            "[80]\tvalid_0's rmse: 38.9069\n"
          ]
        },
        {
          "name": "stderr",
          "output_type": "stream",
          "text": [
            "/opt/anaconda3/lib/python3.11/site-packages/sklearn/utils/deprecation.py:151: FutureWarning: 'force_all_finite' was renamed to 'ensure_all_finite' in 1.6 and will be removed in 1.8.\n",
            "  warnings.warn(\n"
          ]
        },
        {
          "name": "stdout",
          "output_type": "stream",
          "text": [
            "Training until validation scores don't improve for 10 rounds\n"
          ]
        },
        {
          "name": "stderr",
          "output_type": "stream",
          "text": [
            "/opt/anaconda3/lib/python3.11/site-packages/sklearn/utils/deprecation.py:151: FutureWarning: 'force_all_finite' was renamed to 'ensure_all_finite' in 1.6 and will be removed in 1.8.\n",
            "  warnings.warn(\n",
            "[I 2025-02-15 15:48:50,613] Trial 230 finished with value: 1514.0634749304693 and parameters: {'learning_rate': 0.08696699334838913, 'num_leaves': 53, 'max_depth': 4, 'min_child_samples': 37, 'subsample': 0.8283913606037752, 'colsample_bytree': 0.624586412271404, 'reg_alpha': 5.940343911193484, 'reg_lambda': 3.1948815373409087}. Best is trial 131 with value: 1513.596501576817.\n"
          ]
        },
        {
          "name": "stdout",
          "output_type": "stream",
          "text": [
            "Early stopping, best iteration is:\n",
            "[64]\tvalid_0's rmse: 38.911\n"
          ]
        },
        {
          "name": "stderr",
          "output_type": "stream",
          "text": [
            "/opt/anaconda3/lib/python3.11/site-packages/sklearn/utils/deprecation.py:151: FutureWarning: 'force_all_finite' was renamed to 'ensure_all_finite' in 1.6 and will be removed in 1.8.\n",
            "  warnings.warn(\n"
          ]
        },
        {
          "name": "stdout",
          "output_type": "stream",
          "text": [
            "Training until validation scores don't improve for 10 rounds\n"
          ]
        },
        {
          "name": "stderr",
          "output_type": "stream",
          "text": [
            "/opt/anaconda3/lib/python3.11/site-packages/sklearn/utils/deprecation.py:151: FutureWarning: 'force_all_finite' was renamed to 'ensure_all_finite' in 1.6 and will be removed in 1.8.\n",
            "  warnings.warn(\n",
            "[I 2025-02-15 15:48:52,192] Trial 231 finished with value: 1513.707883655143 and parameters: {'learning_rate': 0.08473875357260313, 'num_leaves': 52, 'max_depth': 4, 'min_child_samples': 30, 'subsample': 0.820279465430856, 'colsample_bytree': 0.6121421154259203, 'reg_alpha': 6.580706287019812, 'reg_lambda': 3.362271169963942}. Best is trial 131 with value: 1513.596501576817.\n"
          ]
        },
        {
          "name": "stdout",
          "output_type": "stream",
          "text": [
            "Early stopping, best iteration is:\n",
            "[80]\tvalid_0's rmse: 38.9064\n"
          ]
        },
        {
          "name": "stderr",
          "output_type": "stream",
          "text": [
            "/opt/anaconda3/lib/python3.11/site-packages/sklearn/utils/deprecation.py:151: FutureWarning: 'force_all_finite' was renamed to 'ensure_all_finite' in 1.6 and will be removed in 1.8.\n",
            "  warnings.warn(\n"
          ]
        },
        {
          "name": "stdout",
          "output_type": "stream",
          "text": [
            "Training until validation scores don't improve for 10 rounds\n"
          ]
        },
        {
          "name": "stderr",
          "output_type": "stream",
          "text": [
            "/opt/anaconda3/lib/python3.11/site-packages/sklearn/utils/deprecation.py:151: FutureWarning: 'force_all_finite' was renamed to 'ensure_all_finite' in 1.6 and will be removed in 1.8.\n",
            "  warnings.warn(\n",
            "[I 2025-02-15 15:48:54,045] Trial 232 finished with value: 1513.7936636195807 and parameters: {'learning_rate': 0.08477914010235567, 'num_leaves': 53, 'max_depth': 4, 'min_child_samples': 31, 'subsample': 0.8423438216892176, 'colsample_bytree': 0.6105982724286317, 'reg_alpha': 6.568716347156763, 'reg_lambda': 3.4020265583999976}. Best is trial 131 with value: 1513.596501576817.\n"
          ]
        },
        {
          "name": "stdout",
          "output_type": "stream",
          "text": [
            "Early stopping, best iteration is:\n",
            "[80]\tvalid_0's rmse: 38.9075\n"
          ]
        },
        {
          "name": "stderr",
          "output_type": "stream",
          "text": [
            "/opt/anaconda3/lib/python3.11/site-packages/sklearn/utils/deprecation.py:151: FutureWarning: 'force_all_finite' was renamed to 'ensure_all_finite' in 1.6 and will be removed in 1.8.\n",
            "  warnings.warn(\n"
          ]
        },
        {
          "name": "stdout",
          "output_type": "stream",
          "text": [
            "Training until validation scores don't improve for 10 rounds\n"
          ]
        },
        {
          "name": "stderr",
          "output_type": "stream",
          "text": [
            "/opt/anaconda3/lib/python3.11/site-packages/sklearn/utils/deprecation.py:151: FutureWarning: 'force_all_finite' was renamed to 'ensure_all_finite' in 1.6 and will be removed in 1.8.\n",
            "  warnings.warn(\n",
            "[I 2025-02-15 15:48:55,714] Trial 233 finished with value: 1513.7226536368735 and parameters: {'learning_rate': 0.08266024727884584, 'num_leaves': 51, 'max_depth': 4, 'min_child_samples': 32, 'subsample': 0.8206423671087377, 'colsample_bytree': 0.6242501800857173, 'reg_alpha': 6.352452746896129, 'reg_lambda': 3.694128813593048}. Best is trial 131 with value: 1513.596501576817.\n"
          ]
        },
        {
          "name": "stdout",
          "output_type": "stream",
          "text": [
            "Early stopping, best iteration is:\n",
            "[81]\tvalid_0's rmse: 38.9066\n"
          ]
        },
        {
          "name": "stderr",
          "output_type": "stream",
          "text": [
            "/opt/anaconda3/lib/python3.11/site-packages/sklearn/utils/deprecation.py:151: FutureWarning: 'force_all_finite' was renamed to 'ensure_all_finite' in 1.6 and will be removed in 1.8.\n",
            "  warnings.warn(\n"
          ]
        },
        {
          "name": "stdout",
          "output_type": "stream",
          "text": [
            "Training until validation scores don't improve for 10 rounds\n"
          ]
        },
        {
          "name": "stderr",
          "output_type": "stream",
          "text": [
            "/opt/anaconda3/lib/python3.11/site-packages/sklearn/utils/deprecation.py:151: FutureWarning: 'force_all_finite' was renamed to 'ensure_all_finite' in 1.6 and will be removed in 1.8.\n",
            "  warnings.warn(\n",
            "[I 2025-02-15 15:48:57,223] Trial 234 finished with value: 1513.8319283172762 and parameters: {'learning_rate': 0.08391466405915177, 'num_leaves': 52, 'max_depth': 4, 'min_child_samples': 34, 'subsample': 0.8293396158055603, 'colsample_bytree': 0.6369377240792206, 'reg_alpha': 6.327112232750723, 'reg_lambda': 3.7040859712204375}. Best is trial 131 with value: 1513.596501576817.\n"
          ]
        },
        {
          "name": "stdout",
          "output_type": "stream",
          "text": [
            "Early stopping, best iteration is:\n",
            "[71]\tvalid_0's rmse: 38.908\n"
          ]
        },
        {
          "name": "stderr",
          "output_type": "stream",
          "text": [
            "/opt/anaconda3/lib/python3.11/site-packages/sklearn/utils/deprecation.py:151: FutureWarning: 'force_all_finite' was renamed to 'ensure_all_finite' in 1.6 and will be removed in 1.8.\n",
            "  warnings.warn(\n"
          ]
        },
        {
          "name": "stdout",
          "output_type": "stream",
          "text": [
            "Training until validation scores don't improve for 10 rounds\n"
          ]
        },
        {
          "name": "stderr",
          "output_type": "stream",
          "text": [
            "/opt/anaconda3/lib/python3.11/site-packages/sklearn/utils/deprecation.py:151: FutureWarning: 'force_all_finite' was renamed to 'ensure_all_finite' in 1.6 and will be removed in 1.8.\n",
            "  warnings.warn(\n",
            "[I 2025-02-15 15:48:59,002] Trial 235 finished with value: 1513.818263786563 and parameters: {'learning_rate': 0.08737153881506657, 'num_leaves': 55, 'max_depth': 4, 'min_child_samples': 31, 'subsample': 0.8208059557146005, 'colsample_bytree': 0.6225680461234232, 'reg_alpha': 6.551221464343129, 'reg_lambda': 3.351039212558931}. Best is trial 131 with value: 1513.596501576817.\n"
          ]
        },
        {
          "name": "stdout",
          "output_type": "stream",
          "text": [
            "Did not meet early stopping. Best iteration is:\n",
            "[92]\tvalid_0's rmse: 38.9078\n"
          ]
        },
        {
          "name": "stderr",
          "output_type": "stream",
          "text": [
            "/opt/anaconda3/lib/python3.11/site-packages/sklearn/utils/deprecation.py:151: FutureWarning: 'force_all_finite' was renamed to 'ensure_all_finite' in 1.6 and will be removed in 1.8.\n",
            "  warnings.warn(\n"
          ]
        },
        {
          "name": "stdout",
          "output_type": "stream",
          "text": [
            "Training until validation scores don't improve for 10 rounds\n"
          ]
        },
        {
          "name": "stderr",
          "output_type": "stream",
          "text": [
            "/opt/anaconda3/lib/python3.11/site-packages/sklearn/utils/deprecation.py:151: FutureWarning: 'force_all_finite' was renamed to 'ensure_all_finite' in 1.6 and will be removed in 1.8.\n",
            "  warnings.warn(\n",
            "[I 2025-02-15 15:49:00,760] Trial 236 finished with value: 1513.7371268667027 and parameters: {'learning_rate': 0.08224777561170349, 'num_leaves': 50, 'max_depth': 4, 'min_child_samples': 37, 'subsample': 0.8378864788853176, 'colsample_bytree': 0.6309398644679189, 'reg_alpha': 7.217785628052171, 'reg_lambda': 3.6530814661444073}. Best is trial 131 with value: 1513.596501576817.\n"
          ]
        },
        {
          "name": "stdout",
          "output_type": "stream",
          "text": [
            "Did not meet early stopping. Best iteration is:\n",
            "[93]\tvalid_0's rmse: 38.9068\n"
          ]
        },
        {
          "name": "stderr",
          "output_type": "stream",
          "text": [
            "/opt/anaconda3/lib/python3.11/site-packages/sklearn/utils/deprecation.py:151: FutureWarning: 'force_all_finite' was renamed to 'ensure_all_finite' in 1.6 and will be removed in 1.8.\n",
            "  warnings.warn(\n"
          ]
        },
        {
          "name": "stdout",
          "output_type": "stream",
          "text": [
            "Training until validation scores don't improve for 10 rounds\n"
          ]
        },
        {
          "name": "stderr",
          "output_type": "stream",
          "text": [
            "/opt/anaconda3/lib/python3.11/site-packages/sklearn/utils/deprecation.py:151: FutureWarning: 'force_all_finite' was renamed to 'ensure_all_finite' in 1.6 and will be removed in 1.8.\n",
            "  warnings.warn(\n",
            "[I 2025-02-15 15:49:02,378] Trial 237 finished with value: 1513.7197302602328 and parameters: {'learning_rate': 0.08543825592454973, 'num_leaves': 51, 'max_depth': 4, 'min_child_samples': 39, 'subsample': 0.832393973847349, 'colsample_bytree': 0.6338045975961215, 'reg_alpha': 7.085651928912967, 'reg_lambda': 3.640949668398603}. Best is trial 131 with value: 1513.596501576817.\n"
          ]
        },
        {
          "name": "stdout",
          "output_type": "stream",
          "text": [
            "Early stopping, best iteration is:\n",
            "[84]\tvalid_0's rmse: 38.9066\n"
          ]
        },
        {
          "name": "stderr",
          "output_type": "stream",
          "text": [
            "/opt/anaconda3/lib/python3.11/site-packages/sklearn/utils/deprecation.py:151: FutureWarning: 'force_all_finite' was renamed to 'ensure_all_finite' in 1.6 and will be removed in 1.8.\n",
            "  warnings.warn(\n"
          ]
        },
        {
          "name": "stdout",
          "output_type": "stream",
          "text": [
            "Training until validation scores don't improve for 10 rounds\n"
          ]
        },
        {
          "name": "stderr",
          "output_type": "stream",
          "text": [
            "/opt/anaconda3/lib/python3.11/site-packages/sklearn/utils/deprecation.py:151: FutureWarning: 'force_all_finite' was renamed to 'ensure_all_finite' in 1.6 and will be removed in 1.8.\n",
            "  warnings.warn(\n",
            "[I 2025-02-15 15:49:04,011] Trial 238 finished with value: 1513.767287600658 and parameters: {'learning_rate': 0.08550734709027007, 'num_leaves': 51, 'max_depth': 4, 'min_child_samples': 39, 'subsample': 0.84168007961177, 'colsample_bytree': 0.6373845326375166, 'reg_alpha': 6.990720995194263, 'reg_lambda': 3.6810629079751154}. Best is trial 131 with value: 1513.596501576817.\n"
          ]
        },
        {
          "name": "stdout",
          "output_type": "stream",
          "text": [
            "Early stopping, best iteration is:\n",
            "[87]\tvalid_0's rmse: 38.9072\n"
          ]
        },
        {
          "name": "stderr",
          "output_type": "stream",
          "text": [
            "/opt/anaconda3/lib/python3.11/site-packages/sklearn/utils/deprecation.py:151: FutureWarning: 'force_all_finite' was renamed to 'ensure_all_finite' in 1.6 and will be removed in 1.8.\n",
            "  warnings.warn(\n"
          ]
        },
        {
          "name": "stdout",
          "output_type": "stream",
          "text": [
            "Training until validation scores don't improve for 10 rounds\n"
          ]
        },
        {
          "name": "stderr",
          "output_type": "stream",
          "text": [
            "/opt/anaconda3/lib/python3.11/site-packages/sklearn/utils/deprecation.py:151: FutureWarning: 'force_all_finite' was renamed to 'ensure_all_finite' in 1.6 and will be removed in 1.8.\n",
            "  warnings.warn(\n",
            "[I 2025-02-15 15:49:05,624] Trial 239 finished with value: 1513.9514870276203 and parameters: {'learning_rate': 0.08619990616362443, 'num_leaves': 51, 'max_depth': 4, 'min_child_samples': 41, 'subsample': 0.853185207025224, 'colsample_bytree': 0.6476405224205658, 'reg_alpha': 7.187612474126416, 'reg_lambda': 3.737112448144321}. Best is trial 131 with value: 1513.596501576817.\n"
          ]
        },
        {
          "name": "stdout",
          "output_type": "stream",
          "text": [
            "Early stopping, best iteration is:\n",
            "[80]\tvalid_0's rmse: 38.9095\n"
          ]
        },
        {
          "name": "stderr",
          "output_type": "stream",
          "text": [
            "/opt/anaconda3/lib/python3.11/site-packages/sklearn/utils/deprecation.py:151: FutureWarning: 'force_all_finite' was renamed to 'ensure_all_finite' in 1.6 and will be removed in 1.8.\n",
            "  warnings.warn(\n"
          ]
        },
        {
          "name": "stdout",
          "output_type": "stream",
          "text": [
            "Training until validation scores don't improve for 10 rounds\n"
          ]
        },
        {
          "name": "stderr",
          "output_type": "stream",
          "text": [
            "/opt/anaconda3/lib/python3.11/site-packages/sklearn/utils/deprecation.py:151: FutureWarning: 'force_all_finite' was renamed to 'ensure_all_finite' in 1.6 and will be removed in 1.8.\n",
            "  warnings.warn(\n",
            "[I 2025-02-15 15:49:07,100] Trial 240 finished with value: 1514.1287493222512 and parameters: {'learning_rate': 0.0852341579056634, 'num_leaves': 52, 'max_depth': 3, 'min_child_samples': 39, 'subsample': 0.8411370599605319, 'colsample_bytree': 0.6318917367640314, 'reg_alpha': 7.524227833190806, 'reg_lambda': 4.029200112925388}. Best is trial 131 with value: 1513.596501576817.\n"
          ]
        },
        {
          "name": "stdout",
          "output_type": "stream",
          "text": [
            "Early stopping, best iteration is:\n",
            "[70]\tvalid_0's rmse: 38.9118\n"
          ]
        },
        {
          "name": "stderr",
          "output_type": "stream",
          "text": [
            "/opt/anaconda3/lib/python3.11/site-packages/sklearn/utils/deprecation.py:151: FutureWarning: 'force_all_finite' was renamed to 'ensure_all_finite' in 1.6 and will be removed in 1.8.\n",
            "  warnings.warn(\n"
          ]
        },
        {
          "name": "stdout",
          "output_type": "stream",
          "text": [
            "Training until validation scores don't improve for 10 rounds\n"
          ]
        },
        {
          "name": "stderr",
          "output_type": "stream",
          "text": [
            "/opt/anaconda3/lib/python3.11/site-packages/sklearn/utils/deprecation.py:151: FutureWarning: 'force_all_finite' was renamed to 'ensure_all_finite' in 1.6 and will be removed in 1.8.\n",
            "  warnings.warn(\n",
            "[I 2025-02-15 15:49:08,579] Trial 241 finished with value: 1513.7939889382178 and parameters: {'learning_rate': 0.083226250247852, 'num_leaves': 54, 'max_depth': 4, 'min_child_samples': 35, 'subsample': 0.8488627651656421, 'colsample_bytree': 0.6437953192984649, 'reg_alpha': 6.94290408053794, 'reg_lambda': 3.6370350437855943}. Best is trial 131 with value: 1513.596501576817.\n"
          ]
        },
        {
          "name": "stdout",
          "output_type": "stream",
          "text": [
            "Early stopping, best iteration is:\n",
            "[65]\tvalid_0's rmse: 38.9075\n"
          ]
        },
        {
          "name": "stderr",
          "output_type": "stream",
          "text": [
            "/opt/anaconda3/lib/python3.11/site-packages/sklearn/utils/deprecation.py:151: FutureWarning: 'force_all_finite' was renamed to 'ensure_all_finite' in 1.6 and will be removed in 1.8.\n",
            "  warnings.warn(\n"
          ]
        },
        {
          "name": "stdout",
          "output_type": "stream",
          "text": [
            "Training until validation scores don't improve for 10 rounds\n"
          ]
        },
        {
          "name": "stderr",
          "output_type": "stream",
          "text": [
            "/opt/anaconda3/lib/python3.11/site-packages/sklearn/utils/deprecation.py:151: FutureWarning: 'force_all_finite' was renamed to 'ensure_all_finite' in 1.6 and will be removed in 1.8.\n",
            "  warnings.warn(\n",
            "[I 2025-02-15 15:49:10,250] Trial 242 finished with value: 1513.7921519294466 and parameters: {'learning_rate': 0.08236441749851946, 'num_leaves': 51, 'max_depth': 4, 'min_child_samples': 38, 'subsample': 0.8613362715936748, 'colsample_bytree': 0.6269719154230257, 'reg_alpha': 6.707674994408681, 'reg_lambda': 3.596414768587559}. Best is trial 131 with value: 1513.596501576817.\n"
          ]
        },
        {
          "name": "stdout",
          "output_type": "stream",
          "text": [
            "Did not meet early stopping. Best iteration is:\n",
            "[100]\tvalid_0's rmse: 38.9075\n"
          ]
        },
        {
          "name": "stderr",
          "output_type": "stream",
          "text": [
            "/opt/anaconda3/lib/python3.11/site-packages/sklearn/utils/deprecation.py:151: FutureWarning: 'force_all_finite' was renamed to 'ensure_all_finite' in 1.6 and will be removed in 1.8.\n",
            "  warnings.warn(\n"
          ]
        },
        {
          "name": "stdout",
          "output_type": "stream",
          "text": [
            "Training until validation scores don't improve for 10 rounds\n"
          ]
        },
        {
          "name": "stderr",
          "output_type": "stream",
          "text": [
            "/opt/anaconda3/lib/python3.11/site-packages/sklearn/utils/deprecation.py:151: FutureWarning: 'force_all_finite' was renamed to 'ensure_all_finite' in 1.6 and will be removed in 1.8.\n",
            "  warnings.warn(\n",
            "[I 2025-02-15 15:49:11,715] Trial 243 finished with value: 1513.8097840483308 and parameters: {'learning_rate': 0.08772841988401256, 'num_leaves': 50, 'max_depth': 4, 'min_child_samples': 37, 'subsample': 0.8332860124942836, 'colsample_bytree': 0.6349837345207964, 'reg_alpha': 6.410478015068103, 'reg_lambda': 3.9054341326942312}. Best is trial 131 with value: 1513.596501576817.\n"
          ]
        },
        {
          "name": "stdout",
          "output_type": "stream",
          "text": [
            "Early stopping, best iteration is:\n",
            "[64]\tvalid_0's rmse: 38.9077\n"
          ]
        },
        {
          "name": "stderr",
          "output_type": "stream",
          "text": [
            "/opt/anaconda3/lib/python3.11/site-packages/sklearn/utils/deprecation.py:151: FutureWarning: 'force_all_finite' was renamed to 'ensure_all_finite' in 1.6 and will be removed in 1.8.\n",
            "  warnings.warn(\n"
          ]
        },
        {
          "name": "stdout",
          "output_type": "stream",
          "text": [
            "Training until validation scores don't improve for 10 rounds\n"
          ]
        },
        {
          "name": "stderr",
          "output_type": "stream",
          "text": [
            "/opt/anaconda3/lib/python3.11/site-packages/sklearn/utils/deprecation.py:151: FutureWarning: 'force_all_finite' was renamed to 'ensure_all_finite' in 1.6 and will be removed in 1.8.\n",
            "  warnings.warn(\n",
            "[I 2025-02-15 15:49:13,083] Trial 244 finished with value: 1513.9470425308173 and parameters: {'learning_rate': 0.08556305002501585, 'num_leaves': 53, 'max_depth': 4, 'min_child_samples': 42, 'subsample': 0.8372709577942293, 'colsample_bytree': 0.619984798991797, 'reg_alpha': 7.093242101784242, 'reg_lambda': 3.4333248345605245}. Best is trial 131 with value: 1513.596501576817.\n"
          ]
        },
        {
          "name": "stdout",
          "output_type": "stream",
          "text": [
            "Early stopping, best iteration is:\n",
            "[57]\tvalid_0's rmse: 38.9095\n"
          ]
        },
        {
          "name": "stderr",
          "output_type": "stream",
          "text": [
            "/opt/anaconda3/lib/python3.11/site-packages/sklearn/utils/deprecation.py:151: FutureWarning: 'force_all_finite' was renamed to 'ensure_all_finite' in 1.6 and will be removed in 1.8.\n",
            "  warnings.warn(\n"
          ]
        },
        {
          "name": "stdout",
          "output_type": "stream",
          "text": [
            "Training until validation scores don't improve for 10 rounds\n"
          ]
        },
        {
          "name": "stderr",
          "output_type": "stream",
          "text": [
            "/opt/anaconda3/lib/python3.11/site-packages/sklearn/utils/deprecation.py:151: FutureWarning: 'force_all_finite' was renamed to 'ensure_all_finite' in 1.6 and will be removed in 1.8.\n",
            "  warnings.warn(\n",
            "[I 2025-02-15 15:49:14,896] Trial 245 finished with value: 1513.7847051249753 and parameters: {'learning_rate': 0.08199317954013514, 'num_leaves': 49, 'max_depth': 4, 'min_child_samples': 34, 'subsample': 0.8259733719394808, 'colsample_bytree': 0.64407602229179, 'reg_alpha': 6.621537504763557, 'reg_lambda': 3.7055009784265858}. Best is trial 131 with value: 1513.596501576817.\n"
          ]
        },
        {
          "name": "stdout",
          "output_type": "stream",
          "text": [
            "Did not meet early stopping. Best iteration is:\n",
            "[94]\tvalid_0's rmse: 38.9074\n"
          ]
        },
        {
          "name": "stderr",
          "output_type": "stream",
          "text": [
            "/opt/anaconda3/lib/python3.11/site-packages/sklearn/utils/deprecation.py:151: FutureWarning: 'force_all_finite' was renamed to 'ensure_all_finite' in 1.6 and will be removed in 1.8.\n",
            "  warnings.warn(\n"
          ]
        },
        {
          "name": "stdout",
          "output_type": "stream",
          "text": [
            "Training until validation scores don't improve for 10 rounds\n"
          ]
        },
        {
          "name": "stderr",
          "output_type": "stream",
          "text": [
            "/opt/anaconda3/lib/python3.11/site-packages/sklearn/utils/deprecation.py:151: FutureWarning: 'force_all_finite' was renamed to 'ensure_all_finite' in 1.6 and will be removed in 1.8.\n",
            "  warnings.warn(\n",
            "[I 2025-02-15 15:49:16,522] Trial 246 finished with value: 1513.8950264278099 and parameters: {'learning_rate': 0.08411096047518216, 'num_leaves': 51, 'max_depth': 4, 'min_child_samples': 39, 'subsample': 0.8421041037684827, 'colsample_bytree': 0.6052425287381644, 'reg_alpha': 6.871804127204833, 'reg_lambda': 3.388616663818414}. Best is trial 131 with value: 1513.596501576817.\n"
          ]
        },
        {
          "name": "stdout",
          "output_type": "stream",
          "text": [
            "Early stopping, best iteration is:\n",
            "[75]\tvalid_0's rmse: 38.9088\n"
          ]
        },
        {
          "name": "stderr",
          "output_type": "stream",
          "text": [
            "/opt/anaconda3/lib/python3.11/site-packages/sklearn/utils/deprecation.py:151: FutureWarning: 'force_all_finite' was renamed to 'ensure_all_finite' in 1.6 and will be removed in 1.8.\n",
            "  warnings.warn(\n"
          ]
        },
        {
          "name": "stdout",
          "output_type": "stream",
          "text": [
            "Training until validation scores don't improve for 10 rounds\n"
          ]
        },
        {
          "name": "stderr",
          "output_type": "stream",
          "text": [
            "/opt/anaconda3/lib/python3.11/site-packages/sklearn/utils/deprecation.py:151: FutureWarning: 'force_all_finite' was renamed to 'ensure_all_finite' in 1.6 and will be removed in 1.8.\n",
            "  warnings.warn(\n",
            "[I 2025-02-15 15:49:17,955] Trial 247 finished with value: 1513.9026831726492 and parameters: {'learning_rate': 0.08770107505709188, 'num_leaves': 56, 'max_depth': 4, 'min_child_samples': 47, 'subsample': 0.8324774052618539, 'colsample_bytree': 0.6257287775984853, 'reg_alpha': 6.25102899078073, 'reg_lambda': 4.532266960056643}. Best is trial 131 with value: 1513.596501576817.\n"
          ]
        },
        {
          "name": "stdout",
          "output_type": "stream",
          "text": [
            "Early stopping, best iteration is:\n",
            "[64]\tvalid_0's rmse: 38.9089\n"
          ]
        },
        {
          "name": "stderr",
          "output_type": "stream",
          "text": [
            "/opt/anaconda3/lib/python3.11/site-packages/sklearn/utils/deprecation.py:151: FutureWarning: 'force_all_finite' was renamed to 'ensure_all_finite' in 1.6 and will be removed in 1.8.\n",
            "  warnings.warn(\n"
          ]
        },
        {
          "name": "stdout",
          "output_type": "stream",
          "text": [
            "Training until validation scores don't improve for 10 rounds\n"
          ]
        },
        {
          "name": "stderr",
          "output_type": "stream",
          "text": [
            "/opt/anaconda3/lib/python3.11/site-packages/sklearn/utils/deprecation.py:151: FutureWarning: 'force_all_finite' was renamed to 'ensure_all_finite' in 1.6 and will be removed in 1.8.\n",
            "  warnings.warn(\n",
            "[I 2025-02-15 15:49:19,253] Trial 248 finished with value: 1513.9089748813813 and parameters: {'learning_rate': 0.08584673056944302, 'num_leaves': 48, 'max_depth': 4, 'min_child_samples': 31, 'subsample': 0.8219780176383528, 'colsample_bytree': 0.6345681885524763, 'reg_alpha': 7.048349404182568, 'reg_lambda': 4.027170456567991}. Best is trial 131 with value: 1513.596501576817.\n"
          ]
        },
        {
          "name": "stdout",
          "output_type": "stream",
          "text": [
            "Early stopping, best iteration is:\n",
            "[49]\tvalid_0's rmse: 38.909\n"
          ]
        },
        {
          "name": "stderr",
          "output_type": "stream",
          "text": [
            "/opt/anaconda3/lib/python3.11/site-packages/sklearn/utils/deprecation.py:151: FutureWarning: 'force_all_finite' was renamed to 'ensure_all_finite' in 1.6 and will be removed in 1.8.\n",
            "  warnings.warn(\n"
          ]
        },
        {
          "name": "stdout",
          "output_type": "stream",
          "text": [
            "Training until validation scores don't improve for 10 rounds\n"
          ]
        },
        {
          "name": "stderr",
          "output_type": "stream",
          "text": [
            "/opt/anaconda3/lib/python3.11/site-packages/sklearn/utils/deprecation.py:151: FutureWarning: 'force_all_finite' was renamed to 'ensure_all_finite' in 1.6 and will be removed in 1.8.\n",
            "  warnings.warn(\n",
            "[I 2025-02-15 15:49:20,805] Trial 249 finished with value: 1513.8777214936526 and parameters: {'learning_rate': 0.08331579805506244, 'num_leaves': 50, 'max_depth': 4, 'min_child_samples': 36, 'subsample': 0.8329893915259844, 'colsample_bytree': 0.6101350526913378, 'reg_alpha': 6.506499729910535, 'reg_lambda': 3.573676136063305}. Best is trial 131 with value: 1513.596501576817.\n"
          ]
        },
        {
          "name": "stdout",
          "output_type": "stream",
          "text": [
            "Early stopping, best iteration is:\n",
            "[75]\tvalid_0's rmse: 38.9086\n"
          ]
        },
        {
          "name": "stderr",
          "output_type": "stream",
          "text": [
            "/opt/anaconda3/lib/python3.11/site-packages/sklearn/utils/deprecation.py:151: FutureWarning: 'force_all_finite' was renamed to 'ensure_all_finite' in 1.6 and will be removed in 1.8.\n",
            "  warnings.warn(\n"
          ]
        },
        {
          "name": "stdout",
          "output_type": "stream",
          "text": [
            "Training until validation scores don't improve for 10 rounds\n"
          ]
        },
        {
          "name": "stderr",
          "output_type": "stream",
          "text": [
            "/opt/anaconda3/lib/python3.11/site-packages/sklearn/utils/deprecation.py:151: FutureWarning: 'force_all_finite' was renamed to 'ensure_all_finite' in 1.6 and will be removed in 1.8.\n",
            "  warnings.warn(\n",
            "[I 2025-02-15 15:49:22,442] Trial 250 finished with value: 1513.8174861360078 and parameters: {'learning_rate': 0.09027006000777785, 'num_leaves': 54, 'max_depth': 4, 'min_child_samples': 41, 'subsample': 0.8200853818822905, 'colsample_bytree': 0.6508298305458963, 'reg_alpha': 6.7955856789597195, 'reg_lambda': 3.293023274756982}. Best is trial 131 with value: 1513.596501576817.\n"
          ]
        },
        {
          "name": "stdout",
          "output_type": "stream",
          "text": [
            "Early stopping, best iteration is:\n",
            "[75]\tvalid_0's rmse: 38.9078\n"
          ]
        },
        {
          "name": "stderr",
          "output_type": "stream",
          "text": [
            "/opt/anaconda3/lib/python3.11/site-packages/sklearn/utils/deprecation.py:151: FutureWarning: 'force_all_finite' was renamed to 'ensure_all_finite' in 1.6 and will be removed in 1.8.\n",
            "  warnings.warn(\n"
          ]
        },
        {
          "name": "stdout",
          "output_type": "stream",
          "text": [
            "Training until validation scores don't improve for 10 rounds\n"
          ]
        },
        {
          "name": "stderr",
          "output_type": "stream",
          "text": [
            "/opt/anaconda3/lib/python3.11/site-packages/sklearn/utils/deprecation.py:151: FutureWarning: 'force_all_finite' was renamed to 'ensure_all_finite' in 1.6 and will be removed in 1.8.\n",
            "  warnings.warn(\n",
            "[I 2025-02-15 15:49:24,549] Trial 251 finished with value: 1513.7940776536655 and parameters: {'learning_rate': 0.08078486641021809, 'num_leaves': 48, 'max_depth': 4, 'min_child_samples': 31, 'subsample': 0.8281937578309114, 'colsample_bytree': 0.5855186792807664, 'reg_alpha': 7.183445960386115, 'reg_lambda': 3.7774100681448255}. Best is trial 131 with value: 1513.596501576817.\n"
          ]
        },
        {
          "name": "stdout",
          "output_type": "stream",
          "text": [
            "Did not meet early stopping. Best iteration is:\n",
            "[97]\tvalid_0's rmse: 38.9075\n"
          ]
        },
        {
          "name": "stderr",
          "output_type": "stream",
          "text": [
            "/opt/anaconda3/lib/python3.11/site-packages/sklearn/utils/deprecation.py:151: FutureWarning: 'force_all_finite' was renamed to 'ensure_all_finite' in 1.6 and will be removed in 1.8.\n",
            "  warnings.warn(\n"
          ]
        },
        {
          "name": "stdout",
          "output_type": "stream",
          "text": [
            "Training until validation scores don't improve for 10 rounds\n"
          ]
        },
        {
          "name": "stderr",
          "output_type": "stream",
          "text": [
            "/opt/anaconda3/lib/python3.11/site-packages/sklearn/utils/deprecation.py:151: FutureWarning: 'force_all_finite' was renamed to 'ensure_all_finite' in 1.6 and will be removed in 1.8.\n",
            "  warnings.warn(\n",
            "[I 2025-02-15 15:49:26,790] Trial 252 finished with value: 1513.819771513549 and parameters: {'learning_rate': 0.08269710829791604, 'num_leaves': 51, 'max_depth': 4, 'min_child_samples': 43, 'subsample': 0.8163856056505554, 'colsample_bytree': 0.5969878308773525, 'reg_alpha': 7.452766352043315, 'reg_lambda': 4.172056957100666}. Best is trial 131 with value: 1513.596501576817.\n"
          ]
        },
        {
          "name": "stdout",
          "output_type": "stream",
          "text": [
            "Early stopping, best iteration is:\n",
            "[76]\tvalid_0's rmse: 38.9078\n"
          ]
        },
        {
          "name": "stderr",
          "output_type": "stream",
          "text": [
            "/opt/anaconda3/lib/python3.11/site-packages/sklearn/utils/deprecation.py:151: FutureWarning: 'force_all_finite' was renamed to 'ensure_all_finite' in 1.6 and will be removed in 1.8.\n",
            "  warnings.warn(\n"
          ]
        },
        {
          "name": "stdout",
          "output_type": "stream",
          "text": [
            "Training until validation scores don't improve for 10 rounds\n"
          ]
        },
        {
          "name": "stderr",
          "output_type": "stream",
          "text": [
            "/opt/anaconda3/lib/python3.11/site-packages/sklearn/utils/deprecation.py:151: FutureWarning: 'force_all_finite' was renamed to 'ensure_all_finite' in 1.6 and will be removed in 1.8.\n",
            "  warnings.warn(\n",
            "[I 2025-02-15 15:49:29,019] Trial 253 finished with value: 1513.904584165614 and parameters: {'learning_rate': 0.08515010465935272, 'num_leaves': 24, 'max_depth': 4, 'min_child_samples': 24, 'subsample': 0.8502511504554578, 'colsample_bytree': 0.6146358398560715, 'reg_alpha': 6.591715758562483, 'reg_lambda': 3.2904268729154804}. Best is trial 131 with value: 1513.596501576817.\n"
          ]
        },
        {
          "name": "stdout",
          "output_type": "stream",
          "text": [
            "Early stopping, best iteration is:\n",
            "[87]\tvalid_0's rmse: 38.9089\n"
          ]
        },
        {
          "name": "stderr",
          "output_type": "stream",
          "text": [
            "/opt/anaconda3/lib/python3.11/site-packages/sklearn/utils/deprecation.py:151: FutureWarning: 'force_all_finite' was renamed to 'ensure_all_finite' in 1.6 and will be removed in 1.8.\n",
            "  warnings.warn(\n"
          ]
        },
        {
          "name": "stdout",
          "output_type": "stream",
          "text": [
            "Training until validation scores don't improve for 10 rounds\n"
          ]
        },
        {
          "name": "stderr",
          "output_type": "stream",
          "text": [
            "/opt/anaconda3/lib/python3.11/site-packages/sklearn/utils/deprecation.py:151: FutureWarning: 'force_all_finite' was renamed to 'ensure_all_finite' in 1.6 and will be removed in 1.8.\n",
            "  warnings.warn(\n",
            "[I 2025-02-15 15:49:30,512] Trial 254 finished with value: 1513.9214651545021 and parameters: {'learning_rate': 0.08020858518802643, 'num_leaves': 52, 'max_depth': 4, 'min_child_samples': 38, 'subsample': 0.8427723142747814, 'colsample_bytree': 0.6551194895917521, 'reg_alpha': 6.90724480313123, 'reg_lambda': 3.477599655525516}. Best is trial 131 with value: 1513.596501576817.\n"
          ]
        },
        {
          "name": "stdout",
          "output_type": "stream",
          "text": [
            "Early stopping, best iteration is:\n",
            "[75]\tvalid_0's rmse: 38.9091\n"
          ]
        },
        {
          "name": "stderr",
          "output_type": "stream",
          "text": [
            "/opt/anaconda3/lib/python3.11/site-packages/sklearn/utils/deprecation.py:151: FutureWarning: 'force_all_finite' was renamed to 'ensure_all_finite' in 1.6 and will be removed in 1.8.\n",
            "  warnings.warn(\n"
          ]
        },
        {
          "name": "stdout",
          "output_type": "stream",
          "text": [
            "Training until validation scores don't improve for 10 rounds\n"
          ]
        },
        {
          "name": "stderr",
          "output_type": "stream",
          "text": [
            "/opt/anaconda3/lib/python3.11/site-packages/sklearn/utils/deprecation.py:151: FutureWarning: 'force_all_finite' was renamed to 'ensure_all_finite' in 1.6 and will be removed in 1.8.\n",
            "  warnings.warn(\n",
            "[I 2025-02-15 15:49:31,806] Trial 255 finished with value: 1513.9969236042916 and parameters: {'learning_rate': 0.08796300986536011, 'num_leaves': 49, 'max_depth': 4, 'min_child_samples': 34, 'subsample': 0.80499150354975, 'colsample_bytree': 0.576586814470463, 'reg_alpha': 6.41824695459002, 'reg_lambda': 3.9135884114340933}. Best is trial 131 with value: 1513.596501576817.\n"
          ]
        },
        {
          "name": "stdout",
          "output_type": "stream",
          "text": [
            "Early stopping, best iteration is:\n",
            "[44]\tvalid_0's rmse: 38.9101\n"
          ]
        },
        {
          "name": "stderr",
          "output_type": "stream",
          "text": [
            "/opt/anaconda3/lib/python3.11/site-packages/sklearn/utils/deprecation.py:151: FutureWarning: 'force_all_finite' was renamed to 'ensure_all_finite' in 1.6 and will be removed in 1.8.\n",
            "  warnings.warn(\n"
          ]
        },
        {
          "name": "stdout",
          "output_type": "stream",
          "text": [
            "Training until validation scores don't improve for 10 rounds\n"
          ]
        },
        {
          "name": "stderr",
          "output_type": "stream",
          "text": [
            "/opt/anaconda3/lib/python3.11/site-packages/sklearn/utils/deprecation.py:151: FutureWarning: 'force_all_finite' was renamed to 'ensure_all_finite' in 1.6 and will be removed in 1.8.\n",
            "  warnings.warn(\n",
            "[I 2025-02-15 15:49:33,417] Trial 256 finished with value: 1513.811441026933 and parameters: {'learning_rate': 0.08198368225377443, 'num_leaves': 46, 'max_depth': 4, 'min_child_samples': 28, 'subsample': 0.5835837839072714, 'colsample_bytree': 0.621020075862036, 'reg_alpha': 7.685893955675823, 'reg_lambda': 3.690791415902718}. Best is trial 131 with value: 1513.596501576817.\n"
          ]
        },
        {
          "name": "stdout",
          "output_type": "stream",
          "text": [
            "Early stopping, best iteration is:\n",
            "[79]\tvalid_0's rmse: 38.9077\n"
          ]
        },
        {
          "name": "stderr",
          "output_type": "stream",
          "text": [
            "/opt/anaconda3/lib/python3.11/site-packages/sklearn/utils/deprecation.py:151: FutureWarning: 'force_all_finite' was renamed to 'ensure_all_finite' in 1.6 and will be removed in 1.8.\n",
            "  warnings.warn(\n"
          ]
        },
        {
          "name": "stdout",
          "output_type": "stream",
          "text": [
            "Training until validation scores don't improve for 10 rounds\n"
          ]
        },
        {
          "name": "stderr",
          "output_type": "stream",
          "text": [
            "/opt/anaconda3/lib/python3.11/site-packages/sklearn/utils/deprecation.py:151: FutureWarning: 'force_all_finite' was renamed to 'ensure_all_finite' in 1.6 and will be removed in 1.8.\n",
            "  warnings.warn(\n",
            "[I 2025-02-15 15:49:34,991] Trial 257 finished with value: 1514.1868399120224 and parameters: {'learning_rate': 0.051453625291753846, 'num_leaves': 53, 'max_depth': 3, 'min_child_samples': 45, 'subsample': 0.8250050918770376, 'colsample_bytree': 0.6401048963003146, 'reg_alpha': 6.0179703979198536, 'reg_lambda': 3.24776735104762}. Best is trial 131 with value: 1513.596501576817.\n"
          ]
        },
        {
          "name": "stdout",
          "output_type": "stream",
          "text": [
            "Did not meet early stopping. Best iteration is:\n",
            "[100]\tvalid_0's rmse: 38.9126\n"
          ]
        },
        {
          "name": "stderr",
          "output_type": "stream",
          "text": [
            "/opt/anaconda3/lib/python3.11/site-packages/sklearn/utils/deprecation.py:151: FutureWarning: 'force_all_finite' was renamed to 'ensure_all_finite' in 1.6 and will be removed in 1.8.\n",
            "  warnings.warn(\n"
          ]
        },
        {
          "name": "stdout",
          "output_type": "stream",
          "text": [
            "Training until validation scores don't improve for 10 rounds\n"
          ]
        },
        {
          "name": "stderr",
          "output_type": "stream",
          "text": [
            "/opt/anaconda3/lib/python3.11/site-packages/sklearn/utils/deprecation.py:151: FutureWarning: 'force_all_finite' was renamed to 'ensure_all_finite' in 1.6 and will be removed in 1.8.\n",
            "  warnings.warn(\n",
            "[I 2025-02-15 15:49:36,891] Trial 258 finished with value: 1513.7375947986322 and parameters: {'learning_rate': 0.08602925423160493, 'num_leaves': 50, 'max_depth': 4, 'min_child_samples': 31, 'subsample': 0.8169674640460803, 'colsample_bytree': 0.6002142062666819, 'reg_alpha': 6.684952136159615, 'reg_lambda': 2.885902939943911}. Best is trial 131 with value: 1513.596501576817.\n"
          ]
        },
        {
          "name": "stdout",
          "output_type": "stream",
          "text": [
            "Did not meet early stopping. Best iteration is:\n",
            "[100]\tvalid_0's rmse: 38.9068\n"
          ]
        },
        {
          "name": "stderr",
          "output_type": "stream",
          "text": [
            "/opt/anaconda3/lib/python3.11/site-packages/sklearn/utils/deprecation.py:151: FutureWarning: 'force_all_finite' was renamed to 'ensure_all_finite' in 1.6 and will be removed in 1.8.\n",
            "  warnings.warn(\n"
          ]
        },
        {
          "name": "stdout",
          "output_type": "stream",
          "text": [
            "Training until validation scores don't improve for 10 rounds\n"
          ]
        },
        {
          "name": "stderr",
          "output_type": "stream",
          "text": [
            "/opt/anaconda3/lib/python3.11/site-packages/sklearn/utils/deprecation.py:151: FutureWarning: 'force_all_finite' was renamed to 'ensure_all_finite' in 1.6 and will be removed in 1.8.\n",
            "  warnings.warn(\n",
            "[I 2025-02-15 15:49:38,280] Trial 259 finished with value: 1514.0982520669786 and parameters: {'learning_rate': 0.08572626253732002, 'num_leaves': 50, 'max_depth': 4, 'min_child_samples': 30, 'subsample': 0.8349047873352966, 'colsample_bytree': 0.5646160832203777, 'reg_alpha': 6.674194005512153, 'reg_lambda': 2.8795469888367937}. Best is trial 131 with value: 1513.596501576817.\n"
          ]
        },
        {
          "name": "stdout",
          "output_type": "stream",
          "text": [
            "Early stopping, best iteration is:\n",
            "[44]\tvalid_0's rmse: 38.9114\n"
          ]
        },
        {
          "name": "stderr",
          "output_type": "stream",
          "text": [
            "/opt/anaconda3/lib/python3.11/site-packages/sklearn/utils/deprecation.py:151: FutureWarning: 'force_all_finite' was renamed to 'ensure_all_finite' in 1.6 and will be removed in 1.8.\n",
            "  warnings.warn(\n"
          ]
        },
        {
          "name": "stdout",
          "output_type": "stream",
          "text": [
            "Training until validation scores don't improve for 10 rounds\n"
          ]
        },
        {
          "name": "stderr",
          "output_type": "stream",
          "text": [
            "/opt/anaconda3/lib/python3.11/site-packages/sklearn/utils/deprecation.py:151: FutureWarning: 'force_all_finite' was renamed to 'ensure_all_finite' in 1.6 and will be removed in 1.8.\n",
            "  warnings.warn(\n",
            "[I 2025-02-15 15:49:39,624] Trial 260 finished with value: 1513.8654182479345 and parameters: {'learning_rate': 0.08941526116210988, 'num_leaves': 52, 'max_depth': 4, 'min_child_samples': 22, 'subsample': 0.8182625354630051, 'colsample_bytree': 0.584131666180145, 'reg_alpha': 0.4847188457490308, 'reg_lambda': 2.9523459345030703}. Best is trial 131 with value: 1513.596501576817.\n"
          ]
        },
        {
          "name": "stdout",
          "output_type": "stream",
          "text": [
            "Early stopping, best iteration is:\n",
            "[49]\tvalid_0's rmse: 38.9084\n"
          ]
        },
        {
          "name": "stderr",
          "output_type": "stream",
          "text": [
            "/opt/anaconda3/lib/python3.11/site-packages/sklearn/utils/deprecation.py:151: FutureWarning: 'force_all_finite' was renamed to 'ensure_all_finite' in 1.6 and will be removed in 1.8.\n",
            "  warnings.warn(\n"
          ]
        },
        {
          "name": "stdout",
          "output_type": "stream",
          "text": [
            "Training until validation scores don't improve for 10 rounds\n"
          ]
        },
        {
          "name": "stderr",
          "output_type": "stream",
          "text": [
            "/opt/anaconda3/lib/python3.11/site-packages/sklearn/utils/deprecation.py:151: FutureWarning: 'force_all_finite' was renamed to 'ensure_all_finite' in 1.6 and will be removed in 1.8.\n",
            "  warnings.warn(\n",
            "[I 2025-02-15 15:49:41,135] Trial 261 finished with value: 1513.9058110002875 and parameters: {'learning_rate': 0.08601188951669306, 'num_leaves': 57, 'max_depth': 4, 'min_child_samples': 26, 'subsample': 0.8113928997941066, 'colsample_bytree': 0.630607927965616, 'reg_alpha': 7.273607903639074, 'reg_lambda': 2.7929052047645224}. Best is trial 131 with value: 1513.596501576817.\n"
          ]
        },
        {
          "name": "stdout",
          "output_type": "stream",
          "text": [
            "Early stopping, best iteration is:\n",
            "[76]\tvalid_0's rmse: 38.9089\n"
          ]
        },
        {
          "name": "stderr",
          "output_type": "stream",
          "text": [
            "/opt/anaconda3/lib/python3.11/site-packages/sklearn/utils/deprecation.py:151: FutureWarning: 'force_all_finite' was renamed to 'ensure_all_finite' in 1.6 and will be removed in 1.8.\n",
            "  warnings.warn(\n"
          ]
        },
        {
          "name": "stdout",
          "output_type": "stream",
          "text": [
            "Training until validation scores don't improve for 10 rounds\n"
          ]
        },
        {
          "name": "stderr",
          "output_type": "stream",
          "text": [
            "/opt/anaconda3/lib/python3.11/site-packages/sklearn/utils/deprecation.py:151: FutureWarning: 'force_all_finite' was renamed to 'ensure_all_finite' in 1.6 and will be removed in 1.8.\n",
            "  warnings.warn(\n",
            "[I 2025-02-15 15:49:42,724] Trial 262 finished with value: 1514.057593020691 and parameters: {'learning_rate': 0.08390942679257049, 'num_leaves': 54, 'max_depth': 8, 'min_child_samples': 141, 'subsample': 0.8252697442583622, 'colsample_bytree': 0.5981453504649284, 'reg_alpha': 7.002377929386173, 'reg_lambda': 2.5689184892581016}. Best is trial 131 with value: 1513.596501576817.\n"
          ]
        },
        {
          "name": "stdout",
          "output_type": "stream",
          "text": [
            "Early stopping, best iteration is:\n",
            "[43]\tvalid_0's rmse: 38.9109\n"
          ]
        },
        {
          "name": "stderr",
          "output_type": "stream",
          "text": [
            "/opt/anaconda3/lib/python3.11/site-packages/sklearn/utils/deprecation.py:151: FutureWarning: 'force_all_finite' was renamed to 'ensure_all_finite' in 1.6 and will be removed in 1.8.\n",
            "  warnings.warn(\n"
          ]
        },
        {
          "name": "stdout",
          "output_type": "stream",
          "text": [
            "Training until validation scores don't improve for 10 rounds\n"
          ]
        },
        {
          "name": "stderr",
          "output_type": "stream",
          "text": [
            "/opt/anaconda3/lib/python3.11/site-packages/sklearn/utils/deprecation.py:151: FutureWarning: 'force_all_finite' was renamed to 'ensure_all_finite' in 1.6 and will be removed in 1.8.\n",
            "  warnings.warn(\n",
            "[I 2025-02-15 15:49:44,183] Trial 263 finished with value: 1513.957722694762 and parameters: {'learning_rate': 0.08784147791677765, 'num_leaves': 50, 'max_depth': 4, 'min_child_samples': 50, 'subsample': 0.8364526299478345, 'colsample_bytree': 0.6204301804789905, 'reg_alpha': 6.819753971995272, 'reg_lambda': 3.056470152453785}. Best is trial 131 with value: 1513.596501576817.\n"
          ]
        },
        {
          "name": "stdout",
          "output_type": "stream",
          "text": [
            "Early stopping, best iteration is:\n",
            "[59]\tvalid_0's rmse: 38.9096\n"
          ]
        },
        {
          "name": "stderr",
          "output_type": "stream",
          "text": [
            "/opt/anaconda3/lib/python3.11/site-packages/sklearn/utils/deprecation.py:151: FutureWarning: 'force_all_finite' was renamed to 'ensure_all_finite' in 1.6 and will be removed in 1.8.\n",
            "  warnings.warn(\n"
          ]
        },
        {
          "name": "stdout",
          "output_type": "stream",
          "text": [
            "Training until validation scores don't improve for 10 rounds\n"
          ]
        },
        {
          "name": "stderr",
          "output_type": "stream",
          "text": [
            "/opt/anaconda3/lib/python3.11/site-packages/sklearn/utils/deprecation.py:151: FutureWarning: 'force_all_finite' was renamed to 'ensure_all_finite' in 1.6 and will be removed in 1.8.\n",
            "  warnings.warn(\n",
            "[I 2025-02-15 15:49:45,762] Trial 264 finished with value: 1514.0428972216725 and parameters: {'learning_rate': 0.08483028672694522, 'num_leaves': 48, 'max_depth': 3, 'min_child_samples': 36, 'subsample': 0.8178261946138239, 'colsample_bytree': 0.5932375989307881, 'reg_alpha': 7.171901826034034, 'reg_lambda': 4.1776023103425235}. Best is trial 131 with value: 1513.596501576817.\n"
          ]
        },
        {
          "name": "stdout",
          "output_type": "stream",
          "text": [
            "Did not meet early stopping. Best iteration is:\n",
            "[99]\tvalid_0's rmse: 38.9107\n"
          ]
        },
        {
          "name": "stderr",
          "output_type": "stream",
          "text": [
            "/opt/anaconda3/lib/python3.11/site-packages/sklearn/utils/deprecation.py:151: FutureWarning: 'force_all_finite' was renamed to 'ensure_all_finite' in 1.6 and will be removed in 1.8.\n",
            "  warnings.warn(\n"
          ]
        },
        {
          "name": "stdout",
          "output_type": "stream",
          "text": [
            "Training until validation scores don't improve for 10 rounds\n"
          ]
        },
        {
          "name": "stderr",
          "output_type": "stream",
          "text": [
            "/opt/anaconda3/lib/python3.11/site-packages/sklearn/utils/deprecation.py:151: FutureWarning: 'force_all_finite' was renamed to 'ensure_all_finite' in 1.6 and will be removed in 1.8.\n",
            "  warnings.warn(\n",
            "[I 2025-02-15 15:49:46,962] Trial 265 finished with value: 1514.1749960838927 and parameters: {'learning_rate': 0.09160692339570058, 'num_leaves': 52, 'max_depth': 4, 'min_child_samples': 41, 'subsample': 0.8048777462487914, 'colsample_bytree': 0.6105411766407712, 'reg_alpha': 6.7137081697908965, 'reg_lambda': 3.259276654187157}. Best is trial 131 with value: 1513.596501576817.\n"
          ]
        },
        {
          "name": "stdout",
          "output_type": "stream",
          "text": [
            "Early stopping, best iteration is:\n",
            "[39]\tvalid_0's rmse: 38.9124\n"
          ]
        },
        {
          "name": "stderr",
          "output_type": "stream",
          "text": [
            "/opt/anaconda3/lib/python3.11/site-packages/sklearn/utils/deprecation.py:151: FutureWarning: 'force_all_finite' was renamed to 'ensure_all_finite' in 1.6 and will be removed in 1.8.\n",
            "  warnings.warn(\n"
          ]
        },
        {
          "name": "stdout",
          "output_type": "stream",
          "text": [
            "Training until validation scores don't improve for 10 rounds\n"
          ]
        },
        {
          "name": "stderr",
          "output_type": "stream",
          "text": [
            "/opt/anaconda3/lib/python3.11/site-packages/sklearn/utils/deprecation.py:151: FutureWarning: 'force_all_finite' was renamed to 'ensure_all_finite' in 1.6 and will be removed in 1.8.\n",
            "  warnings.warn(\n",
            "[I 2025-02-15 15:49:48,705] Trial 266 finished with value: 1513.7622989400268 and parameters: {'learning_rate': 0.08690201252243089, 'num_leaves': 26, 'max_depth': 4, 'min_child_samples': 31, 'subsample': 0.8293389286510697, 'colsample_bytree': 0.60390032255116, 'reg_alpha': 5.642673047439179, 'reg_lambda': 3.798116980202335}. Best is trial 131 with value: 1513.596501576817.\n"
          ]
        },
        {
          "name": "stdout",
          "output_type": "stream",
          "text": [
            "Early stopping, best iteration is:\n",
            "[83]\tvalid_0's rmse: 38.9071\n"
          ]
        },
        {
          "name": "stderr",
          "output_type": "stream",
          "text": [
            "/opt/anaconda3/lib/python3.11/site-packages/sklearn/utils/deprecation.py:151: FutureWarning: 'force_all_finite' was renamed to 'ensure_all_finite' in 1.6 and will be removed in 1.8.\n",
            "  warnings.warn(\n"
          ]
        },
        {
          "name": "stdout",
          "output_type": "stream",
          "text": [
            "Training until validation scores don't improve for 10 rounds\n"
          ]
        },
        {
          "name": "stderr",
          "output_type": "stream",
          "text": [
            "/opt/anaconda3/lib/python3.11/site-packages/sklearn/utils/deprecation.py:151: FutureWarning: 'force_all_finite' was renamed to 'ensure_all_finite' in 1.6 and will be removed in 1.8.\n",
            "  warnings.warn(\n",
            "[I 2025-02-15 15:49:50,527] Trial 267 finished with value: 1514.0695677248327 and parameters: {'learning_rate': 0.08735668435166898, 'num_leaves': 26, 'max_depth': 5, 'min_child_samples': 32, 'subsample': 0.848040434785234, 'colsample_bytree': 0.6286575962621691, 'reg_alpha': 5.049416375988929, 'reg_lambda': 3.8919154254431763}. Best is trial 131 with value: 1513.596501576817.\n"
          ]
        },
        {
          "name": "stdout",
          "output_type": "stream",
          "text": [
            "Early stopping, best iteration is:\n",
            "[40]\tvalid_0's rmse: 38.911\n"
          ]
        },
        {
          "name": "stderr",
          "output_type": "stream",
          "text": [
            "/opt/anaconda3/lib/python3.11/site-packages/sklearn/utils/deprecation.py:151: FutureWarning: 'force_all_finite' was renamed to 'ensure_all_finite' in 1.6 and will be removed in 1.8.\n",
            "  warnings.warn(\n"
          ]
        },
        {
          "name": "stdout",
          "output_type": "stream",
          "text": [
            "Training until validation scores don't improve for 10 rounds\n"
          ]
        },
        {
          "name": "stderr",
          "output_type": "stream",
          "text": [
            "/opt/anaconda3/lib/python3.11/site-packages/sklearn/utils/deprecation.py:151: FutureWarning: 'force_all_finite' was renamed to 'ensure_all_finite' in 1.6 and will be removed in 1.8.\n",
            "  warnings.warn(\n",
            "[I 2025-02-15 15:49:52,411] Trial 268 finished with value: 1513.7554306751254 and parameters: {'learning_rate': 0.08640404746926814, 'num_leaves': 21, 'max_depth': 4, 'min_child_samples': 38, 'subsample': 0.8380698436323043, 'colsample_bytree': 0.6013978668742664, 'reg_alpha': 6.2559040229169325, 'reg_lambda': 2.7305359238291422}. Best is trial 131 with value: 1513.596501576817.\n"
          ]
        },
        {
          "name": "stdout",
          "output_type": "stream",
          "text": [
            "Early stopping, best iteration is:\n",
            "[75]\tvalid_0's rmse: 38.907\n"
          ]
        },
        {
          "name": "stderr",
          "output_type": "stream",
          "text": [
            "/opt/anaconda3/lib/python3.11/site-packages/sklearn/utils/deprecation.py:151: FutureWarning: 'force_all_finite' was renamed to 'ensure_all_finite' in 1.6 and will be removed in 1.8.\n",
            "  warnings.warn(\n"
          ]
        },
        {
          "name": "stdout",
          "output_type": "stream",
          "text": [
            "Training until validation scores don't improve for 10 rounds\n"
          ]
        },
        {
          "name": "stderr",
          "output_type": "stream",
          "text": [
            "/opt/anaconda3/lib/python3.11/site-packages/sklearn/utils/deprecation.py:151: FutureWarning: 'force_all_finite' was renamed to 'ensure_all_finite' in 1.6 and will be removed in 1.8.\n",
            "  warnings.warn(\n",
            "[I 2025-02-15 15:49:54,645] Trial 269 finished with value: 1513.8852375790138 and parameters: {'learning_rate': 0.08942186618317217, 'num_leaves': 22, 'max_depth': 7, 'min_child_samples': 39, 'subsample': 0.8412654425607836, 'colsample_bytree': 0.6114032207450749, 'reg_alpha': 6.077409466411711, 'reg_lambda': 2.4637741953561263}. Best is trial 131 with value: 1513.596501576817.\n"
          ]
        },
        {
          "name": "stdout",
          "output_type": "stream",
          "text": [
            "Early stopping, best iteration is:\n",
            "[58]\tvalid_0's rmse: 38.9087\n"
          ]
        },
        {
          "name": "stderr",
          "output_type": "stream",
          "text": [
            "/opt/anaconda3/lib/python3.11/site-packages/sklearn/utils/deprecation.py:151: FutureWarning: 'force_all_finite' was renamed to 'ensure_all_finite' in 1.6 and will be removed in 1.8.\n",
            "  warnings.warn(\n"
          ]
        },
        {
          "name": "stdout",
          "output_type": "stream",
          "text": [
            "Training until validation scores don't improve for 10 rounds\n"
          ]
        },
        {
          "name": "stderr",
          "output_type": "stream",
          "text": [
            "/opt/anaconda3/lib/python3.11/site-packages/sklearn/utils/deprecation.py:151: FutureWarning: 'force_all_finite' was renamed to 'ensure_all_finite' in 1.6 and will be removed in 1.8.\n",
            "  warnings.warn(\n",
            "[I 2025-02-15 15:49:56,284] Trial 270 finished with value: 1513.8815668781606 and parameters: {'learning_rate': 0.08339282504099953, 'num_leaves': 20, 'max_depth': 4, 'min_child_samples': 46, 'subsample': 0.8644459326697607, 'colsample_bytree': 0.7787503844807805, 'reg_alpha': 6.266618697679377, 'reg_lambda': 2.750764137854206}. Best is trial 131 with value: 1513.596501576817.\n"
          ]
        },
        {
          "name": "stdout",
          "output_type": "stream",
          "text": [
            "Early stopping, best iteration is:\n",
            "[67]\tvalid_0's rmse: 38.9086\n"
          ]
        },
        {
          "name": "stderr",
          "output_type": "stream",
          "text": [
            "/opt/anaconda3/lib/python3.11/site-packages/sklearn/utils/deprecation.py:151: FutureWarning: 'force_all_finite' was renamed to 'ensure_all_finite' in 1.6 and will be removed in 1.8.\n",
            "  warnings.warn(\n"
          ]
        },
        {
          "name": "stdout",
          "output_type": "stream",
          "text": [
            "Training until validation scores don't improve for 10 rounds\n",
            "Early stopping, best iteration is:\n",
            "[76]\tvalid_0's rmse: 38.9094\n"
          ]
        },
        {
          "name": "stderr",
          "output_type": "stream",
          "text": [
            "/opt/anaconda3/lib/python3.11/site-packages/sklearn/utils/deprecation.py:151: FutureWarning: 'force_all_finite' was renamed to 'ensure_all_finite' in 1.6 and will be removed in 1.8.\n",
            "  warnings.warn(\n",
            "[I 2025-02-15 15:49:58,565] Trial 271 finished with value: 1513.9409671169392 and parameters: {'learning_rate': 0.08749804102098101, 'num_leaves': 23, 'max_depth': 4, 'min_child_samples': 38, 'subsample': 0.8319645528725972, 'colsample_bytree': 0.6045701842126482, 'reg_alpha': 5.507750726883534, 'reg_lambda': 3.7864891273305346}. Best is trial 131 with value: 1513.596501576817.\n",
            "/opt/anaconda3/lib/python3.11/site-packages/sklearn/utils/deprecation.py:151: FutureWarning: 'force_all_finite' was renamed to 'ensure_all_finite' in 1.6 and will be removed in 1.8.\n",
            "  warnings.warn(\n"
          ]
        },
        {
          "name": "stdout",
          "output_type": "stream",
          "text": [
            "Training until validation scores don't improve for 10 rounds\n"
          ]
        },
        {
          "name": "stderr",
          "output_type": "stream",
          "text": [
            "/opt/anaconda3/lib/python3.11/site-packages/sklearn/utils/deprecation.py:151: FutureWarning: 'force_all_finite' was renamed to 'ensure_all_finite' in 1.6 and will be removed in 1.8.\n",
            "  warnings.warn(\n",
            "[I 2025-02-15 15:50:00,292] Trial 272 finished with value: 1513.9340715313772 and parameters: {'learning_rate': 0.08695093821156044, 'num_leaves': 22, 'max_depth': 4, 'min_child_samples': 43, 'subsample': 0.851960561148055, 'colsample_bytree': 0.6374875893303905, 'reg_alpha': 5.868860745129891, 'reg_lambda': 4.391066267975344}. Best is trial 131 with value: 1513.596501576817.\n"
          ]
        },
        {
          "name": "stdout",
          "output_type": "stream",
          "text": [
            "Early stopping, best iteration is:\n",
            "[75]\tvalid_0's rmse: 38.9093\n"
          ]
        },
        {
          "name": "stderr",
          "output_type": "stream",
          "text": [
            "/opt/anaconda3/lib/python3.11/site-packages/sklearn/utils/deprecation.py:151: FutureWarning: 'force_all_finite' was renamed to 'ensure_all_finite' in 1.6 and will be removed in 1.8.\n",
            "  warnings.warn(\n"
          ]
        },
        {
          "name": "stdout",
          "output_type": "stream",
          "text": [
            "Training until validation scores don't improve for 10 rounds\n"
          ]
        },
        {
          "name": "stderr",
          "output_type": "stream",
          "text": [
            "/opt/anaconda3/lib/python3.11/site-packages/sklearn/utils/deprecation.py:151: FutureWarning: 'force_all_finite' was renamed to 'ensure_all_finite' in 1.6 and will be removed in 1.8.\n",
            "  warnings.warn(\n",
            "[I 2025-02-15 15:50:02,006] Trial 273 finished with value: 1514.0026298014625 and parameters: {'learning_rate': 0.08880336297547912, 'num_leaves': 21, 'max_depth': 3, 'min_child_samples': 36, 'subsample': 0.8374713597021505, 'colsample_bytree': 0.6191386745191008, 'reg_alpha': 6.3289851395822545, 'reg_lambda': 3.601173800979738}. Best is trial 131 with value: 1513.596501576817.\n"
          ]
        },
        {
          "name": "stdout",
          "output_type": "stream",
          "text": [
            "Did not meet early stopping. Best iteration is:\n",
            "[91]\tvalid_0's rmse: 38.9102\n"
          ]
        },
        {
          "name": "stderr",
          "output_type": "stream",
          "text": [
            "/opt/anaconda3/lib/python3.11/site-packages/sklearn/utils/deprecation.py:151: FutureWarning: 'force_all_finite' was renamed to 'ensure_all_finite' in 1.6 and will be removed in 1.8.\n",
            "  warnings.warn(\n"
          ]
        },
        {
          "name": "stdout",
          "output_type": "stream",
          "text": [
            "Training until validation scores don't improve for 10 rounds\n"
          ]
        },
        {
          "name": "stderr",
          "output_type": "stream",
          "text": [
            "/opt/anaconda3/lib/python3.11/site-packages/sklearn/utils/deprecation.py:151: FutureWarning: 'force_all_finite' was renamed to 'ensure_all_finite' in 1.6 and will be removed in 1.8.\n",
            "  warnings.warn(\n",
            "[I 2025-02-15 15:50:03,409] Trial 274 finished with value: 1513.7889246325055 and parameters: {'learning_rate': 0.09120176111961698, 'num_leaves': 27, 'max_depth': 5, 'min_child_samples': 48, 'subsample': 0.8568591336516564, 'colsample_bytree': 0.770971624860765, 'reg_alpha': 5.661300728665191, 'reg_lambda': 2.3552032658024333}. Best is trial 131 with value: 1513.596501576817.\n"
          ]
        },
        {
          "name": "stdout",
          "output_type": "stream",
          "text": [
            "Early stopping, best iteration is:\n",
            "[50]\tvalid_0's rmse: 38.9074\n"
          ]
        },
        {
          "name": "stderr",
          "output_type": "stream",
          "text": [
            "/opt/anaconda3/lib/python3.11/site-packages/sklearn/utils/deprecation.py:151: FutureWarning: 'force_all_finite' was renamed to 'ensure_all_finite' in 1.6 and will be removed in 1.8.\n",
            "  warnings.warn(\n"
          ]
        },
        {
          "name": "stdout",
          "output_type": "stream",
          "text": [
            "Training until validation scores don't improve for 10 rounds\n"
          ]
        },
        {
          "name": "stderr",
          "output_type": "stream",
          "text": [
            "/opt/anaconda3/lib/python3.11/site-packages/sklearn/utils/deprecation.py:151: FutureWarning: 'force_all_finite' was renamed to 'ensure_all_finite' in 1.6 and will be removed in 1.8.\n",
            "  warnings.warn(\n",
            "[I 2025-02-15 15:50:04,908] Trial 275 finished with value: 1514.0121109640104 and parameters: {'learning_rate': 0.08238554225448391, 'num_leaves': 20, 'max_depth': 4, 'min_child_samples': 33, 'subsample': 0.8281206052571861, 'colsample_bytree': 0.753781911811378, 'reg_alpha': 6.417889418582265, 'reg_lambda': 4.07952702636892}. Best is trial 131 with value: 1513.596501576817.\n"
          ]
        },
        {
          "name": "stdout",
          "output_type": "stream",
          "text": [
            "Early stopping, best iteration is:\n",
            "[75]\tvalid_0's rmse: 38.9103\n"
          ]
        },
        {
          "name": "stderr",
          "output_type": "stream",
          "text": [
            "/opt/anaconda3/lib/python3.11/site-packages/sklearn/utils/deprecation.py:151: FutureWarning: 'force_all_finite' was renamed to 'ensure_all_finite' in 1.6 and will be removed in 1.8.\n",
            "  warnings.warn(\n"
          ]
        },
        {
          "name": "stdout",
          "output_type": "stream",
          "text": [
            "Training until validation scores don't improve for 10 rounds\n"
          ]
        },
        {
          "name": "stderr",
          "output_type": "stream",
          "text": [
            "/opt/anaconda3/lib/python3.11/site-packages/sklearn/utils/deprecation.py:151: FutureWarning: 'force_all_finite' was renamed to 'ensure_all_finite' in 1.6 and will be removed in 1.8.\n",
            "  warnings.warn(\n",
            "[I 2025-02-15 15:50:07,208] Trial 276 finished with value: 1513.8325214451663 and parameters: {'learning_rate': 0.0860565190679234, 'num_leaves': 45, 'max_depth': 4, 'min_child_samples': 40, 'subsample': 0.81732562482972, 'colsample_bytree': 0.6052323877823006, 'reg_alpha': 6.543292794677112, 'reg_lambda': 2.517962226837491}. Best is trial 131 with value: 1513.596501576817.\n"
          ]
        },
        {
          "name": "stdout",
          "output_type": "stream",
          "text": [
            "Early stopping, best iteration is:\n",
            "[80]\tvalid_0's rmse: 38.908\n"
          ]
        },
        {
          "name": "stderr",
          "output_type": "stream",
          "text": [
            "/opt/anaconda3/lib/python3.11/site-packages/sklearn/utils/deprecation.py:151: FutureWarning: 'force_all_finite' was renamed to 'ensure_all_finite' in 1.6 and will be removed in 1.8.\n",
            "  warnings.warn(\n"
          ]
        },
        {
          "name": "stdout",
          "output_type": "stream",
          "text": [
            "Training until validation scores don't improve for 10 rounds\n"
          ]
        },
        {
          "name": "stderr",
          "output_type": "stream",
          "text": [
            "/opt/anaconda3/lib/python3.11/site-packages/sklearn/utils/deprecation.py:151: FutureWarning: 'force_all_finite' was renamed to 'ensure_all_finite' in 1.6 and will be removed in 1.8.\n",
            "  warnings.warn(\n",
            "[I 2025-02-15 15:50:08,812] Trial 277 finished with value: 1513.902241182428 and parameters: {'learning_rate': 0.08427264412236703, 'num_leaves': 23, 'max_depth': 4, 'min_child_samples': 31, 'subsample': 0.8412420431554837, 'colsample_bytree': 0.6595567917570886, 'reg_alpha': 5.214896542347747, 'reg_lambda': 2.607817864116786}. Best is trial 131 with value: 1513.596501576817.\n"
          ]
        },
        {
          "name": "stdout",
          "output_type": "stream",
          "text": [
            "Early stopping, best iteration is:\n",
            "[75]\tvalid_0's rmse: 38.9089\n"
          ]
        },
        {
          "name": "stderr",
          "output_type": "stream",
          "text": [
            "/opt/anaconda3/lib/python3.11/site-packages/sklearn/utils/deprecation.py:151: FutureWarning: 'force_all_finite' was renamed to 'ensure_all_finite' in 1.6 and will be removed in 1.8.\n",
            "  warnings.warn(\n"
          ]
        },
        {
          "name": "stdout",
          "output_type": "stream",
          "text": [
            "Training until validation scores don't improve for 10 rounds\n"
          ]
        },
        {
          "name": "stderr",
          "output_type": "stream",
          "text": [
            "/opt/anaconda3/lib/python3.11/site-packages/sklearn/utils/deprecation.py:151: FutureWarning: 'force_all_finite' was renamed to 'ensure_all_finite' in 1.6 and will be removed in 1.8.\n",
            "  warnings.warn(\n",
            "[I 2025-02-15 15:50:10,445] Trial 278 finished with value: 1513.9101747680854 and parameters: {'learning_rate': 0.08184643444464522, 'num_leaves': 48, 'max_depth': 4, 'min_child_samples': 36, 'subsample': 0.8268332878713749, 'colsample_bytree': 0.6211093197909101, 'reg_alpha': 1.0707875830645666, 'reg_lambda': 3.108043242310416}. Best is trial 131 with value: 1513.596501576817.\n"
          ]
        },
        {
          "name": "stdout",
          "output_type": "stream",
          "text": [
            "Early stopping, best iteration is:\n",
            "[74]\tvalid_0's rmse: 38.909\n"
          ]
        },
        {
          "name": "stderr",
          "output_type": "stream",
          "text": [
            "/opt/anaconda3/lib/python3.11/site-packages/sklearn/utils/deprecation.py:151: FutureWarning: 'force_all_finite' was renamed to 'ensure_all_finite' in 1.6 and will be removed in 1.8.\n",
            "  warnings.warn(\n"
          ]
        },
        {
          "name": "stdout",
          "output_type": "stream",
          "text": [
            "Training until validation scores don't improve for 10 rounds\n"
          ]
        },
        {
          "name": "stderr",
          "output_type": "stream",
          "text": [
            "/opt/anaconda3/lib/python3.11/site-packages/sklearn/utils/deprecation.py:151: FutureWarning: 'force_all_finite' was renamed to 'ensure_all_finite' in 1.6 and will be removed in 1.8.\n",
            "  warnings.warn(\n",
            "[I 2025-02-15 15:50:12,256] Trial 279 finished with value: 1513.8768013106803 and parameters: {'learning_rate': 0.08363049437771232, 'num_leaves': 24, 'max_depth': 5, 'min_child_samples': 43, 'subsample': 0.8120025939286528, 'colsample_bytree': 0.6426585064675439, 'reg_alpha': 6.206873892842026, 'reg_lambda': 0.9025010219641794}. Best is trial 131 with value: 1513.596501576817.\n"
          ]
        },
        {
          "name": "stdout",
          "output_type": "stream",
          "text": [
            "Early stopping, best iteration is:\n",
            "[60]\tvalid_0's rmse: 38.9086\n"
          ]
        },
        {
          "name": "stderr",
          "output_type": "stream",
          "text": [
            "/opt/anaconda3/lib/python3.11/site-packages/sklearn/utils/deprecation.py:151: FutureWarning: 'force_all_finite' was renamed to 'ensure_all_finite' in 1.6 and will be removed in 1.8.\n",
            "  warnings.warn(\n"
          ]
        },
        {
          "name": "stdout",
          "output_type": "stream",
          "text": [
            "Training until validation scores don't improve for 10 rounds\n"
          ]
        },
        {
          "name": "stderr",
          "output_type": "stream",
          "text": [
            "/opt/anaconda3/lib/python3.11/site-packages/sklearn/utils/deprecation.py:151: FutureWarning: 'force_all_finite' was renamed to 'ensure_all_finite' in 1.6 and will be removed in 1.8.\n",
            "  warnings.warn(\n",
            "[I 2025-02-15 15:50:14,131] Trial 280 finished with value: 1513.8488209405668 and parameters: {'learning_rate': 0.08658477022417348, 'num_leaves': 25, 'max_depth': 4, 'min_child_samples': 39, 'subsample': 0.8017440308918053, 'colsample_bytree': 0.7591251556061679, 'reg_alpha': 5.931458639115156, 'reg_lambda': 2.8357647964234065}. Best is trial 131 with value: 1513.596501576817.\n"
          ]
        },
        {
          "name": "stdout",
          "output_type": "stream",
          "text": [
            "Early stopping, best iteration is:\n",
            "[85]\tvalid_0's rmse: 38.9082\n"
          ]
        },
        {
          "name": "stderr",
          "output_type": "stream",
          "text": [
            "/opt/anaconda3/lib/python3.11/site-packages/sklearn/utils/deprecation.py:151: FutureWarning: 'force_all_finite' was renamed to 'ensure_all_finite' in 1.6 and will be removed in 1.8.\n",
            "  warnings.warn(\n"
          ]
        },
        {
          "name": "stdout",
          "output_type": "stream",
          "text": [
            "Training until validation scores don't improve for 10 rounds\n"
          ]
        },
        {
          "name": "stderr",
          "output_type": "stream",
          "text": [
            "/opt/anaconda3/lib/python3.11/site-packages/sklearn/utils/deprecation.py:151: FutureWarning: 'force_all_finite' was renamed to 'ensure_all_finite' in 1.6 and will be removed in 1.8.\n",
            "  warnings.warn(\n",
            "[I 2025-02-15 15:50:15,707] Trial 281 finished with value: 1513.833685931192 and parameters: {'learning_rate': 0.08980976386686673, 'num_leaves': 46, 'max_depth': 4, 'min_child_samples': 30, 'subsample': 0.600129300292927, 'colsample_bytree': 0.6290233249952241, 'reg_alpha': 8.755937366594956, 'reg_lambda': 3.7991964925736856}. Best is trial 131 with value: 1513.596501576817.\n"
          ]
        },
        {
          "name": "stdout",
          "output_type": "stream",
          "text": [
            "Early stopping, best iteration is:\n",
            "[75]\tvalid_0's rmse: 38.908\n"
          ]
        },
        {
          "name": "stderr",
          "output_type": "stream",
          "text": [
            "/opt/anaconda3/lib/python3.11/site-packages/sklearn/utils/deprecation.py:151: FutureWarning: 'force_all_finite' was renamed to 'ensure_all_finite' in 1.6 and will be removed in 1.8.\n",
            "  warnings.warn(\n"
          ]
        },
        {
          "name": "stdout",
          "output_type": "stream",
          "text": [
            "Training until validation scores don't improve for 10 rounds\n"
          ]
        },
        {
          "name": "stderr",
          "output_type": "stream",
          "text": [
            "/opt/anaconda3/lib/python3.11/site-packages/sklearn/utils/deprecation.py:151: FutureWarning: 'force_all_finite' was renamed to 'ensure_all_finite' in 1.6 and will be removed in 1.8.\n",
            "  warnings.warn(\n",
            "[I 2025-02-15 15:50:17,255] Trial 282 finished with value: 1514.0022159626358 and parameters: {'learning_rate': 0.08497809218183709, 'num_leaves': 58, 'max_depth': 3, 'min_child_samples': 53, 'subsample': 0.8322364572874625, 'colsample_bytree': 0.6147455374178776, 'reg_alpha': 8.556182188154708, 'reg_lambda': 2.1886212347637484}. Best is trial 131 with value: 1513.596501576817.\n"
          ]
        },
        {
          "name": "stdout",
          "output_type": "stream",
          "text": [
            "Did not meet early stopping. Best iteration is:\n",
            "[94]\tvalid_0's rmse: 38.9102\n"
          ]
        },
        {
          "name": "stderr",
          "output_type": "stream",
          "text": [
            "/opt/anaconda3/lib/python3.11/site-packages/sklearn/utils/deprecation.py:151: FutureWarning: 'force_all_finite' was renamed to 'ensure_all_finite' in 1.6 and will be removed in 1.8.\n",
            "  warnings.warn(\n"
          ]
        },
        {
          "name": "stdout",
          "output_type": "stream",
          "text": [
            "Training until validation scores don't improve for 10 rounds\n"
          ]
        },
        {
          "name": "stderr",
          "output_type": "stream",
          "text": [
            "/opt/anaconda3/lib/python3.11/site-packages/sklearn/utils/deprecation.py:151: FutureWarning: 'force_all_finite' was renamed to 'ensure_all_finite' in 1.6 and will be removed in 1.8.\n",
            "  warnings.warn(\n",
            "[I 2025-02-15 15:50:18,615] Trial 283 finished with value: 1514.0388930337103 and parameters: {'learning_rate': 0.08164284141361311, 'num_leaves': 55, 'max_depth': 4, 'min_child_samples': 35, 'subsample': 0.8459498022407947, 'colsample_bytree': 0.598800807304194, 'reg_alpha': 6.080046394658067, 'reg_lambda': 3.9688152443601683}. Best is trial 131 with value: 1513.596501576817.\n"
          ]
        },
        {
          "name": "stdout",
          "output_type": "stream",
          "text": [
            "Early stopping, best iteration is:\n",
            "[43]\tvalid_0's rmse: 38.9107\n"
          ]
        },
        {
          "name": "stderr",
          "output_type": "stream",
          "text": [
            "/opt/anaconda3/lib/python3.11/site-packages/sklearn/utils/deprecation.py:151: FutureWarning: 'force_all_finite' was renamed to 'ensure_all_finite' in 1.6 and will be removed in 1.8.\n",
            "  warnings.warn(\n"
          ]
        },
        {
          "name": "stdout",
          "output_type": "stream",
          "text": [
            "Training until validation scores don't improve for 10 rounds\n"
          ]
        },
        {
          "name": "stderr",
          "output_type": "stream",
          "text": [
            "/opt/anaconda3/lib/python3.11/site-packages/sklearn/utils/deprecation.py:151: FutureWarning: 'force_all_finite' was renamed to 'ensure_all_finite' in 1.6 and will be removed in 1.8.\n",
            "  warnings.warn(\n",
            "[I 2025-02-15 15:50:20,185] Trial 284 finished with value: 1513.9533857607037 and parameters: {'learning_rate': 0.06490344978186281, 'num_leaves': 44, 'max_depth': 4, 'min_child_samples': 44, 'subsample': 0.8172734419016359, 'colsample_bytree': 0.7693338514542294, 'reg_alpha': 6.93215660186498, 'reg_lambda': 1.2897806272758783}. Best is trial 131 with value: 1513.596501576817.\n"
          ]
        },
        {
          "name": "stdout",
          "output_type": "stream",
          "text": [
            "Did not meet early stopping. Best iteration is:\n",
            "[92]\tvalid_0's rmse: 38.9096\n"
          ]
        },
        {
          "name": "stderr",
          "output_type": "stream",
          "text": [
            "/opt/anaconda3/lib/python3.11/site-packages/sklearn/utils/deprecation.py:151: FutureWarning: 'force_all_finite' was renamed to 'ensure_all_finite' in 1.6 and will be removed in 1.8.\n",
            "  warnings.warn(\n"
          ]
        },
        {
          "name": "stdout",
          "output_type": "stream",
          "text": [
            "Training until validation scores don't improve for 10 rounds\n"
          ]
        },
        {
          "name": "stderr",
          "output_type": "stream",
          "text": [
            "/opt/anaconda3/lib/python3.11/site-packages/sklearn/utils/deprecation.py:151: FutureWarning: 'force_all_finite' was renamed to 'ensure_all_finite' in 1.6 and will be removed in 1.8.\n",
            "  warnings.warn(\n",
            "[I 2025-02-15 15:50:21,995] Trial 285 finished with value: 1513.993707993602 and parameters: {'learning_rate': 0.07931727219181073, 'num_leaves': 67, 'max_depth': 4, 'min_child_samples': 33, 'subsample': 0.8236179830783066, 'colsample_bytree': 0.5924566257207634, 'reg_alpha': 9.069061430943641, 'reg_lambda': 3.592143710700233}. Best is trial 131 with value: 1513.596501576817.\n"
          ]
        },
        {
          "name": "stdout",
          "output_type": "stream",
          "text": [
            "Did not meet early stopping. Best iteration is:\n",
            "[97]\tvalid_0's rmse: 38.9101\n"
          ]
        },
        {
          "name": "stderr",
          "output_type": "stream",
          "text": [
            "/opt/anaconda3/lib/python3.11/site-packages/sklearn/utils/deprecation.py:151: FutureWarning: 'force_all_finite' was renamed to 'ensure_all_finite' in 1.6 and will be removed in 1.8.\n",
            "  warnings.warn(\n"
          ]
        },
        {
          "name": "stdout",
          "output_type": "stream",
          "text": [
            "Training until validation scores don't improve for 10 rounds\n"
          ]
        },
        {
          "name": "stderr",
          "output_type": "stream",
          "text": [
            "/opt/anaconda3/lib/python3.11/site-packages/sklearn/utils/deprecation.py:151: FutureWarning: 'force_all_finite' was renamed to 'ensure_all_finite' in 1.6 and will be removed in 1.8.\n",
            "  warnings.warn(\n",
            "[I 2025-02-15 15:50:23,457] Trial 286 finished with value: 1513.8990955104045 and parameters: {'learning_rate': 0.08825383827095003, 'num_leaves': 48, 'max_depth': 4, 'min_child_samples': 28, 'subsample': 0.8364905570326643, 'colsample_bytree': 0.6336788279425525, 'reg_alpha': 6.550095409016388, 'reg_lambda': 3.3843159947492465}. Best is trial 131 with value: 1513.596501576817.\n"
          ]
        },
        {
          "name": "stdout",
          "output_type": "stream",
          "text": [
            "Early stopping, best iteration is:\n",
            "[58]\tvalid_0's rmse: 38.9089\n"
          ]
        },
        {
          "name": "stderr",
          "output_type": "stream",
          "text": [
            "/opt/anaconda3/lib/python3.11/site-packages/sklearn/utils/deprecation.py:151: FutureWarning: 'force_all_finite' was renamed to 'ensure_all_finite' in 1.6 and will be removed in 1.8.\n",
            "  warnings.warn(\n"
          ]
        },
        {
          "name": "stdout",
          "output_type": "stream",
          "text": [
            "Training until validation scores don't improve for 10 rounds\n"
          ]
        },
        {
          "name": "stderr",
          "output_type": "stream",
          "text": [
            "/opt/anaconda3/lib/python3.11/site-packages/sklearn/utils/deprecation.py:151: FutureWarning: 'force_all_finite' was renamed to 'ensure_all_finite' in 1.6 and will be removed in 1.8.\n",
            "  warnings.warn(\n",
            "[I 2025-02-15 15:50:25,562] Trial 287 finished with value: 1513.9776588063748 and parameters: {'learning_rate': 0.08330279626104364, 'num_leaves': 28, 'max_depth': 4, 'min_child_samples': 40, 'subsample': 0.8040039676229738, 'colsample_bytree': 0.6090170217266133, 'reg_alpha': 2.2925019488894103, 'reg_lambda': 2.6716044275102573}. Best is trial 131 with value: 1513.596501576817.\n"
          ]
        },
        {
          "name": "stdout",
          "output_type": "stream",
          "text": [
            "Early stopping, best iteration is:\n",
            "[65]\tvalid_0's rmse: 38.9099\n"
          ]
        },
        {
          "name": "stderr",
          "output_type": "stream",
          "text": [
            "/opt/anaconda3/lib/python3.11/site-packages/sklearn/utils/deprecation.py:151: FutureWarning: 'force_all_finite' was renamed to 'ensure_all_finite' in 1.6 and will be removed in 1.8.\n",
            "  warnings.warn(\n"
          ]
        },
        {
          "name": "stdout",
          "output_type": "stream",
          "text": [
            "Training until validation scores don't improve for 10 rounds\n",
            "Did not meet early stopping. Best iteration is:\n",
            "[100]\tvalid_0's rmse: 38.9149\n"
          ]
        },
        {
          "name": "stderr",
          "output_type": "stream",
          "text": [
            "/opt/anaconda3/lib/python3.11/site-packages/sklearn/utils/deprecation.py:151: FutureWarning: 'force_all_finite' was renamed to 'ensure_all_finite' in 1.6 and will be removed in 1.8.\n",
            "  warnings.warn(\n",
            "[I 2025-02-15 15:50:27,949] Trial 288 finished with value: 1514.3680590990973 and parameters: {'learning_rate': 0.021443572039454684, 'num_leaves': 64, 'max_depth': 4, 'min_child_samples': 37, 'subsample': 0.792845308310115, 'colsample_bytree': 0.6244407079050485, 'reg_alpha': 1.3397163587969256, 'reg_lambda': 3.220294633875572}. Best is trial 131 with value: 1513.596501576817.\n",
            "/opt/anaconda3/lib/python3.11/site-packages/sklearn/utils/deprecation.py:151: FutureWarning: 'force_all_finite' was renamed to 'ensure_all_finite' in 1.6 and will be removed in 1.8.\n",
            "  warnings.warn(\n"
          ]
        },
        {
          "name": "stdout",
          "output_type": "stream",
          "text": [
            "Training until validation scores don't improve for 10 rounds\n"
          ]
        },
        {
          "name": "stderr",
          "output_type": "stream",
          "text": [
            "/opt/anaconda3/lib/python3.11/site-packages/sklearn/utils/deprecation.py:151: FutureWarning: 'force_all_finite' was renamed to 'ensure_all_finite' in 1.6 and will be removed in 1.8.\n",
            "  warnings.warn(\n",
            "[I 2025-02-15 15:50:29,885] Trial 289 finished with value: 1513.730380659145 and parameters: {'learning_rate': 0.08605434859584506, 'num_leaves': 21, 'max_depth': 4, 'min_child_samples': 32, 'subsample': 0.812211445941702, 'colsample_bytree': 0.7833008328184712, 'reg_alpha': 6.723834666744567, 'reg_lambda': 1.8253957640013794}. Best is trial 131 with value: 1513.596501576817.\n"
          ]
        },
        {
          "name": "stdout",
          "output_type": "stream",
          "text": [
            "Early stopping, best iteration is:\n",
            "[72]\tvalid_0's rmse: 38.9067\n"
          ]
        },
        {
          "name": "stderr",
          "output_type": "stream",
          "text": [
            "/opt/anaconda3/lib/python3.11/site-packages/sklearn/utils/deprecation.py:151: FutureWarning: 'force_all_finite' was renamed to 'ensure_all_finite' in 1.6 and will be removed in 1.8.\n",
            "  warnings.warn(\n"
          ]
        },
        {
          "name": "stdout",
          "output_type": "stream",
          "text": [
            "Training until validation scores don't improve for 10 rounds\n"
          ]
        },
        {
          "name": "stderr",
          "output_type": "stream",
          "text": [
            "/opt/anaconda3/lib/python3.11/site-packages/sklearn/utils/deprecation.py:151: FutureWarning: 'force_all_finite' was renamed to 'ensure_all_finite' in 1.6 and will be removed in 1.8.\n",
            "  warnings.warn(\n",
            "[I 2025-02-15 15:50:31,835] Trial 290 finished with value: 1513.6741520980959 and parameters: {'learning_rate': 0.08508100501763215, 'num_leaves': 21, 'max_depth': 4, 'min_child_samples': 25, 'subsample': 0.8218315460825208, 'colsample_bytree': 0.7817499658851707, 'reg_alpha': 6.752440920693291, 'reg_lambda': 1.9201868320252065}. Best is trial 131 with value: 1513.596501576817.\n"
          ]
        },
        {
          "name": "stdout",
          "output_type": "stream",
          "text": [
            "Did not meet early stopping. Best iteration is:\n",
            "[94]\tvalid_0's rmse: 38.906\n"
          ]
        },
        {
          "name": "stderr",
          "output_type": "stream",
          "text": [
            "/opt/anaconda3/lib/python3.11/site-packages/sklearn/utils/deprecation.py:151: FutureWarning: 'force_all_finite' was renamed to 'ensure_all_finite' in 1.6 and will be removed in 1.8.\n",
            "  warnings.warn(\n"
          ]
        },
        {
          "name": "stdout",
          "output_type": "stream",
          "text": [
            "Training until validation scores don't improve for 10 rounds\n"
          ]
        },
        {
          "name": "stderr",
          "output_type": "stream",
          "text": [
            "/opt/anaconda3/lib/python3.11/site-packages/sklearn/utils/deprecation.py:151: FutureWarning: 'force_all_finite' was renamed to 'ensure_all_finite' in 1.6 and will be removed in 1.8.\n",
            "  warnings.warn(\n",
            "[I 2025-02-15 15:50:33,156] Trial 291 finished with value: 1514.1321216802387 and parameters: {'learning_rate': 0.08656631137834693, 'num_leaves': 21, 'max_depth': 5, 'min_child_samples': 24, 'subsample': 0.8282419268199339, 'colsample_bytree': 0.7777392891565349, 'reg_alpha': 6.722535796247928, 'reg_lambda': 1.6533088310483388}. Best is trial 131 with value: 1513.596501576817.\n"
          ]
        },
        {
          "name": "stdout",
          "output_type": "stream",
          "text": [
            "Early stopping, best iteration is:\n",
            "[27]\tvalid_0's rmse: 38.9119\n"
          ]
        },
        {
          "name": "stderr",
          "output_type": "stream",
          "text": [
            "/opt/anaconda3/lib/python3.11/site-packages/sklearn/utils/deprecation.py:151: FutureWarning: 'force_all_finite' was renamed to 'ensure_all_finite' in 1.6 and will be removed in 1.8.\n",
            "  warnings.warn(\n"
          ]
        },
        {
          "name": "stdout",
          "output_type": "stream",
          "text": [
            "Training until validation scores don't improve for 10 rounds\n"
          ]
        },
        {
          "name": "stderr",
          "output_type": "stream",
          "text": [
            "/opt/anaconda3/lib/python3.11/site-packages/sklearn/utils/deprecation.py:151: FutureWarning: 'force_all_finite' was renamed to 'ensure_all_finite' in 1.6 and will be removed in 1.8.\n",
            "  warnings.warn(\n",
            "[I 2025-02-15 15:50:34,980] Trial 292 finished with value: 1513.78706214155 and parameters: {'learning_rate': 0.08877957145774379, 'num_leaves': 22, 'max_depth': 4, 'min_child_samples': 47, 'subsample': 0.8234012085329612, 'colsample_bytree': 0.7878856016489063, 'reg_alpha': 8.328190252070426, 'reg_lambda': 1.9917661864730098}. Best is trial 131 with value: 1513.596501576817.\n"
          ]
        },
        {
          "name": "stdout",
          "output_type": "stream",
          "text": [
            "Early stopping, best iteration is:\n",
            "[60]\tvalid_0's rmse: 38.9074\n"
          ]
        },
        {
          "name": "stderr",
          "output_type": "stream",
          "text": [
            "/opt/anaconda3/lib/python3.11/site-packages/sklearn/utils/deprecation.py:151: FutureWarning: 'force_all_finite' was renamed to 'ensure_all_finite' in 1.6 and will be removed in 1.8.\n",
            "  warnings.warn(\n"
          ]
        },
        {
          "name": "stdout",
          "output_type": "stream",
          "text": [
            "Training until validation scores don't improve for 10 rounds\n"
          ]
        },
        {
          "name": "stderr",
          "output_type": "stream",
          "text": [
            "/opt/anaconda3/lib/python3.11/site-packages/sklearn/utils/deprecation.py:151: FutureWarning: 'force_all_finite' was renamed to 'ensure_all_finite' in 1.6 and will be removed in 1.8.\n",
            "  warnings.warn(\n",
            "[I 2025-02-15 15:50:36,527] Trial 293 finished with value: 1513.9832488784666 and parameters: {'learning_rate': 0.08455630753323982, 'num_leaves': 24, 'max_depth': 4, 'min_child_samples': 21, 'subsample': 0.8114562134355183, 'colsample_bytree': 0.7832626177410966, 'reg_alpha': 6.340089389483007, 'reg_lambda': 1.8174281273002892}. Best is trial 131 with value: 1513.596501576817.\n"
          ]
        },
        {
          "name": "stdout",
          "output_type": "stream",
          "text": [
            "Early stopping, best iteration is:\n",
            "[60]\tvalid_0's rmse: 38.9099\n"
          ]
        },
        {
          "name": "stderr",
          "output_type": "stream",
          "text": [
            "/opt/anaconda3/lib/python3.11/site-packages/sklearn/utils/deprecation.py:151: FutureWarning: 'force_all_finite' was renamed to 'ensure_all_finite' in 1.6 and will be removed in 1.8.\n",
            "  warnings.warn(\n"
          ]
        },
        {
          "name": "stdout",
          "output_type": "stream",
          "text": [
            "Training until validation scores don't improve for 10 rounds\n"
          ]
        },
        {
          "name": "stderr",
          "output_type": "stream",
          "text": [
            "/opt/anaconda3/lib/python3.11/site-packages/sklearn/utils/deprecation.py:151: FutureWarning: 'force_all_finite' was renamed to 'ensure_all_finite' in 1.6 and will be removed in 1.8.\n",
            "  warnings.warn(\n",
            "[I 2025-02-15 15:50:37,934] Trial 294 finished with value: 1514.0521128702437 and parameters: {'learning_rate': 0.09051798972576415, 'num_leaves': 21, 'max_depth': 3, 'min_child_samples': 26, 'subsample': 0.8451626870001143, 'colsample_bytree': 0.7776250631737428, 'reg_alpha': 9.583003857428691, 'reg_lambda': 1.8945802846093907}. Best is trial 131 with value: 1513.596501576817.\n"
          ]
        },
        {
          "name": "stdout",
          "output_type": "stream",
          "text": [
            "Early stopping, best iteration is:\n",
            "[75]\tvalid_0's rmse: 38.9108\n"
          ]
        },
        {
          "name": "stderr",
          "output_type": "stream",
          "text": [
            "/opt/anaconda3/lib/python3.11/site-packages/sklearn/utils/deprecation.py:151: FutureWarning: 'force_all_finite' was renamed to 'ensure_all_finite' in 1.6 and will be removed in 1.8.\n",
            "  warnings.warn(\n"
          ]
        },
        {
          "name": "stdout",
          "output_type": "stream",
          "text": [
            "Training until validation scores don't improve for 10 rounds\n"
          ]
        },
        {
          "name": "stderr",
          "output_type": "stream",
          "text": [
            "/opt/anaconda3/lib/python3.11/site-packages/sklearn/utils/deprecation.py:151: FutureWarning: 'force_all_finite' was renamed to 'ensure_all_finite' in 1.6 and will be removed in 1.8.\n",
            "  warnings.warn(\n",
            "[I 2025-02-15 15:50:39,680] Trial 295 finished with value: 1513.761137278191 and parameters: {'learning_rate': 0.08676558389824024, 'num_leaves': 20, 'max_depth': 4, 'min_child_samples': 32, 'subsample': 0.8322331567938964, 'colsample_bytree': 0.762394959746334, 'reg_alpha': 4.757662370666827, 'reg_lambda': 1.7420411837370813}. Best is trial 131 with value: 1513.596501576817.\n"
          ]
        },
        {
          "name": "stdout",
          "output_type": "stream",
          "text": [
            "Early stopping, best iteration is:\n",
            "[80]\tvalid_0's rmse: 38.9071\n"
          ]
        },
        {
          "name": "stderr",
          "output_type": "stream",
          "text": [
            "/opt/anaconda3/lib/python3.11/site-packages/sklearn/utils/deprecation.py:151: FutureWarning: 'force_all_finite' was renamed to 'ensure_all_finite' in 1.6 and will be removed in 1.8.\n",
            "  warnings.warn(\n"
          ]
        },
        {
          "name": "stdout",
          "output_type": "stream",
          "text": [
            "Training until validation scores don't improve for 10 rounds\n"
          ]
        },
        {
          "name": "stderr",
          "output_type": "stream",
          "text": [
            "/opt/anaconda3/lib/python3.11/site-packages/sklearn/utils/deprecation.py:151: FutureWarning: 'force_all_finite' was renamed to 'ensure_all_finite' in 1.6 and will be removed in 1.8.\n",
            "  warnings.warn(\n",
            "[I 2025-02-15 15:50:41,230] Trial 296 finished with value: 1514.2882852754021 and parameters: {'learning_rate': 0.08690672072948016, 'num_leaves': 20, 'max_depth': 11, 'min_child_samples': 31, 'subsample': 0.6234371007497899, 'colsample_bytree': 0.7958913803269072, 'reg_alpha': 5.719594664583732, 'reg_lambda': 1.4503896761031767}. Best is trial 131 with value: 1513.596501576817.\n"
          ]
        },
        {
          "name": "stdout",
          "output_type": "stream",
          "text": [
            "Early stopping, best iteration is:\n",
            "[48]\tvalid_0's rmse: 38.9139\n"
          ]
        },
        {
          "name": "stderr",
          "output_type": "stream",
          "text": [
            "/opt/anaconda3/lib/python3.11/site-packages/sklearn/utils/deprecation.py:151: FutureWarning: 'force_all_finite' was renamed to 'ensure_all_finite' in 1.6 and will be removed in 1.8.\n",
            "  warnings.warn(\n"
          ]
        },
        {
          "name": "stdout",
          "output_type": "stream",
          "text": [
            "Training until validation scores don't improve for 10 rounds\n"
          ]
        },
        {
          "name": "stderr",
          "output_type": "stream",
          "text": [
            "/opt/anaconda3/lib/python3.11/site-packages/sklearn/utils/deprecation.py:151: FutureWarning: 'force_all_finite' was renamed to 'ensure_all_finite' in 1.6 and will be removed in 1.8.\n",
            "  warnings.warn(\n",
            "[I 2025-02-15 15:50:42,986] Trial 297 finished with value: 1513.7295372090068 and parameters: {'learning_rate': 0.08596148817394898, 'num_leaves': 22, 'max_depth': 4, 'min_child_samples': 20, 'subsample': 0.8378754103734298, 'colsample_bytree': 0.7739028522363104, 'reg_alpha': 4.480265608601785, 'reg_lambda': 1.5023938756793975}. Best is trial 131 with value: 1513.596501576817.\n"
          ]
        },
        {
          "name": "stdout",
          "output_type": "stream",
          "text": [
            "Early stopping, best iteration is:\n",
            "[80]\tvalid_0's rmse: 38.9067\n"
          ]
        },
        {
          "name": "stderr",
          "output_type": "stream",
          "text": [
            "/opt/anaconda3/lib/python3.11/site-packages/sklearn/utils/deprecation.py:151: FutureWarning: 'force_all_finite' was renamed to 'ensure_all_finite' in 1.6 and will be removed in 1.8.\n",
            "  warnings.warn(\n"
          ]
        },
        {
          "name": "stdout",
          "output_type": "stream",
          "text": [
            "Training until validation scores don't improve for 10 rounds\n"
          ]
        },
        {
          "name": "stderr",
          "output_type": "stream",
          "text": [
            "/opt/anaconda3/lib/python3.11/site-packages/sklearn/utils/deprecation.py:151: FutureWarning: 'force_all_finite' was renamed to 'ensure_all_finite' in 1.6 and will be removed in 1.8.\n",
            "  warnings.warn(\n",
            "[I 2025-02-15 15:50:44,567] Trial 298 finished with value: 1513.7263744407285 and parameters: {'learning_rate': 0.08747041880200813, 'num_leaves': 22, 'max_depth': 4, 'min_child_samples': 20, 'subsample': 0.8281997431099073, 'colsample_bytree': 0.7709723465760809, 'reg_alpha': 4.657397347629746, 'reg_lambda': 1.7193141013330524}. Best is trial 131 with value: 1513.596501576817.\n"
          ]
        },
        {
          "name": "stdout",
          "output_type": "stream",
          "text": [
            "Early stopping, best iteration is:\n",
            "[66]\tvalid_0's rmse: 38.9066\n"
          ]
        },
        {
          "name": "stderr",
          "output_type": "stream",
          "text": [
            "/opt/anaconda3/lib/python3.11/site-packages/sklearn/utils/deprecation.py:151: FutureWarning: 'force_all_finite' was renamed to 'ensure_all_finite' in 1.6 and will be removed in 1.8.\n",
            "  warnings.warn(\n"
          ]
        },
        {
          "name": "stdout",
          "output_type": "stream",
          "text": [
            "Training until validation scores don't improve for 10 rounds\n"
          ]
        },
        {
          "name": "stderr",
          "output_type": "stream",
          "text": [
            "/opt/anaconda3/lib/python3.11/site-packages/sklearn/utils/deprecation.py:151: FutureWarning: 'force_all_finite' was renamed to 'ensure_all_finite' in 1.6 and will be removed in 1.8.\n",
            "  warnings.warn(\n",
            "[I 2025-02-15 15:50:45,945] Trial 299 finished with value: 1514.1467411070555 and parameters: {'learning_rate': 0.091855345985362, 'num_leaves': 23, 'max_depth': 5, 'min_child_samples': 20, 'subsample': 0.8345374941557004, 'colsample_bytree': 0.782963671344377, 'reg_alpha': 4.83532803025446, 'reg_lambda': 1.505586169434437}. Best is trial 131 with value: 1513.596501576817.\n"
          ]
        },
        {
          "name": "stdout",
          "output_type": "stream",
          "text": [
            "Early stopping, best iteration is:\n",
            "[33]\tvalid_0's rmse: 38.912\n"
          ]
        },
        {
          "name": "stderr",
          "output_type": "stream",
          "text": [
            "/opt/anaconda3/lib/python3.11/site-packages/sklearn/utils/deprecation.py:151: FutureWarning: 'force_all_finite' was renamed to 'ensure_all_finite' in 1.6 and will be removed in 1.8.\n",
            "  warnings.warn(\n"
          ]
        },
        {
          "name": "stdout",
          "output_type": "stream",
          "text": [
            "Training until validation scores don't improve for 10 rounds\n"
          ]
        },
        {
          "name": "stderr",
          "output_type": "stream",
          "text": [
            "/opt/anaconda3/lib/python3.11/site-packages/sklearn/utils/deprecation.py:151: FutureWarning: 'force_all_finite' was renamed to 'ensure_all_finite' in 1.6 and will be removed in 1.8.\n",
            "  warnings.warn(\n",
            "[I 2025-02-15 15:50:47,538] Trial 300 finished with value: 1514.0070787139641 and parameters: {'learning_rate': 0.06024188781304429, 'num_leaves': 20, 'max_depth': 4, 'min_child_samples': 20, 'subsample': 0.8315375131819603, 'colsample_bytree': 0.7655547322926592, 'reg_alpha': 4.4771050428086525, 'reg_lambda': 1.887599905513159}. Best is trial 131 with value: 1513.596501576817.\n"
          ]
        },
        {
          "name": "stdout",
          "output_type": "stream",
          "text": [
            "Early stopping, best iteration is:\n",
            "[79]\tvalid_0's rmse: 38.9102\n"
          ]
        },
        {
          "name": "stderr",
          "output_type": "stream",
          "text": [
            "/opt/anaconda3/lib/python3.11/site-packages/sklearn/utils/deprecation.py:151: FutureWarning: 'force_all_finite' was renamed to 'ensure_all_finite' in 1.6 and will be removed in 1.8.\n",
            "  warnings.warn(\n"
          ]
        },
        {
          "name": "stdout",
          "output_type": "stream",
          "text": [
            "Training until validation scores don't improve for 10 rounds\n"
          ]
        },
        {
          "name": "stderr",
          "output_type": "stream",
          "text": [
            "/opt/anaconda3/lib/python3.11/site-packages/sklearn/utils/deprecation.py:151: FutureWarning: 'force_all_finite' was renamed to 'ensure_all_finite' in 1.6 and will be removed in 1.8.\n",
            "  warnings.warn(\n",
            "[I 2025-02-15 15:50:49,266] Trial 301 finished with value: 1513.7658720467655 and parameters: {'learning_rate': 0.08859583117382794, 'num_leaves': 26, 'max_depth': 4, 'min_child_samples': 24, 'subsample': 0.8371930535001015, 'colsample_bytree': 0.7875847897446352, 'reg_alpha': 4.905213590833303, 'reg_lambda': 1.6838423509548397}. Best is trial 131 with value: 1513.596501576817.\n"
          ]
        },
        {
          "name": "stdout",
          "output_type": "stream",
          "text": [
            "Early stopping, best iteration is:\n",
            "[78]\tvalid_0's rmse: 38.9071\n"
          ]
        },
        {
          "name": "stderr",
          "output_type": "stream",
          "text": [
            "/opt/anaconda3/lib/python3.11/site-packages/sklearn/utils/deprecation.py:151: FutureWarning: 'force_all_finite' was renamed to 'ensure_all_finite' in 1.6 and will be removed in 1.8.\n",
            "  warnings.warn(\n"
          ]
        },
        {
          "name": "stdout",
          "output_type": "stream",
          "text": [
            "Training until validation scores don't improve for 10 rounds\n"
          ]
        },
        {
          "name": "stderr",
          "output_type": "stream",
          "text": [
            "/opt/anaconda3/lib/python3.11/site-packages/sklearn/utils/deprecation.py:151: FutureWarning: 'force_all_finite' was renamed to 'ensure_all_finite' in 1.6 and will be removed in 1.8.\n",
            "  warnings.warn(\n",
            "[I 2025-02-15 15:50:50,873] Trial 302 finished with value: 1513.8991052426654 and parameters: {'learning_rate': 0.09006857604793365, 'num_leaves': 22, 'max_depth': 4, 'min_child_samples': 20, 'subsample': 0.8278307615264906, 'colsample_bytree': 0.7746767663903601, 'reg_alpha': 4.259472754863126, 'reg_lambda': 1.444672515818626}. Best is trial 131 with value: 1513.596501576817.\n"
          ]
        },
        {
          "name": "stdout",
          "output_type": "stream",
          "text": [
            "Early stopping, best iteration is:\n",
            "[60]\tvalid_0's rmse: 38.9089\n"
          ]
        },
        {
          "name": "stderr",
          "output_type": "stream",
          "text": [
            "/opt/anaconda3/lib/python3.11/site-packages/sklearn/utils/deprecation.py:151: FutureWarning: 'force_all_finite' was renamed to 'ensure_all_finite' in 1.6 and will be removed in 1.8.\n",
            "  warnings.warn(\n"
          ]
        },
        {
          "name": "stdout",
          "output_type": "stream",
          "text": [
            "Training until validation scores don't improve for 10 rounds\n"
          ]
        },
        {
          "name": "stderr",
          "output_type": "stream",
          "text": [
            "/opt/anaconda3/lib/python3.11/site-packages/sklearn/utils/deprecation.py:151: FutureWarning: 'force_all_finite' was renamed to 'ensure_all_finite' in 1.6 and will be removed in 1.8.\n",
            "  warnings.warn(\n",
            "[I 2025-02-15 15:50:52,545] Trial 303 finished with value: 1513.8775107793645 and parameters: {'learning_rate': 0.087757806678648, 'num_leaves': 24, 'max_depth': 4, 'min_child_samples': 25, 'subsample': 0.8532830867093402, 'colsample_bytree': 0.7700279856201142, 'reg_alpha': 5.058145030194573, 'reg_lambda': 1.775474006465029}. Best is trial 131 with value: 1513.596501576817.\n"
          ]
        },
        {
          "name": "stdout",
          "output_type": "stream",
          "text": [
            "Early stopping, best iteration is:\n",
            "[80]\tvalid_0's rmse: 38.9086\n"
          ]
        },
        {
          "name": "stderr",
          "output_type": "stream",
          "text": [
            "/opt/anaconda3/lib/python3.11/site-packages/sklearn/utils/deprecation.py:151: FutureWarning: 'force_all_finite' was renamed to 'ensure_all_finite' in 1.6 and will be removed in 1.8.\n",
            "  warnings.warn(\n"
          ]
        },
        {
          "name": "stdout",
          "output_type": "stream",
          "text": [
            "Training until validation scores don't improve for 10 rounds\n"
          ]
        },
        {
          "name": "stderr",
          "output_type": "stream",
          "text": [
            "/opt/anaconda3/lib/python3.11/site-packages/sklearn/utils/deprecation.py:151: FutureWarning: 'force_all_finite' was renamed to 'ensure_all_finite' in 1.6 and will be removed in 1.8.\n",
            "  warnings.warn(\n",
            "[I 2025-02-15 15:50:54,291] Trial 304 finished with value: 1513.6800268718587 and parameters: {'learning_rate': 0.08582341316562174, 'num_leaves': 22, 'max_depth': 4, 'min_child_samples': 23, 'subsample': 0.8219705835380303, 'colsample_bytree': 0.7746824972860344, 'reg_alpha': 4.434506469768272, 'reg_lambda': 1.6408049241762968}. Best is trial 131 with value: 1513.596501576817.\n"
          ]
        },
        {
          "name": "stdout",
          "output_type": "stream",
          "text": [
            "Did not meet early stopping. Best iteration is:\n",
            "[91]\tvalid_0's rmse: 38.906\n"
          ]
        },
        {
          "name": "stderr",
          "output_type": "stream",
          "text": [
            "/opt/anaconda3/lib/python3.11/site-packages/sklearn/utils/deprecation.py:151: FutureWarning: 'force_all_finite' was renamed to 'ensure_all_finite' in 1.6 and will be removed in 1.8.\n",
            "  warnings.warn(\n"
          ]
        },
        {
          "name": "stdout",
          "output_type": "stream",
          "text": [
            "Training until validation scores don't improve for 10 rounds\n"
          ]
        },
        {
          "name": "stderr",
          "output_type": "stream",
          "text": [
            "/opt/anaconda3/lib/python3.11/site-packages/sklearn/utils/deprecation.py:151: FutureWarning: 'force_all_finite' was renamed to 'ensure_all_finite' in 1.6 and will be removed in 1.8.\n",
            "  warnings.warn(\n",
            "[I 2025-02-15 15:50:55,812] Trial 305 finished with value: 1514.0613273941087 and parameters: {'learning_rate': 0.08665052469096611, 'num_leaves': 22, 'max_depth': 3, 'min_child_samples': 125, 'subsample': 0.8210282236747757, 'colsample_bytree': 0.7785654567060565, 'reg_alpha': 5.546234727104848, 'reg_lambda': 1.66540979862816}. Best is trial 131 with value: 1513.596501576817.\n"
          ]
        },
        {
          "name": "stdout",
          "output_type": "stream",
          "text": [
            "Early stopping, best iteration is:\n",
            "[76]\tvalid_0's rmse: 38.9109\n"
          ]
        },
        {
          "name": "stderr",
          "output_type": "stream",
          "text": [
            "/opt/anaconda3/lib/python3.11/site-packages/sklearn/utils/deprecation.py:151: FutureWarning: 'force_all_finite' was renamed to 'ensure_all_finite' in 1.6 and will be removed in 1.8.\n",
            "  warnings.warn(\n"
          ]
        },
        {
          "name": "stdout",
          "output_type": "stream",
          "text": [
            "Training until validation scores don't improve for 10 rounds\n"
          ]
        },
        {
          "name": "stderr",
          "output_type": "stream",
          "text": [
            "/opt/anaconda3/lib/python3.11/site-packages/sklearn/utils/deprecation.py:151: FutureWarning: 'force_all_finite' was renamed to 'ensure_all_finite' in 1.6 and will be removed in 1.8.\n",
            "  warnings.warn(\n",
            "[I 2025-02-15 15:50:57,610] Trial 306 finished with value: 1513.7838487154158 and parameters: {'learning_rate': 0.0864300949897451, 'num_leaves': 20, 'max_depth': 4, 'min_child_samples': 22, 'subsample': 0.8283488172995139, 'colsample_bytree': 0.7992108431960459, 'reg_alpha': 4.673488020946493, 'reg_lambda': 2.0224520075692656}. Best is trial 131 with value: 1513.596501576817.\n"
          ]
        },
        {
          "name": "stdout",
          "output_type": "stream",
          "text": [
            "Early stopping, best iteration is:\n",
            "[80]\tvalid_0's rmse: 38.9074\n"
          ]
        },
        {
          "name": "stderr",
          "output_type": "stream",
          "text": [
            "/opt/anaconda3/lib/python3.11/site-packages/sklearn/utils/deprecation.py:151: FutureWarning: 'force_all_finite' was renamed to 'ensure_all_finite' in 1.6 and will be removed in 1.8.\n",
            "  warnings.warn(\n"
          ]
        },
        {
          "name": "stdout",
          "output_type": "stream",
          "text": [
            "Training until validation scores don't improve for 10 rounds\n",
            "Early stopping, best iteration is:\n",
            "[59]\tvalid_0's rmse: 38.9079\n"
          ]
        },
        {
          "name": "stderr",
          "output_type": "stream",
          "text": [
            "/opt/anaconda3/lib/python3.11/site-packages/sklearn/utils/deprecation.py:151: FutureWarning: 'force_all_finite' was renamed to 'ensure_all_finite' in 1.6 and will be removed in 1.8.\n",
            "  warnings.warn(\n",
            "[I 2025-02-15 15:50:59,851] Trial 307 finished with value: 1513.8265783080326 and parameters: {'learning_rate': 0.08845934411288903, 'num_leaves': 22, 'max_depth': 4, 'min_child_samples': 25, 'subsample': 0.8752658422768863, 'colsample_bytree': 0.7597777032144809, 'reg_alpha': 4.759290684138135, 'reg_lambda': 1.7842378981662197}. Best is trial 131 with value: 1513.596501576817.\n",
            "/opt/anaconda3/lib/python3.11/site-packages/sklearn/utils/deprecation.py:151: FutureWarning: 'force_all_finite' was renamed to 'ensure_all_finite' in 1.6 and will be removed in 1.8.\n",
            "  warnings.warn(\n"
          ]
        },
        {
          "name": "stdout",
          "output_type": "stream",
          "text": [
            "Training until validation scores don't improve for 10 rounds\n"
          ]
        },
        {
          "name": "stderr",
          "output_type": "stream",
          "text": [
            "/opt/anaconda3/lib/python3.11/site-packages/sklearn/utils/deprecation.py:151: FutureWarning: 'force_all_finite' was renamed to 'ensure_all_finite' in 1.6 and will be removed in 1.8.\n",
            "  warnings.warn(\n",
            "[I 2025-02-15 15:51:02,180] Trial 308 finished with value: 1513.8860681421206 and parameters: {'learning_rate': 0.08465181488461283, 'num_leaves': 25, 'max_depth': 4, 'min_child_samples': 28, 'subsample': 0.8428326782674149, 'colsample_bytree': 0.7718123793757931, 'reg_alpha': 4.516141318683823, 'reg_lambda': 1.3687666405886365}. Best is trial 131 with value: 1513.596501576817.\n"
          ]
        },
        {
          "name": "stdout",
          "output_type": "stream",
          "text": [
            "Early stopping, best iteration is:\n",
            "[75]\tvalid_0's rmse: 38.9087\n"
          ]
        },
        {
          "name": "stderr",
          "output_type": "stream",
          "text": [
            "/opt/anaconda3/lib/python3.11/site-packages/sklearn/utils/deprecation.py:151: FutureWarning: 'force_all_finite' was renamed to 'ensure_all_finite' in 1.6 and will be removed in 1.8.\n",
            "  warnings.warn(\n"
          ]
        },
        {
          "name": "stdout",
          "output_type": "stream",
          "text": [
            "Training until validation scores don't improve for 10 rounds\n"
          ]
        },
        {
          "name": "stderr",
          "output_type": "stream",
          "text": [
            "/opt/anaconda3/lib/python3.11/site-packages/sklearn/utils/deprecation.py:151: FutureWarning: 'force_all_finite' was renamed to 'ensure_all_finite' in 1.6 and will be removed in 1.8.\n",
            "  warnings.warn(\n",
            "[I 2025-02-15 15:51:04,491] Trial 309 finished with value: 1513.8783656557407 and parameters: {'learning_rate': 0.08592360675086848, 'num_leaves': 23, 'max_depth': 4, 'min_child_samples': 24, 'subsample': 0.8349632135311211, 'colsample_bytree': 0.8113488612920252, 'reg_alpha': 5.394440167492624, 'reg_lambda': 1.5757607446778117}. Best is trial 131 with value: 1513.596501576817.\n"
          ]
        },
        {
          "name": "stdout",
          "output_type": "stream",
          "text": [
            "Early stopping, best iteration is:\n",
            "[89]\tvalid_0's rmse: 38.9086\n"
          ]
        },
        {
          "name": "stderr",
          "output_type": "stream",
          "text": [
            "/opt/anaconda3/lib/python3.11/site-packages/sklearn/utils/deprecation.py:151: FutureWarning: 'force_all_finite' was renamed to 'ensure_all_finite' in 1.6 and will be removed in 1.8.\n",
            "  warnings.warn(\n"
          ]
        },
        {
          "name": "stdout",
          "output_type": "stream",
          "text": [
            "Training until validation scores don't improve for 10 rounds\n"
          ]
        },
        {
          "name": "stderr",
          "output_type": "stream",
          "text": [
            "/opt/anaconda3/lib/python3.11/site-packages/sklearn/utils/deprecation.py:151: FutureWarning: 'force_all_finite' was renamed to 'ensure_all_finite' in 1.6 and will be removed in 1.8.\n",
            "  warnings.warn(\n",
            "[I 2025-02-15 15:51:06,193] Trial 310 finished with value: 1513.8634653348843 and parameters: {'learning_rate': 0.08428539166650963, 'num_leaves': 20, 'max_depth': 4, 'min_child_samples': 28, 'subsample': 0.8184918840001771, 'colsample_bytree': 0.7906528003762703, 'reg_alpha': 4.375014325776521, 'reg_lambda': 1.2679567059505392}. Best is trial 131 with value: 1513.596501576817.\n"
          ]
        },
        {
          "name": "stdout",
          "output_type": "stream",
          "text": [
            "Early stopping, best iteration is:\n",
            "[73]\tvalid_0's rmse: 38.9084\n"
          ]
        },
        {
          "name": "stderr",
          "output_type": "stream",
          "text": [
            "/opt/anaconda3/lib/python3.11/site-packages/sklearn/utils/deprecation.py:151: FutureWarning: 'force_all_finite' was renamed to 'ensure_all_finite' in 1.6 and will be removed in 1.8.\n",
            "  warnings.warn(\n"
          ]
        },
        {
          "name": "stdout",
          "output_type": "stream",
          "text": [
            "Training until validation scores don't improve for 10 rounds\n",
            "Early stopping, best iteration is:\n",
            "[87]\tvalid_0's rmse: 38.9094\n"
          ]
        },
        {
          "name": "stderr",
          "output_type": "stream",
          "text": [
            "/opt/anaconda3/lib/python3.11/site-packages/sklearn/utils/deprecation.py:151: FutureWarning: 'force_all_finite' was renamed to 'ensure_all_finite' in 1.6 and will be removed in 1.8.\n",
            "  warnings.warn(\n",
            "[I 2025-02-15 15:51:08,477] Trial 311 finished with value: 1513.942487530922 and parameters: {'learning_rate': 0.0893078484736038, 'num_leaves': 25, 'max_depth': 4, 'min_child_samples': 21, 'subsample': 0.8253386587319262, 'colsample_bytree': 0.7808092664764398, 'reg_alpha': 4.528817333172203, 'reg_lambda': 2.024498766769889}. Best is trial 131 with value: 1513.596501576817.\n",
            "/opt/anaconda3/lib/python3.11/site-packages/sklearn/utils/deprecation.py:151: FutureWarning: 'force_all_finite' was renamed to 'ensure_all_finite' in 1.6 and will be removed in 1.8.\n",
            "  warnings.warn(\n"
          ]
        },
        {
          "name": "stdout",
          "output_type": "stream",
          "text": [
            "Training until validation scores don't improve for 10 rounds\n"
          ]
        },
        {
          "name": "stderr",
          "output_type": "stream",
          "text": [
            "/opt/anaconda3/lib/python3.11/site-packages/sklearn/utils/deprecation.py:151: FutureWarning: 'force_all_finite' was renamed to 'ensure_all_finite' in 1.6 and will be removed in 1.8.\n",
            "  warnings.warn(\n",
            "[I 2025-02-15 15:51:10,588] Trial 312 finished with value: 1513.7423281839945 and parameters: {'learning_rate': 0.06899623672556911, 'num_leaves': 22, 'max_depth': 4, 'min_child_samples': 30, 'subsample': 0.8136792219689755, 'colsample_bytree': 0.7635672276151506, 'reg_alpha': 4.739153779862739, 'reg_lambda': 2.125390569490593}. Best is trial 131 with value: 1513.596501576817.\n"
          ]
        },
        {
          "name": "stdout",
          "output_type": "stream",
          "text": [
            "Did not meet early stopping. Best iteration is:\n",
            "[93]\tvalid_0's rmse: 38.9068\n"
          ]
        },
        {
          "name": "stderr",
          "output_type": "stream",
          "text": [
            "/opt/anaconda3/lib/python3.11/site-packages/sklearn/utils/deprecation.py:151: FutureWarning: 'force_all_finite' was renamed to 'ensure_all_finite' in 1.6 and will be removed in 1.8.\n",
            "  warnings.warn(\n"
          ]
        },
        {
          "name": "stdout",
          "output_type": "stream",
          "text": [
            "Training until validation scores don't improve for 10 rounds\n"
          ]
        },
        {
          "name": "stderr",
          "output_type": "stream",
          "text": [
            "/opt/anaconda3/lib/python3.11/site-packages/sklearn/utils/deprecation.py:151: FutureWarning: 'force_all_finite' was renamed to 'ensure_all_finite' in 1.6 and will be removed in 1.8.\n",
            "  warnings.warn(\n",
            "[I 2025-02-15 15:51:12,423] Trial 313 finished with value: 1513.8295008527864 and parameters: {'learning_rate': 0.08304415095245615, 'num_leaves': 21, 'max_depth': 4, 'min_child_samples': 27, 'subsample': 0.8125306248135742, 'colsample_bytree': 0.7525052387656589, 'reg_alpha': 4.69742927702932, 'reg_lambda': 2.1162144878283025}. Best is trial 131 with value: 1513.596501576817.\n"
          ]
        },
        {
          "name": "stdout",
          "output_type": "stream",
          "text": [
            "Early stopping, best iteration is:\n",
            "[69]\tvalid_0's rmse: 38.908\n"
          ]
        },
        {
          "name": "stderr",
          "output_type": "stream",
          "text": [
            "/opt/anaconda3/lib/python3.11/site-packages/sklearn/utils/deprecation.py:151: FutureWarning: 'force_all_finite' was renamed to 'ensure_all_finite' in 1.6 and will be removed in 1.8.\n",
            "  warnings.warn(\n"
          ]
        },
        {
          "name": "stdout",
          "output_type": "stream",
          "text": [
            "Training until validation scores don't improve for 10 rounds\n"
          ]
        },
        {
          "name": "stderr",
          "output_type": "stream",
          "text": [
            "/opt/anaconda3/lib/python3.11/site-packages/sklearn/utils/deprecation.py:151: FutureWarning: 'force_all_finite' was renamed to 'ensure_all_finite' in 1.6 and will be removed in 1.8.\n",
            "  warnings.warn(\n",
            "[I 2025-02-15 15:51:14,069] Trial 314 finished with value: 1513.9912629764856 and parameters: {'learning_rate': 0.08379050038338601, 'num_leaves': 23, 'max_depth': 3, 'min_child_samples': 167, 'subsample': 0.5723676656382811, 'colsample_bytree': 0.7631144029326089, 'reg_alpha': 4.647174610643874, 'reg_lambda': 1.83796805727716}. Best is trial 131 with value: 1513.596501576817.\n"
          ]
        },
        {
          "name": "stdout",
          "output_type": "stream",
          "text": [
            "Did not meet early stopping. Best iteration is:\n",
            "[99]\tvalid_0's rmse: 38.91\n"
          ]
        },
        {
          "name": "stderr",
          "output_type": "stream",
          "text": [
            "/opt/anaconda3/lib/python3.11/site-packages/sklearn/utils/deprecation.py:151: FutureWarning: 'force_all_finite' was renamed to 'ensure_all_finite' in 1.6 and will be removed in 1.8.\n",
            "  warnings.warn(\n"
          ]
        },
        {
          "name": "stdout",
          "output_type": "stream",
          "text": [
            "Training until validation scores don't improve for 10 rounds\n"
          ]
        },
        {
          "name": "stderr",
          "output_type": "stream",
          "text": [
            "/opt/anaconda3/lib/python3.11/site-packages/sklearn/utils/deprecation.py:151: FutureWarning: 'force_all_finite' was renamed to 'ensure_all_finite' in 1.6 and will be removed in 1.8.\n",
            "  warnings.warn(\n",
            "[I 2025-02-15 15:51:15,909] Trial 315 finished with value: 1513.911948198896 and parameters: {'learning_rate': 0.06716487543771418, 'num_leaves': 21, 'max_depth': 4, 'min_child_samples': 20, 'subsample': 0.8118201466048512, 'colsample_bytree': 0.7749864888320676, 'reg_alpha': 4.6415542442937365, 'reg_lambda': 2.2862974506412783}. Best is trial 131 with value: 1513.596501576817.\n"
          ]
        },
        {
          "name": "stdout",
          "output_type": "stream",
          "text": [
            "Early stopping, best iteration is:\n",
            "[87]\tvalid_0's rmse: 38.909\n"
          ]
        },
        {
          "name": "stderr",
          "output_type": "stream",
          "text": [
            "/opt/anaconda3/lib/python3.11/site-packages/sklearn/utils/deprecation.py:151: FutureWarning: 'force_all_finite' was renamed to 'ensure_all_finite' in 1.6 and will be removed in 1.8.\n",
            "  warnings.warn(\n"
          ]
        },
        {
          "name": "stdout",
          "output_type": "stream",
          "text": [
            "Training until validation scores don't improve for 10 rounds\n"
          ]
        },
        {
          "name": "stderr",
          "output_type": "stream",
          "text": [
            "/opt/anaconda3/lib/python3.11/site-packages/sklearn/utils/deprecation.py:151: FutureWarning: 'force_all_finite' was renamed to 'ensure_all_finite' in 1.6 and will be removed in 1.8.\n",
            "  warnings.warn(\n",
            "[I 2025-02-15 15:51:17,851] Trial 316 finished with value: 1513.9838811412965 and parameters: {'learning_rate': 0.07004916454605913, 'num_leaves': 22, 'max_depth': 5, 'min_child_samples': 24, 'subsample': 0.8185412638841204, 'colsample_bytree': 0.7693817897870933, 'reg_alpha': 4.41649387727132, 'reg_lambda': 1.719679899676481}. Best is trial 131 with value: 1513.596501576817.\n"
          ]
        },
        {
          "name": "stdout",
          "output_type": "stream",
          "text": [
            "Early stopping, best iteration is:\n",
            "[83]\tvalid_0's rmse: 38.9099\n"
          ]
        },
        {
          "name": "stderr",
          "output_type": "stream",
          "text": [
            "/opt/anaconda3/lib/python3.11/site-packages/sklearn/utils/deprecation.py:151: FutureWarning: 'force_all_finite' was renamed to 'ensure_all_finite' in 1.6 and will be removed in 1.8.\n",
            "  warnings.warn(\n"
          ]
        },
        {
          "name": "stdout",
          "output_type": "stream",
          "text": [
            "Training until validation scores don't improve for 10 rounds\n"
          ]
        },
        {
          "name": "stderr",
          "output_type": "stream",
          "text": [
            "/opt/anaconda3/lib/python3.11/site-packages/sklearn/utils/deprecation.py:151: FutureWarning: 'force_all_finite' was renamed to 'ensure_all_finite' in 1.6 and will be removed in 1.8.\n",
            "  warnings.warn(\n",
            "[I 2025-02-15 15:51:19,733] Trial 317 finished with value: 1513.7539639352103 and parameters: {'learning_rate': 0.07265750034501992, 'num_leaves': 24, 'max_depth': 4, 'min_child_samples': 32, 'subsample': 0.847933617414222, 'colsample_bytree': 0.7551117777138783, 'reg_alpha': 3.963040076048669, 'reg_lambda': 1.5554636257553336}. Best is trial 131 with value: 1513.596501576817.\n"
          ]
        },
        {
          "name": "stdout",
          "output_type": "stream",
          "text": [
            "Did not meet early stopping. Best iteration is:\n",
            "[97]\tvalid_0's rmse: 38.907\n"
          ]
        },
        {
          "name": "stderr",
          "output_type": "stream",
          "text": [
            "/opt/anaconda3/lib/python3.11/site-packages/sklearn/utils/deprecation.py:151: FutureWarning: 'force_all_finite' was renamed to 'ensure_all_finite' in 1.6 and will be removed in 1.8.\n",
            "  warnings.warn(\n"
          ]
        },
        {
          "name": "stdout",
          "output_type": "stream",
          "text": [
            "Training until validation scores don't improve for 10 rounds\n"
          ]
        },
        {
          "name": "stderr",
          "output_type": "stream",
          "text": [
            "/opt/anaconda3/lib/python3.11/site-packages/sklearn/utils/deprecation.py:151: FutureWarning: 'force_all_finite' was renamed to 'ensure_all_finite' in 1.6 and will be removed in 1.8.\n",
            "  warnings.warn(\n",
            "[I 2025-02-15 15:51:21,777] Trial 318 finished with value: 1513.688083371639 and parameters: {'learning_rate': 0.07367894439153952, 'num_leaves': 24, 'max_depth': 4, 'min_child_samples': 28, 'subsample': 0.859133159215299, 'colsample_bytree': 0.7847854575127362, 'reg_alpha': 3.976001938516995, 'reg_lambda': 1.4137187976891923}. Best is trial 131 with value: 1513.596501576817.\n"
          ]
        },
        {
          "name": "stdout",
          "output_type": "stream",
          "text": [
            "Early stopping, best iteration is:\n",
            "[89]\tvalid_0's rmse: 38.9061\n"
          ]
        },
        {
          "name": "stderr",
          "output_type": "stream",
          "text": [
            "/opt/anaconda3/lib/python3.11/site-packages/sklearn/utils/deprecation.py:151: FutureWarning: 'force_all_finite' was renamed to 'ensure_all_finite' in 1.6 and will be removed in 1.8.\n",
            "  warnings.warn(\n"
          ]
        },
        {
          "name": "stdout",
          "output_type": "stream",
          "text": [
            "Training until validation scores don't improve for 10 rounds\n"
          ]
        },
        {
          "name": "stderr",
          "output_type": "stream",
          "text": [
            "/opt/anaconda3/lib/python3.11/site-packages/sklearn/utils/deprecation.py:151: FutureWarning: 'force_all_finite' was renamed to 'ensure_all_finite' in 1.6 and will be removed in 1.8.\n",
            "  warnings.warn(\n",
            "[I 2025-02-15 15:51:23,274] Trial 319 finished with value: 1514.290016238645 and parameters: {'learning_rate': 0.0749053555507753, 'num_leaves': 24, 'max_depth': 9, 'min_child_samples': 29, 'subsample': 0.8608112373419438, 'colsample_bytree': 0.7880804004775918, 'reg_alpha': 4.103170271639341, 'reg_lambda': 1.114030365607563}. Best is trial 131 with value: 1513.596501576817.\n"
          ]
        },
        {
          "name": "stdout",
          "output_type": "stream",
          "text": [
            "Early stopping, best iteration is:\n",
            "[52]\tvalid_0's rmse: 38.9139\n"
          ]
        },
        {
          "name": "stderr",
          "output_type": "stream",
          "text": [
            "/opt/anaconda3/lib/python3.11/site-packages/sklearn/utils/deprecation.py:151: FutureWarning: 'force_all_finite' was renamed to 'ensure_all_finite' in 1.6 and will be removed in 1.8.\n",
            "  warnings.warn(\n"
          ]
        },
        {
          "name": "stdout",
          "output_type": "stream",
          "text": [
            "Training until validation scores don't improve for 10 rounds\n"
          ]
        },
        {
          "name": "stderr",
          "output_type": "stream",
          "text": [
            "/opt/anaconda3/lib/python3.11/site-packages/sklearn/utils/deprecation.py:151: FutureWarning: 'force_all_finite' was renamed to 'ensure_all_finite' in 1.6 and will be removed in 1.8.\n",
            "  warnings.warn(\n",
            "[I 2025-02-15 15:51:25,084] Trial 320 finished with value: 1513.717122845979 and parameters: {'learning_rate': 0.07250370712108105, 'num_leaves': 73, 'max_depth': 4, 'min_child_samples': 26, 'subsample': 0.8537600878408749, 'colsample_bytree': 0.7518807192479932, 'reg_alpha': 4.315764256639864, 'reg_lambda': 1.4487639292988543}. Best is trial 131 with value: 1513.596501576817.\n"
          ]
        },
        {
          "name": "stdout",
          "output_type": "stream",
          "text": [
            "Did not meet early stopping. Best iteration is:\n",
            "[100]\tvalid_0's rmse: 38.9065\n"
          ]
        },
        {
          "name": "stderr",
          "output_type": "stream",
          "text": [
            "/opt/anaconda3/lib/python3.11/site-packages/sklearn/utils/deprecation.py:151: FutureWarning: 'force_all_finite' was renamed to 'ensure_all_finite' in 1.6 and will be removed in 1.8.\n",
            "  warnings.warn(\n"
          ]
        },
        {
          "name": "stdout",
          "output_type": "stream",
          "text": [
            "Training until validation scores don't improve for 10 rounds\n"
          ]
        },
        {
          "name": "stderr",
          "output_type": "stream",
          "text": [
            "/opt/anaconda3/lib/python3.11/site-packages/sklearn/utils/deprecation.py:151: FutureWarning: 'force_all_finite' was renamed to 'ensure_all_finite' in 1.6 and will be removed in 1.8.\n",
            "  warnings.warn(\n",
            "[I 2025-02-15 15:51:26,608] Trial 321 finished with value: 1514.0123969965578 and parameters: {'learning_rate': 0.07364825512590259, 'num_leaves': 71, 'max_depth': 4, 'min_child_samples': 25, 'subsample': 0.8679791911315208, 'colsample_bytree': 0.75566157118122, 'reg_alpha': 3.9957228775782965, 'reg_lambda': 1.3856917570194214}. Best is trial 131 with value: 1513.596501576817.\n"
          ]
        },
        {
          "name": "stdout",
          "output_type": "stream",
          "text": [
            "Early stopping, best iteration is:\n",
            "[60]\tvalid_0's rmse: 38.9103\n"
          ]
        },
        {
          "name": "stderr",
          "output_type": "stream",
          "text": [
            "/opt/anaconda3/lib/python3.11/site-packages/sklearn/utils/deprecation.py:151: FutureWarning: 'force_all_finite' was renamed to 'ensure_all_finite' in 1.6 and will be removed in 1.8.\n",
            "  warnings.warn(\n"
          ]
        },
        {
          "name": "stdout",
          "output_type": "stream",
          "text": [
            "Training until validation scores don't improve for 10 rounds\n"
          ]
        },
        {
          "name": "stderr",
          "output_type": "stream",
          "text": [
            "/opt/anaconda3/lib/python3.11/site-packages/sklearn/utils/deprecation.py:151: FutureWarning: 'force_all_finite' was renamed to 'ensure_all_finite' in 1.6 and will be removed in 1.8.\n",
            "  warnings.warn(\n",
            "[I 2025-02-15 15:51:28,549] Trial 322 finished with value: 1513.7561043909168 and parameters: {'learning_rate': 0.0694365772926941, 'num_leaves': 69, 'max_depth': 4, 'min_child_samples': 23, 'subsample': 0.8857655251405643, 'colsample_bytree': 0.7829510893872242, 'reg_alpha': 4.299502440113745, 'reg_lambda': 1.5184240360615768}. Best is trial 131 with value: 1513.596501576817.\n"
          ]
        },
        {
          "name": "stdout",
          "output_type": "stream",
          "text": [
            "Did not meet early stopping. Best iteration is:\n",
            "[100]\tvalid_0's rmse: 38.907\n"
          ]
        },
        {
          "name": "stderr",
          "output_type": "stream",
          "text": [
            "/opt/anaconda3/lib/python3.11/site-packages/sklearn/utils/deprecation.py:151: FutureWarning: 'force_all_finite' was renamed to 'ensure_all_finite' in 1.6 and will be removed in 1.8.\n",
            "  warnings.warn(\n"
          ]
        },
        {
          "name": "stdout",
          "output_type": "stream",
          "text": [
            "Training until validation scores don't improve for 10 rounds\n"
          ]
        },
        {
          "name": "stderr",
          "output_type": "stream",
          "text": [
            "/opt/anaconda3/lib/python3.11/site-packages/sklearn/utils/deprecation.py:151: FutureWarning: 'force_all_finite' was renamed to 'ensure_all_finite' in 1.6 and will be removed in 1.8.\n",
            "  warnings.warn(\n",
            "[I 2025-02-15 15:51:30,286] Trial 323 finished with value: 1513.9082162420411 and parameters: {'learning_rate': 0.0728344814380473, 'num_leaves': 74, 'max_depth': 4, 'min_child_samples': 28, 'subsample': 0.8460505112200926, 'colsample_bytree': 0.7486018431820805, 'reg_alpha': 3.8157456443370914, 'reg_lambda': 1.1920644293744962}. Best is trial 131 with value: 1513.596501576817.\n"
          ]
        },
        {
          "name": "stdout",
          "output_type": "stream",
          "text": [
            "Early stopping, best iteration is:\n",
            "[78]\tvalid_0's rmse: 38.909\n"
          ]
        },
        {
          "name": "stderr",
          "output_type": "stream",
          "text": [
            "/opt/anaconda3/lib/python3.11/site-packages/sklearn/utils/deprecation.py:151: FutureWarning: 'force_all_finite' was renamed to 'ensure_all_finite' in 1.6 and will be removed in 1.8.\n",
            "  warnings.warn(\n"
          ]
        },
        {
          "name": "stdout",
          "output_type": "stream",
          "text": [
            "Training until validation scores don't improve for 10 rounds\n"
          ]
        },
        {
          "name": "stderr",
          "output_type": "stream",
          "text": [
            "/opt/anaconda3/lib/python3.11/site-packages/sklearn/utils/deprecation.py:151: FutureWarning: 'force_all_finite' was renamed to 'ensure_all_finite' in 1.6 and will be removed in 1.8.\n",
            "  warnings.warn(\n",
            "[I 2025-02-15 15:51:32,370] Trial 324 finished with value: 1513.9499194728119 and parameters: {'learning_rate': 0.07107680249076243, 'num_leaves': 77, 'max_depth': 5, 'min_child_samples': 28, 'subsample': 0.857126620529711, 'colsample_bytree': 0.8041171651800656, 'reg_alpha': 3.9901498630858026, 'reg_lambda': 1.526218453918653}. Best is trial 131 with value: 1513.596501576817.\n"
          ]
        },
        {
          "name": "stdout",
          "output_type": "stream",
          "text": [
            "Early stopping, best iteration is:\n",
            "[70]\tvalid_0's rmse: 38.9095\n"
          ]
        },
        {
          "name": "stderr",
          "output_type": "stream",
          "text": [
            "/opt/anaconda3/lib/python3.11/site-packages/sklearn/utils/deprecation.py:151: FutureWarning: 'force_all_finite' was renamed to 'ensure_all_finite' in 1.6 and will be removed in 1.8.\n",
            "  warnings.warn(\n"
          ]
        },
        {
          "name": "stdout",
          "output_type": "stream",
          "text": [
            "Training until validation scores don't improve for 10 rounds\n"
          ]
        },
        {
          "name": "stderr",
          "output_type": "stream",
          "text": [
            "/opt/anaconda3/lib/python3.11/site-packages/sklearn/utils/deprecation.py:151: FutureWarning: 'force_all_finite' was renamed to 'ensure_all_finite' in 1.6 and will be removed in 1.8.\n",
            "  warnings.warn(\n",
            "[I 2025-02-15 15:51:33,967] Trial 325 finished with value: 1513.9743944145748 and parameters: {'learning_rate': 0.0737100058090144, 'num_leaves': 73, 'max_depth': 3, 'min_child_samples': 20, 'subsample': 0.8648443745493772, 'colsample_bytree': 0.7481791304244012, 'reg_alpha': 4.135070786412277, 'reg_lambda': 1.393241632490801}. Best is trial 131 with value: 1513.596501576817.\n"
          ]
        },
        {
          "name": "stdout",
          "output_type": "stream",
          "text": [
            "Did not meet early stopping. Best iteration is:\n",
            "[100]\tvalid_0's rmse: 38.9098\n"
          ]
        },
        {
          "name": "stderr",
          "output_type": "stream",
          "text": [
            "/opt/anaconda3/lib/python3.11/site-packages/sklearn/utils/deprecation.py:151: FutureWarning: 'force_all_finite' was renamed to 'ensure_all_finite' in 1.6 and will be removed in 1.8.\n",
            "  warnings.warn(\n"
          ]
        },
        {
          "name": "stdout",
          "output_type": "stream",
          "text": [
            "Training until validation scores don't improve for 10 rounds\n"
          ]
        },
        {
          "name": "stderr",
          "output_type": "stream",
          "text": [
            "/opt/anaconda3/lib/python3.11/site-packages/sklearn/utils/deprecation.py:151: FutureWarning: 'force_all_finite' was renamed to 'ensure_all_finite' in 1.6 and will be removed in 1.8.\n",
            "  warnings.warn(\n",
            "[I 2025-02-15 15:51:35,777] Trial 326 finished with value: 1513.914120774736 and parameters: {'learning_rate': 0.07199040101104079, 'num_leaves': 72, 'max_depth': 4, 'min_child_samples': 32, 'subsample': 0.8548517110398797, 'colsample_bytree': 0.767926830058009, 'reg_alpha': 4.189621244775334, 'reg_lambda': 1.9172996001136497}. Best is trial 131 with value: 1513.596501576817.\n"
          ]
        },
        {
          "name": "stdout",
          "output_type": "stream",
          "text": [
            "Did not meet early stopping. Best iteration is:\n",
            "[98]\tvalid_0's rmse: 38.909\n"
          ]
        },
        {
          "name": "stderr",
          "output_type": "stream",
          "text": [
            "/opt/anaconda3/lib/python3.11/site-packages/sklearn/utils/deprecation.py:151: FutureWarning: 'force_all_finite' was renamed to 'ensure_all_finite' in 1.6 and will be removed in 1.8.\n",
            "  warnings.warn(\n"
          ]
        },
        {
          "name": "stdout",
          "output_type": "stream",
          "text": [
            "Training until validation scores don't improve for 10 rounds\n"
          ]
        },
        {
          "name": "stderr",
          "output_type": "stream",
          "text": [
            "/opt/anaconda3/lib/python3.11/site-packages/sklearn/utils/deprecation.py:151: FutureWarning: 'force_all_finite' was renamed to 'ensure_all_finite' in 1.6 and will be removed in 1.8.\n",
            "  warnings.warn(\n",
            "[I 2025-02-15 15:51:38,147] Trial 327 finished with value: 1513.7923119989823 and parameters: {'learning_rate': 0.06940276342928824, 'num_leaves': 76, 'max_depth': 5, 'min_child_samples': 25, 'subsample': 0.8522247060979744, 'colsample_bytree': 0.7566517107085816, 'reg_alpha': 3.812106787159292, 'reg_lambda': 1.1751475082301532}. Best is trial 131 with value: 1513.596501576817.\n"
          ]
        },
        {
          "name": "stdout",
          "output_type": "stream",
          "text": [
            "Early stopping, best iteration is:\n",
            "[81]\tvalid_0's rmse: 38.9075\n"
          ]
        },
        {
          "name": "stderr",
          "output_type": "stream",
          "text": [
            "/opt/anaconda3/lib/python3.11/site-packages/sklearn/utils/deprecation.py:151: FutureWarning: 'force_all_finite' was renamed to 'ensure_all_finite' in 1.6 and will be removed in 1.8.\n",
            "  warnings.warn(\n"
          ]
        },
        {
          "name": "stdout",
          "output_type": "stream",
          "text": [
            "Training until validation scores don't improve for 10 rounds\n",
            "Early stopping, best iteration is:\n",
            "[75]\tvalid_0's rmse: 38.9071\n"
          ]
        },
        {
          "name": "stderr",
          "output_type": "stream",
          "text": [
            "/opt/anaconda3/lib/python3.11/site-packages/sklearn/utils/deprecation.py:151: FutureWarning: 'force_all_finite' was renamed to 'ensure_all_finite' in 1.6 and will be removed in 1.8.\n",
            "  warnings.warn(\n",
            "[I 2025-02-15 15:51:40,891] Trial 328 finished with value: 1513.7627727301808 and parameters: {'learning_rate': 0.0683757619070245, 'num_leaves': 27, 'max_depth': 4, 'min_child_samples': 31, 'subsample': 0.8492819037769885, 'colsample_bytree': 0.7751636663891311, 'reg_alpha': 4.283396836622404, 'reg_lambda': 1.6075935274249968}. Best is trial 131 with value: 1513.596501576817.\n",
            "/opt/anaconda3/lib/python3.11/site-packages/sklearn/utils/deprecation.py:151: FutureWarning: 'force_all_finite' was renamed to 'ensure_all_finite' in 1.6 and will be removed in 1.8.\n",
            "  warnings.warn(\n"
          ]
        },
        {
          "name": "stdout",
          "output_type": "stream",
          "text": [
            "Training until validation scores don't improve for 10 rounds\n"
          ]
        },
        {
          "name": "stderr",
          "output_type": "stream",
          "text": [
            "/opt/anaconda3/lib/python3.11/site-packages/sklearn/utils/deprecation.py:151: FutureWarning: 'force_all_finite' was renamed to 'ensure_all_finite' in 1.6 and will be removed in 1.8.\n",
            "  warnings.warn(\n",
            "[I 2025-02-15 15:51:43,774] Trial 329 finished with value: 1513.8571467059437 and parameters: {'learning_rate': 0.07108399298922129, 'num_leaves': 54, 'max_depth': 4, 'min_child_samples': 23, 'subsample': 0.8701082535194318, 'colsample_bytree': 0.7930672265857865, 'reg_alpha': 4.410193829736854, 'reg_lambda': 2.123506280012188}. Best is trial 131 with value: 1513.596501576817.\n"
          ]
        },
        {
          "name": "stdout",
          "output_type": "stream",
          "text": [
            "Did not meet early stopping. Best iteration is:\n",
            "[92]\tvalid_0's rmse: 38.9083\n"
          ]
        },
        {
          "name": "stderr",
          "output_type": "stream",
          "text": [
            "/opt/anaconda3/lib/python3.11/site-packages/sklearn/utils/deprecation.py:151: FutureWarning: 'force_all_finite' was renamed to 'ensure_all_finite' in 1.6 and will be removed in 1.8.\n",
            "  warnings.warn(\n"
          ]
        },
        {
          "name": "stdout",
          "output_type": "stream",
          "text": [
            "Training until validation scores don't improve for 10 rounds\n"
          ]
        },
        {
          "name": "stderr",
          "output_type": "stream",
          "text": [
            "/opt/anaconda3/lib/python3.11/site-packages/sklearn/utils/deprecation.py:151: FutureWarning: 'force_all_finite' was renamed to 'ensure_all_finite' in 1.6 and will be removed in 1.8.\n",
            "  warnings.warn(\n",
            "[I 2025-02-15 15:51:46,276] Trial 330 finished with value: 1513.7981489130436 and parameters: {'learning_rate': 0.07508129505451064, 'num_leaves': 25, 'max_depth': 4, 'min_child_samples': 28, 'subsample': 0.8603531267925836, 'colsample_bytree': 0.7646491308800218, 'reg_alpha': 4.916668623419977, 'reg_lambda': 1.3602988628546104}. Best is trial 131 with value: 1513.596501576817.\n"
          ]
        },
        {
          "name": "stdout",
          "output_type": "stream",
          "text": [
            "Early stopping, best iteration is:\n",
            "[84]\tvalid_0's rmse: 38.9076\n"
          ]
        },
        {
          "name": "stderr",
          "output_type": "stream",
          "text": [
            "/opt/anaconda3/lib/python3.11/site-packages/sklearn/utils/deprecation.py:151: FutureWarning: 'force_all_finite' was renamed to 'ensure_all_finite' in 1.6 and will be removed in 1.8.\n",
            "  warnings.warn(\n"
          ]
        },
        {
          "name": "stdout",
          "output_type": "stream",
          "text": [
            "Training until validation scores don't improve for 10 rounds\n"
          ]
        },
        {
          "name": "stderr",
          "output_type": "stream",
          "text": [
            "/opt/anaconda3/lib/python3.11/site-packages/sklearn/utils/deprecation.py:151: FutureWarning: 'force_all_finite' was renamed to 'ensure_all_finite' in 1.6 and will be removed in 1.8.\n",
            "  warnings.warn(\n",
            "[I 2025-02-15 15:51:48,476] Trial 331 finished with value: 1513.881784410766 and parameters: {'learning_rate': 0.06593660405062263, 'num_leaves': 24, 'max_depth': 4, 'min_child_samples': 32, 'subsample': 0.8041927308570815, 'colsample_bytree': 0.7844568893134972, 'reg_alpha': 4.099999428147382, 'reg_lambda': 0.9983414230457499}. Best is trial 131 with value: 1513.596501576817.\n"
          ]
        },
        {
          "name": "stdout",
          "output_type": "stream",
          "text": [
            "Did not meet early stopping. Best iteration is:\n",
            "[99]\tvalid_0's rmse: 38.9086\n"
          ]
        },
        {
          "name": "stderr",
          "output_type": "stream",
          "text": [
            "/opt/anaconda3/lib/python3.11/site-packages/sklearn/utils/deprecation.py:151: FutureWarning: 'force_all_finite' was renamed to 'ensure_all_finite' in 1.6 and will be removed in 1.8.\n",
            "  warnings.warn(\n"
          ]
        },
        {
          "name": "stdout",
          "output_type": "stream",
          "text": [
            "Training until validation scores don't improve for 10 rounds\n"
          ]
        },
        {
          "name": "stderr",
          "output_type": "stream",
          "text": [
            "/opt/anaconda3/lib/python3.11/site-packages/sklearn/utils/deprecation.py:151: FutureWarning: 'force_all_finite' was renamed to 'ensure_all_finite' in 1.6 and will be removed in 1.8.\n",
            "  warnings.warn(\n",
            "[I 2025-02-15 15:51:50,778] Trial 332 finished with value: 1513.7584066039985 and parameters: {'learning_rate': 0.07241789186606531, 'num_leaves': 29, 'max_depth': 4, 'min_child_samples': 26, 'subsample': 0.8796411699464542, 'colsample_bytree': 0.759560965372961, 'reg_alpha': 4.561189908952082, 'reg_lambda': 1.875215084617818}. Best is trial 131 with value: 1513.596501576817.\n"
          ]
        },
        {
          "name": "stdout",
          "output_type": "stream",
          "text": [
            "Early stopping, best iteration is:\n",
            "[88]\tvalid_0's rmse: 38.907\n"
          ]
        },
        {
          "name": "stderr",
          "output_type": "stream",
          "text": [
            "/opt/anaconda3/lib/python3.11/site-packages/sklearn/utils/deprecation.py:151: FutureWarning: 'force_all_finite' was renamed to 'ensure_all_finite' in 1.6 and will be removed in 1.8.\n",
            "  warnings.warn(\n"
          ]
        },
        {
          "name": "stdout",
          "output_type": "stream",
          "text": [
            "Training until validation scores don't improve for 10 rounds\n",
            "Did not meet early stopping. Best iteration is:\n",
            "[97]\tvalid_0's rmse: 38.9085\n"
          ]
        },
        {
          "name": "stderr",
          "output_type": "stream",
          "text": [
            "/opt/anaconda3/lib/python3.11/site-packages/sklearn/utils/deprecation.py:151: FutureWarning: 'force_all_finite' was renamed to 'ensure_all_finite' in 1.6 and will be removed in 1.8.\n",
            "  warnings.warn(\n",
            "[I 2025-02-15 15:51:53,487] Trial 333 finished with value: 1513.8689532249127 and parameters: {'learning_rate': 0.05427592609224164, 'num_leaves': 53, 'max_depth': 4, 'min_child_samples': 34, 'subsample': 0.6475674518185122, 'colsample_bytree': 0.7725078631866832, 'reg_alpha': 4.295075323680591, 'reg_lambda': 1.5963497181424926}. Best is trial 131 with value: 1513.596501576817.\n",
            "/opt/anaconda3/lib/python3.11/site-packages/sklearn/utils/deprecation.py:151: FutureWarning: 'force_all_finite' was renamed to 'ensure_all_finite' in 1.6 and will be removed in 1.8.\n",
            "  warnings.warn(\n"
          ]
        },
        {
          "name": "stdout",
          "output_type": "stream",
          "text": [
            "Training until validation scores don't improve for 10 rounds\n",
            "Did not meet early stopping. Best iteration is:\n",
            "[98]\tvalid_0's rmse: 38.9078\n"
          ]
        },
        {
          "name": "stderr",
          "output_type": "stream",
          "text": [
            "/opt/anaconda3/lib/python3.11/site-packages/sklearn/utils/deprecation.py:151: FutureWarning: 'force_all_finite' was renamed to 'ensure_all_finite' in 1.6 and will be removed in 1.8.\n",
            "  warnings.warn(\n",
            "[I 2025-02-15 15:51:57,578] Trial 334 finished with value: 1513.814515694631 and parameters: {'learning_rate': 0.08074271067284425, 'num_leaves': 60, 'max_depth': 4, 'min_child_samples': 23, 'subsample': 0.8485976216996082, 'colsample_bytree': 0.750068918676798, 'reg_alpha': 5.148288974263459, 'reg_lambda': 2.160665697898724}. Best is trial 131 with value: 1513.596501576817.\n",
            "/opt/anaconda3/lib/python3.11/site-packages/sklearn/utils/deprecation.py:151: FutureWarning: 'force_all_finite' was renamed to 'ensure_all_finite' in 1.6 and will be removed in 1.8.\n",
            "  warnings.warn(\n"
          ]
        },
        {
          "name": "stdout",
          "output_type": "stream",
          "text": [
            "Training until validation scores don't improve for 10 rounds\n"
          ]
        },
        {
          "name": "stderr",
          "output_type": "stream",
          "text": [
            "/opt/anaconda3/lib/python3.11/site-packages/sklearn/utils/deprecation.py:151: FutureWarning: 'force_all_finite' was renamed to 'ensure_all_finite' in 1.6 and will be removed in 1.8.\n",
            "  warnings.warn(\n",
            "[I 2025-02-15 15:52:01,334] Trial 335 finished with value: 1513.951439729738 and parameters: {'learning_rate': 0.08234643691701032, 'num_leaves': 75, 'max_depth': 4, 'min_child_samples': 30, 'subsample': 0.7891541889060876, 'colsample_bytree': 0.8989951067348817, 'reg_alpha': 3.9904247984260577, 'reg_lambda': 2.3724460903897735}. Best is trial 131 with value: 1513.596501576817.\n"
          ]
        },
        {
          "name": "stdout",
          "output_type": "stream",
          "text": [
            "Early stopping, best iteration is:\n",
            "[63]\tvalid_0's rmse: 38.9095\n"
          ]
        },
        {
          "name": "stderr",
          "output_type": "stream",
          "text": [
            "/opt/anaconda3/lib/python3.11/site-packages/sklearn/utils/deprecation.py:151: FutureWarning: 'force_all_finite' was renamed to 'ensure_all_finite' in 1.6 and will be removed in 1.8.\n",
            "  warnings.warn(\n"
          ]
        },
        {
          "name": "stdout",
          "output_type": "stream",
          "text": [
            "Training until validation scores don't improve for 10 rounds\n"
          ]
        },
        {
          "name": "stderr",
          "output_type": "stream",
          "text": [
            "/opt/anaconda3/lib/python3.11/site-packages/sklearn/utils/deprecation.py:151: FutureWarning: 'force_all_finite' was renamed to 'ensure_all_finite' in 1.6 and will be removed in 1.8.\n",
            "  warnings.warn(\n",
            "[I 2025-02-15 15:52:02,986] Trial 336 finished with value: 1514.0795358424468 and parameters: {'learning_rate': 0.07588283124065592, 'num_leaves': 80, 'max_depth': 4, 'min_child_samples': 27, 'subsample': 0.797638236974928, 'colsample_bytree': 0.769504498739498, 'reg_alpha': 3.774546431311483, 'reg_lambda': 1.3008687459509494}. Best is trial 131 with value: 1513.596501576817.\n"
          ]
        },
        {
          "name": "stdout",
          "output_type": "stream",
          "text": [
            "Early stopping, best iteration is:\n",
            "[56]\tvalid_0's rmse: 38.9112\n"
          ]
        },
        {
          "name": "stderr",
          "output_type": "stream",
          "text": [
            "/opt/anaconda3/lib/python3.11/site-packages/sklearn/utils/deprecation.py:151: FutureWarning: 'force_all_finite' was renamed to 'ensure_all_finite' in 1.6 and will be removed in 1.8.\n",
            "  warnings.warn(\n"
          ]
        },
        {
          "name": "stdout",
          "output_type": "stream",
          "text": [
            "Training until validation scores don't improve for 10 rounds\n",
            "Did not meet early stopping. Best iteration is:\n",
            "[92]\tvalid_0's rmse: 38.91\n"
          ]
        },
        {
          "name": "stderr",
          "output_type": "stream",
          "text": [
            "/opt/anaconda3/lib/python3.11/site-packages/sklearn/utils/deprecation.py:151: FutureWarning: 'force_all_finite' was renamed to 'ensure_all_finite' in 1.6 and will be removed in 1.8.\n",
            "  warnings.warn(\n",
            "[I 2025-02-15 15:52:05,352] Trial 337 finished with value: 1513.9888293709632 and parameters: {'learning_rate': 0.07866822223755235, 'num_leaves': 52, 'max_depth': 4, 'min_child_samples': 20, 'subsample': 0.8094154450112497, 'colsample_bytree': 0.6479718692206591, 'reg_alpha': 4.561175360663523, 'reg_lambda': 1.963129223353996}. Best is trial 131 with value: 1513.596501576817.\n",
            "/opt/anaconda3/lib/python3.11/site-packages/sklearn/utils/deprecation.py:151: FutureWarning: 'force_all_finite' was renamed to 'ensure_all_finite' in 1.6 and will be removed in 1.8.\n",
            "  warnings.warn(\n"
          ]
        },
        {
          "name": "stdout",
          "output_type": "stream",
          "text": [
            "Training until validation scores don't improve for 10 rounds\n"
          ]
        },
        {
          "name": "stderr",
          "output_type": "stream",
          "text": [
            "/opt/anaconda3/lib/python3.11/site-packages/sklearn/utils/deprecation.py:151: FutureWarning: 'force_all_finite' was renamed to 'ensure_all_finite' in 1.6 and will be removed in 1.8.\n",
            "  warnings.warn(\n",
            "[I 2025-02-15 15:52:07,435] Trial 338 finished with value: 1513.9680297438886 and parameters: {'learning_rate': 0.046671019968943336, 'num_leaves': 56, 'max_depth': 4, 'min_child_samples': 179, 'subsample': 0.840951635508276, 'colsample_bytree': 0.6634268990845471, 'reg_alpha': 4.859770746512641, 'reg_lambda': 1.8144522035504647}. Best is trial 131 with value: 1513.596501576817.\n"
          ]
        },
        {
          "name": "stdout",
          "output_type": "stream",
          "text": [
            "Did not meet early stopping. Best iteration is:\n",
            "[99]\tvalid_0's rmse: 38.9097\n"
          ]
        },
        {
          "name": "stderr",
          "output_type": "stream",
          "text": [
            "/opt/anaconda3/lib/python3.11/site-packages/sklearn/utils/deprecation.py:151: FutureWarning: 'force_all_finite' was renamed to 'ensure_all_finite' in 1.6 and will be removed in 1.8.\n",
            "  warnings.warn(\n"
          ]
        },
        {
          "name": "stdout",
          "output_type": "stream",
          "text": [
            "Training until validation scores don't improve for 10 rounds\n"
          ]
        },
        {
          "name": "stderr",
          "output_type": "stream",
          "text": [
            "/opt/anaconda3/lib/python3.11/site-packages/sklearn/utils/deprecation.py:151: FutureWarning: 'force_all_finite' was renamed to 'ensure_all_finite' in 1.6 and will be removed in 1.8.\n",
            "  warnings.warn(\n",
            "[I 2025-02-15 15:52:09,265] Trial 339 finished with value: 1513.899992314146 and parameters: {'learning_rate': 0.08429765320500801, 'num_leaves': 62, 'max_depth': 3, 'min_child_samples': 34, 'subsample': 0.7818825453283834, 'colsample_bytree': 0.7818695439482581, 'reg_alpha': 3.6899574957977173, 'reg_lambda': 1.6046866219497544}. Best is trial 131 with value: 1513.596501576817.\n"
          ]
        },
        {
          "name": "stdout",
          "output_type": "stream",
          "text": [
            "Did not meet early stopping. Best iteration is:\n",
            "[100]\tvalid_0's rmse: 38.9089\n"
          ]
        },
        {
          "name": "stderr",
          "output_type": "stream",
          "text": [
            "/opt/anaconda3/lib/python3.11/site-packages/sklearn/utils/deprecation.py:151: FutureWarning: 'force_all_finite' was renamed to 'ensure_all_finite' in 1.6 and will be removed in 1.8.\n",
            "  warnings.warn(\n"
          ]
        },
        {
          "name": "stdout",
          "output_type": "stream",
          "text": [
            "Training until validation scores don't improve for 10 rounds\n"
          ]
        },
        {
          "name": "stderr",
          "output_type": "stream",
          "text": [
            "/opt/anaconda3/lib/python3.11/site-packages/sklearn/utils/deprecation.py:151: FutureWarning: 'force_all_finite' was renamed to 'ensure_all_finite' in 1.6 and will be removed in 1.8.\n",
            "  warnings.warn(\n",
            "[I 2025-02-15 15:52:11,454] Trial 340 finished with value: 1513.9068625965353 and parameters: {'learning_rate': 0.0722140705995371, 'num_leaves': 23, 'max_depth': 4, 'min_child_samples': 30, 'subsample': 0.8143334778000162, 'colsample_bytree': 0.7585422408966126, 'reg_alpha': 7.401549243136448, 'reg_lambda': 2.271308739412108}. Best is trial 131 with value: 1513.596501576817.\n"
          ]
        },
        {
          "name": "stdout",
          "output_type": "stream",
          "text": [
            "Early stopping, best iteration is:\n",
            "[86]\tvalid_0's rmse: 38.909\n"
          ]
        },
        {
          "name": "stderr",
          "output_type": "stream",
          "text": [
            "/opt/anaconda3/lib/python3.11/site-packages/sklearn/utils/deprecation.py:151: FutureWarning: 'force_all_finite' was renamed to 'ensure_all_finite' in 1.6 and will be removed in 1.8.\n",
            "  warnings.warn(\n"
          ]
        },
        {
          "name": "stdout",
          "output_type": "stream",
          "text": [
            "Training until validation scores don't improve for 10 rounds\n"
          ]
        },
        {
          "name": "stderr",
          "output_type": "stream",
          "text": [
            "/opt/anaconda3/lib/python3.11/site-packages/sklearn/utils/deprecation.py:151: FutureWarning: 'force_all_finite' was renamed to 'ensure_all_finite' in 1.6 and will be removed in 1.8.\n",
            "  warnings.warn(\n",
            "[I 2025-02-15 15:52:13,290] Trial 341 finished with value: 1514.1172154331962 and parameters: {'learning_rate': 0.0823659970827065, 'num_leaves': 53, 'max_depth': 5, 'min_child_samples': 34, 'subsample': 0.8030528231119333, 'colsample_bytree': 0.7987309323346495, 'reg_alpha': 4.367222602823185, 'reg_lambda': 1.2515119481348007}. Best is trial 131 with value: 1513.596501576817.\n"
          ]
        },
        {
          "name": "stdout",
          "output_type": "stream",
          "text": [
            "Early stopping, best iteration is:\n",
            "[48]\tvalid_0's rmse: 38.9117\n"
          ]
        },
        {
          "name": "stderr",
          "output_type": "stream",
          "text": [
            "/opt/anaconda3/lib/python3.11/site-packages/sklearn/utils/deprecation.py:151: FutureWarning: 'force_all_finite' was renamed to 'ensure_all_finite' in 1.6 and will be removed in 1.8.\n",
            "  warnings.warn(\n"
          ]
        },
        {
          "name": "stdout",
          "output_type": "stream",
          "text": [
            "Training until validation scores don't improve for 10 rounds\n"
          ]
        },
        {
          "name": "stderr",
          "output_type": "stream",
          "text": [
            "/opt/anaconda3/lib/python3.11/site-packages/sklearn/utils/deprecation.py:151: FutureWarning: 'force_all_finite' was renamed to 'ensure_all_finite' in 1.6 and will be removed in 1.8.\n",
            "  warnings.warn(\n",
            "[I 2025-02-15 15:52:15,016] Trial 342 finished with value: 1513.9924294354362 and parameters: {'learning_rate': 0.08537951588301522, 'num_leaves': 26, 'max_depth': 4, 'min_child_samples': 26, 'subsample': 0.8229547481718612, 'colsample_bytree': 0.7761072871307048, 'reg_alpha': 6.688206224901552, 'reg_lambda': 1.4808332764742258}. Best is trial 131 with value: 1513.596501576817.\n"
          ]
        },
        {
          "name": "stdout",
          "output_type": "stream",
          "text": [
            "Early stopping, best iteration is:\n",
            "[76]\tvalid_0's rmse: 38.9101\n"
          ]
        },
        {
          "name": "stderr",
          "output_type": "stream",
          "text": [
            "/opt/anaconda3/lib/python3.11/site-packages/sklearn/utils/deprecation.py:151: FutureWarning: 'force_all_finite' was renamed to 'ensure_all_finite' in 1.6 and will be removed in 1.8.\n",
            "  warnings.warn(\n"
          ]
        },
        {
          "name": "stdout",
          "output_type": "stream",
          "text": [
            "Training until validation scores don't improve for 10 rounds\n"
          ]
        },
        {
          "name": "stderr",
          "output_type": "stream",
          "text": [
            "/opt/anaconda3/lib/python3.11/site-packages/sklearn/utils/deprecation.py:151: FutureWarning: 'force_all_finite' was renamed to 'ensure_all_finite' in 1.6 and will be removed in 1.8.\n",
            "  warnings.warn(\n",
            "[I 2025-02-15 15:52:17,175] Trial 343 finished with value: 1513.8622409342624 and parameters: {'learning_rate': 0.07721922586140209, 'num_leaves': 51, 'max_depth': 4, 'min_child_samples': 23, 'subsample': 0.8401804631935195, 'colsample_bytree': 0.7444211855102824, 'reg_alpha': 6.727053501691191, 'reg_lambda': 1.7621300013484649}. Best is trial 131 with value: 1513.596501576817.\n"
          ]
        },
        {
          "name": "stdout",
          "output_type": "stream",
          "text": [
            "Did not meet early stopping. Best iteration is:\n",
            "[100]\tvalid_0's rmse: 38.9084\n"
          ]
        },
        {
          "name": "stderr",
          "output_type": "stream",
          "text": [
            "/opt/anaconda3/lib/python3.11/site-packages/sklearn/utils/deprecation.py:151: FutureWarning: 'force_all_finite' was renamed to 'ensure_all_finite' in 1.6 and will be removed in 1.8.\n",
            "  warnings.warn(\n"
          ]
        },
        {
          "name": "stdout",
          "output_type": "stream",
          "text": [
            "Training until validation scores don't improve for 10 rounds\n"
          ]
        },
        {
          "name": "stderr",
          "output_type": "stream",
          "text": [
            "/opt/anaconda3/lib/python3.11/site-packages/sklearn/utils/deprecation.py:151: FutureWarning: 'force_all_finite' was renamed to 'ensure_all_finite' in 1.6 and will be removed in 1.8.\n",
            "  warnings.warn(\n",
            "[I 2025-02-15 15:52:19,147] Trial 344 finished with value: 1513.821450427004 and parameters: {'learning_rate': 0.0803838280498687, 'num_leaves': 23, 'max_depth': 4, 'min_child_samples': 36, 'subsample': 0.8582362117313177, 'colsample_bytree': 0.7625521486272298, 'reg_alpha': 4.1714616623206355, 'reg_lambda': 1.985611757733471}. Best is trial 131 with value: 1513.596501576817.\n"
          ]
        },
        {
          "name": "stdout",
          "output_type": "stream",
          "text": [
            "Early stopping, best iteration is:\n",
            "[79]\tvalid_0's rmse: 38.9079\n"
          ]
        },
        {
          "name": "stderr",
          "output_type": "stream",
          "text": [
            "/opt/anaconda3/lib/python3.11/site-packages/sklearn/utils/deprecation.py:151: FutureWarning: 'force_all_finite' was renamed to 'ensure_all_finite' in 1.6 and will be removed in 1.8.\n",
            "  warnings.warn(\n"
          ]
        },
        {
          "name": "stdout",
          "output_type": "stream",
          "text": [
            "Training until validation scores don't improve for 10 rounds\n"
          ]
        },
        {
          "name": "stderr",
          "output_type": "stream",
          "text": [
            "/opt/anaconda3/lib/python3.11/site-packages/sklearn/utils/deprecation.py:151: FutureWarning: 'force_all_finite' was renamed to 'ensure_all_finite' in 1.6 and will be removed in 1.8.\n",
            "  warnings.warn(\n",
            "[I 2025-02-15 15:52:21,040] Trial 345 finished with value: 1513.7821633965552 and parameters: {'learning_rate': 0.08352136642363003, 'num_leaves': 50, 'max_depth': 4, 'min_child_samples': 30, 'subsample': 0.8096962575946809, 'colsample_bytree': 0.7874020595814698, 'reg_alpha': 8.898622352435725, 'reg_lambda': 2.1429797859569706}. Best is trial 131 with value: 1513.596501576817.\n"
          ]
        },
        {
          "name": "stdout",
          "output_type": "stream",
          "text": [
            "Early stopping, best iteration is:\n",
            "[79]\tvalid_0's rmse: 38.9074\n"
          ]
        },
        {
          "name": "stderr",
          "output_type": "stream",
          "text": [
            "/opt/anaconda3/lib/python3.11/site-packages/sklearn/utils/deprecation.py:151: FutureWarning: 'force_all_finite' was renamed to 'ensure_all_finite' in 1.6 and will be removed in 1.8.\n",
            "  warnings.warn(\n"
          ]
        },
        {
          "name": "stdout",
          "output_type": "stream",
          "text": [
            "Training until validation scores don't improve for 10 rounds\n"
          ]
        },
        {
          "name": "stderr",
          "output_type": "stream",
          "text": [
            "/opt/anaconda3/lib/python3.11/site-packages/sklearn/utils/deprecation.py:151: FutureWarning: 'force_all_finite' was renamed to 'ensure_all_finite' in 1.6 and will be removed in 1.8.\n",
            "  warnings.warn(\n",
            "[I 2025-02-15 15:52:22,807] Trial 346 finished with value: 1514.0039350751738 and parameters: {'learning_rate': 0.09115832777592284, 'num_leaves': 55, 'max_depth': 3, 'min_child_samples': 27, 'subsample': 0.8185862936192035, 'colsample_bytree': 0.7532492866570342, 'reg_alpha': 3.919907128870981, 'reg_lambda': 1.0456793215988767}. Best is trial 131 with value: 1513.596501576817.\n"
          ]
        },
        {
          "name": "stdout",
          "output_type": "stream",
          "text": [
            "Did not meet early stopping. Best iteration is:\n",
            "[93]\tvalid_0's rmse: 38.9102\n"
          ]
        },
        {
          "name": "stderr",
          "output_type": "stream",
          "text": [
            "/opt/anaconda3/lib/python3.11/site-packages/sklearn/utils/deprecation.py:151: FutureWarning: 'force_all_finite' was renamed to 'ensure_all_finite' in 1.6 and will be removed in 1.8.\n",
            "  warnings.warn(\n"
          ]
        },
        {
          "name": "stdout",
          "output_type": "stream",
          "text": [
            "Training until validation scores don't improve for 10 rounds\n"
          ]
        },
        {
          "name": "stderr",
          "output_type": "stream",
          "text": [
            "/opt/anaconda3/lib/python3.11/site-packages/sklearn/utils/deprecation.py:151: FutureWarning: 'force_all_finite' was renamed to 'ensure_all_finite' in 1.6 and will be removed in 1.8.\n",
            "  warnings.warn(\n",
            "[I 2025-02-15 15:52:24,367] Trial 347 finished with value: 1513.8784661717773 and parameters: {'learning_rate': 0.08824206696532343, 'num_leaves': 31, 'max_depth': 4, 'min_child_samples': 33, 'subsample': 0.8315637090268935, 'colsample_bytree': 0.7679502500852473, 'reg_alpha': 9.142536358970501, 'reg_lambda': 2.4192473488484367}. Best is trial 131 with value: 1513.596501576817.\n"
          ]
        },
        {
          "name": "stdout",
          "output_type": "stream",
          "text": [
            "Early stopping, best iteration is:\n",
            "[58]\tvalid_0's rmse: 38.9086\n"
          ]
        },
        {
          "name": "stderr",
          "output_type": "stream",
          "text": [
            "/opt/anaconda3/lib/python3.11/site-packages/sklearn/utils/deprecation.py:151: FutureWarning: 'force_all_finite' was renamed to 'ensure_all_finite' in 1.6 and will be removed in 1.8.\n",
            "  warnings.warn(\n"
          ]
        },
        {
          "name": "stdout",
          "output_type": "stream",
          "text": [
            "Training until validation scores don't improve for 10 rounds\n"
          ]
        },
        {
          "name": "stderr",
          "output_type": "stream",
          "text": [
            "/opt/anaconda3/lib/python3.11/site-packages/sklearn/utils/deprecation.py:151: FutureWarning: 'force_all_finite' was renamed to 'ensure_all_finite' in 1.6 and will be removed in 1.8.\n",
            "  warnings.warn(\n",
            "[I 2025-02-15 15:52:26,275] Trial 348 finished with value: 1514.02091261933 and parameters: {'learning_rate': 0.08523989900204715, 'num_leaves': 49, 'max_depth': 4, 'min_child_samples': 37, 'subsample': 0.7968702295253373, 'colsample_bytree': 0.7776122317240757, 'reg_alpha': 6.821735312747167, 'reg_lambda': 5.618885394153702}. Best is trial 131 with value: 1513.596501576817.\n"
          ]
        },
        {
          "name": "stdout",
          "output_type": "stream",
          "text": [
            "Early stopping, best iteration is:\n",
            "[82]\tvalid_0's rmse: 38.9104\n"
          ]
        },
        {
          "name": "stderr",
          "output_type": "stream",
          "text": [
            "/opt/anaconda3/lib/python3.11/site-packages/sklearn/utils/deprecation.py:151: FutureWarning: 'force_all_finite' was renamed to 'ensure_all_finite' in 1.6 and will be removed in 1.8.\n",
            "  warnings.warn(\n"
          ]
        },
        {
          "name": "stdout",
          "output_type": "stream",
          "text": [
            "Training until validation scores don't improve for 10 rounds\n"
          ]
        },
        {
          "name": "stderr",
          "output_type": "stream",
          "text": [
            "/opt/anaconda3/lib/python3.11/site-packages/sklearn/utils/deprecation.py:151: FutureWarning: 'force_all_finite' was renamed to 'ensure_all_finite' in 1.6 and will be removed in 1.8.\n",
            "  warnings.warn(\n",
            "[I 2025-02-15 15:52:28,257] Trial 349 finished with value: 1513.8164501619663 and parameters: {'learning_rate': 0.07961216570948096, 'num_leaves': 51, 'max_depth': 4, 'min_child_samples': 23, 'subsample': 0.8476378102820722, 'colsample_bytree': 0.7647889070348209, 'reg_alpha': 7.084474145694024, 'reg_lambda': 1.5774543208428147}. Best is trial 131 with value: 1513.596501576817.\n"
          ]
        },
        {
          "name": "stdout",
          "output_type": "stream",
          "text": [
            "Early stopping, best iteration is:\n",
            "[78]\tvalid_0's rmse: 38.9078\n"
          ]
        },
        {
          "name": "stderr",
          "output_type": "stream",
          "text": [
            "/opt/anaconda3/lib/python3.11/site-packages/sklearn/utils/deprecation.py:151: FutureWarning: 'force_all_finite' was renamed to 'ensure_all_finite' in 1.6 and will be removed in 1.8.\n",
            "  warnings.warn(\n"
          ]
        },
        {
          "name": "stdout",
          "output_type": "stream",
          "text": [
            "Training until validation scores don't improve for 10 rounds\n",
            "Early stopping, best iteration is:\n",
            "[78]\tvalid_0's rmse: 38.9087\n"
          ]
        },
        {
          "name": "stderr",
          "output_type": "stream",
          "text": [
            "/opt/anaconda3/lib/python3.11/site-packages/sklearn/utils/deprecation.py:151: FutureWarning: 'force_all_finite' was renamed to 'ensure_all_finite' in 1.6 and will be removed in 1.8.\n",
            "  warnings.warn(\n",
            "[I 2025-02-15 15:52:30,687] Trial 350 finished with value: 1513.88635380146 and parameters: {'learning_rate': 0.07464798766821551, 'num_leaves': 22, 'max_depth': 4, 'min_child_samples': 20, 'subsample': 0.825141340461472, 'colsample_bytree': 0.6527343155187296, 'reg_alpha': 4.510745983988619, 'reg_lambda': 5.216983842540035}. Best is trial 131 with value: 1513.596501576817.\n",
            "/opt/anaconda3/lib/python3.11/site-packages/sklearn/utils/deprecation.py:151: FutureWarning: 'force_all_finite' was renamed to 'ensure_all_finite' in 1.6 and will be removed in 1.8.\n",
            "  warnings.warn(\n"
          ]
        },
        {
          "name": "stdout",
          "output_type": "stream",
          "text": [
            "Training until validation scores don't improve for 10 rounds\n"
          ]
        },
        {
          "name": "stderr",
          "output_type": "stream",
          "text": [
            "/opt/anaconda3/lib/python3.11/site-packages/sklearn/utils/deprecation.py:151: FutureWarning: 'force_all_finite' was renamed to 'ensure_all_finite' in 1.6 and will be removed in 1.8.\n",
            "  warnings.warn(\n",
            "[I 2025-02-15 15:52:32,629] Trial 351 finished with value: 1513.6557489941247 and parameters: {'learning_rate': 0.08203456547807059, 'num_leaves': 24, 'max_depth': 4, 'min_child_samples': 31, 'subsample': 0.8089930374410477, 'colsample_bytree': 0.7924493688693954, 'reg_alpha': 6.465824151374298, 'reg_lambda': 1.7575801877726893}. Best is trial 131 with value: 1513.596501576817.\n"
          ]
        },
        {
          "name": "stdout",
          "output_type": "stream",
          "text": [
            "Early stopping, best iteration is:\n",
            "[85]\tvalid_0's rmse: 38.9057\n"
          ]
        },
        {
          "name": "stderr",
          "output_type": "stream",
          "text": [
            "/opt/anaconda3/lib/python3.11/site-packages/sklearn/utils/deprecation.py:151: FutureWarning: 'force_all_finite' was renamed to 'ensure_all_finite' in 1.6 and will be removed in 1.8.\n",
            "  warnings.warn(\n"
          ]
        },
        {
          "name": "stdout",
          "output_type": "stream",
          "text": [
            "Training until validation scores don't improve for 10 rounds\n"
          ]
        },
        {
          "name": "stderr",
          "output_type": "stream",
          "text": [
            "/opt/anaconda3/lib/python3.11/site-packages/sklearn/utils/deprecation.py:151: FutureWarning: 'force_all_finite' was renamed to 'ensure_all_finite' in 1.6 and will be removed in 1.8.\n",
            "  warnings.warn(\n",
            "[I 2025-02-15 15:52:34,377] Trial 352 finished with value: 1514.2632465756435 and parameters: {'learning_rate': 0.08293785255708293, 'num_leaves': 25, 'max_depth': 7, 'min_child_samples': 29, 'subsample': 0.8147216064681534, 'colsample_bytree': 0.8048774497087366, 'reg_alpha': 6.733149443179297, 'reg_lambda': 1.775051662694695}. Best is trial 131 with value: 1513.596501576817.\n"
          ]
        },
        {
          "name": "stdout",
          "output_type": "stream",
          "text": [
            "Early stopping, best iteration is:\n",
            "[63]\tvalid_0's rmse: 38.9135\n"
          ]
        },
        {
          "name": "stderr",
          "output_type": "stream",
          "text": [
            "/opt/anaconda3/lib/python3.11/site-packages/sklearn/utils/deprecation.py:151: FutureWarning: 'force_all_finite' was renamed to 'ensure_all_finite' in 1.6 and will be removed in 1.8.\n",
            "  warnings.warn(\n"
          ]
        },
        {
          "name": "stdout",
          "output_type": "stream",
          "text": [
            "Training until validation scores don't improve for 10 rounds\n"
          ]
        },
        {
          "name": "stderr",
          "output_type": "stream",
          "text": [
            "/opt/anaconda3/lib/python3.11/site-packages/sklearn/utils/deprecation.py:151: FutureWarning: 'force_all_finite' was renamed to 'ensure_all_finite' in 1.6 and will be removed in 1.8.\n",
            "  warnings.warn(\n",
            "[I 2025-02-15 15:52:36,258] Trial 353 finished with value: 1513.812818139035 and parameters: {'learning_rate': 0.08513563763949336, 'num_leaves': 28, 'max_depth': 4, 'min_child_samples': 25, 'subsample': 0.805562001707577, 'colsample_bytree': 0.7969957203785079, 'reg_alpha': 6.437819319076924, 'reg_lambda': 1.4312098875090713}. Best is trial 131 with value: 1513.596501576817.\n"
          ]
        },
        {
          "name": "stdout",
          "output_type": "stream",
          "text": [
            "Early stopping, best iteration is:\n",
            "[70]\tvalid_0's rmse: 38.9077\n"
          ]
        },
        {
          "name": "stderr",
          "output_type": "stream",
          "text": [
            "/opt/anaconda3/lib/python3.11/site-packages/sklearn/utils/deprecation.py:151: FutureWarning: 'force_all_finite' was renamed to 'ensure_all_finite' in 1.6 and will be removed in 1.8.\n",
            "  warnings.warn(\n"
          ]
        },
        {
          "name": "stdout",
          "output_type": "stream",
          "text": [
            "Training until validation scores don't improve for 10 rounds\n"
          ]
        },
        {
          "name": "stderr",
          "output_type": "stream",
          "text": [
            "/opt/anaconda3/lib/python3.11/site-packages/sklearn/utils/deprecation.py:151: FutureWarning: 'force_all_finite' was renamed to 'ensure_all_finite' in 1.6 and will be removed in 1.8.\n",
            "  warnings.warn(\n",
            "[I 2025-02-15 15:52:37,968] Trial 354 finished with value: 1513.8313571502704 and parameters: {'learning_rate': 0.087652952463965, 'num_leaves': 25, 'max_depth': 4, 'min_child_samples': 32, 'subsample': 0.825188584849547, 'colsample_bytree': 0.8179346686852323, 'reg_alpha': 6.508082162979576, 'reg_lambda': 4.863352260240465}. Best is trial 131 with value: 1513.596501576817.\n"
          ]
        },
        {
          "name": "stdout",
          "output_type": "stream",
          "text": [
            "Early stopping, best iteration is:\n",
            "[64]\tvalid_0's rmse: 38.908\n"
          ]
        },
        {
          "name": "stderr",
          "output_type": "stream",
          "text": [
            "/opt/anaconda3/lib/python3.11/site-packages/sklearn/utils/deprecation.py:151: FutureWarning: 'force_all_finite' was renamed to 'ensure_all_finite' in 1.6 and will be removed in 1.8.\n",
            "  warnings.warn(\n"
          ]
        },
        {
          "name": "stdout",
          "output_type": "stream",
          "text": [
            "Training until validation scores don't improve for 10 rounds\n"
          ]
        },
        {
          "name": "stderr",
          "output_type": "stream",
          "text": [
            "/opt/anaconda3/lib/python3.11/site-packages/sklearn/utils/deprecation.py:151: FutureWarning: 'force_all_finite' was renamed to 'ensure_all_finite' in 1.6 and will be removed in 1.8.\n",
            "  warnings.warn(\n",
            "[I 2025-02-15 15:52:39,806] Trial 355 finished with value: 1513.90910243974 and parameters: {'learning_rate': 0.0820362711568233, 'num_leaves': 24, 'max_depth': 4, 'min_child_samples': 27, 'subsample': 0.8362734459520751, 'colsample_bytree': 0.7822570360086749, 'reg_alpha': 6.929619977878909, 'reg_lambda': 1.2756822401663166}. Best is trial 131 with value: 1513.596501576817.\n"
          ]
        },
        {
          "name": "stdout",
          "output_type": "stream",
          "text": [
            "Early stopping, best iteration is:\n",
            "[70]\tvalid_0's rmse: 38.909\n"
          ]
        },
        {
          "name": "stderr",
          "output_type": "stream",
          "text": [
            "/opt/anaconda3/lib/python3.11/site-packages/sklearn/utils/deprecation.py:151: FutureWarning: 'force_all_finite' was renamed to 'ensure_all_finite' in 1.6 and will be removed in 1.8.\n",
            "  warnings.warn(\n"
          ]
        },
        {
          "name": "stdout",
          "output_type": "stream",
          "text": [
            "Training until validation scores don't improve for 10 rounds\n"
          ]
        },
        {
          "name": "stderr",
          "output_type": "stream",
          "text": [
            "/opt/anaconda3/lib/python3.11/site-packages/sklearn/utils/deprecation.py:151: FutureWarning: 'force_all_finite' was renamed to 'ensure_all_finite' in 1.6 and will be removed in 1.8.\n",
            "  warnings.warn(\n",
            "[I 2025-02-15 15:52:41,709] Trial 356 finished with value: 1513.9620178342561 and parameters: {'learning_rate': 0.08426647524649035, 'num_leaves': 27, 'max_depth': 3, 'min_child_samples': 32, 'subsample': 0.8162839588393042, 'colsample_bytree': 0.7913848960776049, 'reg_alpha': 4.945989127881253, 'reg_lambda': 1.6494020575659667}. Best is trial 131 with value: 1513.596501576817.\n"
          ]
        },
        {
          "name": "stdout",
          "output_type": "stream",
          "text": [
            "Did not meet early stopping. Best iteration is:\n",
            "[100]\tvalid_0's rmse: 38.9097\n"
          ]
        },
        {
          "name": "stderr",
          "output_type": "stream",
          "text": [
            "/opt/anaconda3/lib/python3.11/site-packages/sklearn/utils/deprecation.py:151: FutureWarning: 'force_all_finite' was renamed to 'ensure_all_finite' in 1.6 and will be removed in 1.8.\n",
            "  warnings.warn(\n"
          ]
        },
        {
          "name": "stdout",
          "output_type": "stream",
          "text": [
            "Training until validation scores don't improve for 10 rounds\n"
          ]
        },
        {
          "name": "stderr",
          "output_type": "stream",
          "text": [
            "/opt/anaconda3/lib/python3.11/site-packages/sklearn/utils/deprecation.py:151: FutureWarning: 'force_all_finite' was renamed to 'ensure_all_finite' in 1.6 and will be removed in 1.8.\n",
            "  warnings.warn(\n",
            "[I 2025-02-15 15:52:43,944] Trial 357 finished with value: 1513.8325340029958 and parameters: {'learning_rate': 0.08593567694427824, 'num_leaves': 23, 'max_depth': 4, 'min_child_samples': 23, 'subsample': 0.8429852112365963, 'colsample_bytree': 0.628090589182034, 'reg_alpha': 3.4909871333585007, 'reg_lambda': 1.9547911820719235}. Best is trial 131 with value: 1513.596501576817.\n"
          ]
        },
        {
          "name": "stdout",
          "output_type": "stream",
          "text": [
            "Early stopping, best iteration is:\n",
            "[75]\tvalid_0's rmse: 38.908\n"
          ]
        },
        {
          "name": "stderr",
          "output_type": "stream",
          "text": [
            "/opt/anaconda3/lib/python3.11/site-packages/sklearn/utils/deprecation.py:151: FutureWarning: 'force_all_finite' was renamed to 'ensure_all_finite' in 1.6 and will be removed in 1.8.\n",
            "  warnings.warn(\n"
          ]
        },
        {
          "name": "stdout",
          "output_type": "stream",
          "text": [
            "Training until validation scores don't improve for 10 rounds\n"
          ]
        },
        {
          "name": "stderr",
          "output_type": "stream",
          "text": [
            "/opt/anaconda3/lib/python3.11/site-packages/sklearn/utils/deprecation.py:151: FutureWarning: 'force_all_finite' was renamed to 'ensure_all_finite' in 1.6 and will be removed in 1.8.\n",
            "  warnings.warn(\n",
            "[I 2025-02-15 15:52:45,713] Trial 358 finished with value: 1514.1036897170404 and parameters: {'learning_rate': 0.08917150077711211, 'num_leaves': 20, 'max_depth': 5, 'min_child_samples': 29, 'subsample': 0.5531531202220947, 'colsample_bytree': 0.789869870699399, 'reg_alpha': 6.394869946866834, 'reg_lambda': 1.468504540863808}. Best is trial 131 with value: 1513.596501576817.\n"
          ]
        },
        {
          "name": "stdout",
          "output_type": "stream",
          "text": [
            "Early stopping, best iteration is:\n",
            "[47]\tvalid_0's rmse: 38.9115\n"
          ]
        },
        {
          "name": "stderr",
          "output_type": "stream",
          "text": [
            "/opt/anaconda3/lib/python3.11/site-packages/sklearn/utils/deprecation.py:151: FutureWarning: 'force_all_finite' was renamed to 'ensure_all_finite' in 1.6 and will be removed in 1.8.\n",
            "  warnings.warn(\n"
          ]
        },
        {
          "name": "stdout",
          "output_type": "stream",
          "text": [
            "Training until validation scores don't improve for 10 rounds\n"
          ]
        },
        {
          "name": "stderr",
          "output_type": "stream",
          "text": [
            "/opt/anaconda3/lib/python3.11/site-packages/sklearn/utils/deprecation.py:151: FutureWarning: 'force_all_finite' was renamed to 'ensure_all_finite' in 1.6 and will be removed in 1.8.\n",
            "  warnings.warn(\n",
            "[I 2025-02-15 15:52:47,781] Trial 359 finished with value: 1513.8739135297567 and parameters: {'learning_rate': 0.08106687211647352, 'num_leaves': 22, 'max_depth': 4, 'min_child_samples': 41, 'subsample': 0.8076008268137933, 'colsample_bytree': 0.7752217499966917, 'reg_alpha': 4.237645595109287, 'reg_lambda': 1.6720159135465156}. Best is trial 131 with value: 1513.596501576817.\n"
          ]
        },
        {
          "name": "stdout",
          "output_type": "stream",
          "text": [
            "Early stopping, best iteration is:\n",
            "[80]\tvalid_0's rmse: 38.9085\n"
          ]
        },
        {
          "name": "stderr",
          "output_type": "stream",
          "text": [
            "/opt/anaconda3/lib/python3.11/site-packages/sklearn/utils/deprecation.py:151: FutureWarning: 'force_all_finite' was renamed to 'ensure_all_finite' in 1.6 and will be removed in 1.8.\n",
            "  warnings.warn(\n"
          ]
        },
        {
          "name": "stdout",
          "output_type": "stream",
          "text": [
            "Training until validation scores don't improve for 10 rounds\n"
          ]
        },
        {
          "name": "stderr",
          "output_type": "stream",
          "text": [
            "/opt/anaconda3/lib/python3.11/site-packages/sklearn/utils/deprecation.py:151: FutureWarning: 'force_all_finite' was renamed to 'ensure_all_finite' in 1.6 and will be removed in 1.8.\n",
            "  warnings.warn(\n",
            "[I 2025-02-15 15:52:49,778] Trial 360 finished with value: 1513.9955476477003 and parameters: {'learning_rate': 0.09298919665789732, 'num_leaves': 24, 'max_depth': 4, 'min_child_samples': 36, 'subsample': 0.6637385113306051, 'colsample_bytree': 0.6345694407748738, 'reg_alpha': 6.169893599858892, 'reg_lambda': 1.157744028223151}. Best is trial 131 with value: 1513.596501576817.\n"
          ]
        },
        {
          "name": "stdout",
          "output_type": "stream",
          "text": [
            "Early stopping, best iteration is:\n",
            "[64]\tvalid_0's rmse: 38.9101\n"
          ]
        },
        {
          "name": "stderr",
          "output_type": "stream",
          "text": [
            "/opt/anaconda3/lib/python3.11/site-packages/sklearn/utils/deprecation.py:151: FutureWarning: 'force_all_finite' was renamed to 'ensure_all_finite' in 1.6 and will be removed in 1.8.\n",
            "  warnings.warn(\n"
          ]
        },
        {
          "name": "stdout",
          "output_type": "stream",
          "text": [
            "Training until validation scores don't improve for 10 rounds\n"
          ]
        },
        {
          "name": "stderr",
          "output_type": "stream",
          "text": [
            "/opt/anaconda3/lib/python3.11/site-packages/sklearn/utils/deprecation.py:151: FutureWarning: 'force_all_finite' was renamed to 'ensure_all_finite' in 1.6 and will be removed in 1.8.\n",
            "  warnings.warn(\n",
            "[I 2025-02-15 15:52:51,691] Trial 361 finished with value: 1513.7113674550183 and parameters: {'learning_rate': 0.08390154115503469, 'num_leaves': 52, 'max_depth': 4, 'min_child_samples': 26, 'subsample': 0.8306589044592936, 'colsample_bytree': 0.7836826878388323, 'reg_alpha': 6.577733791390824, 'reg_lambda': 1.8224279138092392}. Best is trial 131 with value: 1513.596501576817.\n"
          ]
        },
        {
          "name": "stdout",
          "output_type": "stream",
          "text": [
            "Early stopping, best iteration is:\n",
            "[79]\tvalid_0's rmse: 38.9064\n"
          ]
        },
        {
          "name": "stderr",
          "output_type": "stream",
          "text": [
            "/opt/anaconda3/lib/python3.11/site-packages/sklearn/utils/deprecation.py:151: FutureWarning: 'force_all_finite' was renamed to 'ensure_all_finite' in 1.6 and will be removed in 1.8.\n",
            "  warnings.warn(\n"
          ]
        },
        {
          "name": "stdout",
          "output_type": "stream",
          "text": [
            "Training until validation scores don't improve for 10 rounds\n"
          ]
        },
        {
          "name": "stderr",
          "output_type": "stream",
          "text": [
            "/opt/anaconda3/lib/python3.11/site-packages/sklearn/utils/deprecation.py:151: FutureWarning: 'force_all_finite' was renamed to 'ensure_all_finite' in 1.6 and will be removed in 1.8.\n",
            "  warnings.warn(\n",
            "[I 2025-02-15 15:52:53,506] Trial 362 finished with value: 1513.9968939551588 and parameters: {'learning_rate': 0.0837017607264682, 'num_leaves': 54, 'max_depth': 4, 'min_child_samples': 195, 'subsample': 0.8234215235480548, 'colsample_bytree': 0.810551125764598, 'reg_alpha': 6.611913143621176, 'reg_lambda': 2.0082835402073504}. Best is trial 131 with value: 1513.596501576817.\n"
          ]
        },
        {
          "name": "stdout",
          "output_type": "stream",
          "text": [
            "Early stopping, best iteration is:\n",
            "[70]\tvalid_0's rmse: 38.9101\n"
          ]
        },
        {
          "name": "stderr",
          "output_type": "stream",
          "text": [
            "/opt/anaconda3/lib/python3.11/site-packages/sklearn/utils/deprecation.py:151: FutureWarning: 'force_all_finite' was renamed to 'ensure_all_finite' in 1.6 and will be removed in 1.8.\n",
            "  warnings.warn(\n"
          ]
        },
        {
          "name": "stdout",
          "output_type": "stream",
          "text": [
            "Training until validation scores don't improve for 10 rounds\n",
            "Early stopping, best iteration is:\n",
            "[68]\tvalid_0's rmse: 38.9084\n"
          ]
        },
        {
          "name": "stderr",
          "output_type": "stream",
          "text": [
            "/opt/anaconda3/lib/python3.11/site-packages/sklearn/utils/deprecation.py:151: FutureWarning: 'force_all_finite' was renamed to 'ensure_all_finite' in 1.6 and will be removed in 1.8.\n",
            "  warnings.warn(\n",
            "[I 2025-02-15 15:52:56,536] Trial 363 finished with value: 1513.86330794202 and parameters: {'learning_rate': 0.08741123802838224, 'num_leaves': 52, 'max_depth': 4, 'min_child_samples': 20, 'subsample': 0.8307459983166019, 'colsample_bytree': 0.7958709035030342, 'reg_alpha': 6.5503099570969265, 'reg_lambda': 1.7915282005638336}. Best is trial 131 with value: 1513.596501576817.\n",
            "/opt/anaconda3/lib/python3.11/site-packages/sklearn/utils/deprecation.py:151: FutureWarning: 'force_all_finite' was renamed to 'ensure_all_finite' in 1.6 and will be removed in 1.8.\n",
            "  warnings.warn(\n"
          ]
        },
        {
          "name": "stdout",
          "output_type": "stream",
          "text": [
            "Training until validation scores don't improve for 10 rounds\n"
          ]
        },
        {
          "name": "stderr",
          "output_type": "stream",
          "text": [
            "/opt/anaconda3/lib/python3.11/site-packages/sklearn/utils/deprecation.py:151: FutureWarning: 'force_all_finite' was renamed to 'ensure_all_finite' in 1.6 and will be removed in 1.8.\n",
            "  warnings.warn(\n",
            "[I 2025-02-15 15:52:59,125] Trial 364 finished with value: 1513.845462474747 and parameters: {'learning_rate': 0.06284894735986526, 'num_leaves': 99, 'max_depth': 4, 'min_child_samples': 26, 'subsample': 0.8158291288340114, 'colsample_bytree': 0.7844936846373779, 'reg_alpha': 7.1649274201711295, 'reg_lambda': 0.8504595573957596}. Best is trial 131 with value: 1513.596501576817.\n"
          ]
        },
        {
          "name": "stdout",
          "output_type": "stream",
          "text": [
            "Did not meet early stopping. Best iteration is:\n",
            "[92]\tvalid_0's rmse: 38.9082\n"
          ]
        },
        {
          "name": "stderr",
          "output_type": "stream",
          "text": [
            "/opt/anaconda3/lib/python3.11/site-packages/sklearn/utils/deprecation.py:151: FutureWarning: 'force_all_finite' was renamed to 'ensure_all_finite' in 1.6 and will be removed in 1.8.\n",
            "  warnings.warn(\n"
          ]
        },
        {
          "name": "stdout",
          "output_type": "stream",
          "text": [
            "Training until validation scores don't improve for 10 rounds\n"
          ]
        },
        {
          "name": "stderr",
          "output_type": "stream",
          "text": [
            "/opt/anaconda3/lib/python3.11/site-packages/sklearn/utils/deprecation.py:151: FutureWarning: 'force_all_finite' was renamed to 'ensure_all_finite' in 1.6 and will be removed in 1.8.\n",
            "  warnings.warn(\n",
            "[I 2025-02-15 15:53:01,285] Trial 365 finished with value: 1513.9720508103178 and parameters: {'learning_rate': 0.0825763844524878, 'num_leaves': 53, 'max_depth': 4, 'min_child_samples': 106, 'subsample': 0.8232727062339075, 'colsample_bytree': 0.7814850942530459, 'reg_alpha': 6.316761643794924, 'reg_lambda': 2.1967255295947283}. Best is trial 131 with value: 1513.596501576817.\n"
          ]
        },
        {
          "name": "stdout",
          "output_type": "stream",
          "text": [
            "Early stopping, best iteration is:\n",
            "[58]\tvalid_0's rmse: 38.9098\n"
          ]
        },
        {
          "name": "stderr",
          "output_type": "stream",
          "text": [
            "/opt/anaconda3/lib/python3.11/site-packages/sklearn/utils/deprecation.py:151: FutureWarning: 'force_all_finite' was renamed to 'ensure_all_finite' in 1.6 and will be removed in 1.8.\n",
            "  warnings.warn(\n"
          ]
        },
        {
          "name": "stdout",
          "output_type": "stream",
          "text": [
            "Training until validation scores don't improve for 10 rounds\n"
          ]
        },
        {
          "name": "stderr",
          "output_type": "stream",
          "text": [
            "/opt/anaconda3/lib/python3.11/site-packages/sklearn/utils/deprecation.py:151: FutureWarning: 'force_all_finite' was renamed to 'ensure_all_finite' in 1.6 and will be removed in 1.8.\n",
            "  warnings.warn(\n",
            "[I 2025-02-15 15:53:03,714] Trial 366 finished with value: 1513.7727969336927 and parameters: {'learning_rate': 0.08457810303335969, 'num_leaves': 83, 'max_depth': 4, 'min_child_samples': 24, 'subsample': 0.8115376591632888, 'colsample_bytree': 0.6169526811894811, 'reg_alpha': 6.757081530687722, 'reg_lambda': 1.8946753726710373}. Best is trial 131 with value: 1513.596501576817.\n"
          ]
        },
        {
          "name": "stdout",
          "output_type": "stream",
          "text": [
            "Did not meet early stopping. Best iteration is:\n",
            "[92]\tvalid_0's rmse: 38.9072\n"
          ]
        },
        {
          "name": "stderr",
          "output_type": "stream",
          "text": [
            "/opt/anaconda3/lib/python3.11/site-packages/sklearn/utils/deprecation.py:151: FutureWarning: 'force_all_finite' was renamed to 'ensure_all_finite' in 1.6 and will be removed in 1.8.\n",
            "  warnings.warn(\n"
          ]
        },
        {
          "name": "stdout",
          "output_type": "stream",
          "text": [
            "Training until validation scores don't improve for 10 rounds\n"
          ]
        },
        {
          "name": "stderr",
          "output_type": "stream",
          "text": [
            "/opt/anaconda3/lib/python3.11/site-packages/sklearn/utils/deprecation.py:151: FutureWarning: 'force_all_finite' was renamed to 'ensure_all_finite' in 1.6 and will be removed in 1.8.\n",
            "  warnings.warn(\n",
            "[I 2025-02-15 15:53:06,042] Trial 367 finished with value: 1514.0863229148767 and parameters: {'learning_rate': 0.08633131149322854, 'num_leaves': 51, 'max_depth': 3, 'min_child_samples': 28, 'subsample': 0.5652344654292005, 'colsample_bytree': 0.8005133196582952, 'reg_alpha': 6.9428416727506965, 'reg_lambda': 2.506382788346323}. Best is trial 131 with value: 1513.596501576817.\n"
          ]
        },
        {
          "name": "stdout",
          "output_type": "stream",
          "text": [
            "Did not meet early stopping. Best iteration is:\n",
            "[95]\tvalid_0's rmse: 38.9113\n"
          ]
        },
        {
          "name": "stderr",
          "output_type": "stream",
          "text": [
            "/opt/anaconda3/lib/python3.11/site-packages/sklearn/utils/deprecation.py:151: FutureWarning: 'force_all_finite' was renamed to 'ensure_all_finite' in 1.6 and will be removed in 1.8.\n",
            "  warnings.warn(\n"
          ]
        },
        {
          "name": "stdout",
          "output_type": "stream",
          "text": [
            "Training until validation scores don't improve for 10 rounds\n"
          ]
        },
        {
          "name": "stderr",
          "output_type": "stream",
          "text": [
            "/opt/anaconda3/lib/python3.11/site-packages/sklearn/utils/deprecation.py:151: FutureWarning: 'force_all_finite' was renamed to 'ensure_all_finite' in 1.6 and will be removed in 1.8.\n",
            "  warnings.warn(\n",
            "[I 2025-02-15 15:53:07,825] Trial 368 finished with value: 1514.1242625323023 and parameters: {'learning_rate': 0.08132243664578645, 'num_leaves': 55, 'max_depth': 5, 'min_child_samples': 23, 'subsample': 0.8365343398272379, 'colsample_bytree': 0.7893082173310354, 'reg_alpha': 6.59746854980174, 'reg_lambda': 2.086574364763985}. Best is trial 131 with value: 1513.596501576817.\n"
          ]
        },
        {
          "name": "stdout",
          "output_type": "stream",
          "text": [
            "Early stopping, best iteration is:\n",
            "[47]\tvalid_0's rmse: 38.9117\n"
          ]
        },
        {
          "name": "stderr",
          "output_type": "stream",
          "text": [
            "/opt/anaconda3/lib/python3.11/site-packages/sklearn/utils/deprecation.py:151: FutureWarning: 'force_all_finite' was renamed to 'ensure_all_finite' in 1.6 and will be removed in 1.8.\n",
            "  warnings.warn(\n"
          ]
        },
        {
          "name": "stdout",
          "output_type": "stream",
          "text": [
            "Training until validation scores don't improve for 10 rounds\n"
          ]
        },
        {
          "name": "stderr",
          "output_type": "stream",
          "text": [
            "/opt/anaconda3/lib/python3.11/site-packages/sklearn/utils/deprecation.py:151: FutureWarning: 'force_all_finite' was renamed to 'ensure_all_finite' in 1.6 and will be removed in 1.8.\n",
            "  warnings.warn(\n",
            "[I 2025-02-15 15:53:09,514] Trial 369 finished with value: 1513.7710754572556 and parameters: {'learning_rate': 0.08332932872163777, 'num_leaves': 53, 'max_depth': 4, 'min_child_samples': 155, 'subsample': 0.8012505784379679, 'colsample_bytree': 0.7685626056864692, 'reg_alpha': 7.261872257071723, 'reg_lambda': 4.59356578061154}. Best is trial 131 with value: 1513.596501576817.\n"
          ]
        },
        {
          "name": "stdout",
          "output_type": "stream",
          "text": [
            "Early stopping, best iteration is:\n",
            "[75]\tvalid_0's rmse: 38.9072\n"
          ]
        },
        {
          "name": "stderr",
          "output_type": "stream",
          "text": [
            "/opt/anaconda3/lib/python3.11/site-packages/sklearn/utils/deprecation.py:151: FutureWarning: 'force_all_finite' was renamed to 'ensure_all_finite' in 1.6 and will be removed in 1.8.\n",
            "  warnings.warn(\n"
          ]
        },
        {
          "name": "stdout",
          "output_type": "stream",
          "text": [
            "Training until validation scores don't improve for 10 rounds\n"
          ]
        },
        {
          "name": "stderr",
          "output_type": "stream",
          "text": [
            "/opt/anaconda3/lib/python3.11/site-packages/sklearn/utils/deprecation.py:151: FutureWarning: 'force_all_finite' was renamed to 'ensure_all_finite' in 1.6 and will be removed in 1.8.\n",
            "  warnings.warn(\n",
            "[I 2025-02-15 15:53:11,453] Trial 370 finished with value: 1513.8871551857164 and parameters: {'learning_rate': 0.09005624448043434, 'num_leaves': 70, 'max_depth': 4, 'min_child_samples': 30, 'subsample': 0.8208166517627028, 'colsample_bytree': 0.6678384587986139, 'reg_alpha': 6.852003489894814, 'reg_lambda': 1.719140273500516}. Best is trial 131 with value: 1513.596501576817.\n"
          ]
        },
        {
          "name": "stdout",
          "output_type": "stream",
          "text": [
            "Early stopping, best iteration is:\n",
            "[67]\tvalid_0's rmse: 38.9087\n"
          ]
        },
        {
          "name": "stderr",
          "output_type": "stream",
          "text": [
            "/opt/anaconda3/lib/python3.11/site-packages/sklearn/utils/deprecation.py:151: FutureWarning: 'force_all_finite' was renamed to 'ensure_all_finite' in 1.6 and will be removed in 1.8.\n",
            "  warnings.warn(\n"
          ]
        },
        {
          "name": "stdout",
          "output_type": "stream",
          "text": [
            "Training until validation scores don't improve for 10 rounds\n"
          ]
        },
        {
          "name": "stderr",
          "output_type": "stream",
          "text": [
            "/opt/anaconda3/lib/python3.11/site-packages/sklearn/utils/deprecation.py:151: FutureWarning: 'force_all_finite' was renamed to 'ensure_all_finite' in 1.6 and will be removed in 1.8.\n",
            "  warnings.warn(\n",
            "[I 2025-02-15 15:53:13,683] Trial 371 finished with value: 1513.743086203935 and parameters: {'learning_rate': 0.08594393145439347, 'num_leaves': 73, 'max_depth': 4, 'min_child_samples': 26, 'subsample': 0.8310603000006119, 'colsample_bytree': 0.777719819659884, 'reg_alpha': 6.032069162783886, 'reg_lambda': 2.9836798399502804}. Best is trial 131 with value: 1513.596501576817.\n"
          ]
        },
        {
          "name": "stdout",
          "output_type": "stream",
          "text": [
            "Early stopping, best iteration is:\n",
            "[86]\tvalid_0's rmse: 38.9069\n"
          ]
        },
        {
          "name": "stderr",
          "output_type": "stream",
          "text": [
            "/opt/anaconda3/lib/python3.11/site-packages/sklearn/utils/deprecation.py:151: FutureWarning: 'force_all_finite' was renamed to 'ensure_all_finite' in 1.6 and will be removed in 1.8.\n",
            "  warnings.warn(\n"
          ]
        },
        {
          "name": "stdout",
          "output_type": "stream",
          "text": [
            "Training until validation scores don't improve for 10 rounds\n"
          ]
        },
        {
          "name": "stderr",
          "output_type": "stream",
          "text": [
            "/opt/anaconda3/lib/python3.11/site-packages/sklearn/utils/deprecation.py:151: FutureWarning: 'force_all_finite' was renamed to 'ensure_all_finite' in 1.6 and will be removed in 1.8.\n",
            "  warnings.warn(\n",
            "[I 2025-02-15 15:53:15,499] Trial 372 finished with value: 1514.1489035003833 and parameters: {'learning_rate': 0.08786099110280256, 'num_leaves': 72, 'max_depth': 8, 'min_child_samples': 20, 'subsample': 0.8314023530671152, 'colsample_bytree': 0.7754342302186727, 'reg_alpha': 6.143893753045867, 'reg_lambda': 6.192607270465632}. Best is trial 131 with value: 1513.596501576817.\n"
          ]
        },
        {
          "name": "stdout",
          "output_type": "stream",
          "text": [
            "Early stopping, best iteration is:\n",
            "[26]\tvalid_0's rmse: 38.9121\n"
          ]
        },
        {
          "name": "stderr",
          "output_type": "stream",
          "text": [
            "/opt/anaconda3/lib/python3.11/site-packages/sklearn/utils/deprecation.py:151: FutureWarning: 'force_all_finite' was renamed to 'ensure_all_finite' in 1.6 and will be removed in 1.8.\n",
            "  warnings.warn(\n"
          ]
        },
        {
          "name": "stdout",
          "output_type": "stream",
          "text": [
            "Training until validation scores don't improve for 10 rounds\n"
          ]
        },
        {
          "name": "stderr",
          "output_type": "stream",
          "text": [
            "/opt/anaconda3/lib/python3.11/site-packages/sklearn/utils/deprecation.py:151: FutureWarning: 'force_all_finite' was renamed to 'ensure_all_finite' in 1.6 and will be removed in 1.8.\n",
            "  warnings.warn(\n",
            "[I 2025-02-15 15:53:17,375] Trial 373 finished with value: 1513.7530945382841 and parameters: {'learning_rate': 0.08621445404528393, 'num_leaves': 74, 'max_depth': 4, 'min_child_samples': 27, 'subsample': 0.8320592046298357, 'colsample_bytree': 0.7819243233713327, 'reg_alpha': 6.0586661372951465, 'reg_lambda': 2.8696691847103826}. Best is trial 131 with value: 1513.596501576817.\n"
          ]
        },
        {
          "name": "stdout",
          "output_type": "stream",
          "text": [
            "Early stopping, best iteration is:\n",
            "[82]\tvalid_0's rmse: 38.907\n"
          ]
        },
        {
          "name": "stderr",
          "output_type": "stream",
          "text": [
            "/opt/anaconda3/lib/python3.11/site-packages/sklearn/utils/deprecation.py:151: FutureWarning: 'force_all_finite' was renamed to 'ensure_all_finite' in 1.6 and will be removed in 1.8.\n",
            "  warnings.warn(\n"
          ]
        },
        {
          "name": "stdout",
          "output_type": "stream",
          "text": [
            "Training until validation scores don't improve for 10 rounds\n"
          ]
        },
        {
          "name": "stderr",
          "output_type": "stream",
          "text": [
            "/opt/anaconda3/lib/python3.11/site-packages/sklearn/utils/deprecation.py:151: FutureWarning: 'force_all_finite' was renamed to 'ensure_all_finite' in 1.6 and will be removed in 1.8.\n",
            "  warnings.warn(\n",
            "[I 2025-02-15 15:53:19,157] Trial 374 finished with value: 1513.8934051982603 and parameters: {'learning_rate': 0.0854109840456381, 'num_leaves': 77, 'max_depth': 4, 'min_child_samples': 24, 'subsample': 0.8357306125190924, 'colsample_bytree': 0.7942411570577198, 'reg_alpha': 6.2892458256456925, 'reg_lambda': 3.001072902048093}. Best is trial 131 with value: 1513.596501576817.\n"
          ]
        },
        {
          "name": "stdout",
          "output_type": "stream",
          "text": [
            "Early stopping, best iteration is:\n",
            "[69]\tvalid_0's rmse: 38.9088\n"
          ]
        },
        {
          "name": "stderr",
          "output_type": "stream",
          "text": [
            "/opt/anaconda3/lib/python3.11/site-packages/sklearn/utils/deprecation.py:151: FutureWarning: 'force_all_finite' was renamed to 'ensure_all_finite' in 1.6 and will be removed in 1.8.\n",
            "  warnings.warn(\n"
          ]
        },
        {
          "name": "stdout",
          "output_type": "stream",
          "text": [
            "Training until validation scores don't improve for 10 rounds\n"
          ]
        },
        {
          "name": "stderr",
          "output_type": "stream",
          "text": [
            "/opt/anaconda3/lib/python3.11/site-packages/sklearn/utils/deprecation.py:151: FutureWarning: 'force_all_finite' was renamed to 'ensure_all_finite' in 1.6 and will be removed in 1.8.\n",
            "  warnings.warn(\n",
            "[I 2025-02-15 15:53:21,194] Trial 375 finished with value: 1514.0132996159514 and parameters: {'learning_rate': 0.08892250924591734, 'num_leaves': 72, 'max_depth': 5, 'min_child_samples': 26, 'subsample': 0.8265958835388773, 'colsample_bytree': 0.7719224130375903, 'reg_alpha': 6.515819693671396, 'reg_lambda': 3.106540382979113}. Best is trial 131 with value: 1513.596501576817.\n"
          ]
        },
        {
          "name": "stdout",
          "output_type": "stream",
          "text": [
            "Early stopping, best iteration is:\n",
            "[49]\tvalid_0's rmse: 38.9103\n"
          ]
        },
        {
          "name": "stderr",
          "output_type": "stream",
          "text": [
            "/opt/anaconda3/lib/python3.11/site-packages/sklearn/utils/deprecation.py:151: FutureWarning: 'force_all_finite' was renamed to 'ensure_all_finite' in 1.6 and will be removed in 1.8.\n",
            "  warnings.warn(\n"
          ]
        },
        {
          "name": "stdout",
          "output_type": "stream",
          "text": [
            "Training until validation scores don't improve for 10 rounds\n"
          ]
        },
        {
          "name": "stderr",
          "output_type": "stream",
          "text": [
            "/opt/anaconda3/lib/python3.11/site-packages/sklearn/utils/deprecation.py:151: FutureWarning: 'force_all_finite' was renamed to 'ensure_all_finite' in 1.6 and will be removed in 1.8.\n",
            "  warnings.warn(\n",
            "[I 2025-02-15 15:53:23,767] Trial 376 finished with value: 1513.9149743639211 and parameters: {'learning_rate': 0.09078318832243207, 'num_leaves': 57, 'max_depth': 4, 'min_child_samples': 30, 'subsample': 0.8427230332830326, 'colsample_bytree': 0.7846516571361872, 'reg_alpha': 4.773614478196716, 'reg_lambda': 2.3702706469903285}. Best is trial 131 with value: 1513.596501576817.\n"
          ]
        },
        {
          "name": "stdout",
          "output_type": "stream",
          "text": [
            "Early stopping, best iteration is:\n",
            "[69]\tvalid_0's rmse: 38.9091\n"
          ]
        },
        {
          "name": "stderr",
          "output_type": "stream",
          "text": [
            "/opt/anaconda3/lib/python3.11/site-packages/sklearn/utils/deprecation.py:151: FutureWarning: 'force_all_finite' was renamed to 'ensure_all_finite' in 1.6 and will be removed in 1.8.\n",
            "  warnings.warn(\n"
          ]
        },
        {
          "name": "stdout",
          "output_type": "stream",
          "text": [
            "Training until validation scores don't improve for 10 rounds\n"
          ]
        },
        {
          "name": "stderr",
          "output_type": "stream",
          "text": [
            "/opt/anaconda3/lib/python3.11/site-packages/sklearn/utils/deprecation.py:151: FutureWarning: 'force_all_finite' was renamed to 'ensure_all_finite' in 1.6 and will be removed in 1.8.\n",
            "  warnings.warn(\n",
            "[I 2025-02-15 15:53:26,353] Trial 377 finished with value: 1513.9884474701282 and parameters: {'learning_rate': 0.08739855581787404, 'num_leaves': 75, 'max_depth': 3, 'min_child_samples': 23, 'subsample': 0.8198361238103852, 'colsample_bytree': 0.7751779737869073, 'reg_alpha': 5.946453815497045, 'reg_lambda': 2.6114762287727475}. Best is trial 131 with value: 1513.596501576817.\n"
          ]
        },
        {
          "name": "stdout",
          "output_type": "stream",
          "text": [
            "Did not meet early stopping. Best iteration is:\n",
            "[92]\tvalid_0's rmse: 38.91\n"
          ]
        },
        {
          "name": "stderr",
          "output_type": "stream",
          "text": [
            "/opt/anaconda3/lib/python3.11/site-packages/sklearn/utils/deprecation.py:151: FutureWarning: 'force_all_finite' was renamed to 'ensure_all_finite' in 1.6 and will be removed in 1.8.\n",
            "  warnings.warn(\n"
          ]
        },
        {
          "name": "stdout",
          "output_type": "stream",
          "text": [
            "Training until validation scores don't improve for 10 rounds\n"
          ]
        },
        {
          "name": "stderr",
          "output_type": "stream",
          "text": [
            "/opt/anaconda3/lib/python3.11/site-packages/sklearn/utils/deprecation.py:151: FutureWarning: 'force_all_finite' was renamed to 'ensure_all_finite' in 1.6 and will be removed in 1.8.\n",
            "  warnings.warn(\n",
            "[I 2025-02-15 15:53:28,411] Trial 378 finished with value: 1513.9277193141468 and parameters: {'learning_rate': 0.08512401894641161, 'num_leaves': 20, 'max_depth': 4, 'min_child_samples': 34, 'subsample': 0.807732065242393, 'colsample_bytree': 0.7890016919773752, 'reg_alpha': 6.3998110805864465, 'reg_lambda': 1.2916058678177247}. Best is trial 131 with value: 1513.596501576817.\n"
          ]
        },
        {
          "name": "stdout",
          "output_type": "stream",
          "text": [
            "Early stopping, best iteration is:\n",
            "[70]\tvalid_0's rmse: 38.9092\n"
          ]
        },
        {
          "name": "stderr",
          "output_type": "stream",
          "text": [
            "/opt/anaconda3/lib/python3.11/site-packages/sklearn/utils/deprecation.py:151: FutureWarning: 'force_all_finite' was renamed to 'ensure_all_finite' in 1.6 and will be removed in 1.8.\n",
            "  warnings.warn(\n"
          ]
        },
        {
          "name": "stdout",
          "output_type": "stream",
          "text": [
            "Training until validation scores don't improve for 10 rounds\n"
          ]
        },
        {
          "name": "stderr",
          "output_type": "stream",
          "text": [
            "/opt/anaconda3/lib/python3.11/site-packages/sklearn/utils/deprecation.py:151: FutureWarning: 'force_all_finite' was renamed to 'ensure_all_finite' in 1.6 and will be removed in 1.8.\n",
            "  warnings.warn(\n",
            "[I 2025-02-15 15:53:30,095] Trial 379 finished with value: 1513.891299169424 and parameters: {'learning_rate': 0.08078822426532542, 'num_leaves': 73, 'max_depth': 4, 'min_child_samples': 116, 'subsample': 0.5000393611639342, 'colsample_bytree': 0.769015443021265, 'reg_alpha': 6.654797012212377, 'reg_lambda': 3.0006958667934684}. Best is trial 131 with value: 1513.596501576817.\n"
          ]
        },
        {
          "name": "stdout",
          "output_type": "stream",
          "text": [
            "Early stopping, best iteration is:\n",
            "[67]\tvalid_0's rmse: 38.9088\n"
          ]
        },
        {
          "name": "stderr",
          "output_type": "stream",
          "text": [
            "/opt/anaconda3/lib/python3.11/site-packages/sklearn/utils/deprecation.py:151: FutureWarning: 'force_all_finite' was renamed to 'ensure_all_finite' in 1.6 and will be removed in 1.8.\n",
            "  warnings.warn(\n"
          ]
        },
        {
          "name": "stdout",
          "output_type": "stream",
          "text": [
            "Training until validation scores don't improve for 10 rounds\n"
          ]
        },
        {
          "name": "stderr",
          "output_type": "stream",
          "text": [
            "/opt/anaconda3/lib/python3.11/site-packages/sklearn/utils/deprecation.py:151: FutureWarning: 'force_all_finite' was renamed to 'ensure_all_finite' in 1.6 and will be removed in 1.8.\n",
            "  warnings.warn(\n",
            "[I 2025-02-15 15:53:31,808] Trial 380 finished with value: 1513.9146120380572 and parameters: {'learning_rate': 0.08287565251575141, 'num_leaves': 68, 'max_depth': 4, 'min_child_samples': 27, 'subsample': 0.8282747907166055, 'colsample_bytree': 0.802075244850296, 'reg_alpha': 7.565835408212996, 'reg_lambda': 2.2578976965921305}. Best is trial 131 with value: 1513.596501576817.\n"
          ]
        },
        {
          "name": "stdout",
          "output_type": "stream",
          "text": [
            "Early stopping, best iteration is:\n",
            "[72]\tvalid_0's rmse: 38.9091\n"
          ]
        },
        {
          "name": "stderr",
          "output_type": "stream",
          "text": [
            "/opt/anaconda3/lib/python3.11/site-packages/sklearn/utils/deprecation.py:151: FutureWarning: 'force_all_finite' was renamed to 'ensure_all_finite' in 1.6 and will be removed in 1.8.\n",
            "  warnings.warn(\n"
          ]
        },
        {
          "name": "stdout",
          "output_type": "stream",
          "text": [
            "Training until validation scores don't improve for 10 rounds\n"
          ]
        },
        {
          "name": "stderr",
          "output_type": "stream",
          "text": [
            "/opt/anaconda3/lib/python3.11/site-packages/sklearn/utils/deprecation.py:151: FutureWarning: 'force_all_finite' was renamed to 'ensure_all_finite' in 1.6 and will be removed in 1.8.\n",
            "  warnings.warn(\n",
            "[I 2025-02-15 15:53:33,872] Trial 381 finished with value: 1513.8784178107994 and parameters: {'learning_rate': 0.057213651292884866, 'num_leaves': 22, 'max_depth': 4, 'min_child_samples': 30, 'subsample': 0.8566553537704416, 'colsample_bytree': 0.7798158002748685, 'reg_alpha': 6.348611378176094, 'reg_lambda': 1.9230164023887146}. Best is trial 131 with value: 1513.596501576817.\n"
          ]
        },
        {
          "name": "stdout",
          "output_type": "stream",
          "text": [
            "Did not meet early stopping. Best iteration is:\n",
            "[100]\tvalid_0's rmse: 38.9086\n"
          ]
        },
        {
          "name": "stderr",
          "output_type": "stream",
          "text": [
            "/opt/anaconda3/lib/python3.11/site-packages/sklearn/utils/deprecation.py:151: FutureWarning: 'force_all_finite' was renamed to 'ensure_all_finite' in 1.6 and will be removed in 1.8.\n",
            "  warnings.warn(\n"
          ]
        },
        {
          "name": "stdout",
          "output_type": "stream",
          "text": [
            "Training until validation scores don't improve for 10 rounds\n"
          ]
        },
        {
          "name": "stderr",
          "output_type": "stream",
          "text": [
            "/opt/anaconda3/lib/python3.11/site-packages/sklearn/utils/deprecation.py:151: FutureWarning: 'force_all_finite' was renamed to 'ensure_all_finite' in 1.6 and will be removed in 1.8.\n",
            "  warnings.warn(\n",
            "[I 2025-02-15 15:53:35,755] Trial 382 finished with value: 1514.0842463953516 and parameters: {'learning_rate': 0.08640529913398647, 'num_leaves': 49, 'max_depth': 5, 'min_child_samples': 23, 'subsample': 0.8399990295255112, 'colsample_bytree': 0.578619002310328, 'reg_alpha': 6.9729006389102, 'reg_lambda': 1.4628988987531275}. Best is trial 131 with value: 1513.596501576817.\n"
          ]
        },
        {
          "name": "stdout",
          "output_type": "stream",
          "text": [
            "Early stopping, best iteration is:\n",
            "[39]\tvalid_0's rmse: 38.9112\n"
          ]
        },
        {
          "name": "stderr",
          "output_type": "stream",
          "text": [
            "/opt/anaconda3/lib/python3.11/site-packages/sklearn/utils/deprecation.py:151: FutureWarning: 'force_all_finite' was renamed to 'ensure_all_finite' in 1.6 and will be removed in 1.8.\n",
            "  warnings.warn(\n"
          ]
        },
        {
          "name": "stdout",
          "output_type": "stream",
          "text": [
            "Training until validation scores don't improve for 10 rounds\n"
          ]
        },
        {
          "name": "stderr",
          "output_type": "stream",
          "text": [
            "/opt/anaconda3/lib/python3.11/site-packages/sklearn/utils/deprecation.py:151: FutureWarning: 'force_all_finite' was renamed to 'ensure_all_finite' in 1.6 and will be removed in 1.8.\n",
            "  warnings.warn(\n",
            "[I 2025-02-15 15:53:37,530] Trial 383 finished with value: 1513.8148453318877 and parameters: {'learning_rate': 0.07985487769313453, 'num_leaves': 71, 'max_depth': 4, 'min_child_samples': 20, 'subsample': 0.8184836823402124, 'colsample_bytree': 0.7625715519278573, 'reg_alpha': 6.70304826151683, 'reg_lambda': 3.2066740322206204}. Best is trial 131 with value: 1513.596501576817.\n"
          ]
        },
        {
          "name": "stdout",
          "output_type": "stream",
          "text": [
            "Early stopping, best iteration is:\n",
            "[76]\tvalid_0's rmse: 38.9078\n"
          ]
        },
        {
          "name": "stderr",
          "output_type": "stream",
          "text": [
            "/opt/anaconda3/lib/python3.11/site-packages/sklearn/utils/deprecation.py:151: FutureWarning: 'force_all_finite' was renamed to 'ensure_all_finite' in 1.6 and will be removed in 1.8.\n",
            "  warnings.warn(\n"
          ]
        },
        {
          "name": "stdout",
          "output_type": "stream",
          "text": [
            "Training until validation scores don't improve for 10 rounds\n"
          ]
        },
        {
          "name": "stderr",
          "output_type": "stream",
          "text": [
            "/opt/anaconda3/lib/python3.11/site-packages/sklearn/utils/deprecation.py:151: FutureWarning: 'force_all_finite' was renamed to 'ensure_all_finite' in 1.6 and will be removed in 1.8.\n",
            "  warnings.warn(\n",
            "[I 2025-02-15 15:53:39,271] Trial 384 finished with value: 1513.9729946049176 and parameters: {'learning_rate': 0.08397107631376556, 'num_leaves': 52, 'max_depth': 4, 'min_child_samples': 63, 'subsample': 0.7897710843823731, 'colsample_bytree': 0.7743667692449432, 'reg_alpha': 7.069749546050452, 'reg_lambda': 8.122071726546363}. Best is trial 131 with value: 1513.596501576817.\n"
          ]
        },
        {
          "name": "stdout",
          "output_type": "stream",
          "text": [
            "Early stopping, best iteration is:\n",
            "[71]\tvalid_0's rmse: 38.9098\n"
          ]
        },
        {
          "name": "stderr",
          "output_type": "stream",
          "text": [
            "/opt/anaconda3/lib/python3.11/site-packages/sklearn/utils/deprecation.py:151: FutureWarning: 'force_all_finite' was renamed to 'ensure_all_finite' in 1.6 and will be removed in 1.8.\n",
            "  warnings.warn(\n"
          ]
        },
        {
          "name": "stdout",
          "output_type": "stream",
          "text": [
            "Training until validation scores don't improve for 10 rounds\n"
          ]
        },
        {
          "name": "stderr",
          "output_type": "stream",
          "text": [
            "/opt/anaconda3/lib/python3.11/site-packages/sklearn/utils/deprecation.py:151: FutureWarning: 'force_all_finite' was renamed to 'ensure_all_finite' in 1.6 and will be removed in 1.8.\n",
            "  warnings.warn(\n",
            "[I 2025-02-15 15:53:40,883] Trial 385 finished with value: 1513.884962393724 and parameters: {'learning_rate': 0.08890468661902506, 'num_leaves': 92, 'max_depth': 4, 'min_child_samples': 34, 'subsample': 0.8313196406905264, 'colsample_bytree': 0.8414446614474873, 'reg_alpha': 4.641684025239362, 'reg_lambda': 7.5550716220877545}. Best is trial 131 with value: 1513.596501576817.\n"
          ]
        },
        {
          "name": "stdout",
          "output_type": "stream",
          "text": [
            "Early stopping, best iteration is:\n",
            "[62]\tvalid_0's rmse: 38.9087\n"
          ]
        },
        {
          "name": "stderr",
          "output_type": "stream",
          "text": [
            "/opt/anaconda3/lib/python3.11/site-packages/sklearn/utils/deprecation.py:151: FutureWarning: 'force_all_finite' was renamed to 'ensure_all_finite' in 1.6 and will be removed in 1.8.\n",
            "  warnings.warn(\n"
          ]
        },
        {
          "name": "stdout",
          "output_type": "stream",
          "text": [
            "Training until validation scores don't improve for 10 rounds\n"
          ]
        },
        {
          "name": "stderr",
          "output_type": "stream",
          "text": [
            "/opt/anaconda3/lib/python3.11/site-packages/sklearn/utils/deprecation.py:151: FutureWarning: 'force_all_finite' was renamed to 'ensure_all_finite' in 1.6 and will be removed in 1.8.\n",
            "  warnings.warn(\n",
            "[I 2025-02-15 15:53:42,911] Trial 386 finished with value: 1513.6783798211477 and parameters: {'learning_rate': 0.0820919099206244, 'num_leaves': 33, 'max_depth': 4, 'min_child_samples': 26, 'subsample': 0.8013421466163075, 'colsample_bytree': 0.783607673297231, 'reg_alpha': 6.468003576213617, 'reg_lambda': 1.7469706707306782}. Best is trial 131 with value: 1513.596501576817.\n"
          ]
        },
        {
          "name": "stdout",
          "output_type": "stream",
          "text": [
            "Did not meet early stopping. Best iteration is:\n",
            "[93]\tvalid_0's rmse: 38.906\n"
          ]
        },
        {
          "name": "stderr",
          "output_type": "stream",
          "text": [
            "/opt/anaconda3/lib/python3.11/site-packages/sklearn/utils/deprecation.py:151: FutureWarning: 'force_all_finite' was renamed to 'ensure_all_finite' in 1.6 and will be removed in 1.8.\n",
            "  warnings.warn(\n"
          ]
        },
        {
          "name": "stdout",
          "output_type": "stream",
          "text": [
            "Training until validation scores don't improve for 10 rounds\n"
          ]
        },
        {
          "name": "stderr",
          "output_type": "stream",
          "text": [
            "/opt/anaconda3/lib/python3.11/site-packages/sklearn/utils/deprecation.py:151: FutureWarning: 'force_all_finite' was renamed to 'ensure_all_finite' in 1.6 and will be removed in 1.8.\n",
            "  warnings.warn(\n",
            "[I 2025-02-15 15:53:45,095] Trial 387 finished with value: 1513.8880889283325 and parameters: {'learning_rate': 0.0817342812948709, 'num_leaves': 36, 'max_depth': 4, 'min_child_samples': 26, 'subsample': 0.7992430276625482, 'colsample_bytree': 0.7898096442591109, 'reg_alpha': 4.49227657312911, 'reg_lambda': 2.053872412937535}. Best is trial 131 with value: 1513.596501576817.\n"
          ]
        },
        {
          "name": "stdout",
          "output_type": "stream",
          "text": [
            "Early stopping, best iteration is:\n",
            "[82]\tvalid_0's rmse: 38.9087\n"
          ]
        },
        {
          "name": "stderr",
          "output_type": "stream",
          "text": [
            "/opt/anaconda3/lib/python3.11/site-packages/sklearn/utils/deprecation.py:151: FutureWarning: 'force_all_finite' was renamed to 'ensure_all_finite' in 1.6 and will be removed in 1.8.\n",
            "  warnings.warn(\n"
          ]
        },
        {
          "name": "stdout",
          "output_type": "stream",
          "text": [
            "Training until validation scores don't improve for 10 rounds\n"
          ]
        },
        {
          "name": "stderr",
          "output_type": "stream",
          "text": [
            "/opt/anaconda3/lib/python3.11/site-packages/sklearn/utils/deprecation.py:151: FutureWarning: 'force_all_finite' was renamed to 'ensure_all_finite' in 1.6 and will be removed in 1.8.\n",
            "  warnings.warn(\n",
            "[I 2025-02-15 15:53:46,852] Trial 388 finished with value: 1513.9408750486177 and parameters: {'learning_rate': 0.078592999602747, 'num_leaves': 34, 'max_depth': 3, 'min_child_samples': 23, 'subsample': 0.6100358452911876, 'colsample_bytree': 0.7806707703711437, 'reg_alpha': 1.6931292150593997, 'reg_lambda': 1.7046167558753653}. Best is trial 131 with value: 1513.596501576817.\n"
          ]
        },
        {
          "name": "stdout",
          "output_type": "stream",
          "text": [
            "Did not meet early stopping. Best iteration is:\n",
            "[100]\tvalid_0's rmse: 38.9094\n"
          ]
        },
        {
          "name": "stderr",
          "output_type": "stream",
          "text": [
            "/opt/anaconda3/lib/python3.11/site-packages/sklearn/utils/deprecation.py:151: FutureWarning: 'force_all_finite' was renamed to 'ensure_all_finite' in 1.6 and will be removed in 1.8.\n",
            "  warnings.warn(\n"
          ]
        },
        {
          "name": "stdout",
          "output_type": "stream",
          "text": [
            "Training until validation scores don't improve for 10 rounds\n"
          ]
        },
        {
          "name": "stderr",
          "output_type": "stream",
          "text": [
            "/opt/anaconda3/lib/python3.11/site-packages/sklearn/utils/deprecation.py:151: FutureWarning: 'force_all_finite' was renamed to 'ensure_all_finite' in 1.6 and will be removed in 1.8.\n",
            "  warnings.warn(\n",
            "[I 2025-02-15 15:53:48,882] Trial 389 finished with value: 1513.8034309517395 and parameters: {'learning_rate': 0.08233514993872594, 'num_leaves': 32, 'max_depth': 4, 'min_child_samples': 27, 'subsample': 0.7957117368088403, 'colsample_bytree': 0.7687426734084966, 'reg_alpha': 5.285576204966024, 'reg_lambda': 1.8755749994465543}. Best is trial 131 with value: 1513.596501576817.\n"
          ]
        },
        {
          "name": "stdout",
          "output_type": "stream",
          "text": [
            "Early stopping, best iteration is:\n",
            "[81]\tvalid_0's rmse: 38.9076\n"
          ]
        },
        {
          "name": "stderr",
          "output_type": "stream",
          "text": [
            "/opt/anaconda3/lib/python3.11/site-packages/sklearn/utils/deprecation.py:151: FutureWarning: 'force_all_finite' was renamed to 'ensure_all_finite' in 1.6 and will be removed in 1.8.\n",
            "  warnings.warn(\n"
          ]
        },
        {
          "name": "stdout",
          "output_type": "stream",
          "text": [
            "Training until validation scores don't improve for 10 rounds\n"
          ]
        },
        {
          "name": "stderr",
          "output_type": "stream",
          "text": [
            "/opt/anaconda3/lib/python3.11/site-packages/sklearn/utils/deprecation.py:151: FutureWarning: 'force_all_finite' was renamed to 'ensure_all_finite' in 1.6 and will be removed in 1.8.\n",
            "  warnings.warn(\n",
            "[I 2025-02-15 15:53:50,570] Trial 390 finished with value: 1514.222405388326 and parameters: {'learning_rate': 0.07952389744598845, 'num_leaves': 29, 'max_depth': 10, 'min_child_samples': 20, 'subsample': 0.8083049291087558, 'colsample_bytree': 0.792497346420765, 'reg_alpha': 5.846764000499015, 'reg_lambda': 1.626831829617311}. Best is trial 131 with value: 1513.596501576817.\n"
          ]
        },
        {
          "name": "stdout",
          "output_type": "stream",
          "text": [
            "Early stopping, best iteration is:\n",
            "[48]\tvalid_0's rmse: 38.913\n"
          ]
        },
        {
          "name": "stderr",
          "output_type": "stream",
          "text": [
            "/opt/anaconda3/lib/python3.11/site-packages/sklearn/utils/deprecation.py:151: FutureWarning: 'force_all_finite' was renamed to 'ensure_all_finite' in 1.6 and will be removed in 1.8.\n",
            "  warnings.warn(\n"
          ]
        },
        {
          "name": "stdout",
          "output_type": "stream",
          "text": [
            "Training until validation scores don't improve for 10 rounds\n"
          ]
        },
        {
          "name": "stderr",
          "output_type": "stream",
          "text": [
            "/opt/anaconda3/lib/python3.11/site-packages/sklearn/utils/deprecation.py:151: FutureWarning: 'force_all_finite' was renamed to 'ensure_all_finite' in 1.6 and will be removed in 1.8.\n",
            "  warnings.warn(\n",
            "[I 2025-02-15 15:53:52,066] Trial 391 finished with value: 1514.2168179269106 and parameters: {'learning_rate': 0.08395094491063376, 'num_leaves': 39, 'max_depth': 12, 'min_child_samples': 29, 'subsample': 0.7806902066246635, 'colsample_bytree': 0.783407581260793, 'reg_alpha': 6.1939031950234735, 'reg_lambda': 2.4295519207433838}. Best is trial 131 with value: 1513.596501576817.\n"
          ]
        },
        {
          "name": "stdout",
          "output_type": "stream",
          "text": [
            "Early stopping, best iteration is:\n",
            "[40]\tvalid_0's rmse: 38.9129\n"
          ]
        },
        {
          "name": "stderr",
          "output_type": "stream",
          "text": [
            "/opt/anaconda3/lib/python3.11/site-packages/sklearn/utils/deprecation.py:151: FutureWarning: 'force_all_finite' was renamed to 'ensure_all_finite' in 1.6 and will be removed in 1.8.\n",
            "  warnings.warn(\n"
          ]
        },
        {
          "name": "stdout",
          "output_type": "stream",
          "text": [
            "Training until validation scores don't improve for 10 rounds\n",
            "Early stopping, best iteration is:\n",
            "[86]\tvalid_0's rmse: 38.9079\n"
          ]
        },
        {
          "name": "stderr",
          "output_type": "stream",
          "text": [
            "/opt/anaconda3/lib/python3.11/site-packages/sklearn/utils/deprecation.py:151: FutureWarning: 'force_all_finite' was renamed to 'ensure_all_finite' in 1.6 and will be removed in 1.8.\n",
            "  warnings.warn(\n",
            "[I 2025-02-15 15:53:54,212] Trial 392 finished with value: 1513.8243620302742 and parameters: {'learning_rate': 0.08148881196079759, 'num_leaves': 21, 'max_depth': 4, 'min_child_samples': 26, 'subsample': 0.8028151824099833, 'colsample_bytree': 0.7968159720174127, 'reg_alpha': 6.697679416517389, 'reg_lambda': 1.3942580363368786}. Best is trial 131 with value: 1513.596501576817.\n",
            "/opt/anaconda3/lib/python3.11/site-packages/sklearn/utils/deprecation.py:151: FutureWarning: 'force_all_finite' was renamed to 'ensure_all_finite' in 1.6 and will be removed in 1.8.\n",
            "  warnings.warn(\n"
          ]
        },
        {
          "name": "stdout",
          "output_type": "stream",
          "text": [
            "Training until validation scores don't improve for 10 rounds\n"
          ]
        },
        {
          "name": "stderr",
          "output_type": "stream",
          "text": [
            "/opt/anaconda3/lib/python3.11/site-packages/sklearn/utils/deprecation.py:151: FutureWarning: 'force_all_finite' was renamed to 'ensure_all_finite' in 1.6 and will be removed in 1.8.\n",
            "  warnings.warn(\n",
            "[I 2025-02-15 15:53:56,829] Trial 393 finished with value: 1513.8190082048668 and parameters: {'learning_rate': 0.08714179064438976, 'num_leaves': 30, 'max_depth': 4, 'min_child_samples': 32, 'subsample': 0.6862859427694884, 'colsample_bytree': 0.7638418261894786, 'reg_alpha': 5.044332999682961, 'reg_lambda': 2.1025793412131444}. Best is trial 131 with value: 1513.596501576817.\n"
          ]
        },
        {
          "name": "stdout",
          "output_type": "stream",
          "text": [
            "Early stopping, best iteration is:\n",
            "[88]\tvalid_0's rmse: 38.9078\n"
          ]
        },
        {
          "name": "stderr",
          "output_type": "stream",
          "text": [
            "/opt/anaconda3/lib/python3.11/site-packages/sklearn/utils/deprecation.py:151: FutureWarning: 'force_all_finite' was renamed to 'ensure_all_finite' in 1.6 and will be removed in 1.8.\n",
            "  warnings.warn(\n"
          ]
        },
        {
          "name": "stdout",
          "output_type": "stream",
          "text": [
            "Training until validation scores don't improve for 10 rounds\n",
            "Early stopping, best iteration is:\n",
            "[77]\tvalid_0's rmse: 38.9066\n"
          ]
        },
        {
          "name": "stderr",
          "output_type": "stream",
          "text": [
            "/opt/anaconda3/lib/python3.11/site-packages/sklearn/utils/deprecation.py:151: FutureWarning: 'force_all_finite' was renamed to 'ensure_all_finite' in 1.6 and will be removed in 1.8.\n",
            "  warnings.warn(\n",
            "[I 2025-02-15 15:53:59,044] Trial 394 finished with value: 1513.7245149546627 and parameters: {'learning_rate': 0.07746764678494436, 'num_leaves': 33, 'max_depth': 4, 'min_child_samples': 23, 'subsample': 0.8131960440277196, 'colsample_bytree': 0.7762804038811235, 'reg_alpha': 6.410740466361042, 'reg_lambda': 1.1021316500069998}. Best is trial 131 with value: 1513.596501576817.\n",
            "/opt/anaconda3/lib/python3.11/site-packages/sklearn/utils/deprecation.py:151: FutureWarning: 'force_all_finite' was renamed to 'ensure_all_finite' in 1.6 and will be removed in 1.8.\n",
            "  warnings.warn(\n"
          ]
        },
        {
          "name": "stdout",
          "output_type": "stream",
          "text": [
            "Training until validation scores don't improve for 10 rounds\n"
          ]
        },
        {
          "name": "stderr",
          "output_type": "stream",
          "text": [
            "/opt/anaconda3/lib/python3.11/site-packages/sklearn/utils/deprecation.py:151: FutureWarning: 'force_all_finite' was renamed to 'ensure_all_finite' in 1.6 and will be removed in 1.8.\n",
            "  warnings.warn(\n",
            "[I 2025-02-15 15:54:01,132] Trial 395 finished with value: 1513.9417563890936 and parameters: {'learning_rate': 0.043813542232429496, 'num_leaves': 23, 'max_depth': 4, 'min_child_samples': 23, 'subsample': 0.812397162126181, 'colsample_bytree': 0.773776423836068, 'reg_alpha': 6.147810579155426, 'reg_lambda': 1.430258327594891}. Best is trial 131 with value: 1513.596501576817.\n"
          ]
        },
        {
          "name": "stdout",
          "output_type": "stream",
          "text": [
            "Did not meet early stopping. Best iteration is:\n",
            "[100]\tvalid_0's rmse: 38.9094\n"
          ]
        },
        {
          "name": "stderr",
          "output_type": "stream",
          "text": [
            "/opt/anaconda3/lib/python3.11/site-packages/sklearn/utils/deprecation.py:151: FutureWarning: 'force_all_finite' was renamed to 'ensure_all_finite' in 1.6 and will be removed in 1.8.\n",
            "  warnings.warn(\n"
          ]
        },
        {
          "name": "stdout",
          "output_type": "stream",
          "text": [
            "Training until validation scores don't improve for 10 rounds\n"
          ]
        },
        {
          "name": "stderr",
          "output_type": "stream",
          "text": [
            "/opt/anaconda3/lib/python3.11/site-packages/sklearn/utils/deprecation.py:151: FutureWarning: 'force_all_finite' was renamed to 'ensure_all_finite' in 1.6 and will be removed in 1.8.\n",
            "  warnings.warn(\n",
            "[I 2025-02-15 15:54:02,671] Trial 396 finished with value: 1514.048789933736 and parameters: {'learning_rate': 0.07603286831050264, 'num_leaves': 21, 'max_depth': 4, 'min_child_samples': 20, 'subsample': 0.8157335446211522, 'colsample_bytree': 0.7810764036904769, 'reg_alpha': 6.428661883881581, 'reg_lambda': 0.5347205812293577}. Best is trial 131 with value: 1513.596501576817.\n"
          ]
        },
        {
          "name": "stdout",
          "output_type": "stream",
          "text": [
            "Early stopping, best iteration is:\n",
            "[60]\tvalid_0's rmse: 38.9108\n"
          ]
        },
        {
          "name": "stderr",
          "output_type": "stream",
          "text": [
            "/opt/anaconda3/lib/python3.11/site-packages/sklearn/utils/deprecation.py:151: FutureWarning: 'force_all_finite' was renamed to 'ensure_all_finite' in 1.6 and will be removed in 1.8.\n",
            "  warnings.warn(\n"
          ]
        },
        {
          "name": "stdout",
          "output_type": "stream",
          "text": [
            "Training until validation scores don't improve for 10 rounds\n"
          ]
        },
        {
          "name": "stderr",
          "output_type": "stream",
          "text": [
            "/opt/anaconda3/lib/python3.11/site-packages/sklearn/utils/deprecation.py:151: FutureWarning: 'force_all_finite' was renamed to 'ensure_all_finite' in 1.6 and will be removed in 1.8.\n",
            "  warnings.warn(\n",
            "[I 2025-02-15 15:54:04,322] Trial 397 finished with value: 1513.9175852192616 and parameters: {'learning_rate': 0.07830351534124075, 'num_leaves': 33, 'max_depth': 4, 'min_child_samples': 25, 'subsample': 0.8222147843095003, 'colsample_bytree': 0.8074021832745327, 'reg_alpha': 6.425106076997316, 'reg_lambda': 0.6655956664471475}. Best is trial 131 with value: 1513.596501576817.\n"
          ]
        },
        {
          "name": "stdout",
          "output_type": "stream",
          "text": [
            "Early stopping, best iteration is:\n",
            "[68]\tvalid_0's rmse: 38.9091\n"
          ]
        },
        {
          "name": "stderr",
          "output_type": "stream",
          "text": [
            "/opt/anaconda3/lib/python3.11/site-packages/sklearn/utils/deprecation.py:151: FutureWarning: 'force_all_finite' was renamed to 'ensure_all_finite' in 1.6 and will be removed in 1.8.\n",
            "  warnings.warn(\n"
          ]
        },
        {
          "name": "stdout",
          "output_type": "stream",
          "text": [
            "Training until validation scores don't improve for 10 rounds\n"
          ]
        },
        {
          "name": "stderr",
          "output_type": "stream",
          "text": [
            "/opt/anaconda3/lib/python3.11/site-packages/sklearn/utils/deprecation.py:151: FutureWarning: 'force_all_finite' was renamed to 'ensure_all_finite' in 1.6 and will be removed in 1.8.\n",
            "  warnings.warn(\n",
            "[I 2025-02-15 15:54:06,304] Trial 398 finished with value: 1513.7587256711456 and parameters: {'learning_rate': 0.07714167629626999, 'num_leaves': 25, 'max_depth': 4, 'min_child_samples': 24, 'subsample': 0.8521319588273716, 'colsample_bytree': 0.772961336556917, 'reg_alpha': 6.851550898921877, 'reg_lambda': 6.900105934483282}. Best is trial 131 with value: 1513.596501576817.\n"
          ]
        },
        {
          "name": "stdout",
          "output_type": "stream",
          "text": [
            "Did not meet early stopping. Best iteration is:\n",
            "[92]\tvalid_0's rmse: 38.9071\n"
          ]
        },
        {
          "name": "stderr",
          "output_type": "stream",
          "text": [
            "/opt/anaconda3/lib/python3.11/site-packages/sklearn/utils/deprecation.py:151: FutureWarning: 'force_all_finite' was renamed to 'ensure_all_finite' in 1.6 and will be removed in 1.8.\n",
            "  warnings.warn(\n"
          ]
        },
        {
          "name": "stdout",
          "output_type": "stream",
          "text": [
            "Training until validation scores don't improve for 10 rounds\n"
          ]
        },
        {
          "name": "stderr",
          "output_type": "stream",
          "text": [
            "/opt/anaconda3/lib/python3.11/site-packages/sklearn/utils/deprecation.py:151: FutureWarning: 'force_all_finite' was renamed to 'ensure_all_finite' in 1.6 and will be removed in 1.8.\n",
            "  warnings.warn(\n",
            "[I 2025-02-15 15:54:08,049] Trial 399 finished with value: 1513.9162116179878 and parameters: {'learning_rate': 0.07979087266612273, 'num_leaves': 26, 'max_depth': 4, 'min_child_samples': 29, 'subsample': 0.8094189241845723, 'colsample_bytree': 0.7858023050376737, 'reg_alpha': 9.27816299096187, 'reg_lambda': 0.9732743240214802}. Best is trial 131 with value: 1513.596501576817.\n"
          ]
        },
        {
          "name": "stdout",
          "output_type": "stream",
          "text": [
            "Early stopping, best iteration is:\n",
            "[64]\tvalid_0's rmse: 38.9091\n",
            "Time taken: 509.70226979255676 seconds\n"
          ]
        }
      ],
      "source": [
        "import time\n",
        "start_time = time.time()\n",
        "study.optimize(objective, n_trials=300)\n",
        "end_time = time.time()\n",
        "print(f\"Time taken: {end_time - start_time} seconds\")"
      ]
    },
    {
      "cell_type": "code",
      "execution_count": 22,
      "metadata": {
        "colab": {
          "base_uri": "https://localhost:8080/"
        },
        "id": "GTN74bXFr_Ph",
        "outputId": "f4310e71-24ef-4f03-d410-1bd06d5ee47e"
      },
      "outputs": [
        {
          "name": "stdout",
          "output_type": "stream",
          "text": [
            "Best parameters: {'learning_rate': 0.07814577909900611, 'num_leaves': 44, 'max_depth': 4, 'min_child_samples': 29, 'subsample': 0.7921825554183903, 'colsample_bytree': 0.76774512355446, 'reg_alpha': 6.6527011724307155, 'reg_lambda': 1.484352269511822}\n"
          ]
        }
      ],
      "source": [
        "print('Best parameters:', study.best_params)"
      ]
    },
    {
      "cell_type": "markdown",
      "metadata": {
        "id": "RZdplJpfum8x"
      },
      "source": [
        "Best parameters: {'learning_rate': 0.09751747867142664, 'num_leaves': 72, 'max_depth': 4, 'min_child_samples': 57, 'subsample': 0.5096338621731877, 'colsample_bytree': 0.6570577434553186, 'reg_alpha': 3.7448144357284203, 'reg_lambda': 1.2766258463846785}"
      ]
    },
    {
      "cell_type": "code",
      "execution_count": 20,
      "metadata": {
        "colab": {
          "base_uri": "https://localhost:8080/"
        },
        "id": "c0R5uBUKtRJO",
        "outputId": "c0de8964-fabd-491f-fd91-7f094423c006"
      },
      "outputs": [
        {
          "name": "stdout",
          "output_type": "stream",
          "text": [
            "Best Parameters: {'learning_rate': 0.09751747867142664, 'num_leaves': 72, 'max_depth': 4, 'min_child_samples': 57, 'subsample': 0.5096338621731877, 'colsample_bytree': 0.6570577434553186, 'reg_alpha': 3.7448144357284203, 'reg_lambda': 1.2766258463846785}\n"
          ]
        },
        {
          "name": "stderr",
          "output_type": "stream",
          "text": [
            "/opt/anaconda3/lib/python3.11/site-packages/sklearn/utils/deprecation.py:151: FutureWarning: 'force_all_finite' was renamed to 'ensure_all_finite' in 1.6 and will be removed in 1.8.\n",
            "  warnings.warn(\n"
          ]
        },
        {
          "name": "stdout",
          "output_type": "stream",
          "text": [
            "Training until validation scores don't improve for 10 rounds\n",
            "Early stopping, best iteration is:\n",
            "[65]\tvalid_0's l2: 1513.87\n",
            "Test RMSE with Best Parameters: 38.90851707731672\n"
          ]
        },
        {
          "name": "stderr",
          "output_type": "stream",
          "text": [
            "/opt/anaconda3/lib/python3.11/site-packages/sklearn/utils/deprecation.py:151: FutureWarning: 'force_all_finite' was renamed to 'ensure_all_finite' in 1.6 and will be removed in 1.8.\n",
            "  warnings.warn(\n"
          ]
        }
      ],
      "source": [
        "import lightgbm as lgb\n",
        "from sklearn.metrics import mean_squared_error\n",
        "\n",
        "# Best parameters from Optuna\n",
        "best_params = study.best_params\n",
        "print(\"Best Parameters:\", best_params)\n",
        "\n",
        "# Create and train the model with the best parameters\n",
        "model = lgb.LGBMRegressor(**best_params)\n",
        "model.fit(X_train_scaled, y_train, eval_set=[(X_test_scaled, y_test)],\n",
        "          callbacks=[lgb.early_stopping(stopping_rounds=10)])\n",
        "\n",
        "# Make predictions on the test set\n",
        "y_pred = model.predict(X_test_scaled)\n",
        "\n",
        "# Evaluate the model\n",
        "mse = mean_squared_error(y_test, y_pred)\n",
        "rmse = mse**0.5\n",
        "print(\"Test RMSE with Best Parameters:\", rmse)"
      ]
    },
    {
      "cell_type": "markdown",
      "metadata": {},
      "source": [
        "- Best test rMSE metric achived after optimizing parameters with optuna was 38.9085, still far away from best performing model in competition :("
      ]
    }
  ],
  "metadata": {
    "colab": {
      "provenance": []
    },
    "kernelspec": {
      "display_name": "base",
      "language": "python",
      "name": "python3"
    },
    "language_info": {
      "codemirror_mode": {
        "name": "ipython",
        "version": 3
      },
      "file_extension": ".py",
      "mimetype": "text/x-python",
      "name": "python",
      "nbconvert_exporter": "python",
      "pygments_lexer": "ipython3",
      "version": "3.11.7"
    }
  },
  "nbformat": 4,
  "nbformat_minor": 0
}
