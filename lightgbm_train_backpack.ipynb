{
  "cells": [
    {
      "cell_type": "markdown",
      "metadata": {},
      "source": [
        "# One Hot Encoding and Training with LightGBM "
      ]
    },
    {
      "cell_type": "markdown",
      "metadata": {},
      "source": [
        "- In this first attempt I perform One Hot Encoding to the categorical features and ordinal encoding for the 'size' variable. Later I will train a LightGBM regressor with default parameters to predict The Price target variable."
      ]
    },
    {
      "cell_type": "code",
      "execution_count": null,
      "metadata": {},
      "outputs": [],
      "source": [
        "%pip install lightgbm"
      ]
    },
    {
      "cell_type": "code",
      "execution_count": null,
      "metadata": {},
      "outputs": [],
      "source": [
        "%pip install optuna"
      ]
    },
    {
      "cell_type": "code",
      "execution_count": 4,
      "metadata": {
        "id": "fLmPCxjcdqQM"
      },
      "outputs": [],
      "source": [
        "# Import necessary libraries\n",
        "import pandas as pd\n",
        "import lightgbm as lgb\n",
        "from sklearn.metrics import mean_squared_error\n",
        "from sklearn.model_selection import train_test_split\n",
        "from sklearn.preprocessing import StandardScaler\n",
        "import optuna\n",
        "from optuna.samplers import TPESampler\n"
      ]
    },
    {
      "cell_type": "code",
      "execution_count": 5,
      "metadata": {
        "colab": {
          "base_uri": "https://localhost:8080/"
        },
        "id": "Qen2cSvPeAvs",
        "outputId": "c6147fc6-80a9-4de7-ba17-8a4f99e256c4"
      },
      "outputs": [],
      "source": [
        "# If using local environment\n",
        "df = pd.read_csv('cat_backpack.csv')"
      ]
    },
    {
      "cell_type": "markdown",
      "metadata": {},
      "source": [
        "- One hot encoding for non hierarchycal features."
      ]
    },
    {
      "cell_type": "code",
      "execution_count": 6,
      "metadata": {},
      "outputs": [],
      "source": [
        "\n",
        "# Select the categorical columns to be encoded\n",
        "categorical_cols = ['brand', 'material', 'style', 'color']\n",
        "\n",
        "# Apply one-hot encoding using get_dummies\n",
        "encoded_data = pd.get_dummies(df[categorical_cols], prefix=categorical_cols)\n",
        "\n",
        "# Concatenate the encoded data with the original DataFrame\n",
        "df = pd.concat([df, encoded_data], axis=1)\n",
        "\n",
        "# Drop the original categorical columns\n",
        "df.drop(categorical_cols, axis=1, inplace=True)"
      ]
    },
    {
      "cell_type": "markdown",
      "metadata": {},
      "source": [
        "- Ordinal encoding for 'size' column."
      ]
    },
    {
      "cell_type": "code",
      "execution_count": 7,
      "metadata": {},
      "outputs": [],
      "source": [
        "# Create a dictionary to map size categories to numerical values\n",
        "size_mapping = {\n",
        "    'Small': 0,\n",
        "    'Medium': 1,\n",
        "    'Large': 2,\n",
        "    'Unknown': 3  # Or you can assign it -1 or another distinct value\n",
        "}\n",
        "\n",
        "# Apply the mapping to the 'size' column\n",
        "df['size_encoded'] = df['size'].map(size_mapping)\n",
        "\n",
        "# Drop the original 'size' column (optional)\n",
        "df.drop('size', axis=1, inplace=True)"
      ]
    },
    {
      "cell_type": "code",
      "execution_count": 8,
      "metadata": {},
      "outputs": [
        {
          "name": "stdout",
          "output_type": "stream",
          "text": [
            "<class 'pandas.core.frame.DataFrame'>\n",
            "RangeIndex: 300000 entries, 0 to 299999\n",
            "Data columns (total 29 columns):\n",
            " #   Column              Non-Null Count   Dtype  \n",
            "---  ------              --------------   -----  \n",
            " 0   id                  300000 non-null  int64  \n",
            " 1   compartments        300000 non-null  int64  \n",
            " 2   laptop_compartment  300000 non-null  bool   \n",
            " 3   waterproof          300000 non-null  bool   \n",
            " 4   weight_cap          300000 non-null  float64\n",
            " 5   Price               300000 non-null  float64\n",
            " 6   brand_Adidas        300000 non-null  bool   \n",
            " 7   brand_Jansport      300000 non-null  bool   \n",
            " 8   brand_Nike          300000 non-null  bool   \n",
            " 9   brand_Puma          300000 non-null  bool   \n",
            " 10  brand_Under Armour  300000 non-null  bool   \n",
            " 11  brand_Unknown       300000 non-null  bool   \n",
            " 12  material_Canvas     300000 non-null  bool   \n",
            " 13  material_Leather    300000 non-null  bool   \n",
            " 14  material_Nylon      300000 non-null  bool   \n",
            " 15  material_Polyester  300000 non-null  bool   \n",
            " 16  material_Unknown    300000 non-null  bool   \n",
            " 17  style_Backpack      300000 non-null  bool   \n",
            " 18  style_Messenger     300000 non-null  bool   \n",
            " 19  style_Tote          300000 non-null  bool   \n",
            " 20  style_Unknown       300000 non-null  bool   \n",
            " 21  color_Black         300000 non-null  bool   \n",
            " 22  color_Blue          300000 non-null  bool   \n",
            " 23  color_Gray          300000 non-null  bool   \n",
            " 24  color_Green         300000 non-null  bool   \n",
            " 25  color_Pink          300000 non-null  bool   \n",
            " 26  color_Red           300000 non-null  bool   \n",
            " 27  color_Unknown       300000 non-null  bool   \n",
            " 28  size_encoded        300000 non-null  int64  \n",
            "dtypes: bool(24), float64(2), int64(3)\n",
            "memory usage: 18.3 MB\n"
          ]
        }
      ],
      "source": [
        "df.info()"
      ]
    },
    {
      "cell_type": "markdown",
      "metadata": {
        "id": "y28bC9cieXd_"
      },
      "source": [
        "# Train with LigthGBM."
      ]
    },
    {
      "cell_type": "code",
      "execution_count": 9,
      "metadata": {
        "colab": {
          "base_uri": "https://localhost:8080/"
        },
        "id": "CGsSCbbsecjb",
        "outputId": "8b0443e5-c03f-4a19-c650-796dff9328ab"
      },
      "outputs": [],
      "source": [
        "# Drop the id column\n",
        "df = df.drop(columns=['id'])\n",
        "\n",
        "# Separate features and target variable\n",
        "X = df.drop(columns=['Price'])\n",
        "y = df['Price']\n",
        "\n",
        "# Split into training and testing datasets\n",
        "X_train, X_test, y_train, y_test = train_test_split(X, y, test_size=0.2, random_state=42)\n",
        "\n",
        "# Instantiate the scaler and fit on training data\n",
        "scaler = StandardScaler()\n",
        "X_train_scaled = scaler.fit_transform(X_train)\n",
        "X_test_scaled = scaler.transform(X_test)\n",
        "\n",
        "# Create LightGBM datasets\n",
        "train_data = lgb.Dataset(X_train_scaled, label=y_train)\n",
        "test_data = lgb.Dataset(X_test_scaled, label=y_test, reference=train_data)\n",
        "\n",
        "# Set up model parameters\n",
        "params = {\n",
        "    'objective': 'regression',\n",
        "    'metric': 'rmse',\n",
        "    'verbosity': -1,\n",
        "    'boosting_type': 'gbdt',\n",
        "    'seed': 42\n",
        "}"
      ]
    },
    {
      "cell_type": "code",
      "execution_count": 10,
      "metadata": {
        "colab": {
          "base_uri": "https://localhost:8080/"
        },
        "id": "oLcYH1PTe8hE",
        "outputId": "ab646a1c-5e69-4ffc-ac3c-0ee0662e9758"
      },
      "outputs": [
        {
          "name": "stdout",
          "output_type": "stream",
          "text": [
            "Training until validation scores don't improve for 50 rounds\n",
            "Early stopping, best iteration is:\n",
            "[41]\tvalid_0's rmse: 38.9136\n"
          ]
        }
      ],
      "source": [
        "# Train the model\n",
        "regressor = lgb.train(\n",
        "    params,\n",
        "    train_data,\n",
        "    num_boost_round=1000,\n",
        "    valid_sets=[test_data],\n",
        "    callbacks=[lgb.early_stopping(stopping_rounds=50), lgb.log_evaluation(100)],  # Include log_evaluation callback\n",
        "    # verbose_eval=100  # Remove this line\n",
        ")"
      ]
    },
    {
      "cell_type": "code",
      "execution_count": 11,
      "metadata": {
        "colab": {
          "base_uri": "https://localhost:8080/"
        },
        "id": "DyoOk_C3fA1u",
        "outputId": "3058dffc-3a55-4c6a-8c8b-819e778458dc"
      },
      "outputs": [
        {
          "name": "stdout",
          "output_type": "stream",
          "text": [
            "Test RMSE: 38.91359184477554\n"
          ]
        }
      ],
      "source": [
        "# Predictions and evaluation\n",
        "y_pred = regressor.predict(X_test_scaled, num_iteration=regressor.best_iteration)\n",
        "# Calculate RMSE without the 'squared' argument, then take the square root\n",
        "mse = mean_squared_error(y_test, y_pred)  # Remove squared=False\n",
        "rmse = mse**0.5  # Calculate the square root to get RMSE\n",
        "print(\"Test RMSE:\", rmse)"
      ]
    },
    {
      "cell_type": "markdown",
      "metadata": {
        "id": "SmAfpzC5pyVH"
      },
      "source": [
        "# Fine Tune LightGBM with Optuna."
      ]
    },
    {
      "cell_type": "markdown",
      "metadata": {},
      "source": [
        "- In this section I will try to fine tune the lightGBM model using the optuna library."
      ]
    },
    {
      "cell_type": "code",
      "execution_count": 12,
      "metadata": {
        "id": "jPMcBSw8jjY4"
      },
      "outputs": [],
      "source": [
        "def objective(trial):\n",
        "    params = {\n",
        "        'objective': 'regression',\n",
        "        'metric': 'rmse',\n",
        "        'random_state': 42,\n",
        "        'n_estimators': 100,\n",
        "        'learning_rate': trial.suggest_float('learning_rate', 0.01, 0.1),\n",
        "        'num_leaves': trial.suggest_int('num_leaves', 20, 100),\n",
        "        'max_depth': trial.suggest_int('max_depth', 3, 12),\n",
        "        'min_child_samples': trial.suggest_int('min_child_samples', 20, 200),\n",
        "        'subsample': trial.suggest_float('subsample', 0.5, 0.9),\n",
        "        'colsample_bytree': trial.suggest_float('colsample_bytree', 0.5, 0.9),\n",
        "        'reg_alpha': trial.suggest_float('reg_alpha', 1e-8, 10.0),\n",
        "        'reg_lambda': trial.suggest_float('reg_lambda', 1e-8, 10.0),\n",
        "    }\n",
        "\n",
        "    model = lgb.LGBMRegressor(**params)\n",
        "    # Pass early stopping as a callback\n",
        "    model.fit(\n",
        "        X_train_scaled,\n",
        "        y_train,\n",
        "        eval_set=[(X_test_scaled, y_test)],\n",
        "        callbacks=[lgb.early_stopping(stopping_rounds=10)]\n",
        "    )\n",
        "    predictions = model.predict(X_test_scaled)\n",
        "    rmse = mean_squared_error(y_test, predictions)\n",
        "    return rmse"
      ]
    },
    {
      "cell_type": "code",
      "execution_count": 13,
      "metadata": {
        "colab": {
          "base_uri": "https://localhost:8080/"
        },
        "id": "IfDarcxNrCtC",
        "outputId": "e1cc4156-038e-451a-c219-6a1cfa77c621"
      },
      "outputs": [
        {
          "name": "stderr",
          "output_type": "stream",
          "text": [
            "[I 2025-02-18 10:45:35,880] A new study created in memory with name: no-name-2a21adfe-7b23-4b38-b9bb-3a14793e98cd\n"
          ]
        }
      ],
      "source": [
        "sampler = TPESampler(seed=1) #  Uses the Tree-Structured Parzen Estimator algorithm [4]\n",
        "study = optuna.create_study(direction='minimize', sampler = sampler)"
      ]
    },
    {
      "cell_type": "code",
      "execution_count": null,
      "metadata": {
        "colab": {
          "base_uri": "https://localhost:8080/"
        },
        "collapsed": true,
        "id": "9x9C1fhIrKRg",
        "outputId": "67ee9bae-642f-49af-b48f-b4dd568247fb"
      },
      "outputs": [],
      "source": [
        "import time\n",
        "start_time = time.time()\n",
        "study.optimize(objective, n_trials=100)\n",
        "end_time = time.time()\n",
        "print(f\"Time taken: {end_time - start_time} seconds\")"
      ]
    },
    {
      "cell_type": "code",
      "execution_count": 15,
      "metadata": {
        "colab": {
          "base_uri": "https://localhost:8080/"
        },
        "id": "GTN74bXFr_Ph",
        "outputId": "f4310e71-24ef-4f03-d410-1bd06d5ee47e"
      },
      "outputs": [
        {
          "name": "stdout",
          "output_type": "stream",
          "text": [
            "Best parameters: {'learning_rate': 0.07814577909900611, 'num_leaves': 44, 'max_depth': 4, 'min_child_samples': 29, 'subsample': 0.7921825554183903, 'colsample_bytree': 0.76774512355446, 'reg_alpha': 6.6527011724307155, 'reg_lambda': 1.484352269511822}\n"
          ]
        }
      ],
      "source": [
        "print('Best parameters:', study.best_params)"
      ]
    },
    {
      "cell_type": "markdown",
      "metadata": {
        "id": "RZdplJpfum8x"
      },
      "source": [
        "Best parameters: {'learning_rate': 0.09751747867142664, 'num_leaves': 72, 'max_depth': 4, 'min_child_samples': 57, 'subsample': 0.5096338621731877, 'colsample_bytree': 0.6570577434553186, 'reg_alpha': 3.7448144357284203, 'reg_lambda': 1.2766258463846785}"
      ]
    },
    {
      "cell_type": "code",
      "execution_count": 16,
      "metadata": {
        "colab": {
          "base_uri": "https://localhost:8080/"
        },
        "id": "c0R5uBUKtRJO",
        "outputId": "c0de8964-fabd-491f-fd91-7f094423c006"
      },
      "outputs": [
        {
          "name": "stdout",
          "output_type": "stream",
          "text": [
            "Best Parameters: {'learning_rate': 0.07814577909900611, 'num_leaves': 44, 'max_depth': 4, 'min_child_samples': 29, 'subsample': 0.7921825554183903, 'colsample_bytree': 0.76774512355446, 'reg_alpha': 6.6527011724307155, 'reg_lambda': 1.484352269511822}\n"
          ]
        },
        {
          "name": "stderr",
          "output_type": "stream",
          "text": [
            "/opt/anaconda3/lib/python3.11/site-packages/sklearn/utils/deprecation.py:151: FutureWarning: 'force_all_finite' was renamed to 'ensure_all_finite' in 1.6 and will be removed in 1.8.\n",
            "  warnings.warn(\n"
          ]
        },
        {
          "name": "stdout",
          "output_type": "stream",
          "text": [
            "Training until validation scores don't improve for 10 rounds\n",
            "Early stopping, best iteration is:\n",
            "[75]\tvalid_0's l2: 1513.91\n",
            "Test RMSE with Best Parameters: 38.909007429148495\n"
          ]
        },
        {
          "name": "stderr",
          "output_type": "stream",
          "text": [
            "/opt/anaconda3/lib/python3.11/site-packages/sklearn/utils/deprecation.py:151: FutureWarning: 'force_all_finite' was renamed to 'ensure_all_finite' in 1.6 and will be removed in 1.8.\n",
            "  warnings.warn(\n"
          ]
        }
      ],
      "source": [
        "# Best parameters from Optuna\n",
        "best_params = study.best_params\n",
        "print(\"Best Parameters:\", best_params)\n",
        "\n",
        "# Create and train the model with the best parameters\n",
        "model = lgb.LGBMRegressor(**best_params)\n",
        "model.fit(X_train_scaled, y_train, eval_set=[(X_test_scaled, y_test)],\n",
        "          callbacks=[lgb.early_stopping(stopping_rounds=10)])\n",
        "\n",
        "# Make predictions on the test set\n",
        "y_pred = model.predict(X_test_scaled)\n",
        "\n",
        "# Evaluate the model\n",
        "mse = mean_squared_error(y_test, y_pred)\n",
        "rmse = mse**0.5\n",
        "print(\"Test RMSE with Best Parameters:\", rmse)"
      ]
    },
    {
      "cell_type": "markdown",
      "metadata": {},
      "source": [
        "- Best test rMSE metric achived after optimizing parameters with optuna was 38.9085, still far away from best performing model in competition :("
      ]
    }
  ],
  "metadata": {
    "colab": {
      "provenance": []
    },
    "kernelspec": {
      "display_name": "base",
      "language": "python",
      "name": "python3"
    },
    "language_info": {
      "codemirror_mode": {
        "name": "ipython",
        "version": 3
      },
      "file_extension": ".py",
      "mimetype": "text/x-python",
      "name": "python",
      "nbconvert_exporter": "python",
      "pygments_lexer": "ipython3",
      "version": "3.11.7"
    }
  },
  "nbformat": 4,
  "nbformat_minor": 0
}
