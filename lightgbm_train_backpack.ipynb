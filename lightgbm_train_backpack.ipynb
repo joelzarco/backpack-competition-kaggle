{
  "cells": [
    {
      "cell_type": "markdown",
      "metadata": {},
      "source": [
        "# One Hot Encoding and Training with LightGBM "
      ]
    },
    {
      "cell_type": "markdown",
      "metadata": {},
      "source": [
        "- In this first attempt I perform One Hot Encoding to the categorical features and ordinal encoding for the 'size' variable. Later I will train a LightGBM regressor with default parameters to predict The Price target variable."
      ]
    },
    {
      "cell_type": "code",
      "execution_count": 4,
      "metadata": {
        "id": "fLmPCxjcdqQM"
      },
      "outputs": [],
      "source": [
        "import pandas as pd"
      ]
    },
    {
      "cell_type": "code",
      "execution_count": null,
      "metadata": {
        "colab": {
          "base_uri": "https://localhost:8080/"
        },
        "id": "Qen2cSvPeAvs",
        "outputId": "c6147fc6-80a9-4de7-ba17-8a4f99e256c4"
      },
      "outputs": [],
      "source": [
        "# If using local environment\n",
        "df = pd.read_csv('cat_backpack.csv')"
      ]
    },
    {
      "cell_type": "markdown",
      "metadata": {},
      "source": [
        "- One hot encoding for non hierarchycal features."
      ]
    },
    {
      "cell_type": "code",
      "execution_count": 7,
      "metadata": {},
      "outputs": [],
      "source": [
        "\n",
        "# Select the categorical columns to be encoded\n",
        "categorical_cols = ['brand', 'material', 'style', 'color']\n",
        "\n",
        "# Apply one-hot encoding using get_dummies\n",
        "encoded_data = pd.get_dummies(df[categorical_cols], prefix=categorical_cols)\n",
        "\n",
        "# Concatenate the encoded data with the original DataFrame\n",
        "df = pd.concat([df, encoded_data], axis=1)\n",
        "\n",
        "# Drop the original categorical columns\n",
        "df.drop(categorical_cols, axis=1, inplace=True)"
      ]
    },
    {
      "cell_type": "markdown",
      "metadata": {},
      "source": [
        "- Ordinal encoding for 'size' column."
      ]
    },
    {
      "cell_type": "code",
      "execution_count": 8,
      "metadata": {},
      "outputs": [],
      "source": [
        "# Create a dictionary to map size categories to numerical values\n",
        "size_mapping = {\n",
        "    'Small': 0,\n",
        "    'Medium': 1,\n",
        "    'Large': 2,\n",
        "    'Unknown': 3  # Or you can assign it -1 or another distinct value\n",
        "}\n",
        "\n",
        "# Apply the mapping to the 'size' column\n",
        "df['size_encoded'] = df['size'].map(size_mapping)\n",
        "\n",
        "# Drop the original 'size' column (optional)\n",
        "df.drop('size', axis=1, inplace=True)"
      ]
    },
    {
      "cell_type": "code",
      "execution_count": 9,
      "metadata": {},
      "outputs": [
        {
          "name": "stdout",
          "output_type": "stream",
          "text": [
            "<class 'pandas.core.frame.DataFrame'>\n",
            "RangeIndex: 300000 entries, 0 to 299999\n",
            "Data columns (total 29 columns):\n",
            " #   Column              Non-Null Count   Dtype  \n",
            "---  ------              --------------   -----  \n",
            " 0   id                  300000 non-null  int64  \n",
            " 1   compartments        300000 non-null  int64  \n",
            " 2   laptop_compartment  300000 non-null  bool   \n",
            " 3   waterproof          300000 non-null  bool   \n",
            " 4   weight_cap          300000 non-null  float64\n",
            " 5   Price               300000 non-null  float64\n",
            " 6   brand_Adidas        300000 non-null  bool   \n",
            " 7   brand_Jansport      300000 non-null  bool   \n",
            " 8   brand_Nike          300000 non-null  bool   \n",
            " 9   brand_Puma          300000 non-null  bool   \n",
            " 10  brand_Under Armour  300000 non-null  bool   \n",
            " 11  brand_Unknown       300000 non-null  bool   \n",
            " 12  material_Canvas     300000 non-null  bool   \n",
            " 13  material_Leather    300000 non-null  bool   \n",
            " 14  material_Nylon      300000 non-null  bool   \n",
            " 15  material_Polyester  300000 non-null  bool   \n",
            " 16  material_Unknown    300000 non-null  bool   \n",
            " 17  style_Backpack      300000 non-null  bool   \n",
            " 18  style_Messenger     300000 non-null  bool   \n",
            " 19  style_Tote          300000 non-null  bool   \n",
            " 20  style_Unknown       300000 non-null  bool   \n",
            " 21  color_Black         300000 non-null  bool   \n",
            " 22  color_Blue          300000 non-null  bool   \n",
            " 23  color_Gray          300000 non-null  bool   \n",
            " 24  color_Green         300000 non-null  bool   \n",
            " 25  color_Pink          300000 non-null  bool   \n",
            " 26  color_Red           300000 non-null  bool   \n",
            " 27  color_Unknown       300000 non-null  bool   \n",
            " 28  size_encoded        300000 non-null  int64  \n",
            "dtypes: bool(24), float64(2), int64(3)\n",
            "memory usage: 18.3 MB\n"
          ]
        }
      ],
      "source": [
        "df.info()"
      ]
    },
    {
      "cell_type": "markdown",
      "metadata": {
        "id": "y28bC9cieXd_"
      },
      "source": [
        "# Train with LigthGBM."
      ]
    },
    {
      "cell_type": "code",
      "execution_count": 10,
      "metadata": {
        "colab": {
          "base_uri": "https://localhost:8080/"
        },
        "id": "1PY-y3huebvo",
        "outputId": "86699f2e-165c-4b51-c0fe-65e36dc1a1fd"
      },
      "outputs": [
        {
          "name": "stdout",
          "output_type": "stream",
          "text": [
            "Requirement already satisfied: lightgbm in /opt/anaconda3/lib/python3.11/site-packages (4.5.0)\n",
            "Requirement already satisfied: numpy>=1.17.0 in /opt/anaconda3/lib/python3.11/site-packages (from lightgbm) (1.26.4)\n",
            "Requirement already satisfied: scipy in /opt/anaconda3/lib/python3.11/site-packages (from lightgbm) (1.11.4)\n",
            "Note: you may need to restart the kernel to use updated packages.\n"
          ]
        }
      ],
      "source": [
        "%pip install lightgbm"
      ]
    },
    {
      "cell_type": "code",
      "execution_count": 11,
      "metadata": {
        "colab": {
          "base_uri": "https://localhost:8080/"
        },
        "id": "CGsSCbbsecjb",
        "outputId": "8b0443e5-c03f-4a19-c650-796dff9328ab"
      },
      "outputs": [],
      "source": [
        "# Import necessary libraries\n",
        "from sklearn.model_selection import train_test_split\n",
        "from sklearn.preprocessing import StandardScaler\n",
        "import lightgbm as lgb\n",
        "from sklearn.metrics import mean_squared_error\n",
        "\n",
        "# Drop the id column\n",
        "df = df.drop(columns=['id'])\n",
        "\n",
        "# Separate features and target variable\n",
        "X = df.drop(columns=['Price'])\n",
        "y = df['Price']\n",
        "\n",
        "# Split into training and testing datasets\n",
        "X_train, X_test, y_train, y_test = train_test_split(X, y, test_size=0.2, random_state=42)\n",
        "\n",
        "# Instantiate the scaler and fit on training data\n",
        "scaler = StandardScaler()\n",
        "X_train_scaled = scaler.fit_transform(X_train)\n",
        "X_test_scaled = scaler.transform(X_test)\n",
        "\n",
        "# Create LightGBM datasets\n",
        "train_data = lgb.Dataset(X_train_scaled, label=y_train)\n",
        "test_data = lgb.Dataset(X_test_scaled, label=y_test, reference=train_data)\n",
        "\n",
        "# Set up model parameters\n",
        "params = {\n",
        "    'objective': 'regression',\n",
        "    'metric': 'rmse',\n",
        "    'verbosity': -1,\n",
        "    'boosting_type': 'gbdt',\n",
        "    'seed': 42\n",
        "}"
      ]
    },
    {
      "cell_type": "code",
      "execution_count": 12,
      "metadata": {
        "colab": {
          "base_uri": "https://localhost:8080/"
        },
        "id": "oLcYH1PTe8hE",
        "outputId": "ab646a1c-5e69-4ffc-ac3c-0ee0662e9758"
      },
      "outputs": [
        {
          "name": "stdout",
          "output_type": "stream",
          "text": [
            "Training until validation scores don't improve for 50 rounds\n",
            "Early stopping, best iteration is:\n",
            "[41]\tvalid_0's rmse: 38.9136\n"
          ]
        }
      ],
      "source": [
        "# Train the model\n",
        "regressor = lgb.train(\n",
        "    params,\n",
        "    train_data,\n",
        "    num_boost_round=1000,\n",
        "    valid_sets=[test_data],\n",
        "    callbacks=[lgb.early_stopping(stopping_rounds=50), lgb.log_evaluation(100)],  # Include log_evaluation callback\n",
        "    # verbose_eval=100  # Remove this line\n",
        ")"
      ]
    },
    {
      "cell_type": "code",
      "execution_count": 13,
      "metadata": {
        "colab": {
          "base_uri": "https://localhost:8080/"
        },
        "id": "DyoOk_C3fA1u",
        "outputId": "3058dffc-3a55-4c6a-8c8b-819e778458dc"
      },
      "outputs": [
        {
          "name": "stdout",
          "output_type": "stream",
          "text": [
            "Test RMSE: 38.91359184477554\n"
          ]
        }
      ],
      "source": [
        "# Predictions and evaluation\n",
        "y_pred = regressor.predict(X_test_scaled, num_iteration=regressor.best_iteration)\n",
        "# Calculate RMSE without the 'squared' argument, then take the square root\n",
        "mse = mean_squared_error(y_test, y_pred)  # Remove squared=False\n",
        "rmse = mse**0.5  # Calculate the square root to get RMSE\n",
        "print(\"Test RMSE:\", rmse)"
      ]
    },
    {
      "cell_type": "code",
      "execution_count": 8,
      "metadata": {
        "colab": {
          "base_uri": "https://localhost:8080/",
          "height": 132
        },
        "id": "uJ_CE8Byp3RI",
        "outputId": "00ca89cc-2976-4046-97c8-70d43c22ae31"
      },
      "outputs": [
        {
          "name": "stderr",
          "output_type": "stream",
          "text": [
            "/opt/anaconda3/lib/python3.11/site-packages/sklearn/utils/deprecation.py:151: FutureWarning: 'force_all_finite' was renamed to 'ensure_all_finite' in 1.6 and will be removed in 1.8.\n",
            "  warnings.warn(\n"
          ]
        },
        {
          "data": {
            "text/html": [
              "<style>#sk-container-id-1 {\n",
              "  /* Definition of color scheme common for light and dark mode */\n",
              "  --sklearn-color-text: #000;\n",
              "  --sklearn-color-text-muted: #666;\n",
              "  --sklearn-color-line: gray;\n",
              "  /* Definition of color scheme for unfitted estimators */\n",
              "  --sklearn-color-unfitted-level-0: #fff5e6;\n",
              "  --sklearn-color-unfitted-level-1: #f6e4d2;\n",
              "  --sklearn-color-unfitted-level-2: #ffe0b3;\n",
              "  --sklearn-color-unfitted-level-3: chocolate;\n",
              "  /* Definition of color scheme for fitted estimators */\n",
              "  --sklearn-color-fitted-level-0: #f0f8ff;\n",
              "  --sklearn-color-fitted-level-1: #d4ebff;\n",
              "  --sklearn-color-fitted-level-2: #b3dbfd;\n",
              "  --sklearn-color-fitted-level-3: cornflowerblue;\n",
              "\n",
              "  /* Specific color for light theme */\n",
              "  --sklearn-color-text-on-default-background: var(--sg-text-color, var(--theme-code-foreground, var(--jp-content-font-color1, black)));\n",
              "  --sklearn-color-background: var(--sg-background-color, var(--theme-background, var(--jp-layout-color0, white)));\n",
              "  --sklearn-color-border-box: var(--sg-text-color, var(--theme-code-foreground, var(--jp-content-font-color1, black)));\n",
              "  --sklearn-color-icon: #696969;\n",
              "\n",
              "  @media (prefers-color-scheme: dark) {\n",
              "    /* Redefinition of color scheme for dark theme */\n",
              "    --sklearn-color-text-on-default-background: var(--sg-text-color, var(--theme-code-foreground, var(--jp-content-font-color1, white)));\n",
              "    --sklearn-color-background: var(--sg-background-color, var(--theme-background, var(--jp-layout-color0, #111)));\n",
              "    --sklearn-color-border-box: var(--sg-text-color, var(--theme-code-foreground, var(--jp-content-font-color1, white)));\n",
              "    --sklearn-color-icon: #878787;\n",
              "  }\n",
              "}\n",
              "\n",
              "#sk-container-id-1 {\n",
              "  color: var(--sklearn-color-text);\n",
              "}\n",
              "\n",
              "#sk-container-id-1 pre {\n",
              "  padding: 0;\n",
              "}\n",
              "\n",
              "#sk-container-id-1 input.sk-hidden--visually {\n",
              "  border: 0;\n",
              "  clip: rect(1px 1px 1px 1px);\n",
              "  clip: rect(1px, 1px, 1px, 1px);\n",
              "  height: 1px;\n",
              "  margin: -1px;\n",
              "  overflow: hidden;\n",
              "  padding: 0;\n",
              "  position: absolute;\n",
              "  width: 1px;\n",
              "}\n",
              "\n",
              "#sk-container-id-1 div.sk-dashed-wrapped {\n",
              "  border: 1px dashed var(--sklearn-color-line);\n",
              "  margin: 0 0.4em 0.5em 0.4em;\n",
              "  box-sizing: border-box;\n",
              "  padding-bottom: 0.4em;\n",
              "  background-color: var(--sklearn-color-background);\n",
              "}\n",
              "\n",
              "#sk-container-id-1 div.sk-container {\n",
              "  /* jupyter's `normalize.less` sets `[hidden] { display: none; }`\n",
              "     but bootstrap.min.css set `[hidden] { display: none !important; }`\n",
              "     so we also need the `!important` here to be able to override the\n",
              "     default hidden behavior on the sphinx rendered scikit-learn.org.\n",
              "     See: https://github.com/scikit-learn/scikit-learn/issues/21755 */\n",
              "  display: inline-block !important;\n",
              "  position: relative;\n",
              "}\n",
              "\n",
              "#sk-container-id-1 div.sk-text-repr-fallback {\n",
              "  display: none;\n",
              "}\n",
              "\n",
              "div.sk-parallel-item,\n",
              "div.sk-serial,\n",
              "div.sk-item {\n",
              "  /* draw centered vertical line to link estimators */\n",
              "  background-image: linear-gradient(var(--sklearn-color-text-on-default-background), var(--sklearn-color-text-on-default-background));\n",
              "  background-size: 2px 100%;\n",
              "  background-repeat: no-repeat;\n",
              "  background-position: center center;\n",
              "}\n",
              "\n",
              "/* Parallel-specific style estimator block */\n",
              "\n",
              "#sk-container-id-1 div.sk-parallel-item::after {\n",
              "  content: \"\";\n",
              "  width: 100%;\n",
              "  border-bottom: 2px solid var(--sklearn-color-text-on-default-background);\n",
              "  flex-grow: 1;\n",
              "}\n",
              "\n",
              "#sk-container-id-1 div.sk-parallel {\n",
              "  display: flex;\n",
              "  align-items: stretch;\n",
              "  justify-content: center;\n",
              "  background-color: var(--sklearn-color-background);\n",
              "  position: relative;\n",
              "}\n",
              "\n",
              "#sk-container-id-1 div.sk-parallel-item {\n",
              "  display: flex;\n",
              "  flex-direction: column;\n",
              "}\n",
              "\n",
              "#sk-container-id-1 div.sk-parallel-item:first-child::after {\n",
              "  align-self: flex-end;\n",
              "  width: 50%;\n",
              "}\n",
              "\n",
              "#sk-container-id-1 div.sk-parallel-item:last-child::after {\n",
              "  align-self: flex-start;\n",
              "  width: 50%;\n",
              "}\n",
              "\n",
              "#sk-container-id-1 div.sk-parallel-item:only-child::after {\n",
              "  width: 0;\n",
              "}\n",
              "\n",
              "/* Serial-specific style estimator block */\n",
              "\n",
              "#sk-container-id-1 div.sk-serial {\n",
              "  display: flex;\n",
              "  flex-direction: column;\n",
              "  align-items: center;\n",
              "  background-color: var(--sklearn-color-background);\n",
              "  padding-right: 1em;\n",
              "  padding-left: 1em;\n",
              "}\n",
              "\n",
              "\n",
              "/* Toggleable style: style used for estimator/Pipeline/ColumnTransformer box that is\n",
              "clickable and can be expanded/collapsed.\n",
              "- Pipeline and ColumnTransformer use this feature and define the default style\n",
              "- Estimators will overwrite some part of the style using the `sk-estimator` class\n",
              "*/\n",
              "\n",
              "/* Pipeline and ColumnTransformer style (default) */\n",
              "\n",
              "#sk-container-id-1 div.sk-toggleable {\n",
              "  /* Default theme specific background. It is overwritten whether we have a\n",
              "  specific estimator or a Pipeline/ColumnTransformer */\n",
              "  background-color: var(--sklearn-color-background);\n",
              "}\n",
              "\n",
              "/* Toggleable label */\n",
              "#sk-container-id-1 label.sk-toggleable__label {\n",
              "  cursor: pointer;\n",
              "  display: flex;\n",
              "  width: 100%;\n",
              "  margin-bottom: 0;\n",
              "  padding: 0.5em;\n",
              "  box-sizing: border-box;\n",
              "  text-align: center;\n",
              "  align-items: start;\n",
              "  justify-content: space-between;\n",
              "  gap: 0.5em;\n",
              "}\n",
              "\n",
              "#sk-container-id-1 label.sk-toggleable__label .caption {\n",
              "  font-size: 0.6rem;\n",
              "  font-weight: lighter;\n",
              "  color: var(--sklearn-color-text-muted);\n",
              "}\n",
              "\n",
              "#sk-container-id-1 label.sk-toggleable__label-arrow:before {\n",
              "  /* Arrow on the left of the label */\n",
              "  content: \"▸\";\n",
              "  float: left;\n",
              "  margin-right: 0.25em;\n",
              "  color: var(--sklearn-color-icon);\n",
              "}\n",
              "\n",
              "#sk-container-id-1 label.sk-toggleable__label-arrow:hover:before {\n",
              "  color: var(--sklearn-color-text);\n",
              "}\n",
              "\n",
              "/* Toggleable content - dropdown */\n",
              "\n",
              "#sk-container-id-1 div.sk-toggleable__content {\n",
              "  max-height: 0;\n",
              "  max-width: 0;\n",
              "  overflow: hidden;\n",
              "  text-align: left;\n",
              "  /* unfitted */\n",
              "  background-color: var(--sklearn-color-unfitted-level-0);\n",
              "}\n",
              "\n",
              "#sk-container-id-1 div.sk-toggleable__content.fitted {\n",
              "  /* fitted */\n",
              "  background-color: var(--sklearn-color-fitted-level-0);\n",
              "}\n",
              "\n",
              "#sk-container-id-1 div.sk-toggleable__content pre {\n",
              "  margin: 0.2em;\n",
              "  border-radius: 0.25em;\n",
              "  color: var(--sklearn-color-text);\n",
              "  /* unfitted */\n",
              "  background-color: var(--sklearn-color-unfitted-level-0);\n",
              "}\n",
              "\n",
              "#sk-container-id-1 div.sk-toggleable__content.fitted pre {\n",
              "  /* unfitted */\n",
              "  background-color: var(--sklearn-color-fitted-level-0);\n",
              "}\n",
              "\n",
              "#sk-container-id-1 input.sk-toggleable__control:checked~div.sk-toggleable__content {\n",
              "  /* Expand drop-down */\n",
              "  max-height: 200px;\n",
              "  max-width: 100%;\n",
              "  overflow: auto;\n",
              "}\n",
              "\n",
              "#sk-container-id-1 input.sk-toggleable__control:checked~label.sk-toggleable__label-arrow:before {\n",
              "  content: \"▾\";\n",
              "}\n",
              "\n",
              "/* Pipeline/ColumnTransformer-specific style */\n",
              "\n",
              "#sk-container-id-1 div.sk-label input.sk-toggleable__control:checked~label.sk-toggleable__label {\n",
              "  color: var(--sklearn-color-text);\n",
              "  background-color: var(--sklearn-color-unfitted-level-2);\n",
              "}\n",
              "\n",
              "#sk-container-id-1 div.sk-label.fitted input.sk-toggleable__control:checked~label.sk-toggleable__label {\n",
              "  background-color: var(--sklearn-color-fitted-level-2);\n",
              "}\n",
              "\n",
              "/* Estimator-specific style */\n",
              "\n",
              "/* Colorize estimator box */\n",
              "#sk-container-id-1 div.sk-estimator input.sk-toggleable__control:checked~label.sk-toggleable__label {\n",
              "  /* unfitted */\n",
              "  background-color: var(--sklearn-color-unfitted-level-2);\n",
              "}\n",
              "\n",
              "#sk-container-id-1 div.sk-estimator.fitted input.sk-toggleable__control:checked~label.sk-toggleable__label {\n",
              "  /* fitted */\n",
              "  background-color: var(--sklearn-color-fitted-level-2);\n",
              "}\n",
              "\n",
              "#sk-container-id-1 div.sk-label label.sk-toggleable__label,\n",
              "#sk-container-id-1 div.sk-label label {\n",
              "  /* The background is the default theme color */\n",
              "  color: var(--sklearn-color-text-on-default-background);\n",
              "}\n",
              "\n",
              "/* On hover, darken the color of the background */\n",
              "#sk-container-id-1 div.sk-label:hover label.sk-toggleable__label {\n",
              "  color: var(--sklearn-color-text);\n",
              "  background-color: var(--sklearn-color-unfitted-level-2);\n",
              "}\n",
              "\n",
              "/* Label box, darken color on hover, fitted */\n",
              "#sk-container-id-1 div.sk-label.fitted:hover label.sk-toggleable__label.fitted {\n",
              "  color: var(--sklearn-color-text);\n",
              "  background-color: var(--sklearn-color-fitted-level-2);\n",
              "}\n",
              "\n",
              "/* Estimator label */\n",
              "\n",
              "#sk-container-id-1 div.sk-label label {\n",
              "  font-family: monospace;\n",
              "  font-weight: bold;\n",
              "  display: inline-block;\n",
              "  line-height: 1.2em;\n",
              "}\n",
              "\n",
              "#sk-container-id-1 div.sk-label-container {\n",
              "  text-align: center;\n",
              "}\n",
              "\n",
              "/* Estimator-specific */\n",
              "#sk-container-id-1 div.sk-estimator {\n",
              "  font-family: monospace;\n",
              "  border: 1px dotted var(--sklearn-color-border-box);\n",
              "  border-radius: 0.25em;\n",
              "  box-sizing: border-box;\n",
              "  margin-bottom: 0.5em;\n",
              "  /* unfitted */\n",
              "  background-color: var(--sklearn-color-unfitted-level-0);\n",
              "}\n",
              "\n",
              "#sk-container-id-1 div.sk-estimator.fitted {\n",
              "  /* fitted */\n",
              "  background-color: var(--sklearn-color-fitted-level-0);\n",
              "}\n",
              "\n",
              "/* on hover */\n",
              "#sk-container-id-1 div.sk-estimator:hover {\n",
              "  /* unfitted */\n",
              "  background-color: var(--sklearn-color-unfitted-level-2);\n",
              "}\n",
              "\n",
              "#sk-container-id-1 div.sk-estimator.fitted:hover {\n",
              "  /* fitted */\n",
              "  background-color: var(--sklearn-color-fitted-level-2);\n",
              "}\n",
              "\n",
              "/* Specification for estimator info (e.g. \"i\" and \"?\") */\n",
              "\n",
              "/* Common style for \"i\" and \"?\" */\n",
              "\n",
              ".sk-estimator-doc-link,\n",
              "a:link.sk-estimator-doc-link,\n",
              "a:visited.sk-estimator-doc-link {\n",
              "  float: right;\n",
              "  font-size: smaller;\n",
              "  line-height: 1em;\n",
              "  font-family: monospace;\n",
              "  background-color: var(--sklearn-color-background);\n",
              "  border-radius: 1em;\n",
              "  height: 1em;\n",
              "  width: 1em;\n",
              "  text-decoration: none !important;\n",
              "  margin-left: 0.5em;\n",
              "  text-align: center;\n",
              "  /* unfitted */\n",
              "  border: var(--sklearn-color-unfitted-level-1) 1pt solid;\n",
              "  color: var(--sklearn-color-unfitted-level-1);\n",
              "}\n",
              "\n",
              ".sk-estimator-doc-link.fitted,\n",
              "a:link.sk-estimator-doc-link.fitted,\n",
              "a:visited.sk-estimator-doc-link.fitted {\n",
              "  /* fitted */\n",
              "  border: var(--sklearn-color-fitted-level-1) 1pt solid;\n",
              "  color: var(--sklearn-color-fitted-level-1);\n",
              "}\n",
              "\n",
              "/* On hover */\n",
              "div.sk-estimator:hover .sk-estimator-doc-link:hover,\n",
              ".sk-estimator-doc-link:hover,\n",
              "div.sk-label-container:hover .sk-estimator-doc-link:hover,\n",
              ".sk-estimator-doc-link:hover {\n",
              "  /* unfitted */\n",
              "  background-color: var(--sklearn-color-unfitted-level-3);\n",
              "  color: var(--sklearn-color-background);\n",
              "  text-decoration: none;\n",
              "}\n",
              "\n",
              "div.sk-estimator.fitted:hover .sk-estimator-doc-link.fitted:hover,\n",
              ".sk-estimator-doc-link.fitted:hover,\n",
              "div.sk-label-container:hover .sk-estimator-doc-link.fitted:hover,\n",
              ".sk-estimator-doc-link.fitted:hover {\n",
              "  /* fitted */\n",
              "  background-color: var(--sklearn-color-fitted-level-3);\n",
              "  color: var(--sklearn-color-background);\n",
              "  text-decoration: none;\n",
              "}\n",
              "\n",
              "/* Span, style for the box shown on hovering the info icon */\n",
              ".sk-estimator-doc-link span {\n",
              "  display: none;\n",
              "  z-index: 9999;\n",
              "  position: relative;\n",
              "  font-weight: normal;\n",
              "  right: .2ex;\n",
              "  padding: .5ex;\n",
              "  margin: .5ex;\n",
              "  width: min-content;\n",
              "  min-width: 20ex;\n",
              "  max-width: 50ex;\n",
              "  color: var(--sklearn-color-text);\n",
              "  box-shadow: 2pt 2pt 4pt #999;\n",
              "  /* unfitted */\n",
              "  background: var(--sklearn-color-unfitted-level-0);\n",
              "  border: .5pt solid var(--sklearn-color-unfitted-level-3);\n",
              "}\n",
              "\n",
              ".sk-estimator-doc-link.fitted span {\n",
              "  /* fitted */\n",
              "  background: var(--sklearn-color-fitted-level-0);\n",
              "  border: var(--sklearn-color-fitted-level-3);\n",
              "}\n",
              "\n",
              ".sk-estimator-doc-link:hover span {\n",
              "  display: block;\n",
              "}\n",
              "\n",
              "/* \"?\"-specific style due to the `<a>` HTML tag */\n",
              "\n",
              "#sk-container-id-1 a.estimator_doc_link {\n",
              "  float: right;\n",
              "  font-size: 1rem;\n",
              "  line-height: 1em;\n",
              "  font-family: monospace;\n",
              "  background-color: var(--sklearn-color-background);\n",
              "  border-radius: 1rem;\n",
              "  height: 1rem;\n",
              "  width: 1rem;\n",
              "  text-decoration: none;\n",
              "  /* unfitted */\n",
              "  color: var(--sklearn-color-unfitted-level-1);\n",
              "  border: var(--sklearn-color-unfitted-level-1) 1pt solid;\n",
              "}\n",
              "\n",
              "#sk-container-id-1 a.estimator_doc_link.fitted {\n",
              "  /* fitted */\n",
              "  border: var(--sklearn-color-fitted-level-1) 1pt solid;\n",
              "  color: var(--sklearn-color-fitted-level-1);\n",
              "}\n",
              "\n",
              "/* On hover */\n",
              "#sk-container-id-1 a.estimator_doc_link:hover {\n",
              "  /* unfitted */\n",
              "  background-color: var(--sklearn-color-unfitted-level-3);\n",
              "  color: var(--sklearn-color-background);\n",
              "  text-decoration: none;\n",
              "}\n",
              "\n",
              "#sk-container-id-1 a.estimator_doc_link.fitted:hover {\n",
              "  /* fitted */\n",
              "  background-color: var(--sklearn-color-fitted-level-3);\n",
              "}\n",
              "</style><div id=\"sk-container-id-1\" class=\"sk-top-container\"><div class=\"sk-text-repr-fallback\"><pre>LGBMRegressor(colsample_bytree=0.6, learning_rate=0.01, min_child_samples=30,\n",
              "              random_state=42, subsample=0.6)</pre><b>In a Jupyter environment, please rerun this cell to show the HTML representation or trust the notebook. <br />On GitHub, the HTML representation is unable to render, please try loading this page with nbviewer.org.</b></div><div class=\"sk-container\" hidden><div class=\"sk-item\"><div class=\"sk-estimator fitted sk-toggleable\"><input class=\"sk-toggleable__control sk-hidden--visually\" id=\"sk-estimator-id-1\" type=\"checkbox\" checked><label for=\"sk-estimator-id-1\" class=\"sk-toggleable__label fitted sk-toggleable__label-arrow\"><div><div>LGBMRegressor</div></div><div><span class=\"sk-estimator-doc-link fitted\">i<span>Fitted</span></span></div></label><div class=\"sk-toggleable__content fitted\"><pre>LGBMRegressor(colsample_bytree=0.6, learning_rate=0.01, min_child_samples=30,\n",
              "              random_state=42, subsample=0.6)</pre></div> </div></div></div></div>"
            ],
            "text/plain": [
              "LGBMRegressor(colsample_bytree=0.6, learning_rate=0.01, min_child_samples=30,\n",
              "              random_state=42, subsample=0.6)"
            ]
          },
          "execution_count": 8,
          "metadata": {},
          "output_type": "execute_result"
        }
      ],
      "source": [
        "# Import necessary libraries\n",
        "from lightgbm import LGBMRegressor\n",
        "from sklearn.metrics import mean_squared_error\n",
        "\n",
        "# Create a new instance of the LGBMRegressor with the best parameters\n",
        "best_params = {'colsample_bytree': 0.6, 'learning_rate': 0.01, 'max_depth': -1,\n",
        "              'min_child_samples': 30, 'n_estimators': 100, 'num_leaves': 31,\n",
        "              'subsample': 0.6}\n",
        "final_model = LGBMRegressor(**best_params, random_state=42)\n",
        "\n",
        "# Fit the model to the training data (X_train_scaled, y_train)\n",
        "final_model.fit(X_train_scaled, y_train)"
      ]
    },
    {
      "cell_type": "code",
      "execution_count": 9,
      "metadata": {
        "colab": {
          "base_uri": "https://localhost:8080/"
        },
        "id": "4rIuxNOMjaml",
        "outputId": "cb6cf2fd-4154-4def-af70-7d9d0b68d7b7"
      },
      "outputs": [
        {
          "name": "stderr",
          "output_type": "stream",
          "text": [
            "/opt/anaconda3/lib/python3.11/site-packages/sklearn/utils/deprecation.py:151: FutureWarning: 'force_all_finite' was renamed to 'ensure_all_finite' in 1.6 and will be removed in 1.8.\n",
            "  warnings.warn(\n"
          ]
        }
      ],
      "source": [
        "# Predict on the test data (X_test_scaled)\n",
        "y_pred = final_model.predict(X_test_scaled)"
      ]
    },
    {
      "cell_type": "code",
      "execution_count": 10,
      "metadata": {
        "colab": {
          "base_uri": "https://localhost:8080/"
        },
        "id": "vbUL0mKcjfx9",
        "outputId": "83e6bebd-3baa-477c-a367-84b56ab2e2e4"
      },
      "outputs": [
        {
          "name": "stdout",
          "output_type": "stream",
          "text": [
            "Test RMSE with Best Parameters: 38.9218926963783\n"
          ]
        }
      ],
      "source": [
        "# Calculate the RMSE to evaluate the model's performance\n",
        "mse = mean_squared_error(y_test, y_pred)\n",
        "rmse = mse**0.5\n",
        "print(\"Test RMSE with Best Parameters:\", rmse)"
      ]
    },
    {
      "cell_type": "markdown",
      "metadata": {
        "id": "SmAfpzC5pyVH"
      },
      "source": [
        "# Optuna with LightGBM"
      ]
    },
    {
      "cell_type": "code",
      "execution_count": 11,
      "metadata": {
        "colab": {
          "base_uri": "https://localhost:8080/"
        },
        "id": "6ngzdPIzpx7j",
        "outputId": "1ad72d90-c679-4e26-ced0-f36e1f2c595b"
      },
      "outputs": [
        {
          "name": "stdout",
          "output_type": "stream",
          "text": [
            "Requirement already satisfied: optuna in /opt/anaconda3/lib/python3.11/site-packages (4.2.0)\n",
            "Requirement already satisfied: alembic>=1.5.0 in /opt/anaconda3/lib/python3.11/site-packages (from optuna) (1.14.1)\n",
            "Requirement already satisfied: colorlog in /opt/anaconda3/lib/python3.11/site-packages (from optuna) (6.9.0)\n",
            "Requirement already satisfied: numpy in /opt/anaconda3/lib/python3.11/site-packages (from optuna) (1.26.4)\n",
            "Requirement already satisfied: packaging>=20.0 in /opt/anaconda3/lib/python3.11/site-packages (from optuna) (23.1)\n",
            "Requirement already satisfied: sqlalchemy>=1.4.2 in /opt/anaconda3/lib/python3.11/site-packages (from optuna) (2.0.25)\n",
            "Requirement already satisfied: tqdm in /opt/anaconda3/lib/python3.11/site-packages (from optuna) (4.65.0)\n",
            "Requirement already satisfied: PyYAML in /opt/anaconda3/lib/python3.11/site-packages (from optuna) (6.0.1)\n",
            "Requirement already satisfied: Mako in /opt/anaconda3/lib/python3.11/site-packages (from alembic>=1.5.0->optuna) (1.3.9)\n",
            "Requirement already satisfied: typing-extensions>=4 in /opt/anaconda3/lib/python3.11/site-packages (from alembic>=1.5.0->optuna) (4.9.0)\n",
            "Requirement already satisfied: greenlet!=0.4.17 in /opt/anaconda3/lib/python3.11/site-packages (from sqlalchemy>=1.4.2->optuna) (3.0.1)\n",
            "Requirement already satisfied: MarkupSafe>=0.9.2 in /opt/anaconda3/lib/python3.11/site-packages (from Mako->alembic>=1.5.0->optuna) (2.1.3)\n",
            "Note: you may need to restart the kernel to use updated packages.\n"
          ]
        }
      ],
      "source": [
        "%pip install optuna"
      ]
    },
    {
      "cell_type": "code",
      "execution_count": 12,
      "metadata": {
        "id": "jPMcBSw8jjY4"
      },
      "outputs": [],
      "source": [
        "import lightgbm as lgb\n",
        "from sklearn.metrics import mean_squared_error\n",
        "\n",
        "def objective(trial):\n",
        "    params = {\n",
        "        'objective': 'regression',\n",
        "        'metric': 'rmse',\n",
        "        'random_state': 42,\n",
        "        'n_estimators': 100,\n",
        "        'learning_rate': trial.suggest_float('learning_rate', 0.01, 0.1),\n",
        "        'num_leaves': trial.suggest_int('num_leaves', 20, 100),\n",
        "        'max_depth': trial.suggest_int('max_depth', 3, 12),\n",
        "        'min_child_samples': trial.suggest_int('min_child_samples', 20, 200),\n",
        "        'subsample': trial.suggest_float('subsample', 0.5, 0.9),\n",
        "        'colsample_bytree': trial.suggest_float('colsample_bytree', 0.5, 0.9),\n",
        "        'reg_alpha': trial.suggest_float('reg_alpha', 1e-8, 10.0),\n",
        "        'reg_lambda': trial.suggest_float('reg_lambda', 1e-8, 10.0),\n",
        "    }\n",
        "\n",
        "    model = lgb.LGBMRegressor(**params)\n",
        "    # Pass early stopping as a callback\n",
        "    model.fit(\n",
        "        X_train_scaled,\n",
        "        y_train,\n",
        "        eval_set=[(X_test_scaled, y_test)],\n",
        "        callbacks=[lgb.early_stopping(stopping_rounds=10)]\n",
        "    )\n",
        "    predictions = model.predict(X_test_scaled)\n",
        "    rmse = mean_squared_error(y_test, predictions)\n",
        "    return rmse"
      ]
    },
    {
      "cell_type": "code",
      "execution_count": 13,
      "metadata": {
        "colab": {
          "base_uri": "https://localhost:8080/"
        },
        "id": "IfDarcxNrCtC",
        "outputId": "e1cc4156-038e-451a-c219-6a1cfa77c621"
      },
      "outputs": [
        {
          "name": "stderr",
          "output_type": "stream",
          "text": [
            "[I 2025-02-11 16:06:38,880] A new study created in memory with name: no-name-49ccd584-4f8e-4fb1-afae-6b9a4bda91b3\n"
          ]
        }
      ],
      "source": [
        "import optuna\n",
        "from optuna.samplers import TPESampler\n",
        "\n",
        "sampler = TPESampler(seed=1) #  Uses the Tree-Structured Parzen Estimator algorithm [4]\n",
        "study = optuna.create_study(direction='minimize', sampler = sampler)"
      ]
    },
    {
      "cell_type": "code",
      "execution_count": 14,
      "metadata": {
        "colab": {
          "base_uri": "https://localhost:8080/"
        },
        "collapsed": true,
        "id": "9x9C1fhIrKRg",
        "outputId": "67ee9bae-642f-49af-b48f-b4dd568247fb"
      },
      "outputs": [
        {
          "name": "stderr",
          "output_type": "stream",
          "text": [
            "/opt/anaconda3/lib/python3.11/site-packages/sklearn/utils/deprecation.py:151: FutureWarning: 'force_all_finite' was renamed to 'ensure_all_finite' in 1.6 and will be removed in 1.8.\n",
            "  warnings.warn(\n"
          ]
        },
        {
          "name": "stdout",
          "output_type": "stream",
          "text": [
            "Training until validation scores don't improve for 10 rounds\n"
          ]
        },
        {
          "name": "stderr",
          "output_type": "stream",
          "text": [
            "/opt/anaconda3/lib/python3.11/site-packages/sklearn/utils/deprecation.py:151: FutureWarning: 'force_all_finite' was renamed to 'ensure_all_finite' in 1.6 and will be removed in 1.8.\n",
            "  warnings.warn(\n",
            "[I 2025-02-11 16:06:40,539] Trial 0 finished with value: 1514.220771409521 and parameters: {'learning_rate': 0.047531980423231666, 'num_leaves': 78, 'max_depth': 3, 'min_child_samples': 74, 'subsample': 0.5587023563268452, 'colsample_bytree': 0.5369354379075191, 'reg_alpha': 1.8626021219141067, 'reg_lambda': 3.45560727697487}. Best is trial 0 with value: 1514.220771409521.\n"
          ]
        },
        {
          "name": "stdout",
          "output_type": "stream",
          "text": [
            "Did not meet early stopping. Best iteration is:\n",
            "[100]\tvalid_0's rmse: 38.913\n"
          ]
        },
        {
          "name": "stderr",
          "output_type": "stream",
          "text": [
            "/opt/anaconda3/lib/python3.11/site-packages/sklearn/utils/deprecation.py:151: FutureWarning: 'force_all_finite' was renamed to 'ensure_all_finite' in 1.6 and will be removed in 1.8.\n",
            "  warnings.warn(\n"
          ]
        },
        {
          "name": "stdout",
          "output_type": "stream",
          "text": [
            "Training until validation scores don't improve for 10 rounds\n"
          ]
        },
        {
          "name": "stderr",
          "output_type": "stream",
          "text": [
            "/opt/anaconda3/lib/python3.11/site-packages/sklearn/utils/deprecation.py:151: FutureWarning: 'force_all_finite' was renamed to 'ensure_all_finite' in 1.6 and will be removed in 1.8.\n",
            "  warnings.warn(\n",
            "[I 2025-02-11 16:06:41,818] Trial 1 finished with value: 1514.273159852056 and parameters: {'learning_rate': 0.0457090726807603, 'num_leaves': 63, 'max_depth': 7, 'min_child_samples': 144, 'subsample': 0.581780899892607, 'colsample_bytree': 0.8512469745563782, 'reg_alpha': 0.27387594170538565, 'reg_lambda': 6.704675105079347}. Best is trial 0 with value: 1514.220771409521.\n"
          ]
        },
        {
          "name": "stdout",
          "output_type": "stream",
          "text": [
            "Early stopping, best iteration is:\n",
            "[36]\tvalid_0's rmse: 38.9137\n"
          ]
        },
        {
          "name": "stderr",
          "output_type": "stream",
          "text": [
            "/opt/anaconda3/lib/python3.11/site-packages/sklearn/utils/deprecation.py:151: FutureWarning: 'force_all_finite' was renamed to 'ensure_all_finite' in 1.6 and will be removed in 1.8.\n",
            "  warnings.warn(\n"
          ]
        },
        {
          "name": "stdout",
          "output_type": "stream",
          "text": [
            "Training until validation scores don't improve for 10 rounds\n"
          ]
        },
        {
          "name": "stderr",
          "output_type": "stream",
          "text": [
            "/opt/anaconda3/lib/python3.11/site-packages/sklearn/utils/deprecation.py:151: FutureWarning: 'force_all_finite' was renamed to 'ensure_all_finite' in 1.6 and will be removed in 1.8.\n",
            "  warnings.warn(\n",
            "[I 2025-02-11 16:06:43,192] Trial 2 finished with value: 1514.0329287984187 and parameters: {'learning_rate': 0.047557432213041435, 'num_leaves': 65, 'max_depth': 4, 'min_child_samples': 55, 'subsample': 0.8202978274702146, 'colsample_bytree': 0.887304630287759, 'reg_alpha': 3.134241788458186, 'reg_lambda': 6.923226159769914}. Best is trial 2 with value: 1514.0329287984187.\n"
          ]
        },
        {
          "name": "stdout",
          "output_type": "stream",
          "text": [
            "Did not meet early stopping. Best iteration is:\n",
            "[98]\tvalid_0's rmse: 38.9106\n"
          ]
        },
        {
          "name": "stderr",
          "output_type": "stream",
          "text": [
            "/opt/anaconda3/lib/python3.11/site-packages/sklearn/utils/deprecation.py:151: FutureWarning: 'force_all_finite' was renamed to 'ensure_all_finite' in 1.6 and will be removed in 1.8.\n",
            "  warnings.warn(\n"
          ]
        },
        {
          "name": "stdout",
          "output_type": "stream",
          "text": [
            "Training until validation scores don't improve for 10 rounds\n"
          ]
        },
        {
          "name": "stderr",
          "output_type": "stream",
          "text": [
            "/opt/anaconda3/lib/python3.11/site-packages/sklearn/utils/deprecation.py:151: FutureWarning: 'force_all_finite' was renamed to 'ensure_all_finite' in 1.6 and will be removed in 1.8.\n",
            "  warnings.warn(\n",
            "[I 2025-02-11 16:06:44,352] Trial 3 finished with value: 1514.0833571393748 and parameters: {'learning_rate': 0.08887502370664345, 'num_leaves': 92, 'max_depth': 3, 'min_child_samples': 27, 'subsample': 0.5679321678258276, 'colsample_bytree': 0.8512570013717653, 'reg_alpha': 0.9834683473470326, 'reg_lambda': 4.211076255839445}. Best is trial 2 with value: 1514.0329287984187.\n"
          ]
        },
        {
          "name": "stdout",
          "output_type": "stream",
          "text": [
            "Early stopping, best iteration is:\n",
            "[74]\tvalid_0's rmse: 38.9112\n"
          ]
        },
        {
          "name": "stderr",
          "output_type": "stream",
          "text": [
            "/opt/anaconda3/lib/python3.11/site-packages/sklearn/utils/deprecation.py:151: FutureWarning: 'force_all_finite' was renamed to 'ensure_all_finite' in 1.6 and will be removed in 1.8.\n",
            "  warnings.warn(\n"
          ]
        },
        {
          "name": "stdout",
          "output_type": "stream",
          "text": [
            "Training until validation scores don't improve for 10 rounds\n"
          ]
        },
        {
          "name": "stderr",
          "output_type": "stream",
          "text": [
            "/opt/anaconda3/lib/python3.11/site-packages/sklearn/utils/deprecation.py:151: FutureWarning: 'force_all_finite' was renamed to 'ensure_all_finite' in 1.6 and will be removed in 1.8.\n",
            "  warnings.warn(\n",
            "[I 2025-02-11 16:06:45,386] Trial 4 finished with value: 1514.4375841272856 and parameters: {'learning_rate': 0.09621005771354518, 'num_leaves': 63, 'max_depth': 9, 'min_child_samples': 77, 'subsample': 0.7746003710726335, 'colsample_bytree': 0.8338502687589492, 'reg_alpha': 0.18288278325903526, 'reg_lambda': 7.501443151948231}. Best is trial 2 with value: 1514.0329287984187.\n"
          ]
        },
        {
          "name": "stdout",
          "output_type": "stream",
          "text": [
            "Early stopping, best iteration is:\n",
            "[23]\tvalid_0's rmse: 38.9158\n"
          ]
        },
        {
          "name": "stderr",
          "output_type": "stream",
          "text": [
            "/opt/anaconda3/lib/python3.11/site-packages/sklearn/utils/deprecation.py:151: FutureWarning: 'force_all_finite' was renamed to 'ensure_all_finite' in 1.6 and will be removed in 1.8.\n",
            "  warnings.warn(\n"
          ]
        },
        {
          "name": "stdout",
          "output_type": "stream",
          "text": [
            "Training until validation scores don't improve for 10 rounds\n"
          ]
        },
        {
          "name": "stderr",
          "output_type": "stream",
          "text": [
            "/opt/anaconda3/lib/python3.11/site-packages/sklearn/utils/deprecation.py:151: FutureWarning: 'force_all_finite' was renamed to 'ensure_all_finite' in 1.6 and will be removed in 1.8.\n",
            "  warnings.warn(\n",
            "[I 2025-02-11 16:06:47,210] Trial 5 finished with value: 1513.7200049780752 and parameters: {'learning_rate': 0.09899749800158453, 'num_leaves': 80, 'max_depth': 5, 'min_child_samples': 162, 'subsample': 0.5412904026310568, 'colsample_bytree': 0.679157410470362, 'reg_alpha': 9.085955031845, 'reg_lambda': 2.936141490800653}. Best is trial 5 with value: 1513.7200049780752.\n"
          ]
        },
        {
          "name": "stdout",
          "output_type": "stream",
          "text": [
            "Early stopping, best iteration is:\n",
            "[48]\tvalid_0's rmse: 38.9066\n"
          ]
        },
        {
          "name": "stderr",
          "output_type": "stream",
          "text": [
            "/opt/anaconda3/lib/python3.11/site-packages/sklearn/utils/deprecation.py:151: FutureWarning: 'force_all_finite' was renamed to 'ensure_all_finite' in 1.6 and will be removed in 1.8.\n",
            "  warnings.warn(\n"
          ]
        },
        {
          "name": "stdout",
          "output_type": "stream",
          "text": [
            "Training until validation scores don't improve for 10 rounds\n"
          ]
        },
        {
          "name": "stderr",
          "output_type": "stream",
          "text": [
            "/opt/anaconda3/lib/python3.11/site-packages/sklearn/utils/deprecation.py:151: FutureWarning: 'force_all_finite' was renamed to 'ensure_all_finite' in 1.6 and will be removed in 1.8.\n",
            "  warnings.warn(\n",
            "[I 2025-02-11 16:06:49,166] Trial 6 finished with value: 1514.3886128759839 and parameters: {'learning_rate': 0.03589978047277139, 'num_leaves': 30, 'max_depth': 3, 'min_child_samples': 142, 'subsample': 0.5846512464000236, 'colsample_bytree': 0.6062186637488904, 'reg_alpha': 4.915731597887651, 'reg_lambda': 0.5336254606371784}. Best is trial 5 with value: 1513.7200049780752.\n"
          ]
        },
        {
          "name": "stdout",
          "output_type": "stream",
          "text": [
            "Did not meet early stopping. Best iteration is:\n",
            "[100]\tvalid_0's rmse: 38.9151\n"
          ]
        },
        {
          "name": "stderr",
          "output_type": "stream",
          "text": [
            "/opt/anaconda3/lib/python3.11/site-packages/sklearn/utils/deprecation.py:151: FutureWarning: 'force_all_finite' was renamed to 'ensure_all_finite' in 1.6 and will be removed in 1.8.\n",
            "  warnings.warn(\n"
          ]
        },
        {
          "name": "stdout",
          "output_type": "stream",
          "text": [
            "Training until validation scores don't improve for 10 rounds\n"
          ]
        },
        {
          "name": "stderr",
          "output_type": "stream",
          "text": [
            "/opt/anaconda3/lib/python3.11/site-packages/sklearn/utils/deprecation.py:151: FutureWarning: 'force_all_finite' was renamed to 'ensure_all_finite' in 1.6 and will be removed in 1.8.\n",
            "  warnings.warn(\n",
            "[I 2025-02-11 16:06:50,745] Trial 7 finished with value: 1514.121008506416 and parameters: {'learning_rate': 0.061670584494281186, 'num_leaves': 31, 'max_depth': 8, 'min_child_samples': 146, 'subsample': 0.5409337715311303, 'colsample_bytree': 0.6656223951278273, 'reg_alpha': 6.944001580333449, 'reg_lambda': 4.141792701127233}. Best is trial 5 with value: 1513.7200049780752.\n"
          ]
        },
        {
          "name": "stdout",
          "output_type": "stream",
          "text": [
            "Early stopping, best iteration is:\n",
            "[53]\tvalid_0's rmse: 38.9117\n"
          ]
        },
        {
          "name": "stderr",
          "output_type": "stream",
          "text": [
            "/opt/anaconda3/lib/python3.11/site-packages/sklearn/utils/deprecation.py:151: FutureWarning: 'force_all_finite' was renamed to 'ensure_all_finite' in 1.6 and will be removed in 1.8.\n",
            "  warnings.warn(\n"
          ]
        },
        {
          "name": "stdout",
          "output_type": "stream",
          "text": [
            "Training until validation scores don't improve for 10 rounds\n",
            "Did not meet early stopping. Best iteration is:\n",
            "[100]\tvalid_0's rmse: 38.9157\n"
          ]
        },
        {
          "name": "stderr",
          "output_type": "stream",
          "text": [
            "/opt/anaconda3/lib/python3.11/site-packages/sklearn/utils/deprecation.py:151: FutureWarning: 'force_all_finite' was renamed to 'ensure_all_finite' in 1.6 and will be removed in 1.8.\n",
            "  warnings.warn(\n",
            "[I 2025-02-11 16:06:53,079] Trial 8 finished with value: 1514.4281480106288 and parameters: {'learning_rate': 0.014495811305147845, 'num_leaves': 63, 'max_depth': 9, 'min_child_samples': 113, 'subsample': 0.8778379023963254, 'colsample_bytree': 0.7346220162007971, 'reg_alpha': 9.034019153844817, 'reg_lambda': 1.374747050087628}. Best is trial 5 with value: 1513.7200049780752.\n",
            "/opt/anaconda3/lib/python3.11/site-packages/sklearn/utils/deprecation.py:151: FutureWarning: 'force_all_finite' was renamed to 'ensure_all_finite' in 1.6 and will be removed in 1.8.\n",
            "  warnings.warn(\n"
          ]
        },
        {
          "name": "stdout",
          "output_type": "stream",
          "text": [
            "Training until validation scores don't improve for 10 rounds\n"
          ]
        },
        {
          "name": "stderr",
          "output_type": "stream",
          "text": [
            "/opt/anaconda3/lib/python3.11/site-packages/sklearn/utils/deprecation.py:151: FutureWarning: 'force_all_finite' was renamed to 'ensure_all_finite' in 1.6 and will be removed in 1.8.\n",
            "  warnings.warn(\n",
            "[I 2025-02-11 16:06:55,587] Trial 9 finished with value: 1514.0909656794004 and parameters: {'learning_rate': 0.02253487125256827, 'num_leaves': 85, 'max_depth': 6, 'min_child_samples': 49, 'subsample': 0.8710034321584136, 'colsample_bytree': 0.6391063438982026, 'reg_alpha': 7.508121033853434, 'reg_lambda': 7.259979856244534}. Best is trial 5 with value: 1513.7200049780752.\n"
          ]
        },
        {
          "name": "stdout",
          "output_type": "stream",
          "text": [
            "Did not meet early stopping. Best iteration is:\n",
            "[100]\tvalid_0's rmse: 38.9113\n"
          ]
        },
        {
          "name": "stderr",
          "output_type": "stream",
          "text": [
            "/opt/anaconda3/lib/python3.11/site-packages/sklearn/utils/deprecation.py:151: FutureWarning: 'force_all_finite' was renamed to 'ensure_all_finite' in 1.6 and will be removed in 1.8.\n",
            "  warnings.warn(\n"
          ]
        },
        {
          "name": "stdout",
          "output_type": "stream",
          "text": [
            "Training until validation scores don't improve for 10 rounds\n"
          ]
        },
        {
          "name": "stderr",
          "output_type": "stream",
          "text": [
            "/opt/anaconda3/lib/python3.11/site-packages/sklearn/utils/deprecation.py:151: FutureWarning: 'force_all_finite' was renamed to 'ensure_all_finite' in 1.6 and will be removed in 1.8.\n",
            "  warnings.warn(\n",
            "[I 2025-02-11 16:06:56,982] Trial 10 finished with value: 1514.4962704798302 and parameters: {'learning_rate': 0.07664503381373533, 'num_leaves': 98, 'max_depth': 12, 'min_child_samples': 198, 'subsample': 0.6845926131589002, 'colsample_bytree': 0.7469170995321801, 'reg_alpha': 9.11826833105835, 'reg_lambda': 9.933903683304415}. Best is trial 5 with value: 1513.7200049780752.\n"
          ]
        },
        {
          "name": "stdout",
          "output_type": "stream",
          "text": [
            "Early stopping, best iteration is:\n",
            "[26]\tvalid_0's rmse: 38.9165\n"
          ]
        },
        {
          "name": "stderr",
          "output_type": "stream",
          "text": [
            "/opt/anaconda3/lib/python3.11/site-packages/sklearn/utils/deprecation.py:151: FutureWarning: 'force_all_finite' was renamed to 'ensure_all_finite' in 1.6 and will be removed in 1.8.\n",
            "  warnings.warn(\n"
          ]
        },
        {
          "name": "stdout",
          "output_type": "stream",
          "text": [
            "Training until validation scores don't improve for 10 rounds\n"
          ]
        },
        {
          "name": "stderr",
          "output_type": "stream",
          "text": [
            "/opt/anaconda3/lib/python3.11/site-packages/sklearn/utils/deprecation.py:151: FutureWarning: 'force_all_finite' was renamed to 'ensure_all_finite' in 1.6 and will be removed in 1.8.\n",
            "  warnings.warn(\n",
            "[I 2025-02-11 16:06:58,703] Trial 11 finished with value: 1513.9282129133944 and parameters: {'learning_rate': 0.06684945721677582, 'num_leaves': 45, 'max_depth': 5, 'min_child_samples': 190, 'subsample': 0.6978003298225237, 'colsample_bytree': 0.7850967310313143, 'reg_alpha': 3.3038957183056983, 'reg_lambda': 1.9746364046322133}. Best is trial 5 with value: 1513.7200049780752.\n"
          ]
        },
        {
          "name": "stdout",
          "output_type": "stream",
          "text": [
            "Early stopping, best iteration is:\n",
            "[80]\tvalid_0's rmse: 38.9092\n"
          ]
        },
        {
          "name": "stderr",
          "output_type": "stream",
          "text": [
            "/opt/anaconda3/lib/python3.11/site-packages/sklearn/utils/deprecation.py:151: FutureWarning: 'force_all_finite' was renamed to 'ensure_all_finite' in 1.6 and will be removed in 1.8.\n",
            "  warnings.warn(\n"
          ]
        },
        {
          "name": "stdout",
          "output_type": "stream",
          "text": [
            "Training until validation scores don't improve for 10 rounds\n"
          ]
        },
        {
          "name": "stderr",
          "output_type": "stream",
          "text": [
            "/opt/anaconda3/lib/python3.11/site-packages/sklearn/utils/deprecation.py:151: FutureWarning: 'force_all_finite' was renamed to 'ensure_all_finite' in 1.6 and will be removed in 1.8.\n",
            "  warnings.warn(\n",
            "[I 2025-02-11 16:07:00,372] Trial 12 finished with value: 1513.8248920284711 and parameters: {'learning_rate': 0.07428649803079343, 'num_leaves': 44, 'max_depth': 5, 'min_child_samples': 187, 'subsample': 0.6561446571865954, 'colsample_bytree': 0.7768821757418434, 'reg_alpha': 4.140769139504529, 'reg_lambda': 2.014622805956238}. Best is trial 5 with value: 1513.7200049780752.\n"
          ]
        },
        {
          "name": "stdout",
          "output_type": "stream",
          "text": [
            "Early stopping, best iteration is:\n",
            "[68]\tvalid_0's rmse: 38.9079\n"
          ]
        },
        {
          "name": "stderr",
          "output_type": "stream",
          "text": [
            "/opt/anaconda3/lib/python3.11/site-packages/sklearn/utils/deprecation.py:151: FutureWarning: 'force_all_finite' was renamed to 'ensure_all_finite' in 1.6 and will be removed in 1.8.\n",
            "  warnings.warn(\n"
          ]
        },
        {
          "name": "stdout",
          "output_type": "stream",
          "text": [
            "Training until validation scores don't improve for 10 rounds\n"
          ]
        },
        {
          "name": "stderr",
          "output_type": "stream",
          "text": [
            "/opt/anaconda3/lib/python3.11/site-packages/sklearn/utils/deprecation.py:151: FutureWarning: 'force_all_finite' was renamed to 'ensure_all_finite' in 1.6 and will be removed in 1.8.\n",
            "  warnings.warn(\n",
            "[I 2025-02-11 16:07:01,796] Trial 13 finished with value: 1514.1903511487317 and parameters: {'learning_rate': 0.08001948055823521, 'num_leaves': 45, 'max_depth': 5, 'min_child_samples': 169, 'subsample': 0.6409259637895369, 'colsample_bytree': 0.7094033347930252, 'reg_alpha': 5.158919196273004, 'reg_lambda': 2.526235231286647}. Best is trial 5 with value: 1513.7200049780752.\n"
          ]
        },
        {
          "name": "stdout",
          "output_type": "stream",
          "text": [
            "Early stopping, best iteration is:\n",
            "[33]\tvalid_0's rmse: 38.9126\n"
          ]
        },
        {
          "name": "stderr",
          "output_type": "stream",
          "text": [
            "/opt/anaconda3/lib/python3.11/site-packages/sklearn/utils/deprecation.py:151: FutureWarning: 'force_all_finite' was renamed to 'ensure_all_finite' in 1.6 and will be removed in 1.8.\n",
            "  warnings.warn(\n"
          ]
        },
        {
          "name": "stdout",
          "output_type": "stream",
          "text": [
            "Training until validation scores don't improve for 10 rounds\n"
          ]
        },
        {
          "name": "stderr",
          "output_type": "stream",
          "text": [
            "/opt/anaconda3/lib/python3.11/site-packages/sklearn/utils/deprecation.py:151: FutureWarning: 'force_all_finite' was renamed to 'ensure_all_finite' in 1.6 and will be removed in 1.8.\n",
            "  warnings.warn(\n",
            "[I 2025-02-11 16:07:03,157] Trial 14 finished with value: 1513.9577145665626 and parameters: {'learning_rate': 0.09903669586232307, 'num_leaves': 51, 'max_depth': 6, 'min_child_samples': 170, 'subsample': 0.6445449429626403, 'colsample_bytree': 0.7867095070493977, 'reg_alpha': 5.995512475302119, 'reg_lambda': 5.563503872842066}. Best is trial 5 with value: 1513.7200049780752.\n"
          ]
        },
        {
          "name": "stdout",
          "output_type": "stream",
          "text": [
            "Early stopping, best iteration is:\n",
            "[41]\tvalid_0's rmse: 38.9096\n"
          ]
        },
        {
          "name": "stderr",
          "output_type": "stream",
          "text": [
            "/opt/anaconda3/lib/python3.11/site-packages/sklearn/utils/deprecation.py:151: FutureWarning: 'force_all_finite' was renamed to 'ensure_all_finite' in 1.6 and will be removed in 1.8.\n",
            "  warnings.warn(\n"
          ]
        },
        {
          "name": "stdout",
          "output_type": "stream",
          "text": [
            "Training until validation scores don't improve for 10 rounds\n"
          ]
        },
        {
          "name": "stderr",
          "output_type": "stream",
          "text": [
            "/opt/anaconda3/lib/python3.11/site-packages/sklearn/utils/deprecation.py:151: FutureWarning: 'force_all_finite' was renamed to 'ensure_all_finite' in 1.6 and will be removed in 1.8.\n",
            "  warnings.warn(\n",
            "[I 2025-02-11 16:07:04,698] Trial 15 finished with value: 1514.0202005365295 and parameters: {'learning_rate': 0.07958966746275416, 'num_leaves': 77, 'max_depth': 5, 'min_child_samples': 121, 'subsample': 0.5011529555296914, 'colsample_bytree': 0.5900606806018389, 'reg_alpha': 3.7173177394475756, 'reg_lambda': 0.3253914201872852}. Best is trial 5 with value: 1513.7200049780752.\n"
          ]
        },
        {
          "name": "stdout",
          "output_type": "stream",
          "text": [
            "Early stopping, best iteration is:\n",
            "[48]\tvalid_0's rmse: 38.9104\n"
          ]
        },
        {
          "name": "stderr",
          "output_type": "stream",
          "text": [
            "/opt/anaconda3/lib/python3.11/site-packages/sklearn/utils/deprecation.py:151: FutureWarning: 'force_all_finite' was renamed to 'ensure_all_finite' in 1.6 and will be removed in 1.8.\n",
            "  warnings.warn(\n"
          ]
        },
        {
          "name": "stdout",
          "output_type": "stream",
          "text": [
            "Training until validation scores don't improve for 10 rounds\n"
          ]
        },
        {
          "name": "stderr",
          "output_type": "stream",
          "text": [
            "/opt/anaconda3/lib/python3.11/site-packages/sklearn/utils/deprecation.py:151: FutureWarning: 'force_all_finite' was renamed to 'ensure_all_finite' in 1.6 and will be removed in 1.8.\n",
            "  warnings.warn(\n",
            "[I 2025-02-11 16:07:06,515] Trial 16 finished with value: 1513.961479579 and parameters: {'learning_rate': 0.08798950317602951, 'num_leaves': 22, 'max_depth': 7, 'min_child_samples': 170, 'subsample': 0.7376802239832089, 'colsample_bytree': 0.5018534021398808, 'reg_alpha': 7.7742962863834535, 'reg_lambda': 2.754666589917196}. Best is trial 5 with value: 1513.7200049780752.\n"
          ]
        },
        {
          "name": "stdout",
          "output_type": "stream",
          "text": [
            "Early stopping, best iteration is:\n",
            "[50]\tvalid_0's rmse: 38.9097\n"
          ]
        },
        {
          "name": "stderr",
          "output_type": "stream",
          "text": [
            "/opt/anaconda3/lib/python3.11/site-packages/sklearn/utils/deprecation.py:151: FutureWarning: 'force_all_finite' was renamed to 'ensure_all_finite' in 1.6 and will be removed in 1.8.\n",
            "  warnings.warn(\n"
          ]
        },
        {
          "name": "stdout",
          "output_type": "stream",
          "text": [
            "Training until validation scores don't improve for 10 rounds\n"
          ]
        },
        {
          "name": "stderr",
          "output_type": "stream",
          "text": [
            "/opt/anaconda3/lib/python3.11/site-packages/sklearn/utils/deprecation.py:151: FutureWarning: 'force_all_finite' was renamed to 'ensure_all_finite' in 1.6 and will be removed in 1.8.\n",
            "  warnings.warn(\n",
            "[I 2025-02-11 16:07:07,770] Trial 17 finished with value: 1514.3509991443077 and parameters: {'learning_rate': 0.0695041058537572, 'num_leaves': 51, 'max_depth': 11, 'min_child_samples': 185, 'subsample': 0.6380824217420453, 'colsample_bytree': 0.779951401834214, 'reg_alpha': 9.712531262436126, 'reg_lambda': 5.135902383212916}. Best is trial 5 with value: 1513.7200049780752.\n"
          ]
        },
        {
          "name": "stdout",
          "output_type": "stream",
          "text": [
            "Early stopping, best iteration is:\n",
            "[34]\tvalid_0's rmse: 38.9147\n"
          ]
        },
        {
          "name": "stderr",
          "output_type": "stream",
          "text": [
            "/opt/anaconda3/lib/python3.11/site-packages/sklearn/utils/deprecation.py:151: FutureWarning: 'force_all_finite' was renamed to 'ensure_all_finite' in 1.6 and will be removed in 1.8.\n",
            "  warnings.warn(\n"
          ]
        },
        {
          "name": "stdout",
          "output_type": "stream",
          "text": [
            "Training until validation scores don't improve for 10 rounds\n"
          ]
        },
        {
          "name": "stderr",
          "output_type": "stream",
          "text": [
            "/opt/anaconda3/lib/python3.11/site-packages/sklearn/utils/deprecation.py:151: FutureWarning: 'force_all_finite' was renamed to 'ensure_all_finite' in 1.6 and will be removed in 1.8.\n",
            "  warnings.warn(\n",
            "[I 2025-02-11 16:07:09,265] Trial 18 finished with value: 1514.0037995959008 and parameters: {'learning_rate': 0.08731305590021585, 'num_leaves': 74, 'max_depth': 4, 'min_child_samples': 128, 'subsample': 0.503109898279987, 'colsample_bytree': 0.6876757855694724, 'reg_alpha': 4.931021568947625, 'reg_lambda': 1.479563815558016}. Best is trial 5 with value: 1513.7200049780752.\n"
          ]
        },
        {
          "name": "stdout",
          "output_type": "stream",
          "text": [
            "Early stopping, best iteration is:\n",
            "[65]\tvalid_0's rmse: 38.9102\n"
          ]
        },
        {
          "name": "stderr",
          "output_type": "stream",
          "text": [
            "/opt/anaconda3/lib/python3.11/site-packages/sklearn/utils/deprecation.py:151: FutureWarning: 'force_all_finite' was renamed to 'ensure_all_finite' in 1.6 and will be removed in 1.8.\n",
            "  warnings.warn(\n"
          ]
        },
        {
          "name": "stdout",
          "output_type": "stream",
          "text": [
            "Training until validation scores don't improve for 10 rounds\n"
          ]
        },
        {
          "name": "stderr",
          "output_type": "stream",
          "text": [
            "/opt/anaconda3/lib/python3.11/site-packages/sklearn/utils/deprecation.py:151: FutureWarning: 'force_all_finite' was renamed to 'ensure_all_finite' in 1.6 and will be removed in 1.8.\n",
            "  warnings.warn(\n",
            "[I 2025-02-11 16:07:10,928] Trial 19 finished with value: 1514.0484826092381 and parameters: {'learning_rate': 0.058785031430348855, 'num_leaves': 39, 'max_depth': 6, 'min_child_samples': 99, 'subsample': 0.7665573468071322, 'colsample_bytree': 0.6408208394362978, 'reg_alpha': 2.12874996686627, 'reg_lambda': 3.6399663288179647}. Best is trial 5 with value: 1513.7200049780752.\n"
          ]
        },
        {
          "name": "stdout",
          "output_type": "stream",
          "text": [
            "Early stopping, best iteration is:\n",
            "[49]\tvalid_0's rmse: 38.9108\n"
          ]
        },
        {
          "name": "stderr",
          "output_type": "stream",
          "text": [
            "/opt/anaconda3/lib/python3.11/site-packages/sklearn/utils/deprecation.py:151: FutureWarning: 'force_all_finite' was renamed to 'ensure_all_finite' in 1.6 and will be removed in 1.8.\n",
            "  warnings.warn(\n"
          ]
        },
        {
          "name": "stdout",
          "output_type": "stream",
          "text": [
            "Training until validation scores don't improve for 10 rounds\n",
            "Early stopping, best iteration is:\n",
            "[29]\tvalid_0's rmse: 38.915\n"
          ]
        },
        {
          "name": "stderr",
          "output_type": "stream",
          "text": [
            "/opt/anaconda3/lib/python3.11/site-packages/sklearn/utils/deprecation.py:151: FutureWarning: 'force_all_finite' was renamed to 'ensure_all_finite' in 1.6 and will be removed in 1.8.\n",
            "  warnings.warn(\n",
            "[I 2025-02-11 16:07:13,125] Trial 20 finished with value: 1514.3752086597572 and parameters: {'learning_rate': 0.07117809124381552, 'num_leaves': 71, 'max_depth': 8, 'min_child_samples': 157, 'subsample': 0.6115379998221554, 'colsample_bytree': 0.7482863087894697, 'reg_alpha': 6.231889354168658, 'reg_lambda': 2.7608390301237047}. Best is trial 5 with value: 1513.7200049780752.\n",
            "/opt/anaconda3/lib/python3.11/site-packages/sklearn/utils/deprecation.py:151: FutureWarning: 'force_all_finite' was renamed to 'ensure_all_finite' in 1.6 and will be removed in 1.8.\n",
            "  warnings.warn(\n"
          ]
        },
        {
          "name": "stdout",
          "output_type": "stream",
          "text": [
            "Training until validation scores don't improve for 10 rounds\n"
          ]
        },
        {
          "name": "stderr",
          "output_type": "stream",
          "text": [
            "/opt/anaconda3/lib/python3.11/site-packages/sklearn/utils/deprecation.py:151: FutureWarning: 'force_all_finite' was renamed to 'ensure_all_finite' in 1.6 and will be removed in 1.8.\n",
            "  warnings.warn(\n",
            "[I 2025-02-11 16:07:16,520] Trial 21 finished with value: 1514.1559305829128 and parameters: {'learning_rate': 0.06523856532903002, 'num_leaves': 52, 'max_depth': 5, 'min_child_samples': 200, 'subsample': 0.6985069321407268, 'colsample_bytree': 0.8050901272564122, 'reg_alpha': 3.5389532396320122, 'reg_lambda': 1.4958558856868325}. Best is trial 5 with value: 1513.7200049780752.\n"
          ]
        },
        {
          "name": "stdout",
          "output_type": "stream",
          "text": [
            "Early stopping, best iteration is:\n",
            "[77]\tvalid_0's rmse: 38.9122\n"
          ]
        },
        {
          "name": "stderr",
          "output_type": "stream",
          "text": [
            "/opt/anaconda3/lib/python3.11/site-packages/sklearn/utils/deprecation.py:151: FutureWarning: 'force_all_finite' was renamed to 'ensure_all_finite' in 1.6 and will be removed in 1.8.\n",
            "  warnings.warn(\n"
          ]
        },
        {
          "name": "stdout",
          "output_type": "stream",
          "text": [
            "Training until validation scores don't improve for 10 rounds\n"
          ]
        },
        {
          "name": "stderr",
          "output_type": "stream",
          "text": [
            "/opt/anaconda3/lib/python3.11/site-packages/sklearn/utils/deprecation.py:151: FutureWarning: 'force_all_finite' was renamed to 'ensure_all_finite' in 1.6 and will be removed in 1.8.\n",
            "  warnings.warn(\n",
            "[I 2025-02-11 16:07:18,210] Trial 22 finished with value: 1513.9749609764149 and parameters: {'learning_rate': 0.07288156915946212, 'num_leaves': 40, 'max_depth': 4, 'min_child_samples': 184, 'subsample': 0.675173537169364, 'colsample_bytree': 0.7136808429148379, 'reg_alpha': 3.8965065069894624, 'reg_lambda': 2.337155935488784}. Best is trial 5 with value: 1513.7200049780752.\n"
          ]
        },
        {
          "name": "stdout",
          "output_type": "stream",
          "text": [
            "Early stopping, best iteration is:\n",
            "[87]\tvalid_0's rmse: 38.9098\n"
          ]
        },
        {
          "name": "stderr",
          "output_type": "stream",
          "text": [
            "/opt/anaconda3/lib/python3.11/site-packages/sklearn/utils/deprecation.py:151: FutureWarning: 'force_all_finite' was renamed to 'ensure_all_finite' in 1.6 and will be removed in 1.8.\n",
            "  warnings.warn(\n"
          ]
        },
        {
          "name": "stdout",
          "output_type": "stream",
          "text": [
            "Training until validation scores don't improve for 10 rounds\n"
          ]
        },
        {
          "name": "stderr",
          "output_type": "stream",
          "text": [
            "/opt/anaconda3/lib/python3.11/site-packages/sklearn/utils/deprecation.py:151: FutureWarning: 'force_all_finite' was renamed to 'ensure_all_finite' in 1.6 and will be removed in 1.8.\n",
            "  warnings.warn(\n",
            "[I 2025-02-11 16:07:20,240] Trial 23 finished with value: 1514.2291576378786 and parameters: {'learning_rate': 0.05458023848195637, 'num_leaves': 56, 'max_depth': 5, 'min_child_samples': 182, 'subsample': 0.742585877846456, 'colsample_bytree': 0.7689115984735766, 'reg_alpha': 2.3619518512290503, 'reg_lambda': 0.01023485021828141}. Best is trial 5 with value: 1513.7200049780752.\n"
          ]
        },
        {
          "name": "stdout",
          "output_type": "stream",
          "text": [
            "Early stopping, best iteration is:\n",
            "[69]\tvalid_0's rmse: 38.9131\n"
          ]
        },
        {
          "name": "stderr",
          "output_type": "stream",
          "text": [
            "/opt/anaconda3/lib/python3.11/site-packages/sklearn/utils/deprecation.py:151: FutureWarning: 'force_all_finite' was renamed to 'ensure_all_finite' in 1.6 and will be removed in 1.8.\n",
            "  warnings.warn(\n"
          ]
        },
        {
          "name": "stdout",
          "output_type": "stream",
          "text": [
            "Training until validation scores don't improve for 10 rounds\n"
          ]
        },
        {
          "name": "stderr",
          "output_type": "stream",
          "text": [
            "/opt/anaconda3/lib/python3.11/site-packages/sklearn/utils/deprecation.py:151: FutureWarning: 'force_all_finite' was renamed to 'ensure_all_finite' in 1.6 and will be removed in 1.8.\n",
            "  warnings.warn(\n",
            "[I 2025-02-11 16:07:21,681] Trial 24 finished with value: 1514.2894714580355 and parameters: {'learning_rate': 0.08393091210001612, 'num_leaves': 41, 'max_depth': 6, 'min_child_samples': 200, 'subsample': 0.7183524831731225, 'colsample_bytree': 0.81903029862746, 'reg_alpha': 4.512569545377751, 'reg_lambda': 1.8696210769683197}. Best is trial 5 with value: 1513.7200049780752.\n"
          ]
        },
        {
          "name": "stdout",
          "output_type": "stream",
          "text": [
            "Early stopping, best iteration is:\n",
            "[44]\tvalid_0's rmse: 38.9139\n"
          ]
        },
        {
          "name": "stderr",
          "output_type": "stream",
          "text": [
            "/opt/anaconda3/lib/python3.11/site-packages/sklearn/utils/deprecation.py:151: FutureWarning: 'force_all_finite' was renamed to 'ensure_all_finite' in 1.6 and will be removed in 1.8.\n",
            "  warnings.warn(\n"
          ]
        },
        {
          "name": "stdout",
          "output_type": "stream",
          "text": [
            "Training until validation scores don't improve for 10 rounds\n"
          ]
        },
        {
          "name": "stderr",
          "output_type": "stream",
          "text": [
            "/opt/anaconda3/lib/python3.11/site-packages/sklearn/utils/deprecation.py:151: FutureWarning: 'force_all_finite' was renamed to 'ensure_all_finite' in 1.6 and will be removed in 1.8.\n",
            "  warnings.warn(\n",
            "[I 2025-02-11 16:07:23,463] Trial 25 finished with value: 1513.9464932708522 and parameters: {'learning_rate': 0.09350446007316872, 'num_leaves': 30, 'max_depth': 4, 'min_child_samples': 160, 'subsample': 0.8100520567672524, 'colsample_bytree': 0.6840958371099056, 'reg_alpha': 2.7902722988298154, 'reg_lambda': 0.9200643514730487}. Best is trial 5 with value: 1513.7200049780752.\n"
          ]
        },
        {
          "name": "stdout",
          "output_type": "stream",
          "text": [
            "Early stopping, best iteration is:\n",
            "[75]\tvalid_0's rmse: 38.9095\n"
          ]
        },
        {
          "name": "stderr",
          "output_type": "stream",
          "text": [
            "/opt/anaconda3/lib/python3.11/site-packages/sklearn/utils/deprecation.py:151: FutureWarning: 'force_all_finite' was renamed to 'ensure_all_finite' in 1.6 and will be removed in 1.8.\n",
            "  warnings.warn(\n"
          ]
        },
        {
          "name": "stdout",
          "output_type": "stream",
          "text": [
            "Training until validation scores don't improve for 10 rounds\n"
          ]
        },
        {
          "name": "stderr",
          "output_type": "stream",
          "text": [
            "/opt/anaconda3/lib/python3.11/site-packages/sklearn/utils/deprecation.py:151: FutureWarning: 'force_all_finite' was renamed to 'ensure_all_finite' in 1.6 and will be removed in 1.8.\n",
            "  warnings.warn(\n",
            "[I 2025-02-11 16:07:25,601] Trial 26 finished with value: 1514.1013944255787 and parameters: {'learning_rate': 0.03386612389573991, 'num_leaves': 84, 'max_depth': 7, 'min_child_samples': 182, 'subsample': 0.6634610610898822, 'colsample_bytree': 0.8731423850657485, 'reg_alpha': 1.4011133908049707, 'reg_lambda': 3.3114315368820373}. Best is trial 5 with value: 1513.7200049780752.\n"
          ]
        },
        {
          "name": "stdout",
          "output_type": "stream",
          "text": [
            "Early stopping, best iteration is:\n",
            "[70]\tvalid_0's rmse: 38.9115\n"
          ]
        },
        {
          "name": "stderr",
          "output_type": "stream",
          "text": [
            "/opt/anaconda3/lib/python3.11/site-packages/sklearn/utils/deprecation.py:151: FutureWarning: 'force_all_finite' was renamed to 'ensure_all_finite' in 1.6 and will be removed in 1.8.\n",
            "  warnings.warn(\n"
          ]
        },
        {
          "name": "stdout",
          "output_type": "stream",
          "text": [
            "Training until validation scores don't improve for 10 rounds\n"
          ]
        },
        {
          "name": "stderr",
          "output_type": "stream",
          "text": [
            "/opt/anaconda3/lib/python3.11/site-packages/sklearn/utils/deprecation.py:151: FutureWarning: 'force_all_finite' was renamed to 'ensure_all_finite' in 1.6 and will be removed in 1.8.\n",
            "  warnings.warn(\n",
            "[I 2025-02-11 16:07:27,053] Trial 27 finished with value: 1514.1170931456982 and parameters: {'learning_rate': 0.06428538893730215, 'num_leaves': 46, 'max_depth': 5, 'min_child_samples': 131, 'subsample': 0.6126367106530611, 'colsample_bytree': 0.7263450475499773, 'reg_alpha': 6.157186320118185, 'reg_lambda': 4.383746274809213}. Best is trial 5 with value: 1513.7200049780752.\n"
          ]
        },
        {
          "name": "stdout",
          "output_type": "stream",
          "text": [
            "Early stopping, best iteration is:\n",
            "[65]\tvalid_0's rmse: 38.9117\n"
          ]
        },
        {
          "name": "stderr",
          "output_type": "stream",
          "text": [
            "/opt/anaconda3/lib/python3.11/site-packages/sklearn/utils/deprecation.py:151: FutureWarning: 'force_all_finite' was renamed to 'ensure_all_finite' in 1.6 and will be removed in 1.8.\n",
            "  warnings.warn(\n"
          ]
        },
        {
          "name": "stdout",
          "output_type": "stream",
          "text": [
            "Training until validation scores don't improve for 10 rounds\n"
          ]
        },
        {
          "name": "stderr",
          "output_type": "stream",
          "text": [
            "/opt/anaconda3/lib/python3.11/site-packages/sklearn/utils/deprecation.py:151: FutureWarning: 'force_all_finite' was renamed to 'ensure_all_finite' in 1.6 and will be removed in 1.8.\n",
            "  warnings.warn(\n",
            "[I 2025-02-11 16:07:28,845] Trial 28 finished with value: 1513.8655161278036 and parameters: {'learning_rate': 0.05350416994649588, 'num_leaves': 20, 'max_depth': 4, 'min_child_samples': 155, 'subsample': 0.5344844146986468, 'colsample_bytree': 0.764847812882362, 'reg_alpha': 4.296745769404387, 'reg_lambda': 2.0589300878064103}. Best is trial 5 with value: 1513.7200049780752.\n"
          ]
        },
        {
          "name": "stdout",
          "output_type": "stream",
          "text": [
            "Did not meet early stopping. Best iteration is:\n",
            "[100]\tvalid_0's rmse: 38.9084\n"
          ]
        },
        {
          "name": "stderr",
          "output_type": "stream",
          "text": [
            "/opt/anaconda3/lib/python3.11/site-packages/sklearn/utils/deprecation.py:151: FutureWarning: 'force_all_finite' was renamed to 'ensure_all_finite' in 1.6 and will be removed in 1.8.\n",
            "  warnings.warn(\n"
          ]
        },
        {
          "name": "stdout",
          "output_type": "stream",
          "text": [
            "Training until validation scores don't improve for 10 rounds\n"
          ]
        },
        {
          "name": "stderr",
          "output_type": "stream",
          "text": [
            "/opt/anaconda3/lib/python3.11/site-packages/sklearn/utils/deprecation.py:151: FutureWarning: 'force_all_finite' was renamed to 'ensure_all_finite' in 1.6 and will be removed in 1.8.\n",
            "  warnings.warn(\n",
            "[I 2025-02-11 16:07:30,812] Trial 29 finished with value: 1514.2346282807973 and parameters: {'learning_rate': 0.05249864428003231, 'num_leaves': 70, 'max_depth': 3, 'min_child_samples': 97, 'subsample': 0.5355443630072033, 'colsample_bytree': 0.5802194865683233, 'reg_alpha': 8.198340894307698, 'reg_lambda': 3.1656085370033686}. Best is trial 5 with value: 1513.7200049780752.\n"
          ]
        },
        {
          "name": "stdout",
          "output_type": "stream",
          "text": [
            "Did not meet early stopping. Best iteration is:\n",
            "[98]\tvalid_0's rmse: 38.9132\n"
          ]
        },
        {
          "name": "stderr",
          "output_type": "stream",
          "text": [
            "/opt/anaconda3/lib/python3.11/site-packages/sklearn/utils/deprecation.py:151: FutureWarning: 'force_all_finite' was renamed to 'ensure_all_finite' in 1.6 and will be removed in 1.8.\n",
            "  warnings.warn(\n"
          ]
        },
        {
          "name": "stdout",
          "output_type": "stream",
          "text": [
            "Training until validation scores don't improve for 10 rounds\n"
          ]
        },
        {
          "name": "stderr",
          "output_type": "stream",
          "text": [
            "/opt/anaconda3/lib/python3.11/site-packages/sklearn/utils/deprecation.py:151: FutureWarning: 'force_all_finite' was renamed to 'ensure_all_finite' in 1.6 and will be removed in 1.8.\n",
            "  warnings.warn(\n",
            "[I 2025-02-11 16:07:32,992] Trial 30 finished with value: 1514.1072502412565 and parameters: {'learning_rate': 0.03732887168164496, 'num_leaves': 22, 'max_depth': 4, 'min_child_samples': 158, 'subsample': 0.5256223889093542, 'colsample_bytree': 0.6559944837321677, 'reg_alpha': 4.175601601209979, 'reg_lambda': 3.6255533165963105}. Best is trial 5 with value: 1513.7200049780752.\n"
          ]
        },
        {
          "name": "stdout",
          "output_type": "stream",
          "text": [
            "Did not meet early stopping. Best iteration is:\n",
            "[100]\tvalid_0's rmse: 38.9115\n"
          ]
        },
        {
          "name": "stderr",
          "output_type": "stream",
          "text": [
            "/opt/anaconda3/lib/python3.11/site-packages/sklearn/utils/deprecation.py:151: FutureWarning: 'force_all_finite' was renamed to 'ensure_all_finite' in 1.6 and will be removed in 1.8.\n",
            "  warnings.warn(\n"
          ]
        },
        {
          "name": "stdout",
          "output_type": "stream",
          "text": [
            "Training until validation scores don't improve for 10 rounds\n"
          ]
        },
        {
          "name": "stderr",
          "output_type": "stream",
          "text": [
            "/opt/anaconda3/lib/python3.11/site-packages/sklearn/utils/deprecation.py:151: FutureWarning: 'force_all_finite' was renamed to 'ensure_all_finite' in 1.6 and will be removed in 1.8.\n",
            "  warnings.warn(\n",
            "[I 2025-02-11 16:07:34,794] Trial 31 finished with value: 1514.2336254679 and parameters: {'learning_rate': 0.043429911129536536, 'num_leaves': 34, 'max_depth': 3, 'min_child_samples': 176, 'subsample': 0.6008155529283754, 'colsample_bytree': 0.7677626764286013, 'reg_alpha': 5.459270558560901, 'reg_lambda': 2.126108407403352}. Best is trial 5 with value: 1513.7200049780752.\n"
          ]
        },
        {
          "name": "stdout",
          "output_type": "stream",
          "text": [
            "Did not meet early stopping. Best iteration is:\n",
            "[100]\tvalid_0's rmse: 38.9132\n"
          ]
        },
        {
          "name": "stderr",
          "output_type": "stream",
          "text": [
            "/opt/anaconda3/lib/python3.11/site-packages/sklearn/utils/deprecation.py:151: FutureWarning: 'force_all_finite' was renamed to 'ensure_all_finite' in 1.6 and will be removed in 1.8.\n",
            "  warnings.warn(\n"
          ]
        },
        {
          "name": "stdout",
          "output_type": "stream",
          "text": [
            "Training until validation scores don't improve for 10 rounds\n"
          ]
        },
        {
          "name": "stderr",
          "output_type": "stream",
          "text": [
            "/opt/anaconda3/lib/python3.11/site-packages/sklearn/utils/deprecation.py:151: FutureWarning: 'force_all_finite' was renamed to 'ensure_all_finite' in 1.6 and will be removed in 1.8.\n",
            "  warnings.warn(\n",
            "[I 2025-02-11 16:07:36,783] Trial 32 finished with value: 1514.2864251617211 and parameters: {'learning_rate': 0.05663155231025058, 'num_leaves': 56, 'max_depth': 6, 'min_child_samples': 149, 'subsample': 0.5834425153701834, 'colsample_bytree': 0.8012084038560707, 'reg_alpha': 2.9941029697377295, 'reg_lambda': 1.05590978683199}. Best is trial 5 with value: 1513.7200049780752.\n"
          ]
        },
        {
          "name": "stdout",
          "output_type": "stream",
          "text": [
            "Early stopping, best iteration is:\n",
            "[47]\tvalid_0's rmse: 38.9138\n"
          ]
        },
        {
          "name": "stderr",
          "output_type": "stream",
          "text": [
            "/opt/anaconda3/lib/python3.11/site-packages/sklearn/utils/deprecation.py:151: FutureWarning: 'force_all_finite' was renamed to 'ensure_all_finite' in 1.6 and will be removed in 1.8.\n",
            "  warnings.warn(\n"
          ]
        },
        {
          "name": "stdout",
          "output_type": "stream",
          "text": [
            "Training until validation scores don't improve for 10 rounds\n"
          ]
        },
        {
          "name": "stderr",
          "output_type": "stream",
          "text": [
            "/opt/anaconda3/lib/python3.11/site-packages/sklearn/utils/deprecation.py:151: FutureWarning: 'force_all_finite' was renamed to 'ensure_all_finite' in 1.6 and will be removed in 1.8.\n",
            "  warnings.warn(\n",
            "[I 2025-02-11 16:07:38,711] Trial 33 finished with value: 1514.0370969389103 and parameters: {'learning_rate': 0.04801057957759909, 'num_leaves': 25, 'max_depth': 4, 'min_child_samples': 191, 'subsample': 0.54229705368353, 'colsample_bytree': 0.7539792229598202, 'reg_alpha': 4.440790165141625, 'reg_lambda': 2.046417790009098}. Best is trial 5 with value: 1513.7200049780752.\n"
          ]
        },
        {
          "name": "stdout",
          "output_type": "stream",
          "text": [
            "Did not meet early stopping. Best iteration is:\n",
            "[99]\tvalid_0's rmse: 38.9106\n"
          ]
        },
        {
          "name": "stderr",
          "output_type": "stream",
          "text": [
            "/opt/anaconda3/lib/python3.11/site-packages/sklearn/utils/deprecation.py:151: FutureWarning: 'force_all_finite' was renamed to 'ensure_all_finite' in 1.6 and will be removed in 1.8.\n",
            "  warnings.warn(\n"
          ]
        },
        {
          "name": "stdout",
          "output_type": "stream",
          "text": [
            "Training until validation scores don't improve for 10 rounds\n"
          ]
        },
        {
          "name": "stderr",
          "output_type": "stream",
          "text": [
            "/opt/anaconda3/lib/python3.11/site-packages/sklearn/utils/deprecation.py:151: FutureWarning: 'force_all_finite' was renamed to 'ensure_all_finite' in 1.6 and will be removed in 1.8.\n",
            "  warnings.warn(\n",
            "[I 2025-02-11 16:07:40,690] Trial 34 finished with value: 1514.0796960568007 and parameters: {'learning_rate': 0.06544754641414015, 'num_leaves': 36, 'max_depth': 5, 'min_child_samples': 137, 'subsample': 0.5521649803536909, 'colsample_bytree': 0.8470158647327151, 'reg_alpha': 1.4883321449378468, 'reg_lambda': 0.9148102277803116}. Best is trial 5 with value: 1513.7200049780752.\n"
          ]
        },
        {
          "name": "stdout",
          "output_type": "stream",
          "text": [
            "Early stopping, best iteration is:\n",
            "[60]\tvalid_0's rmse: 38.9112\n"
          ]
        },
        {
          "name": "stderr",
          "output_type": "stream",
          "text": [
            "/opt/anaconda3/lib/python3.11/site-packages/sklearn/utils/deprecation.py:151: FutureWarning: 'force_all_finite' was renamed to 'ensure_all_finite' in 1.6 and will be removed in 1.8.\n",
            "  warnings.warn(\n"
          ]
        },
        {
          "name": "stdout",
          "output_type": "stream",
          "text": [
            "Training until validation scores don't improve for 10 rounds\n"
          ]
        },
        {
          "name": "stderr",
          "output_type": "stream",
          "text": [
            "/opt/anaconda3/lib/python3.11/site-packages/sklearn/utils/deprecation.py:151: FutureWarning: 'force_all_finite' was renamed to 'ensure_all_finite' in 1.6 and will be removed in 1.8.\n",
            "  warnings.warn(\n",
            "[I 2025-02-11 16:07:42,807] Trial 35 finished with value: 1514.1980968387888 and parameters: {'learning_rate': 0.04178162159913109, 'num_leaves': 84, 'max_depth': 7, 'min_child_samples': 159, 'subsample': 0.5738710565441766, 'colsample_bytree': 0.8213710741038461, 'reg_alpha': 3.221497283971058, 'reg_lambda': 2.863639661217884}. Best is trial 5 with value: 1513.7200049780752.\n"
          ]
        },
        {
          "name": "stdout",
          "output_type": "stream",
          "text": [
            "Early stopping, best iteration is:\n",
            "[43]\tvalid_0's rmse: 38.9127\n"
          ]
        },
        {
          "name": "stderr",
          "output_type": "stream",
          "text": [
            "/opt/anaconda3/lib/python3.11/site-packages/sklearn/utils/deprecation.py:151: FutureWarning: 'force_all_finite' was renamed to 'ensure_all_finite' in 1.6 and will be removed in 1.8.\n",
            "  warnings.warn(\n"
          ]
        },
        {
          "name": "stdout",
          "output_type": "stream",
          "text": [
            "Training until validation scores don't improve for 10 rounds\n"
          ]
        },
        {
          "name": "stderr",
          "output_type": "stream",
          "text": [
            "/opt/anaconda3/lib/python3.11/site-packages/sklearn/utils/deprecation.py:151: FutureWarning: 'force_all_finite' was renamed to 'ensure_all_finite' in 1.6 and will be removed in 1.8.\n",
            "  warnings.warn(\n",
            "[I 2025-02-11 16:07:44,452] Trial 36 finished with value: 1514.2286157680583 and parameters: {'learning_rate': 0.05111758803734478, 'num_leaves': 27, 'max_depth': 3, 'min_child_samples': 167, 'subsample': 0.7136102195912459, 'colsample_bytree': 0.8760167770115708, 'reg_alpha': 5.573547446568296, 'reg_lambda': 4.669713616391281}. Best is trial 5 with value: 1513.7200049780752.\n"
          ]
        },
        {
          "name": "stdout",
          "output_type": "stream",
          "text": [
            "Did not meet early stopping. Best iteration is:\n",
            "[92]\tvalid_0's rmse: 38.9131\n"
          ]
        },
        {
          "name": "stderr",
          "output_type": "stream",
          "text": [
            "/opt/anaconda3/lib/python3.11/site-packages/sklearn/utils/deprecation.py:151: FutureWarning: 'force_all_finite' was renamed to 'ensure_all_finite' in 1.6 and will be removed in 1.8.\n",
            "  warnings.warn(\n"
          ]
        },
        {
          "name": "stdout",
          "output_type": "stream",
          "text": [
            "Training until validation scores don't improve for 10 rounds\n"
          ]
        },
        {
          "name": "stderr",
          "output_type": "stream",
          "text": [
            "/opt/anaconda3/lib/python3.11/site-packages/sklearn/utils/deprecation.py:151: FutureWarning: 'force_all_finite' was renamed to 'ensure_all_finite' in 1.6 and will be removed in 1.8.\n",
            "  warnings.warn(\n",
            "[I 2025-02-11 16:07:45,692] Trial 37 finished with value: 1514.1853912244371 and parameters: {'learning_rate': 0.09394436852353497, 'num_leaves': 58, 'max_depth': 5, 'min_child_samples': 193, 'subsample': 0.8206423698500896, 'colsample_bytree': 0.7948014768458238, 'reg_alpha': 6.72318692404478, 'reg_lambda': 3.7991245385779306}. Best is trial 5 with value: 1513.7200049780752.\n"
          ]
        },
        {
          "name": "stdout",
          "output_type": "stream",
          "text": [
            "Early stopping, best iteration is:\n",
            "[36]\tvalid_0's rmse: 38.9125\n"
          ]
        },
        {
          "name": "stderr",
          "output_type": "stream",
          "text": [
            "/opt/anaconda3/lib/python3.11/site-packages/sklearn/utils/deprecation.py:151: FutureWarning: 'force_all_finite' was renamed to 'ensure_all_finite' in 1.6 and will be removed in 1.8.\n",
            "  warnings.warn(\n"
          ]
        },
        {
          "name": "stdout",
          "output_type": "stream",
          "text": [
            "Training until validation scores don't improve for 10 rounds\n"
          ]
        },
        {
          "name": "stderr",
          "output_type": "stream",
          "text": [
            "/opt/anaconda3/lib/python3.11/site-packages/sklearn/utils/deprecation.py:151: FutureWarning: 'force_all_finite' was renamed to 'ensure_all_finite' in 1.6 and will be removed in 1.8.\n",
            "  warnings.warn(\n",
            "[I 2025-02-11 16:07:47,283] Trial 38 finished with value: 1514.2553337628574 and parameters: {'learning_rate': 0.07400045459239221, 'num_leaves': 45, 'max_depth': 9, 'min_child_samples': 147, 'subsample': 0.627771839522434, 'colsample_bytree': 0.7014480229257859, 'reg_alpha': 2.536193892112969, 'reg_lambda': 5.960461334368179}. Best is trial 5 with value: 1513.7200049780752.\n"
          ]
        },
        {
          "name": "stdout",
          "output_type": "stream",
          "text": [
            "Early stopping, best iteration is:\n",
            "[47]\tvalid_0's rmse: 38.9134\n"
          ]
        },
        {
          "name": "stderr",
          "output_type": "stream",
          "text": [
            "/opt/anaconda3/lib/python3.11/site-packages/sklearn/utils/deprecation.py:151: FutureWarning: 'force_all_finite' was renamed to 'ensure_all_finite' in 1.6 and will be removed in 1.8.\n",
            "  warnings.warn(\n"
          ]
        },
        {
          "name": "stdout",
          "output_type": "stream",
          "text": [
            "Training until validation scores don't improve for 10 rounds\n"
          ]
        },
        {
          "name": "stderr",
          "output_type": "stream",
          "text": [
            "/opt/anaconda3/lib/python3.11/site-packages/sklearn/utils/deprecation.py:151: FutureWarning: 'force_all_finite' was renamed to 'ensure_all_finite' in 1.6 and will be removed in 1.8.\n",
            "  warnings.warn(\n",
            "[I 2025-02-11 16:07:48,959] Trial 39 finished with value: 1514.0966197362945 and parameters: {'learning_rate': 0.060988775773861525, 'num_leaves': 67, 'max_depth': 3, 'min_child_samples': 178, 'subsample': 0.6578285996531986, 'colsample_bytree': 0.7274638022030413, 'reg_alpha': 0.6303071442527086, 'reg_lambda': 8.557919529708563}. Best is trial 5 with value: 1513.7200049780752.\n"
          ]
        },
        {
          "name": "stdout",
          "output_type": "stream",
          "text": [
            "Early stopping, best iteration is:\n",
            "[90]\tvalid_0's rmse: 38.9114\n"
          ]
        },
        {
          "name": "stderr",
          "output_type": "stream",
          "text": [
            "/opt/anaconda3/lib/python3.11/site-packages/sklearn/utils/deprecation.py:151: FutureWarning: 'force_all_finite' was renamed to 'ensure_all_finite' in 1.6 and will be removed in 1.8.\n",
            "  warnings.warn(\n"
          ]
        },
        {
          "name": "stdout",
          "output_type": "stream",
          "text": [
            "Training until validation scores don't improve for 10 rounds\n"
          ]
        },
        {
          "name": "stderr",
          "output_type": "stream",
          "text": [
            "/opt/anaconda3/lib/python3.11/site-packages/sklearn/utils/deprecation.py:151: FutureWarning: 'force_all_finite' was renamed to 'ensure_all_finite' in 1.6 and will be removed in 1.8.\n",
            "  warnings.warn(\n",
            "[I 2025-02-11 16:07:50,651] Trial 40 finished with value: 1513.975895610022 and parameters: {'learning_rate': 0.08295628823160041, 'num_leaves': 100, 'max_depth': 4, 'min_child_samples': 61, 'subsample': 0.5204276779397167, 'colsample_bytree': 0.6746513951777244, 'reg_alpha': 3.384086427169724, 'reg_lambda': 1.8125582997542085}. Best is trial 5 with value: 1513.7200049780752.\n"
          ]
        },
        {
          "name": "stdout",
          "output_type": "stream",
          "text": [
            "Early stopping, best iteration is:\n",
            "[75]\tvalid_0's rmse: 38.9098\n"
          ]
        },
        {
          "name": "stderr",
          "output_type": "stream",
          "text": [
            "/opt/anaconda3/lib/python3.11/site-packages/sklearn/utils/deprecation.py:151: FutureWarning: 'force_all_finite' was renamed to 'ensure_all_finite' in 1.6 and will be removed in 1.8.\n",
            "  warnings.warn(\n"
          ]
        },
        {
          "name": "stdout",
          "output_type": "stream",
          "text": [
            "Training until validation scores don't improve for 10 rounds\n"
          ]
        },
        {
          "name": "stderr",
          "output_type": "stream",
          "text": [
            "/opt/anaconda3/lib/python3.11/site-packages/sklearn/utils/deprecation.py:151: FutureWarning: 'force_all_finite' was renamed to 'ensure_all_finite' in 1.6 and will be removed in 1.8.\n",
            "  warnings.warn(\n",
            "[I 2025-02-11 16:07:52,664] Trial 41 finished with value: 1513.9145435699086 and parameters: {'learning_rate': 0.09427644756658075, 'num_leaves': 20, 'max_depth': 4, 'min_child_samples': 160, 'subsample': 0.8128517938961629, 'colsample_bytree': 0.6248441461837781, 'reg_alpha': 2.7620057956135766, 'reg_lambda': 0.9184470781891563}. Best is trial 5 with value: 1513.7200049780752.\n"
          ]
        },
        {
          "name": "stdout",
          "output_type": "stream",
          "text": [
            "Early stopping, best iteration is:\n",
            "[71]\tvalid_0's rmse: 38.9091\n"
          ]
        },
        {
          "name": "stderr",
          "output_type": "stream",
          "text": [
            "/opt/anaconda3/lib/python3.11/site-packages/sklearn/utils/deprecation.py:151: FutureWarning: 'force_all_finite' was renamed to 'ensure_all_finite' in 1.6 and will be removed in 1.8.\n",
            "  warnings.warn(\n"
          ]
        },
        {
          "name": "stdout",
          "output_type": "stream",
          "text": [
            "Training until validation scores don't improve for 10 rounds\n"
          ]
        },
        {
          "name": "stderr",
          "output_type": "stream",
          "text": [
            "/opt/anaconda3/lib/python3.11/site-packages/sklearn/utils/deprecation.py:151: FutureWarning: 'force_all_finite' was renamed to 'ensure_all_finite' in 1.6 and will be removed in 1.8.\n",
            "  warnings.warn(\n",
            "[I 2025-02-11 16:07:54,046] Trial 42 finished with value: 1514.0255240972979 and parameters: {'learning_rate': 0.09838777416508085, 'num_leaves': 27, 'max_depth': 4, 'min_child_samples': 151, 'subsample': 0.8376305730980619, 'colsample_bytree': 0.6163049087712272, 'reg_alpha': 4.133372843270334, 'reg_lambda': 0.5588906845720207}. Best is trial 5 with value: 1513.7200049780752.\n"
          ]
        },
        {
          "name": "stdout",
          "output_type": "stream",
          "text": [
            "Early stopping, best iteration is:\n",
            "[48]\tvalid_0's rmse: 38.9105\n"
          ]
        },
        {
          "name": "stderr",
          "output_type": "stream",
          "text": [
            "/opt/anaconda3/lib/python3.11/site-packages/sklearn/utils/deprecation.py:151: FutureWarning: 'force_all_finite' was renamed to 'ensure_all_finite' in 1.6 and will be removed in 1.8.\n",
            "  warnings.warn(\n"
          ]
        },
        {
          "name": "stdout",
          "output_type": "stream",
          "text": [
            "Training until validation scores don't improve for 10 rounds\n"
          ]
        },
        {
          "name": "stderr",
          "output_type": "stream",
          "text": [
            "/opt/anaconda3/lib/python3.11/site-packages/sklearn/utils/deprecation.py:151: FutureWarning: 'force_all_finite' was renamed to 'ensure_all_finite' in 1.6 and will be removed in 1.8.\n",
            "  warnings.warn(\n",
            "[I 2025-02-11 16:07:55,798] Trial 43 finished with value: 1513.9539050482188 and parameters: {'learning_rate': 0.09224261243128831, 'num_leaves': 21, 'max_depth': 6, 'min_child_samples': 189, 'subsample': 0.7564736428537004, 'colsample_bytree': 0.6327077166950225, 'reg_alpha': 1.9605448300352708, 'reg_lambda': 1.2616532866133348}. Best is trial 5 with value: 1513.7200049780752.\n"
          ]
        },
        {
          "name": "stdout",
          "output_type": "stream",
          "text": [
            "Early stopping, best iteration is:\n",
            "[71]\tvalid_0's rmse: 38.9096\n"
          ]
        },
        {
          "name": "stderr",
          "output_type": "stream",
          "text": [
            "/opt/anaconda3/lib/python3.11/site-packages/sklearn/utils/deprecation.py:151: FutureWarning: 'force_all_finite' was renamed to 'ensure_all_finite' in 1.6 and will be removed in 1.8.\n",
            "  warnings.warn(\n"
          ]
        },
        {
          "name": "stdout",
          "output_type": "stream",
          "text": [
            "Training until validation scores don't improve for 10 rounds\n"
          ]
        },
        {
          "name": "stderr",
          "output_type": "stream",
          "text": [
            "/opt/anaconda3/lib/python3.11/site-packages/sklearn/utils/deprecation.py:151: FutureWarning: 'force_all_finite' was renamed to 'ensure_all_finite' in 1.6 and will be removed in 1.8.\n",
            "  warnings.warn(\n",
            "[I 2025-02-11 16:07:57,702] Trial 44 finished with value: 1514.0887300197733 and parameters: {'learning_rate': 0.09040673655566071, 'num_leaves': 92, 'max_depth': 5, 'min_child_samples': 27, 'subsample': 0.5627164682007404, 'colsample_bytree': 0.6068435771442243, 'reg_alpha': 2.9070126206489726, 'reg_lambda': 2.3636714732768196}. Best is trial 5 with value: 1513.7200049780752.\n"
          ]
        },
        {
          "name": "stdout",
          "output_type": "stream",
          "text": [
            "Early stopping, best iteration is:\n",
            "[42]\tvalid_0's rmse: 38.9113\n"
          ]
        },
        {
          "name": "stderr",
          "output_type": "stream",
          "text": [
            "/opt/anaconda3/lib/python3.11/site-packages/sklearn/utils/deprecation.py:151: FutureWarning: 'force_all_finite' was renamed to 'ensure_all_finite' in 1.6 and will be removed in 1.8.\n",
            "  warnings.warn(\n"
          ]
        },
        {
          "name": "stdout",
          "output_type": "stream",
          "text": [
            "Training until validation scores don't improve for 10 rounds\n"
          ]
        },
        {
          "name": "stderr",
          "output_type": "stream",
          "text": [
            "/opt/anaconda3/lib/python3.11/site-packages/sklearn/utils/deprecation.py:151: FutureWarning: 'force_all_finite' was renamed to 'ensure_all_finite' in 1.6 and will be removed in 1.8.\n",
            "  warnings.warn(\n",
            "[I 2025-02-11 16:07:59,318] Trial 45 finished with value: 1514.0508179867172 and parameters: {'learning_rate': 0.09965696311481222, 'num_leaves': 34, 'max_depth': 4, 'min_child_samples': 167, 'subsample': 0.8994536529534674, 'colsample_bytree': 0.5759250882407232, 'reg_alpha': 4.729022636170229, 'reg_lambda': 1.682472297764152}. Best is trial 5 with value: 1513.7200049780752.\n"
          ]
        },
        {
          "name": "stdout",
          "output_type": "stream",
          "text": [
            "Early stopping, best iteration is:\n",
            "[40]\tvalid_0's rmse: 38.9108\n"
          ]
        },
        {
          "name": "stderr",
          "output_type": "stream",
          "text": [
            "/opt/anaconda3/lib/python3.11/site-packages/sklearn/utils/deprecation.py:151: FutureWarning: 'force_all_finite' was renamed to 'ensure_all_finite' in 1.6 and will be removed in 1.8.\n",
            "  warnings.warn(\n"
          ]
        },
        {
          "name": "stdout",
          "output_type": "stream",
          "text": [
            "Training until validation scores don't improve for 10 rounds\n"
          ]
        },
        {
          "name": "stderr",
          "output_type": "stream",
          "text": [
            "/opt/anaconda3/lib/python3.11/site-packages/sklearn/utils/deprecation.py:151: FutureWarning: 'force_all_finite' was renamed to 'ensure_all_finite' in 1.6 and will be removed in 1.8.\n",
            "  warnings.warn(\n",
            "[I 2025-02-11 16:08:00,754] Trial 46 finished with value: 1514.0232262648713 and parameters: {'learning_rate': 0.07715714777068895, 'num_leaves': 62, 'max_depth': 3, 'min_child_samples': 175, 'subsample': 0.800493469676454, 'colsample_bytree': 0.8318055739705384, 'reg_alpha': 3.758104398768646, 'reg_lambda': 3.0834315421641723}. Best is trial 5 with value: 1513.7200049780752.\n"
          ]
        },
        {
          "name": "stdout",
          "output_type": "stream",
          "text": [
            "Did not meet early stopping. Best iteration is:\n",
            "[98]\tvalid_0's rmse: 38.9105\n"
          ]
        },
        {
          "name": "stderr",
          "output_type": "stream",
          "text": [
            "/opt/anaconda3/lib/python3.11/site-packages/sklearn/utils/deprecation.py:151: FutureWarning: 'force_all_finite' was renamed to 'ensure_all_finite' in 1.6 and will be removed in 1.8.\n",
            "  warnings.warn(\n"
          ]
        },
        {
          "name": "stdout",
          "output_type": "stream",
          "text": [
            "Training until validation scores don't improve for 10 rounds\n"
          ]
        },
        {
          "name": "stderr",
          "output_type": "stream",
          "text": [
            "/opt/anaconda3/lib/python3.11/site-packages/sklearn/utils/deprecation.py:151: FutureWarning: 'force_all_finite' was renamed to 'ensure_all_finite' in 1.6 and will be removed in 1.8.\n",
            "  warnings.warn(\n",
            "[I 2025-02-11 16:08:02,241] Trial 47 finished with value: 1514.044154430869 and parameters: {'learning_rate': 0.08635547151799775, 'num_leaves': 80, 'max_depth': 5, 'min_child_samples': 134, 'subsample': 0.7834092635717271, 'colsample_bytree': 0.6569830394249155, 'reg_alpha': 1.7178300373938584, 'reg_lambda': 0.5891343608976087}. Best is trial 5 with value: 1513.7200049780752.\n"
          ]
        },
        {
          "name": "stdout",
          "output_type": "stream",
          "text": [
            "Early stopping, best iteration is:\n",
            "[51]\tvalid_0's rmse: 38.9107\n"
          ]
        },
        {
          "name": "stderr",
          "output_type": "stream",
          "text": [
            "/opt/anaconda3/lib/python3.11/site-packages/sklearn/utils/deprecation.py:151: FutureWarning: 'force_all_finite' was renamed to 'ensure_all_finite' in 1.6 and will be removed in 1.8.\n",
            "  warnings.warn(\n"
          ]
        },
        {
          "name": "stdout",
          "output_type": "stream",
          "text": [
            "Training until validation scores don't improve for 10 rounds\n",
            "Did not meet early stopping. Best iteration is:\n",
            "[100]\tvalid_0's rmse: 38.9142\n"
          ]
        },
        {
          "name": "stderr",
          "output_type": "stream",
          "text": [
            "/opt/anaconda3/lib/python3.11/site-packages/sklearn/utils/deprecation.py:151: FutureWarning: 'force_all_finite' was renamed to 'ensure_all_finite' in 1.6 and will be removed in 1.8.\n",
            "  warnings.warn(\n",
            "[I 2025-02-11 16:08:05,033] Trial 48 finished with value: 1514.3118544159884 and parameters: {'learning_rate': 0.02794047909925413, 'num_leaves': 48, 'max_depth': 10, 'min_child_samples': 110, 'subsample': 0.6837855385057698, 'colsample_bytree': 0.5478826588138324, 'reg_alpha': 5.139289791128864, 'reg_lambda': 2.477987187617445}. Best is trial 5 with value: 1513.7200049780752.\n",
            "/opt/anaconda3/lib/python3.11/site-packages/sklearn/utils/deprecation.py:151: FutureWarning: 'force_all_finite' was renamed to 'ensure_all_finite' in 1.6 and will be removed in 1.8.\n",
            "  warnings.warn(\n"
          ]
        },
        {
          "name": "stdout",
          "output_type": "stream",
          "text": [
            "Training until validation scores don't improve for 10 rounds\n"
          ]
        },
        {
          "name": "stderr",
          "output_type": "stream",
          "text": [
            "/opt/anaconda3/lib/python3.11/site-packages/sklearn/utils/deprecation.py:151: FutureWarning: 'force_all_finite' was renamed to 'ensure_all_finite' in 1.6 and will be removed in 1.8.\n",
            "  warnings.warn(\n",
            "[I 2025-02-11 16:08:06,286] Trial 49 finished with value: 1514.3510415840485 and parameters: {'learning_rate': 0.06711140334147805, 'num_leaves': 31, 'max_depth': 6, 'min_child_samples': 123, 'subsample': 0.7065411239071138, 'colsample_bytree': 0.7714724149194461, 'reg_alpha': 9.93809775409183, 'reg_lambda': 0.0592396991975942}. Best is trial 5 with value: 1513.7200049780752.\n"
          ]
        },
        {
          "name": "stdout",
          "output_type": "stream",
          "text": [
            "Early stopping, best iteration is:\n",
            "[34]\tvalid_0's rmse: 38.9147\n"
          ]
        },
        {
          "name": "stderr",
          "output_type": "stream",
          "text": [
            "/opt/anaconda3/lib/python3.11/site-packages/sklearn/utils/deprecation.py:151: FutureWarning: 'force_all_finite' was renamed to 'ensure_all_finite' in 1.6 and will be removed in 1.8.\n",
            "  warnings.warn(\n"
          ]
        },
        {
          "name": "stdout",
          "output_type": "stream",
          "text": [
            "Training until validation scores don't improve for 10 rounds\n"
          ]
        },
        {
          "name": "stderr",
          "output_type": "stream",
          "text": [
            "/opt/anaconda3/lib/python3.11/site-packages/sklearn/utils/deprecation.py:151: FutureWarning: 'force_all_finite' was renamed to 'ensure_all_finite' in 1.6 and will be removed in 1.8.\n",
            "  warnings.warn(\n",
            "[I 2025-02-11 16:08:07,603] Trial 50 finished with value: 1514.0941609655608 and parameters: {'learning_rate': 0.08083360759285663, 'num_leaves': 25, 'max_depth': 7, 'min_child_samples': 141, 'subsample': 0.5977396571171492, 'colsample_bytree': 0.8993998189420546, 'reg_alpha': 8.726803477939638, 'reg_lambda': 0.7037410067563692}. Best is trial 5 with value: 1513.7200049780752.\n"
          ]
        },
        {
          "name": "stdout",
          "output_type": "stream",
          "text": [
            "Early stopping, best iteration is:\n",
            "[52]\tvalid_0's rmse: 38.9114\n"
          ]
        },
        {
          "name": "stderr",
          "output_type": "stream",
          "text": [
            "/opt/anaconda3/lib/python3.11/site-packages/sklearn/utils/deprecation.py:151: FutureWarning: 'force_all_finite' was renamed to 'ensure_all_finite' in 1.6 and will be removed in 1.8.\n",
            "  warnings.warn(\n"
          ]
        },
        {
          "name": "stdout",
          "output_type": "stream",
          "text": [
            "Training until validation scores don't improve for 10 rounds\n"
          ]
        },
        {
          "name": "stderr",
          "output_type": "stream",
          "text": [
            "/opt/anaconda3/lib/python3.11/site-packages/sklearn/utils/deprecation.py:151: FutureWarning: 'force_all_finite' was renamed to 'ensure_all_finite' in 1.6 and will be removed in 1.8.\n",
            "  warnings.warn(\n",
            "[I 2025-02-11 16:08:09,189] Trial 51 finished with value: 1513.842689573582 and parameters: {'learning_rate': 0.09586619342293616, 'num_leaves': 20, 'max_depth': 4, 'min_child_samples': 164, 'subsample': 0.8449477078320734, 'colsample_bytree': 0.6786661609548086, 'reg_alpha': 2.316432898826984, 'reg_lambda': 1.1157003304387785}. Best is trial 5 with value: 1513.7200049780752.\n"
          ]
        },
        {
          "name": "stdout",
          "output_type": "stream",
          "text": [
            "Early stopping, best iteration is:\n",
            "[64]\tvalid_0's rmse: 38.9081\n"
          ]
        },
        {
          "name": "stderr",
          "output_type": "stream",
          "text": [
            "/opt/anaconda3/lib/python3.11/site-packages/sklearn/utils/deprecation.py:151: FutureWarning: 'force_all_finite' was renamed to 'ensure_all_finite' in 1.6 and will be removed in 1.8.\n",
            "  warnings.warn(\n"
          ]
        },
        {
          "name": "stdout",
          "output_type": "stream",
          "text": [
            "Training until validation scores don't improve for 10 rounds\n"
          ]
        },
        {
          "name": "stderr",
          "output_type": "stream",
          "text": [
            "/opt/anaconda3/lib/python3.11/site-packages/sklearn/utils/deprecation.py:151: FutureWarning: 'force_all_finite' was renamed to 'ensure_all_finite' in 1.6 and will be removed in 1.8.\n",
            "  warnings.warn(\n",
            "[I 2025-02-11 16:08:10,547] Trial 52 finished with value: 1514.0132708322221 and parameters: {'learning_rate': 0.0957866160035863, 'num_leaves': 21, 'max_depth': 4, 'min_child_samples': 164, 'subsample': 0.8499794014490221, 'colsample_bytree': 0.6860645221811552, 'reg_alpha': 2.3784951588954186, 'reg_lambda': 1.2773130273202116}. Best is trial 5 with value: 1513.7200049780752.\n"
          ]
        },
        {
          "name": "stdout",
          "output_type": "stream",
          "text": [
            "Early stopping, best iteration is:\n",
            "[58]\tvalid_0's rmse: 38.9103\n"
          ]
        },
        {
          "name": "stderr",
          "output_type": "stream",
          "text": [
            "/opt/anaconda3/lib/python3.11/site-packages/sklearn/utils/deprecation.py:151: FutureWarning: 'force_all_finite' was renamed to 'ensure_all_finite' in 1.6 and will be removed in 1.8.\n",
            "  warnings.warn(\n"
          ]
        },
        {
          "name": "stdout",
          "output_type": "stream",
          "text": [
            "Training until validation scores don't improve for 10 rounds\n"
          ]
        },
        {
          "name": "stderr",
          "output_type": "stream",
          "text": [
            "/opt/anaconda3/lib/python3.11/site-packages/sklearn/utils/deprecation.py:151: FutureWarning: 'force_all_finite' was renamed to 'ensure_all_finite' in 1.6 and will be removed in 1.8.\n",
            "  warnings.warn(\n",
            "[I 2025-02-11 16:08:11,976] Trial 53 finished with value: 1514.234404030913 and parameters: {'learning_rate': 0.09013071768900119, 'num_leaves': 20, 'max_depth': 5, 'min_child_samples': 153, 'subsample': 0.8798572495964279, 'colsample_bytree': 0.7459565447626487, 'reg_alpha': 3.4040529816049654, 'reg_lambda': 1.6113723597428697}. Best is trial 5 with value: 1513.7200049780752.\n"
          ]
        },
        {
          "name": "stdout",
          "output_type": "stream",
          "text": [
            "Early stopping, best iteration is:\n",
            "[39]\tvalid_0's rmse: 38.9132\n"
          ]
        },
        {
          "name": "stderr",
          "output_type": "stream",
          "text": [
            "/opt/anaconda3/lib/python3.11/site-packages/sklearn/utils/deprecation.py:151: FutureWarning: 'force_all_finite' was renamed to 'ensure_all_finite' in 1.6 and will be removed in 1.8.\n",
            "  warnings.warn(\n"
          ]
        },
        {
          "name": "stdout",
          "output_type": "stream",
          "text": [
            "Training until validation scores don't improve for 10 rounds\n"
          ]
        },
        {
          "name": "stderr",
          "output_type": "stream",
          "text": [
            "/opt/anaconda3/lib/python3.11/site-packages/sklearn/utils/deprecation.py:151: FutureWarning: 'force_all_finite' was renamed to 'ensure_all_finite' in 1.6 and will be removed in 1.8.\n",
            "  warnings.warn(\n",
            "[I 2025-02-11 16:08:13,676] Trial 54 finished with value: 1514.0404131015841 and parameters: {'learning_rate': 0.09635081692029643, 'num_leaves': 26, 'max_depth': 4, 'min_child_samples': 175, 'subsample': 0.7351166463781741, 'colsample_bytree': 0.7174977764673488, 'reg_alpha': 4.141105192013755, 'reg_lambda': 1.978390965828607}. Best is trial 5 with value: 1513.7200049780752.\n"
          ]
        },
        {
          "name": "stdout",
          "output_type": "stream",
          "text": [
            "Early stopping, best iteration is:\n",
            "[71]\tvalid_0's rmse: 38.9107\n"
          ]
        },
        {
          "name": "stderr",
          "output_type": "stream",
          "text": [
            "/opt/anaconda3/lib/python3.11/site-packages/sklearn/utils/deprecation.py:151: FutureWarning: 'force_all_finite' was renamed to 'ensure_all_finite' in 1.6 and will be removed in 1.8.\n",
            "  warnings.warn(\n"
          ]
        },
        {
          "name": "stdout",
          "output_type": "stream",
          "text": [
            "Training until validation scores don't improve for 10 rounds\n"
          ]
        },
        {
          "name": "stderr",
          "output_type": "stream",
          "text": [
            "/opt/anaconda3/lib/python3.11/site-packages/sklearn/utils/deprecation.py:151: FutureWarning: 'force_all_finite' was renamed to 'ensure_all_finite' in 1.6 and will be removed in 1.8.\n",
            "  warnings.warn(\n",
            "[I 2025-02-11 16:08:15,763] Trial 55 finished with value: 1514.1119313163438 and parameters: {'learning_rate': 0.06909728421124028, 'num_leaves': 29, 'max_depth': 3, 'min_child_samples': 191, 'subsample': 0.8564001459545293, 'colsample_bytree': 0.6462613457379816, 'reg_alpha': 2.7666082274324006, 'reg_lambda': 2.650342899281723}. Best is trial 5 with value: 1513.7200049780752.\n"
          ]
        },
        {
          "name": "stdout",
          "output_type": "stream",
          "text": [
            "Did not meet early stopping. Best iteration is:\n",
            "[96]\tvalid_0's rmse: 38.9116\n"
          ]
        },
        {
          "name": "stderr",
          "output_type": "stream",
          "text": [
            "/opt/anaconda3/lib/python3.11/site-packages/sklearn/utils/deprecation.py:151: FutureWarning: 'force_all_finite' was renamed to 'ensure_all_finite' in 1.6 and will be removed in 1.8.\n",
            "  warnings.warn(\n"
          ]
        },
        {
          "name": "stdout",
          "output_type": "stream",
          "text": [
            "Training until validation scores don't improve for 10 rounds\n"
          ]
        },
        {
          "name": "stderr",
          "output_type": "stream",
          "text": [
            "/opt/anaconda3/lib/python3.11/site-packages/sklearn/utils/deprecation.py:151: FutureWarning: 'force_all_finite' was renamed to 'ensure_all_finite' in 1.6 and will be removed in 1.8.\n",
            "  warnings.warn(\n",
            "[I 2025-02-11 16:08:17,655] Trial 56 finished with value: 1514.0543024430647 and parameters: {'learning_rate': 0.08475058217751591, 'num_leaves': 42, 'max_depth': 5, 'min_child_samples': 172, 'subsample': 0.7906180686987324, 'colsample_bytree': 0.6975551649291754, 'reg_alpha': 3.8004557930990908, 'reg_lambda': 1.0839358687605172}. Best is trial 5 with value: 1513.7200049780752.\n"
          ]
        },
        {
          "name": "stdout",
          "output_type": "stream",
          "text": [
            "Early stopping, best iteration is:\n",
            "[39]\tvalid_0's rmse: 38.9109\n"
          ]
        },
        {
          "name": "stderr",
          "output_type": "stream",
          "text": [
            "/opt/anaconda3/lib/python3.11/site-packages/sklearn/utils/deprecation.py:151: FutureWarning: 'force_all_finite' was renamed to 'ensure_all_finite' in 1.6 and will be removed in 1.8.\n",
            "  warnings.warn(\n"
          ]
        },
        {
          "name": "stdout",
          "output_type": "stream",
          "text": [
            "Training until validation scores don't improve for 10 rounds\n"
          ]
        },
        {
          "name": "stderr",
          "output_type": "stream",
          "text": [
            "/opt/anaconda3/lib/python3.11/site-packages/sklearn/utils/deprecation.py:151: FutureWarning: 'force_all_finite' was renamed to 'ensure_all_finite' in 1.6 and will be removed in 1.8.\n",
            "  warnings.warn(\n",
            "[I 2025-02-11 16:08:19,357] Trial 57 finished with value: 1514.2066397556553 and parameters: {'learning_rate': 0.07637826148835937, 'num_leaves': 93, 'max_depth': 4, 'min_child_samples': 143, 'subsample': 0.7595890919007661, 'colsample_bytree': 0.6242596121097118, 'reg_alpha': 0.7325632461856066, 'reg_lambda': 0.32788413859180476}. Best is trial 5 with value: 1513.7200049780752.\n"
          ]
        },
        {
          "name": "stdout",
          "output_type": "stream",
          "text": [
            "Early stopping, best iteration is:\n",
            "[39]\tvalid_0's rmse: 38.9128\n"
          ]
        },
        {
          "name": "stderr",
          "output_type": "stream",
          "text": [
            "/opt/anaconda3/lib/python3.11/site-packages/sklearn/utils/deprecation.py:151: FutureWarning: 'force_all_finite' was renamed to 'ensure_all_finite' in 1.6 and will be removed in 1.8.\n",
            "  warnings.warn(\n"
          ]
        },
        {
          "name": "stdout",
          "output_type": "stream",
          "text": [
            "Training until validation scores don't improve for 10 rounds\n"
          ]
        },
        {
          "name": "stderr",
          "output_type": "stream",
          "text": [
            "/opt/anaconda3/lib/python3.11/site-packages/sklearn/utils/deprecation.py:151: FutureWarning: 'force_all_finite' was renamed to 'ensure_all_finite' in 1.6 and will be removed in 1.8.\n",
            "  warnings.warn(\n",
            "[I 2025-02-11 16:08:20,623] Trial 58 finished with value: 1514.3027905732188 and parameters: {'learning_rate': 0.061410337082797875, 'num_leaves': 36, 'max_depth': 6, 'min_child_samples': 162, 'subsample': 0.6573518984449572, 'colsample_bytree': 0.7383907933247997, 'reg_alpha': 1.0936487712004126, 'reg_lambda': 2.2029210805310186}. Best is trial 5 with value: 1513.7200049780752.\n"
          ]
        },
        {
          "name": "stdout",
          "output_type": "stream",
          "text": [
            "Early stopping, best iteration is:\n",
            "[34]\tvalid_0's rmse: 38.914\n"
          ]
        },
        {
          "name": "stderr",
          "output_type": "stream",
          "text": [
            "/opt/anaconda3/lib/python3.11/site-packages/sklearn/utils/deprecation.py:151: FutureWarning: 'force_all_finite' was renamed to 'ensure_all_finite' in 1.6 and will be removed in 1.8.\n",
            "  warnings.warn(\n"
          ]
        },
        {
          "name": "stdout",
          "output_type": "stream",
          "text": [
            "Training until validation scores don't improve for 10 rounds\n"
          ]
        },
        {
          "name": "stderr",
          "output_type": "stream",
          "text": [
            "/opt/anaconda3/lib/python3.11/site-packages/sklearn/utils/deprecation.py:151: FutureWarning: 'force_all_finite' was renamed to 'ensure_all_finite' in 1.6 and will be removed in 1.8.\n",
            "  warnings.warn(\n",
            "[I 2025-02-11 16:08:22,534] Trial 59 finished with value: 1514.1700499788565 and parameters: {'learning_rate': 0.08845974397308182, 'num_leaves': 24, 'max_depth': 12, 'min_child_samples': 183, 'subsample': 0.5102000688734404, 'colsample_bytree': 0.6712859890645394, 'reg_alpha': 5.582994594503286, 'reg_lambda': 3.8731240121177706}. Best is trial 5 with value: 1513.7200049780752.\n"
          ]
        },
        {
          "name": "stdout",
          "output_type": "stream",
          "text": [
            "Early stopping, best iteration is:\n",
            "[59]\tvalid_0's rmse: 38.9123\n"
          ]
        },
        {
          "name": "stderr",
          "output_type": "stream",
          "text": [
            "/opt/anaconda3/lib/python3.11/site-packages/sklearn/utils/deprecation.py:151: FutureWarning: 'force_all_finite' was renamed to 'ensure_all_finite' in 1.6 and will be removed in 1.8.\n",
            "  warnings.warn(\n"
          ]
        },
        {
          "name": "stdout",
          "output_type": "stream",
          "text": [
            "Training until validation scores don't improve for 10 rounds\n"
          ]
        },
        {
          "name": "stderr",
          "output_type": "stream",
          "text": [
            "/opt/anaconda3/lib/python3.11/site-packages/sklearn/utils/deprecation.py:151: FutureWarning: 'force_all_finite' was renamed to 'ensure_all_finite' in 1.6 and will be removed in 1.8.\n",
            "  warnings.warn(\n",
            "[I 2025-02-11 16:08:24,248] Trial 60 finished with value: 1514.091955417289 and parameters: {'learning_rate': 0.058500346893437936, 'num_leaves': 53, 'max_depth': 5, 'min_child_samples': 197, 'subsample': 0.8207097846171324, 'colsample_bytree': 0.7649454215985168, 'reg_alpha': 0.053683573192080836, 'reg_lambda': 3.018784828657761}. Best is trial 5 with value: 1513.7200049780752.\n"
          ]
        },
        {
          "name": "stdout",
          "output_type": "stream",
          "text": [
            "Early stopping, best iteration is:\n",
            "[66]\tvalid_0's rmse: 38.9113\n"
          ]
        },
        {
          "name": "stderr",
          "output_type": "stream",
          "text": [
            "/opt/anaconda3/lib/python3.11/site-packages/sklearn/utils/deprecation.py:151: FutureWarning: 'force_all_finite' was renamed to 'ensure_all_finite' in 1.6 and will be removed in 1.8.\n",
            "  warnings.warn(\n"
          ]
        },
        {
          "name": "stdout",
          "output_type": "stream",
          "text": [
            "Training until validation scores don't improve for 10 rounds\n"
          ]
        },
        {
          "name": "stderr",
          "output_type": "stream",
          "text": [
            "/opt/anaconda3/lib/python3.11/site-packages/sklearn/utils/deprecation.py:151: FutureWarning: 'force_all_finite' was renamed to 'ensure_all_finite' in 1.6 and will be removed in 1.8.\n",
            "  warnings.warn(\n",
            "[I 2025-02-11 16:08:25,613] Trial 61 finished with value: 1514.1376550369819 and parameters: {'learning_rate': 0.09404314989354624, 'num_leaves': 29, 'max_depth': 4, 'min_child_samples': 158, 'subsample': 0.8065737773894155, 'colsample_bytree': 0.6896967527919444, 'reg_alpha': 2.651542494252249, 'reg_lambda': 1.458656386959299}. Best is trial 5 with value: 1513.7200049780752.\n"
          ]
        },
        {
          "name": "stdout",
          "output_type": "stream",
          "text": [
            "Early stopping, best iteration is:\n",
            "[52]\tvalid_0's rmse: 38.9119\n"
          ]
        },
        {
          "name": "stderr",
          "output_type": "stream",
          "text": [
            "/opt/anaconda3/lib/python3.11/site-packages/sklearn/utils/deprecation.py:151: FutureWarning: 'force_all_finite' was renamed to 'ensure_all_finite' in 1.6 and will be removed in 1.8.\n",
            "  warnings.warn(\n"
          ]
        },
        {
          "name": "stdout",
          "output_type": "stream",
          "text": [
            "Training until validation scores don't improve for 10 rounds\n"
          ]
        },
        {
          "name": "stderr",
          "output_type": "stream",
          "text": [
            "/opt/anaconda3/lib/python3.11/site-packages/sklearn/utils/deprecation.py:151: FutureWarning: 'force_all_finite' was renamed to 'ensure_all_finite' in 1.6 and will be removed in 1.8.\n",
            "  warnings.warn(\n",
            "[I 2025-02-11 16:08:27,213] Trial 62 finished with value: 1513.9774608865544 and parameters: {'learning_rate': 0.09988194812602996, 'num_leaves': 33, 'max_depth': 3, 'min_child_samples': 164, 'subsample': 0.837297832029373, 'colsample_bytree': 0.7833475735360855, 'reg_alpha': 2.142386808533399, 'reg_lambda': 0.8075383769998918}. Best is trial 5 with value: 1513.7200049780752.\n"
          ]
        },
        {
          "name": "stdout",
          "output_type": "stream",
          "text": [
            "Early stopping, best iteration is:\n",
            "[73]\tvalid_0's rmse: 38.9099\n"
          ]
        },
        {
          "name": "stderr",
          "output_type": "stream",
          "text": [
            "/opt/anaconda3/lib/python3.11/site-packages/sklearn/utils/deprecation.py:151: FutureWarning: 'force_all_finite' was renamed to 'ensure_all_finite' in 1.6 and will be removed in 1.8.\n",
            "  warnings.warn(\n"
          ]
        },
        {
          "name": "stdout",
          "output_type": "stream",
          "text": [
            "Training until validation scores don't improve for 10 rounds\n"
          ]
        },
        {
          "name": "stderr",
          "output_type": "stream",
          "text": [
            "/opt/anaconda3/lib/python3.11/site-packages/sklearn/utils/deprecation.py:151: FutureWarning: 'force_all_finite' was renamed to 'ensure_all_finite' in 1.6 and will be removed in 1.8.\n",
            "  warnings.warn(\n",
            "[I 2025-02-11 16:08:29,134] Trial 63 finished with value: 1513.9617510870698 and parameters: {'learning_rate': 0.09351402540219485, 'num_leaves': 23, 'max_depth': 4, 'min_child_samples': 154, 'subsample': 0.8673785558111383, 'colsample_bytree': 0.6752452473544535, 'reg_alpha': 3.2596127924813425, 'reg_lambda': 1.1536655772497137}. Best is trial 5 with value: 1513.7200049780752.\n"
          ]
        },
        {
          "name": "stdout",
          "output_type": "stream",
          "text": [
            "Early stopping, best iteration is:\n",
            "[65]\tvalid_0's rmse: 38.9097\n"
          ]
        },
        {
          "name": "stderr",
          "output_type": "stream",
          "text": [
            "/opt/anaconda3/lib/python3.11/site-packages/sklearn/utils/deprecation.py:151: FutureWarning: 'force_all_finite' was renamed to 'ensure_all_finite' in 1.6 and will be removed in 1.8.\n",
            "  warnings.warn(\n"
          ]
        },
        {
          "name": "stdout",
          "output_type": "stream",
          "text": [
            "Training until validation scores don't improve for 10 rounds\n"
          ]
        },
        {
          "name": "stderr",
          "output_type": "stream",
          "text": [
            "/opt/anaconda3/lib/python3.11/site-packages/sklearn/utils/deprecation.py:151: FutureWarning: 'force_all_finite' was renamed to 'ensure_all_finite' in 1.6 and will be removed in 1.8.\n",
            "  warnings.warn(\n",
            "[I 2025-02-11 16:08:31,536] Trial 64 finished with value: 1513.8922217629568 and parameters: {'learning_rate': 0.09167880972955945, 'num_leaves': 37, 'max_depth': 5, 'min_child_samples': 179, 'subsample': 0.833274830032072, 'colsample_bytree': 0.7087471106126698, 'reg_alpha': 4.590444267701789, 'reg_lambda': 0.24937487824059357}. Best is trial 5 with value: 1513.7200049780752.\n"
          ]
        },
        {
          "name": "stdout",
          "output_type": "stream",
          "text": [
            "Early stopping, best iteration is:\n",
            "[53]\tvalid_0's rmse: 38.9088\n"
          ]
        },
        {
          "name": "stderr",
          "output_type": "stream",
          "text": [
            "/opt/anaconda3/lib/python3.11/site-packages/sklearn/utils/deprecation.py:151: FutureWarning: 'force_all_finite' was renamed to 'ensure_all_finite' in 1.6 and will be removed in 1.8.\n",
            "  warnings.warn(\n"
          ]
        },
        {
          "name": "stdout",
          "output_type": "stream",
          "text": [
            "Training until validation scores don't improve for 10 rounds\n"
          ]
        },
        {
          "name": "stderr",
          "output_type": "stream",
          "text": [
            "/opt/anaconda3/lib/python3.11/site-packages/sklearn/utils/deprecation.py:151: FutureWarning: 'force_all_finite' was renamed to 'ensure_all_finite' in 1.6 and will be removed in 1.8.\n",
            "  warnings.warn(\n",
            "[I 2025-02-11 16:08:33,250] Trial 65 finished with value: 1514.232731987926 and parameters: {'learning_rate': 0.09652281816685289, 'num_leaves': 38, 'max_depth': 6, 'min_child_samples': 179, 'subsample': 0.6916544359268687, 'colsample_bytree': 0.7059286504502142, 'reg_alpha': 4.230866267873083, 'reg_lambda': 0.2937997885169892}. Best is trial 5 with value: 1513.7200049780752.\n"
          ]
        },
        {
          "name": "stdout",
          "output_type": "stream",
          "text": [
            "Early stopping, best iteration is:\n",
            "[33]\tvalid_0's rmse: 38.9131\n"
          ]
        },
        {
          "name": "stderr",
          "output_type": "stream",
          "text": [
            "/opt/anaconda3/lib/python3.11/site-packages/sklearn/utils/deprecation.py:151: FutureWarning: 'force_all_finite' was renamed to 'ensure_all_finite' in 1.6 and will be removed in 1.8.\n",
            "  warnings.warn(\n"
          ]
        },
        {
          "name": "stdout",
          "output_type": "stream",
          "text": [
            "Training until validation scores don't improve for 10 rounds\n"
          ]
        },
        {
          "name": "stderr",
          "output_type": "stream",
          "text": [
            "/opt/anaconda3/lib/python3.11/site-packages/sklearn/utils/deprecation.py:151: FutureWarning: 'force_all_finite' was renamed to 'ensure_all_finite' in 1.6 and will be removed in 1.8.\n",
            "  warnings.warn(\n",
            "[I 2025-02-11 16:08:34,955] Trial 66 finished with value: 1514.0610094118801 and parameters: {'learning_rate': 0.08572233363232218, 'num_leaves': 49, 'max_depth': 5, 'min_child_samples': 188, 'subsample': 0.8363729529412826, 'colsample_bytree': 0.8108729149072159, 'reg_alpha': 4.58235647673526, 'reg_lambda': 1.7198000627334706}. Best is trial 5 with value: 1513.7200049780752.\n"
          ]
        },
        {
          "name": "stdout",
          "output_type": "stream",
          "text": [
            "Early stopping, best iteration is:\n",
            "[41]\tvalid_0's rmse: 38.9109\n"
          ]
        },
        {
          "name": "stderr",
          "output_type": "stream",
          "text": [
            "/opt/anaconda3/lib/python3.11/site-packages/sklearn/utils/deprecation.py:151: FutureWarning: 'force_all_finite' was renamed to 'ensure_all_finite' in 1.6 and will be removed in 1.8.\n",
            "  warnings.warn(\n"
          ]
        },
        {
          "name": "stdout",
          "output_type": "stream",
          "text": [
            "Training until validation scores don't improve for 10 rounds\n"
          ]
        },
        {
          "name": "stderr",
          "output_type": "stream",
          "text": [
            "/opt/anaconda3/lib/python3.11/site-packages/sklearn/utils/deprecation.py:151: FutureWarning: 'force_all_finite' was renamed to 'ensure_all_finite' in 1.6 and will be removed in 1.8.\n",
            "  warnings.warn(\n",
            "[I 2025-02-11 16:08:36,525] Trial 67 finished with value: 1514.076874620625 and parameters: {'learning_rate': 0.08132235914083644, 'num_leaves': 44, 'max_depth': 5, 'min_child_samples': 172, 'subsample': 0.8893381307772391, 'colsample_bytree': 0.652033505000393, 'reg_alpha': 4.987278171080613, 'reg_lambda': 2.0689299688346265}. Best is trial 5 with value: 1513.7200049780752.\n"
          ]
        },
        {
          "name": "stdout",
          "output_type": "stream",
          "text": [
            "Early stopping, best iteration is:\n",
            "[33]\tvalid_0's rmse: 38.9111\n"
          ]
        },
        {
          "name": "stderr",
          "output_type": "stream",
          "text": [
            "/opt/anaconda3/lib/python3.11/site-packages/sklearn/utils/deprecation.py:151: FutureWarning: 'force_all_finite' was renamed to 'ensure_all_finite' in 1.6 and will be removed in 1.8.\n",
            "  warnings.warn(\n"
          ]
        },
        {
          "name": "stdout",
          "output_type": "stream",
          "text": [
            "Training until validation scores don't improve for 10 rounds\n"
          ]
        },
        {
          "name": "stderr",
          "output_type": "stream",
          "text": [
            "/opt/anaconda3/lib/python3.11/site-packages/sklearn/utils/deprecation.py:151: FutureWarning: 'force_all_finite' was renamed to 'ensure_all_finite' in 1.6 and will be removed in 1.8.\n",
            "  warnings.warn(\n",
            "[I 2025-02-11 16:08:38,343] Trial 68 finished with value: 1514.2146622005912 and parameters: {'learning_rate': 0.08942626696577352, 'num_leaves': 37, 'max_depth': 5, 'min_child_samples': 195, 'subsample': 0.7212414860815884, 'colsample_bytree': 0.7572699304052724, 'reg_alpha': 7.144012950638837, 'reg_lambda': 0.3060946450545562}. Best is trial 5 with value: 1513.7200049780752.\n"
          ]
        },
        {
          "name": "stdout",
          "output_type": "stream",
          "text": [
            "Early stopping, best iteration is:\n",
            "[44]\tvalid_0's rmse: 38.9129\n"
          ]
        },
        {
          "name": "stderr",
          "output_type": "stream",
          "text": [
            "/opt/anaconda3/lib/python3.11/site-packages/sklearn/utils/deprecation.py:151: FutureWarning: 'force_all_finite' was renamed to 'ensure_all_finite' in 1.6 and will be removed in 1.8.\n",
            "  warnings.warn(\n"
          ]
        },
        {
          "name": "stdout",
          "output_type": "stream",
          "text": [
            "Training until validation scores don't improve for 10 rounds\n"
          ]
        },
        {
          "name": "stderr",
          "output_type": "stream",
          "text": [
            "/opt/anaconda3/lib/python3.11/site-packages/sklearn/utils/deprecation.py:151: FutureWarning: 'force_all_finite' was renamed to 'ensure_all_finite' in 1.6 and will be removed in 1.8.\n",
            "  warnings.warn(\n",
            "[I 2025-02-11 16:08:39,986] Trial 69 finished with value: 1514.237151183147 and parameters: {'learning_rate': 0.0474913477374131, 'num_leaves': 43, 'max_depth': 6, 'min_child_samples': 82, 'subsample': 0.5547439184909461, 'colsample_bytree': 0.7223298949744643, 'reg_alpha': 3.0798454245828992, 'reg_lambda': 1.4015489847255531}. Best is trial 5 with value: 1513.7200049780752.\n"
          ]
        },
        {
          "name": "stdout",
          "output_type": "stream",
          "text": [
            "Early stopping, best iteration is:\n",
            "[39]\tvalid_0's rmse: 38.9132\n"
          ]
        },
        {
          "name": "stderr",
          "output_type": "stream",
          "text": [
            "/opt/anaconda3/lib/python3.11/site-packages/sklearn/utils/deprecation.py:151: FutureWarning: 'force_all_finite' was renamed to 'ensure_all_finite' in 1.6 and will be removed in 1.8.\n",
            "  warnings.warn(\n"
          ]
        },
        {
          "name": "stdout",
          "output_type": "stream",
          "text": [
            "Training until validation scores don't improve for 10 rounds\n"
          ]
        },
        {
          "name": "stderr",
          "output_type": "stream",
          "text": [
            "/opt/anaconda3/lib/python3.11/site-packages/sklearn/utils/deprecation.py:151: FutureWarning: 'force_all_finite' was renamed to 'ensure_all_finite' in 1.6 and will be removed in 1.8.\n",
            "  warnings.warn(\n",
            "[I 2025-02-11 16:08:41,405] Trial 70 finished with value: 1514.460269509051 and parameters: {'learning_rate': 0.0781355416711463, 'num_leaves': 32, 'max_depth': 8, 'min_child_samples': 184, 'subsample': 0.7726595113450696, 'colsample_bytree': 0.7929484515352496, 'reg_alpha': 5.911945777383824, 'reg_lambda': 3.443965497724796}. Best is trial 5 with value: 1513.7200049780752.\n"
          ]
        },
        {
          "name": "stdout",
          "output_type": "stream",
          "text": [
            "Early stopping, best iteration is:\n",
            "[39]\tvalid_0's rmse: 38.9161\n"
          ]
        },
        {
          "name": "stderr",
          "output_type": "stream",
          "text": [
            "/opt/anaconda3/lib/python3.11/site-packages/sklearn/utils/deprecation.py:151: FutureWarning: 'force_all_finite' was renamed to 'ensure_all_finite' in 1.6 and will be removed in 1.8.\n",
            "  warnings.warn(\n"
          ]
        },
        {
          "name": "stdout",
          "output_type": "stream",
          "text": [
            "Training until validation scores don't improve for 10 rounds\n"
          ]
        },
        {
          "name": "stderr",
          "output_type": "stream",
          "text": [
            "/opt/anaconda3/lib/python3.11/site-packages/sklearn/utils/deprecation.py:151: FutureWarning: 'force_all_finite' was renamed to 'ensure_all_finite' in 1.6 and will be removed in 1.8.\n",
            "  warnings.warn(\n",
            "[I 2025-02-11 16:08:43,092] Trial 71 finished with value: 1513.929311284119 and parameters: {'learning_rate': 0.09224958874226738, 'num_leaves': 28, 'max_depth': 4, 'min_child_samples': 168, 'subsample': 0.8158480612938935, 'colsample_bytree': 0.7342282718646576, 'reg_alpha': 3.6522648357471397, 'reg_lambda': 0.8808293133817906}. Best is trial 5 with value: 1513.7200049780752.\n"
          ]
        },
        {
          "name": "stdout",
          "output_type": "stream",
          "text": [
            "Early stopping, best iteration is:\n",
            "[73]\tvalid_0's rmse: 38.9092\n"
          ]
        },
        {
          "name": "stderr",
          "output_type": "stream",
          "text": [
            "/opt/anaconda3/lib/python3.11/site-packages/sklearn/utils/deprecation.py:151: FutureWarning: 'force_all_finite' was renamed to 'ensure_all_finite' in 1.6 and will be removed in 1.8.\n",
            "  warnings.warn(\n"
          ]
        },
        {
          "name": "stdout",
          "output_type": "stream",
          "text": [
            "Training until validation scores don't improve for 10 rounds\n"
          ]
        },
        {
          "name": "stderr",
          "output_type": "stream",
          "text": [
            "/opt/anaconda3/lib/python3.11/site-packages/sklearn/utils/deprecation.py:151: FutureWarning: 'force_all_finite' was renamed to 'ensure_all_finite' in 1.6 and will be removed in 1.8.\n",
            "  warnings.warn(\n",
            "[I 2025-02-11 16:08:46,773] Trial 72 finished with value: 1514.0793406078185 and parameters: {'learning_rate': 0.09175934960557196, 'num_leaves': 28, 'max_depth': 4, 'min_child_samples': 168, 'subsample': 0.8608135905851109, 'colsample_bytree': 0.7348896165767084, 'reg_alpha': 3.578781593825735, 'reg_lambda': 0.9282967946719312}. Best is trial 5 with value: 1513.7200049780752.\n"
          ]
        },
        {
          "name": "stdout",
          "output_type": "stream",
          "text": [
            "Early stopping, best iteration is:\n",
            "[58]\tvalid_0's rmse: 38.9112\n"
          ]
        },
        {
          "name": "stderr",
          "output_type": "stream",
          "text": [
            "/opt/anaconda3/lib/python3.11/site-packages/sklearn/utils/deprecation.py:151: FutureWarning: 'force_all_finite' was renamed to 'ensure_all_finite' in 1.6 and will be removed in 1.8.\n",
            "  warnings.warn(\n"
          ]
        },
        {
          "name": "stdout",
          "output_type": "stream",
          "text": [
            "Training until validation scores don't improve for 10 rounds\n"
          ]
        },
        {
          "name": "stderr",
          "output_type": "stream",
          "text": [
            "/opt/anaconda3/lib/python3.11/site-packages/sklearn/utils/deprecation.py:151: FutureWarning: 'force_all_finite' was renamed to 'ensure_all_finite' in 1.6 and will be removed in 1.8.\n",
            "  warnings.warn(\n",
            "[I 2025-02-11 16:08:49,081] Trial 73 finished with value: 1514.2171168092443 and parameters: {'learning_rate': 0.09648053367002091, 'num_leaves': 23, 'max_depth': 4, 'min_child_samples': 187, 'subsample': 0.6692406571534055, 'colsample_bytree': 0.7785544397496509, 'reg_alpha': 4.797916828925478, 'reg_lambda': 0.004271486372435573}. Best is trial 5 with value: 1513.7200049780752.\n"
          ]
        },
        {
          "name": "stdout",
          "output_type": "stream",
          "text": [
            "Early stopping, best iteration is:\n",
            "[40]\tvalid_0's rmse: 38.9129\n"
          ]
        },
        {
          "name": "stderr",
          "output_type": "stream",
          "text": [
            "/opt/anaconda3/lib/python3.11/site-packages/sklearn/utils/deprecation.py:151: FutureWarning: 'force_all_finite' was renamed to 'ensure_all_finite' in 1.6 and will be removed in 1.8.\n",
            "  warnings.warn(\n"
          ]
        },
        {
          "name": "stdout",
          "output_type": "stream",
          "text": [
            "Training until validation scores don't improve for 10 rounds\n"
          ]
        },
        {
          "name": "stderr",
          "output_type": "stream",
          "text": [
            "/opt/anaconda3/lib/python3.11/site-packages/sklearn/utils/deprecation.py:151: FutureWarning: 'force_all_finite' was renamed to 'ensure_all_finite' in 1.6 and will be removed in 1.8.\n",
            "  warnings.warn(\n",
            "[I 2025-02-11 16:08:50,793] Trial 74 finished with value: 1514.010227342758 and parameters: {'learning_rate': 0.05238971122739163, 'num_leaves': 20, 'max_depth': 4, 'min_child_samples': 37, 'subsample': 0.8262696852385787, 'colsample_bytree': 0.74284586130709, 'reg_alpha': 4.24699905774808, 'reg_lambda': 0.6273804229524815}. Best is trial 5 with value: 1513.7200049780752.\n"
          ]
        },
        {
          "name": "stdout",
          "output_type": "stream",
          "text": [
            "Did not meet early stopping. Best iteration is:\n",
            "[99]\tvalid_0's rmse: 38.9103\n"
          ]
        },
        {
          "name": "stderr",
          "output_type": "stream",
          "text": [
            "/opt/anaconda3/lib/python3.11/site-packages/sklearn/utils/deprecation.py:151: FutureWarning: 'force_all_finite' was renamed to 'ensure_all_finite' in 1.6 and will be removed in 1.8.\n",
            "  warnings.warn(\n"
          ]
        },
        {
          "name": "stdout",
          "output_type": "stream",
          "text": [
            "Training until validation scores don't improve for 10 rounds\n"
          ]
        },
        {
          "name": "stderr",
          "output_type": "stream",
          "text": [
            "/opt/anaconda3/lib/python3.11/site-packages/sklearn/utils/deprecation.py:151: FutureWarning: 'force_all_finite' was renamed to 'ensure_all_finite' in 1.6 and will be removed in 1.8.\n",
            "  warnings.warn(\n",
            "[I 2025-02-11 16:08:52,532] Trial 75 finished with value: 1514.2045901608037 and parameters: {'learning_rate': 0.07427877131534089, 'num_leaves': 39, 'max_depth': 5, 'min_child_samples': 178, 'subsample': 0.7987480308314832, 'colsample_bytree': 0.7121498523624773, 'reg_alpha': 3.9119884916483625, 'reg_lambda': 2.389171606323247}. Best is trial 5 with value: 1513.7200049780752.\n"
          ]
        },
        {
          "name": "stdout",
          "output_type": "stream",
          "text": [
            "Early stopping, best iteration is:\n",
            "[41]\tvalid_0's rmse: 38.9128\n"
          ]
        },
        {
          "name": "stderr",
          "output_type": "stream",
          "text": [
            "/opt/anaconda3/lib/python3.11/site-packages/sklearn/utils/deprecation.py:151: FutureWarning: 'force_all_finite' was renamed to 'ensure_all_finite' in 1.6 and will be removed in 1.8.\n",
            "  warnings.warn(\n"
          ]
        },
        {
          "name": "stdout",
          "output_type": "stream",
          "text": [
            "Training until validation scores don't improve for 10 rounds\n"
          ]
        },
        {
          "name": "stderr",
          "output_type": "stream",
          "text": [
            "/opt/anaconda3/lib/python3.11/site-packages/sklearn/utils/deprecation.py:151: FutureWarning: 'force_all_finite' was renamed to 'ensure_all_finite' in 1.6 and will be removed in 1.8.\n",
            "  warnings.warn(\n",
            "[I 2025-02-11 16:08:54,190] Trial 76 finished with value: 1514.0289392177538 and parameters: {'learning_rate': 0.0830514824787937, 'num_leaves': 88, 'max_depth': 3, 'min_child_samples': 171, 'subsample': 0.8425489748143415, 'colsample_bytree': 0.756294020765038, 'reg_alpha': 2.270312889959272, 'reg_lambda': 8.157528336663395}. Best is trial 5 with value: 1513.7200049780752.\n"
          ]
        },
        {
          "name": "stdout",
          "output_type": "stream",
          "text": [
            "Did not meet early stopping. Best iteration is:\n",
            "[96]\tvalid_0's rmse: 38.9105\n"
          ]
        },
        {
          "name": "stderr",
          "output_type": "stream",
          "text": [
            "/opt/anaconda3/lib/python3.11/site-packages/sklearn/utils/deprecation.py:151: FutureWarning: 'force_all_finite' was renamed to 'ensure_all_finite' in 1.6 and will be removed in 1.8.\n",
            "  warnings.warn(\n"
          ]
        },
        {
          "name": "stdout",
          "output_type": "stream",
          "text": [
            "Training until validation scores don't improve for 10 rounds\n"
          ]
        },
        {
          "name": "stderr",
          "output_type": "stream",
          "text": [
            "/opt/anaconda3/lib/python3.11/site-packages/sklearn/utils/deprecation.py:151: FutureWarning: 'force_all_finite' was renamed to 'ensure_all_finite' in 1.6 and will be removed in 1.8.\n",
            "  warnings.warn(\n",
            "[I 2025-02-11 16:08:56,125] Trial 77 finished with value: 1513.8313420569373 and parameters: {'learning_rate': 0.08784686133783598, 'num_leaves': 25, 'max_depth': 5, 'min_child_samples': 164, 'subsample': 0.5748828941243752, 'colsample_bytree': 0.6650297837853874, 'reg_alpha': 5.260661396401321, 'reg_lambda': 1.7889769004251277}. Best is trial 5 with value: 1513.7200049780752.\n"
          ]
        },
        {
          "name": "stdout",
          "output_type": "stream",
          "text": [
            "Early stopping, best iteration is:\n",
            "[64]\tvalid_0's rmse: 38.908\n"
          ]
        },
        {
          "name": "stderr",
          "output_type": "stream",
          "text": [
            "/opt/anaconda3/lib/python3.11/site-packages/sklearn/utils/deprecation.py:151: FutureWarning: 'force_all_finite' was renamed to 'ensure_all_finite' in 1.6 and will be removed in 1.8.\n",
            "  warnings.warn(\n"
          ]
        },
        {
          "name": "stdout",
          "output_type": "stream",
          "text": [
            "Training until validation scores don't improve for 10 rounds\n",
            "Early stopping, best iteration is:\n",
            "[70]\tvalid_0's rmse: 38.9099\n"
          ]
        },
        {
          "name": "stderr",
          "output_type": "stream",
          "text": [
            "/opt/anaconda3/lib/python3.11/site-packages/sklearn/utils/deprecation.py:151: FutureWarning: 'force_all_finite' was renamed to 'ensure_all_finite' in 1.6 and will be removed in 1.8.\n",
            "  warnings.warn(\n",
            "[I 2025-02-11 16:08:58,731] Trial 78 finished with value: 1513.97741513674 and parameters: {'learning_rate': 0.08818711110454343, 'num_leaves': 23, 'max_depth': 6, 'min_child_samples': 154, 'subsample': 0.5371204134833228, 'colsample_bytree': 0.6656379662759081, 'reg_alpha': 8.24440662544027, 'reg_lambda': 1.7611336968587592}. Best is trial 5 with value: 1513.7200049780752.\n",
            "/opt/anaconda3/lib/python3.11/site-packages/sklearn/utils/deprecation.py:151: FutureWarning: 'force_all_finite' was renamed to 'ensure_all_finite' in 1.6 and will be removed in 1.8.\n",
            "  warnings.warn(\n"
          ]
        },
        {
          "name": "stdout",
          "output_type": "stream",
          "text": [
            "Training until validation scores don't improve for 10 rounds\n"
          ]
        },
        {
          "name": "stderr",
          "output_type": "stream",
          "text": [
            "/opt/anaconda3/lib/python3.11/site-packages/sklearn/utils/deprecation.py:151: FutureWarning: 'force_all_finite' was renamed to 'ensure_all_finite' in 1.6 and will be removed in 1.8.\n",
            "  warnings.warn(\n",
            "[I 2025-02-11 16:09:01,093] Trial 79 finished with value: 1513.9859185916307 and parameters: {'learning_rate': 0.07091274117413886, 'num_leaves': 47, 'max_depth': 5, 'min_child_samples': 148, 'subsample': 0.5783031409987259, 'colsample_bytree': 0.6000565137496693, 'reg_alpha': 5.40465682679983, 'reg_lambda': 2.723438113596596}. Best is trial 5 with value: 1513.7200049780752.\n"
          ]
        },
        {
          "name": "stdout",
          "output_type": "stream",
          "text": [
            "Early stopping, best iteration is:\n",
            "[66]\tvalid_0's rmse: 38.91\n"
          ]
        },
        {
          "name": "stderr",
          "output_type": "stream",
          "text": [
            "/opt/anaconda3/lib/python3.11/site-packages/sklearn/utils/deprecation.py:151: FutureWarning: 'force_all_finite' was renamed to 'ensure_all_finite' in 1.6 and will be removed in 1.8.\n",
            "  warnings.warn(\n"
          ]
        },
        {
          "name": "stdout",
          "output_type": "stream",
          "text": [
            "Training until validation scores don't improve for 10 rounds\n",
            "Early stopping, best iteration is:\n",
            "[84]\tvalid_0's rmse: 38.9083\n"
          ]
        },
        {
          "name": "stderr",
          "output_type": "stream",
          "text": [
            "/opt/anaconda3/lib/python3.11/site-packages/sklearn/utils/deprecation.py:151: FutureWarning: 'force_all_finite' was renamed to 'ensure_all_finite' in 1.6 and will be removed in 1.8.\n",
            "  warnings.warn(\n",
            "[I 2025-02-11 16:09:03,659] Trial 80 finished with value: 1513.8555767760274 and parameters: {'learning_rate': 0.08561853052693874, 'num_leaves': 25, 'max_depth': 5, 'min_child_samples': 137, 'subsample': 0.6258696576279446, 'colsample_bytree': 0.621480087039135, 'reg_alpha': 1.7483450627774002, 'reg_lambda': 1.9189058103669068}. Best is trial 5 with value: 1513.7200049780752.\n",
            "/opt/anaconda3/lib/python3.11/site-packages/sklearn/utils/deprecation.py:151: FutureWarning: 'force_all_finite' was renamed to 'ensure_all_finite' in 1.6 and will be removed in 1.8.\n",
            "  warnings.warn(\n"
          ]
        },
        {
          "name": "stdout",
          "output_type": "stream",
          "text": [
            "Training until validation scores don't improve for 10 rounds\n"
          ]
        },
        {
          "name": "stderr",
          "output_type": "stream",
          "text": [
            "/opt/anaconda3/lib/python3.11/site-packages/sklearn/utils/deprecation.py:151: FutureWarning: 'force_all_finite' was renamed to 'ensure_all_finite' in 1.6 and will be removed in 1.8.\n",
            "  warnings.warn(\n",
            "[I 2025-02-11 16:09:05,263] Trial 81 finished with value: 1514.0227121005169 and parameters: {'learning_rate': 0.08673354523897679, 'num_leaves': 25, 'max_depth': 5, 'min_child_samples': 141, 'subsample': 0.5980375017223549, 'colsample_bytree': 0.6375333321698793, 'reg_alpha': 1.4472245426407997, 'reg_lambda': 2.2228820620245626}. Best is trial 5 with value: 1513.7200049780752.\n"
          ]
        },
        {
          "name": "stdout",
          "output_type": "stream",
          "text": [
            "Early stopping, best iteration is:\n",
            "[47]\tvalid_0's rmse: 38.9104\n"
          ]
        },
        {
          "name": "stderr",
          "output_type": "stream",
          "text": [
            "/opt/anaconda3/lib/python3.11/site-packages/sklearn/utils/deprecation.py:151: FutureWarning: 'force_all_finite' was renamed to 'ensure_all_finite' in 1.6 and will be removed in 1.8.\n",
            "  warnings.warn(\n"
          ]
        },
        {
          "name": "stdout",
          "output_type": "stream",
          "text": [
            "Training until validation scores don't improve for 10 rounds\n"
          ]
        },
        {
          "name": "stderr",
          "output_type": "stream",
          "text": [
            "/opt/anaconda3/lib/python3.11/site-packages/sklearn/utils/deprecation.py:151: FutureWarning: 'force_all_finite' was renamed to 'ensure_all_finite' in 1.6 and will be removed in 1.8.\n",
            "  warnings.warn(\n",
            "[I 2025-02-11 16:09:07,318] Trial 82 finished with value: 1513.9865204281616 and parameters: {'learning_rate': 0.09437346738700425, 'num_leaves': 20, 'max_depth': 6, 'min_child_samples': 160, 'subsample': 0.6275628089370163, 'colsample_bytree': 0.6260629588980173, 'reg_alpha': 1.7093390465272176, 'reg_lambda': 1.909907086143211}. Best is trial 5 with value: 1513.7200049780752.\n"
          ]
        },
        {
          "name": "stdout",
          "output_type": "stream",
          "text": [
            "Early stopping, best iteration is:\n",
            "[51]\tvalid_0's rmse: 38.91\n"
          ]
        },
        {
          "name": "stderr",
          "output_type": "stream",
          "text": [
            "/opt/anaconda3/lib/python3.11/site-packages/sklearn/utils/deprecation.py:151: FutureWarning: 'force_all_finite' was renamed to 'ensure_all_finite' in 1.6 and will be removed in 1.8.\n",
            "  warnings.warn(\n"
          ]
        },
        {
          "name": "stdout",
          "output_type": "stream",
          "text": [
            "Training until validation scores don't improve for 10 rounds\n"
          ]
        },
        {
          "name": "stderr",
          "output_type": "stream",
          "text": [
            "/opt/anaconda3/lib/python3.11/site-packages/sklearn/utils/deprecation.py:151: FutureWarning: 'force_all_finite' was renamed to 'ensure_all_finite' in 1.6 and will be removed in 1.8.\n",
            "  warnings.warn(\n",
            "[I 2025-02-11 16:09:09,304] Trial 83 finished with value: 1513.966188682865 and parameters: {'learning_rate': 0.09145956614681612, 'num_leaves': 54, 'max_depth': 5, 'min_child_samples': 180, 'subsample': 0.6497194609092458, 'colsample_bytree': 0.5703934722193942, 'reg_alpha': 9.364143908654846, 'reg_lambda': 1.3565724006360171}. Best is trial 5 with value: 1513.7200049780752.\n"
          ]
        },
        {
          "name": "stdout",
          "output_type": "stream",
          "text": [
            "Early stopping, best iteration is:\n",
            "[50]\tvalid_0's rmse: 38.9097\n"
          ]
        },
        {
          "name": "stderr",
          "output_type": "stream",
          "text": [
            "/opt/anaconda3/lib/python3.11/site-packages/sklearn/utils/deprecation.py:151: FutureWarning: 'force_all_finite' was renamed to 'ensure_all_finite' in 1.6 and will be removed in 1.8.\n",
            "  warnings.warn(\n"
          ]
        },
        {
          "name": "stdout",
          "output_type": "stream",
          "text": [
            "Training until validation scores don't improve for 10 rounds\n"
          ]
        },
        {
          "name": "stderr",
          "output_type": "stream",
          "text": [
            "/opt/anaconda3/lib/python3.11/site-packages/sklearn/utils/deprecation.py:151: FutureWarning: 'force_all_finite' was renamed to 'ensure_all_finite' in 1.6 and will be removed in 1.8.\n",
            "  warnings.warn(\n",
            "[I 2025-02-11 16:09:11,168] Trial 84 finished with value: 1513.9670372822534 and parameters: {'learning_rate': 0.09743067465488169, 'num_leaves': 50, 'max_depth': 4, 'min_child_samples': 127, 'subsample': 0.5259653103329226, 'colsample_bytree': 0.6186636286600439, 'reg_alpha': 6.496581401456211, 'reg_lambda': 9.948071520789895}. Best is trial 5 with value: 1513.7200049780752.\n"
          ]
        },
        {
          "name": "stdout",
          "output_type": "stream",
          "text": [
            "Early stopping, best iteration is:\n",
            "[66]\tvalid_0's rmse: 38.9097\n"
          ]
        },
        {
          "name": "stderr",
          "output_type": "stream",
          "text": [
            "/opt/anaconda3/lib/python3.11/site-packages/sklearn/utils/deprecation.py:151: FutureWarning: 'force_all_finite' was renamed to 'ensure_all_finite' in 1.6 and will be removed in 1.8.\n",
            "  warnings.warn(\n"
          ]
        },
        {
          "name": "stdout",
          "output_type": "stream",
          "text": [
            "Training until validation scores don't improve for 10 rounds\n"
          ]
        },
        {
          "name": "stderr",
          "output_type": "stream",
          "text": [
            "/opt/anaconda3/lib/python3.11/site-packages/sklearn/utils/deprecation.py:151: FutureWarning: 'force_all_finite' was renamed to 'ensure_all_finite' in 1.6 and will be removed in 1.8.\n",
            "  warnings.warn(\n",
            "[I 2025-02-11 16:09:13,182] Trial 85 finished with value: 1514.119693662679 and parameters: {'learning_rate': 0.07997276402741474, 'num_leaves': 31, 'max_depth': 5, 'min_child_samples': 156, 'subsample': 0.5663544067973704, 'colsample_bytree': 0.5923785599315349, 'reg_alpha': 1.9392405676487305, 'reg_lambda': 2.51825242333189}. Best is trial 5 with value: 1513.7200049780752.\n"
          ]
        },
        {
          "name": "stdout",
          "output_type": "stream",
          "text": [
            "Early stopping, best iteration is:\n",
            "[42]\tvalid_0's rmse: 38.9117\n"
          ]
        },
        {
          "name": "stderr",
          "output_type": "stream",
          "text": [
            "/opt/anaconda3/lib/python3.11/site-packages/sklearn/utils/deprecation.py:151: FutureWarning: 'force_all_finite' was renamed to 'ensure_all_finite' in 1.6 and will be removed in 1.8.\n",
            "  warnings.warn(\n"
          ]
        },
        {
          "name": "stdout",
          "output_type": "stream",
          "text": [
            "Training until validation scores don't improve for 10 rounds\n"
          ]
        },
        {
          "name": "stderr",
          "output_type": "stream",
          "text": [
            "/opt/anaconda3/lib/python3.11/site-packages/sklearn/utils/deprecation.py:151: FutureWarning: 'force_all_finite' was renamed to 'ensure_all_finite' in 1.6 and will be removed in 1.8.\n",
            "  warnings.warn(\n",
            "[I 2025-02-11 16:09:14,881] Trial 86 finished with value: 1514.1945153369122 and parameters: {'learning_rate': 0.08355934800581642, 'num_leaves': 26, 'max_depth': 6, 'min_child_samples': 136, 'subsample': 0.632539711839538, 'colsample_bytree': 0.6625627993307601, 'reg_alpha': 2.507723401843077, 'reg_lambda': 6.313262057749662}. Best is trial 5 with value: 1513.7200049780752.\n"
          ]
        },
        {
          "name": "stdout",
          "output_type": "stream",
          "text": [
            "Early stopping, best iteration is:\n",
            "[38]\tvalid_0's rmse: 38.9127\n"
          ]
        },
        {
          "name": "stderr",
          "output_type": "stream",
          "text": [
            "/opt/anaconda3/lib/python3.11/site-packages/sklearn/utils/deprecation.py:151: FutureWarning: 'force_all_finite' was renamed to 'ensure_all_finite' in 1.6 and will be removed in 1.8.\n",
            "  warnings.warn(\n"
          ]
        },
        {
          "name": "stdout",
          "output_type": "stream",
          "text": [
            "Training until validation scores don't improve for 10 rounds\n"
          ]
        },
        {
          "name": "stderr",
          "output_type": "stream",
          "text": [
            "/opt/anaconda3/lib/python3.11/site-packages/sklearn/utils/deprecation.py:151: FutureWarning: 'force_all_finite' was renamed to 'ensure_all_finite' in 1.6 and will be removed in 1.8.\n",
            "  warnings.warn(\n",
            "[I 2025-02-11 16:09:17,338] Trial 87 finished with value: 1514.1030686509998 and parameters: {'learning_rate': 0.05500659618582451, 'num_leaves': 35, 'max_depth': 4, 'min_child_samples': 100, 'subsample': 0.6078445508656977, 'colsample_bytree': 0.6908279641712768, 'reg_alpha': 1.060963630820779, 'reg_lambda': 1.6088862970866593}. Best is trial 5 with value: 1513.7200049780752.\n"
          ]
        },
        {
          "name": "stdout",
          "output_type": "stream",
          "text": [
            "Early stopping, best iteration is:\n",
            "[84]\tvalid_0's rmse: 38.9115\n"
          ]
        },
        {
          "name": "stderr",
          "output_type": "stream",
          "text": [
            "/opt/anaconda3/lib/python3.11/site-packages/sklearn/utils/deprecation.py:151: FutureWarning: 'force_all_finite' was renamed to 'ensure_all_finite' in 1.6 and will be removed in 1.8.\n",
            "  warnings.warn(\n"
          ]
        },
        {
          "name": "stdout",
          "output_type": "stream",
          "text": [
            "Training until validation scores don't improve for 10 rounds\n"
          ]
        },
        {
          "name": "stderr",
          "output_type": "stream",
          "text": [
            "/opt/anaconda3/lib/python3.11/site-packages/sklearn/utils/deprecation.py:151: FutureWarning: 'force_all_finite' was renamed to 'ensure_all_finite' in 1.6 and will be removed in 1.8.\n",
            "  warnings.warn(\n",
            "[I 2025-02-11 16:09:19,299] Trial 88 finished with value: 1514.0510421824897 and parameters: {'learning_rate': 0.08891844742079315, 'num_leaves': 22, 'max_depth': 5, 'min_child_samples': 163, 'subsample': 0.5867492661621483, 'colsample_bytree': 0.6405956385194376, 'reg_alpha': 2.9185453601277427, 'reg_lambda': 2.9097637656211393}. Best is trial 5 with value: 1513.7200049780752.\n"
          ]
        },
        {
          "name": "stdout",
          "output_type": "stream",
          "text": [
            "Early stopping, best iteration is:\n",
            "[47]\tvalid_0's rmse: 38.9108\n"
          ]
        },
        {
          "name": "stderr",
          "output_type": "stream",
          "text": [
            "/opt/anaconda3/lib/python3.11/site-packages/sklearn/utils/deprecation.py:151: FutureWarning: 'force_all_finite' was renamed to 'ensure_all_finite' in 1.6 and will be removed in 1.8.\n",
            "  warnings.warn(\n"
          ]
        },
        {
          "name": "stdout",
          "output_type": "stream",
          "text": [
            "Training until validation scores don't improve for 10 rounds\n"
          ]
        },
        {
          "name": "stderr",
          "output_type": "stream",
          "text": [
            "/opt/anaconda3/lib/python3.11/site-packages/sklearn/utils/deprecation.py:151: FutureWarning: 'force_all_finite' was renamed to 'ensure_all_finite' in 1.6 and will be removed in 1.8.\n",
            "  warnings.warn(\n",
            "[I 2025-02-11 16:09:21,354] Trial 89 finished with value: 1513.9139850799952 and parameters: {'learning_rate': 0.09818473884820537, 'num_leaves': 75, 'max_depth': 4, 'min_child_samples': 145, 'subsample': 0.5501179024381404, 'colsample_bytree': 0.6794805456326622, 'reg_alpha': 4.466893443720915, 'reg_lambda': 1.1862917124903343}. Best is trial 5 with value: 1513.7200049780752.\n"
          ]
        },
        {
          "name": "stdout",
          "output_type": "stream",
          "text": [
            "Early stopping, best iteration is:\n",
            "[60]\tvalid_0's rmse: 38.909\n"
          ]
        },
        {
          "name": "stderr",
          "output_type": "stream",
          "text": [
            "/opt/anaconda3/lib/python3.11/site-packages/sklearn/utils/deprecation.py:151: FutureWarning: 'force_all_finite' was renamed to 'ensure_all_finite' in 1.6 and will be removed in 1.8.\n",
            "  warnings.warn(\n"
          ]
        },
        {
          "name": "stdout",
          "output_type": "stream",
          "text": [
            "Training until validation scores don't improve for 10 rounds\n"
          ]
        },
        {
          "name": "stderr",
          "output_type": "stream",
          "text": [
            "/opt/anaconda3/lib/python3.11/site-packages/sklearn/utils/deprecation.py:151: FutureWarning: 'force_all_finite' was renamed to 'ensure_all_finite' in 1.6 and will be removed in 1.8.\n",
            "  warnings.warn(\n",
            "[I 2025-02-11 16:09:23,643] Trial 90 finished with value: 1514.1386690126544 and parameters: {'learning_rate': 0.0990856037095569, 'num_leaves': 81, 'max_depth': 3, 'min_child_samples': 144, 'subsample': 0.5140950617464366, 'colsample_bytree': 0.6495403783064971, 'reg_alpha': 5.1980606594752645, 'reg_lambda': 1.1550067929955832}. Best is trial 5 with value: 1513.7200049780752.\n"
          ]
        },
        {
          "name": "stdout",
          "output_type": "stream",
          "text": [
            "Did not meet early stopping. Best iteration is:\n",
            "[100]\tvalid_0's rmse: 38.9119\n"
          ]
        },
        {
          "name": "stderr",
          "output_type": "stream",
          "text": [
            "/opt/anaconda3/lib/python3.11/site-packages/sklearn/utils/deprecation.py:151: FutureWarning: 'force_all_finite' was renamed to 'ensure_all_finite' in 1.6 and will be removed in 1.8.\n",
            "  warnings.warn(\n"
          ]
        },
        {
          "name": "stdout",
          "output_type": "stream",
          "text": [
            "Training until validation scores don't improve for 10 rounds\n"
          ]
        },
        {
          "name": "stderr",
          "output_type": "stream",
          "text": [
            "/opt/anaconda3/lib/python3.11/site-packages/sklearn/utils/deprecation.py:151: FutureWarning: 'force_all_finite' was renamed to 'ensure_all_finite' in 1.6 and will be removed in 1.8.\n",
            "  warnings.warn(\n",
            "[I 2025-02-11 16:09:25,662] Trial 91 finished with value: 1513.989787936373 and parameters: {'learning_rate': 0.09398772252820438, 'num_leaves': 74, 'max_depth': 4, 'min_child_samples': 115, 'subsample': 0.5452760761248773, 'colsample_bytree': 0.6790273310076581, 'reg_alpha': 4.356920668443998, 'reg_lambda': 5.067098498637138}. Best is trial 5 with value: 1513.7200049780752.\n"
          ]
        },
        {
          "name": "stdout",
          "output_type": "stream",
          "text": [
            "Early stopping, best iteration is:\n",
            "[70]\tvalid_0's rmse: 38.91\n"
          ]
        },
        {
          "name": "stderr",
          "output_type": "stream",
          "text": [
            "/opt/anaconda3/lib/python3.11/site-packages/sklearn/utils/deprecation.py:151: FutureWarning: 'force_all_finite' was renamed to 'ensure_all_finite' in 1.6 and will be removed in 1.8.\n",
            "  warnings.warn(\n"
          ]
        },
        {
          "name": "stdout",
          "output_type": "stream",
          "text": [
            "Training until validation scores don't improve for 10 rounds\n"
          ]
        },
        {
          "name": "stderr",
          "output_type": "stream",
          "text": [
            "/opt/anaconda3/lib/python3.11/site-packages/sklearn/utils/deprecation.py:151: FutureWarning: 'force_all_finite' was renamed to 'ensure_all_finite' in 1.6 and will be removed in 1.8.\n",
            "  warnings.warn(\n",
            "[I 2025-02-11 16:09:27,336] Trial 92 finished with value: 1514.0817883527143 and parameters: {'learning_rate': 0.09510591977435884, 'num_leaves': 74, 'max_depth': 5, 'min_child_samples': 150, 'subsample': 0.619170255819376, 'colsample_bytree': 0.6110599128304958, 'reg_alpha': 4.021548831828858, 'reg_lambda': 1.9538648821583406}. Best is trial 5 with value: 1513.7200049780752.\n"
          ]
        },
        {
          "name": "stdout",
          "output_type": "stream",
          "text": [
            "Early stopping, best iteration is:\n",
            "[50]\tvalid_0's rmse: 38.9112\n"
          ]
        },
        {
          "name": "stderr",
          "output_type": "stream",
          "text": [
            "/opt/anaconda3/lib/python3.11/site-packages/sklearn/utils/deprecation.py:151: FutureWarning: 'force_all_finite' was renamed to 'ensure_all_finite' in 1.6 and will be removed in 1.8.\n",
            "  warnings.warn(\n"
          ]
        },
        {
          "name": "stdout",
          "output_type": "stream",
          "text": [
            "Training until validation scores don't improve for 10 rounds\n"
          ]
        },
        {
          "name": "stderr",
          "output_type": "stream",
          "text": [
            "/opt/anaconda3/lib/python3.11/site-packages/sklearn/utils/deprecation.py:151: FutureWarning: 'force_all_finite' was renamed to 'ensure_all_finite' in 1.6 and will be removed in 1.8.\n",
            "  warnings.warn(\n",
            "[I 2025-02-11 16:09:29,084] Trial 93 finished with value: 1513.8110752050543 and parameters: {'learning_rate': 0.09833762241172875, 'num_leaves': 86, 'max_depth': 4, 'min_child_samples': 174, 'subsample': 0.5302225593011872, 'colsample_bytree': 0.6650036814370689, 'reg_alpha': 4.456500054496238, 'reg_lambda': 1.505159404906599}. Best is trial 5 with value: 1513.7200049780752.\n"
          ]
        },
        {
          "name": "stdout",
          "output_type": "stream",
          "text": [
            "Early stopping, best iteration is:\n",
            "[84]\tvalid_0's rmse: 38.9077\n"
          ]
        },
        {
          "name": "stderr",
          "output_type": "stream",
          "text": [
            "/opt/anaconda3/lib/python3.11/site-packages/sklearn/utils/deprecation.py:151: FutureWarning: 'force_all_finite' was renamed to 'ensure_all_finite' in 1.6 and will be removed in 1.8.\n",
            "  warnings.warn(\n"
          ]
        },
        {
          "name": "stdout",
          "output_type": "stream",
          "text": [
            "Training until validation scores don't improve for 10 rounds\n"
          ]
        },
        {
          "name": "stderr",
          "output_type": "stream",
          "text": [
            "/opt/anaconda3/lib/python3.11/site-packages/sklearn/utils/deprecation.py:151: FutureWarning: 'force_all_finite' was renamed to 'ensure_all_finite' in 1.6 and will be removed in 1.8.\n",
            "  warnings.warn(\n",
            "[I 2025-02-11 16:09:30,968] Trial 94 finished with value: 1514.1686949345633 and parameters: {'learning_rate': 0.09808874802095423, 'num_leaves': 88, 'max_depth': 3, 'min_child_samples': 164, 'subsample': 0.5323620050459262, 'colsample_bytree': 0.662310164884027, 'reg_alpha': 5.270709498553692, 'reg_lambda': 0.42577974297167304}. Best is trial 5 with value: 1513.7200049780752.\n"
          ]
        },
        {
          "name": "stdout",
          "output_type": "stream",
          "text": [
            "Early stopping, best iteration is:\n",
            "[63]\tvalid_0's rmse: 38.9123\n"
          ]
        },
        {
          "name": "stderr",
          "output_type": "stream",
          "text": [
            "/opt/anaconda3/lib/python3.11/site-packages/sklearn/utils/deprecation.py:151: FutureWarning: 'force_all_finite' was renamed to 'ensure_all_finite' in 1.6 and will be removed in 1.8.\n",
            "  warnings.warn(\n"
          ]
        },
        {
          "name": "stdout",
          "output_type": "stream",
          "text": [
            "Training until validation scores don't improve for 10 rounds\n"
          ]
        },
        {
          "name": "stderr",
          "output_type": "stream",
          "text": [
            "/opt/anaconda3/lib/python3.11/site-packages/sklearn/utils/deprecation.py:151: FutureWarning: 'force_all_finite' was renamed to 'ensure_all_finite' in 1.6 and will be removed in 1.8.\n",
            "  warnings.warn(\n",
            "[I 2025-02-11 16:09:32,626] Trial 95 finished with value: 1513.9765933665115 and parameters: {'learning_rate': 0.09716071578803802, 'num_leaves': 78, 'max_depth': 4, 'min_child_samples': 174, 'subsample': 0.5538701261181335, 'colsample_bytree': 0.6940277703126139, 'reg_alpha': 4.616281693299985, 'reg_lambda': 1.3911843361689544}. Best is trial 5 with value: 1513.7200049780752.\n"
          ]
        },
        {
          "name": "stdout",
          "output_type": "stream",
          "text": [
            "Early stopping, best iteration is:\n",
            "[61]\tvalid_0's rmse: 38.9099\n"
          ]
        },
        {
          "name": "stderr",
          "output_type": "stream",
          "text": [
            "/opt/anaconda3/lib/python3.11/site-packages/sklearn/utils/deprecation.py:151: FutureWarning: 'force_all_finite' was renamed to 'ensure_all_finite' in 1.6 and will be removed in 1.8.\n",
            "  warnings.warn(\n"
          ]
        },
        {
          "name": "stdout",
          "output_type": "stream",
          "text": [
            "Training until validation scores don't improve for 10 rounds\n"
          ]
        },
        {
          "name": "stderr",
          "output_type": "stream",
          "text": [
            "/opt/anaconda3/lib/python3.11/site-packages/sklearn/utils/deprecation.py:151: FutureWarning: 'force_all_finite' was renamed to 'ensure_all_finite' in 1.6 and will be removed in 1.8.\n",
            "  warnings.warn(\n",
            "[I 2025-02-11 16:09:34,833] Trial 96 finished with value: 1513.9657059794347 and parameters: {'learning_rate': 0.09105415099274453, 'num_leaves': 81, 'max_depth': 3, 'min_child_samples': 152, 'subsample': 0.502018084300806, 'colsample_bytree': 0.6278119845804209, 'reg_alpha': 5.826884151691247, 'reg_lambda': 1.0201544816740342}. Best is trial 5 with value: 1513.7200049780752.\n"
          ]
        },
        {
          "name": "stdout",
          "output_type": "stream",
          "text": [
            "Did not meet early stopping. Best iteration is:\n",
            "[97]\tvalid_0's rmse: 38.9097\n"
          ]
        },
        {
          "name": "stderr",
          "output_type": "stream",
          "text": [
            "/opt/anaconda3/lib/python3.11/site-packages/sklearn/utils/deprecation.py:151: FutureWarning: 'force_all_finite' was renamed to 'ensure_all_finite' in 1.6 and will be removed in 1.8.\n",
            "  warnings.warn(\n"
          ]
        },
        {
          "name": "stdout",
          "output_type": "stream",
          "text": [
            "Training until validation scores don't improve for 10 rounds\n"
          ]
        },
        {
          "name": "stderr",
          "output_type": "stream",
          "text": [
            "/opt/anaconda3/lib/python3.11/site-packages/sklearn/utils/deprecation.py:151: FutureWarning: 'force_all_finite' was renamed to 'ensure_all_finite' in 1.6 and will be removed in 1.8.\n",
            "  warnings.warn(\n",
            "[I 2025-02-11 16:09:37,029] Trial 97 finished with value: 1514.028632048023 and parameters: {'learning_rate': 0.09519510448431891, 'num_leaves': 90, 'max_depth': 4, 'min_child_samples': 147, 'subsample': 0.5696223960027882, 'colsample_bytree': 0.6691466962490455, 'reg_alpha': 4.819024117216672, 'reg_lambda': 0.6864303909798918}. Best is trial 5 with value: 1513.7200049780752.\n"
          ]
        },
        {
          "name": "stdout",
          "output_type": "stream",
          "text": [
            "Early stopping, best iteration is:\n",
            "[60]\tvalid_0's rmse: 38.9105\n"
          ]
        },
        {
          "name": "stderr",
          "output_type": "stream",
          "text": [
            "/opt/anaconda3/lib/python3.11/site-packages/sklearn/utils/deprecation.py:151: FutureWarning: 'force_all_finite' was renamed to 'ensure_all_finite' in 1.6 and will be removed in 1.8.\n",
            "  warnings.warn(\n"
          ]
        },
        {
          "name": "stdout",
          "output_type": "stream",
          "text": [
            "Training until validation scores don't improve for 10 rounds\n"
          ]
        },
        {
          "name": "stderr",
          "output_type": "stream",
          "text": [
            "/opt/anaconda3/lib/python3.11/site-packages/sklearn/utils/deprecation.py:151: FutureWarning: 'force_all_finite' was renamed to 'ensure_all_finite' in 1.6 and will be removed in 1.8.\n",
            "  warnings.warn(\n",
            "[I 2025-02-11 16:09:39,078] Trial 98 finished with value: 1513.8320198242243 and parameters: {'learning_rate': 0.09259057573780116, 'num_leaves': 66, 'max_depth': 4, 'min_child_samples': 138, 'subsample': 0.589748605292708, 'colsample_bytree': 0.707832577095654, 'reg_alpha': 4.533728351959096, 'reg_lambda': 1.5317136102323206}. Best is trial 5 with value: 1513.7200049780752.\n"
          ]
        },
        {
          "name": "stdout",
          "output_type": "stream",
          "text": [
            "Early stopping, best iteration is:\n",
            "[72]\tvalid_0's rmse: 38.908\n"
          ]
        },
        {
          "name": "stderr",
          "output_type": "stream",
          "text": [
            "/opt/anaconda3/lib/python3.11/site-packages/sklearn/utils/deprecation.py:151: FutureWarning: 'force_all_finite' was renamed to 'ensure_all_finite' in 1.6 and will be removed in 1.8.\n",
            "  warnings.warn(\n"
          ]
        },
        {
          "name": "stdout",
          "output_type": "stream",
          "text": [
            "Training until validation scores don't improve for 10 rounds\n"
          ]
        },
        {
          "name": "stderr",
          "output_type": "stream",
          "text": [
            "/opt/anaconda3/lib/python3.11/site-packages/sklearn/utils/deprecation.py:151: FutureWarning: 'force_all_finite' was renamed to 'ensure_all_finite' in 1.6 and will be removed in 1.8.\n",
            "  warnings.warn(\n",
            "[I 2025-02-11 16:09:41,195] Trial 99 finished with value: 1514.3705318275065 and parameters: {'learning_rate': 0.08742309776645198, 'num_leaves': 69, 'max_depth': 10, 'min_child_samples': 138, 'subsample': 0.5610321539815638, 'colsample_bytree': 0.6836411403664809, 'reg_alpha': 4.406211014889559, 'reg_lambda': 5.434008713487626}. Best is trial 5 with value: 1513.7200049780752.\n"
          ]
        },
        {
          "name": "stdout",
          "output_type": "stream",
          "text": [
            "Early stopping, best iteration is:\n",
            "[22]\tvalid_0's rmse: 38.9149\n",
            "Time taken: 182.3079128265381 seconds\n"
          ]
        }
      ],
      "source": [
        "import time\n",
        "start_time = time.time()\n",
        "study.optimize(objective, n_trials=100)\n",
        "end_time = time.time()\n",
        "print(f\"Time taken: {end_time - start_time} seconds\")"
      ]
    },
    {
      "cell_type": "code",
      "execution_count": 15,
      "metadata": {
        "colab": {
          "base_uri": "https://localhost:8080/"
        },
        "id": "GTN74bXFr_Ph",
        "outputId": "f4310e71-24ef-4f03-d410-1bd06d5ee47e"
      },
      "outputs": [
        {
          "name": "stdout",
          "output_type": "stream",
          "text": [
            "Best parameters: {'learning_rate': 0.09899749800158453, 'num_leaves': 80, 'max_depth': 5, 'min_child_samples': 162, 'subsample': 0.5412904026310568, 'colsample_bytree': 0.679157410470362, 'reg_alpha': 9.085955031845, 'reg_lambda': 2.936141490800653}\n"
          ]
        }
      ],
      "source": [
        "print('Best parameters:', study.best_params)"
      ]
    },
    {
      "cell_type": "markdown",
      "metadata": {
        "id": "RZdplJpfum8x"
      },
      "source": [
        "- first iteration:\n",
        "Best parameters: {'learning_rate': 0.09495644380018639, 'num_leaves': 77, 'max_depth': 3, 'min_child_samples': 62, 'subsample': 0.6614807453665343, 'colsample_bytree': 0.6148551220728337, 'reg_alpha': 8.500355486635911, 'reg_lambda': 7.010097067336246}\n",
        "- 2nd iteration:\n",
        "Best parameters: {'learning_rate': 0.09654269565258655, 'num_leaves': 82, 'max_depth': 3, 'min_child_samples': 77, 'subsample': 0.8443805713604343, 'colsample_bytree': 0.5006284268817309, 'reg_alpha': 4.506548701012825, 'reg_lambda': 3.5879714165911607}\n",
        "- 3rd\n",
        "Best Parameters: {'learning_rate': 0.09899749800158453, 'num_leaves': 80, 'max_depth': 5, 'min_child_samples': 162, 'subsample': 0.5412904026310568, 'colsample_bytree': 0.679157410470362, 'reg_alpha': 9.085955031845, 'reg_lambda': 2.936141490800653}\n",
        "- 4th iteration:\n",
        "Best Parameters: {'learning_rate': 0.09689056850918965, 'num_leaves': 45, 'max_depth': 4, 'min_child_samples': 42, 'subsample': 0.7495256437518634, 'colsample_bytree': 0.528430956341894, 'reg_alpha': 9.438202535340269, 'reg_lambda': 5.180036018469718}\n"
      ]
    },
    {
      "cell_type": "code",
      "execution_count": 16,
      "metadata": {
        "colab": {
          "base_uri": "https://localhost:8080/"
        },
        "id": "c0R5uBUKtRJO",
        "outputId": "c0de8964-fabd-491f-fd91-7f094423c006"
      },
      "outputs": [
        {
          "name": "stdout",
          "output_type": "stream",
          "text": [
            "Best Parameters: {'learning_rate': 0.09899749800158453, 'num_leaves': 80, 'max_depth': 5, 'min_child_samples': 162, 'subsample': 0.5412904026310568, 'colsample_bytree': 0.679157410470362, 'reg_alpha': 9.085955031845, 'reg_lambda': 2.936141490800653}\n"
          ]
        },
        {
          "name": "stderr",
          "output_type": "stream",
          "text": [
            "/opt/anaconda3/lib/python3.11/site-packages/sklearn/utils/deprecation.py:151: FutureWarning: 'force_all_finite' was renamed to 'ensure_all_finite' in 1.6 and will be removed in 1.8.\n",
            "  warnings.warn(\n"
          ]
        },
        {
          "name": "stdout",
          "output_type": "stream",
          "text": [
            "Training until validation scores don't improve for 10 rounds\n",
            "Early stopping, best iteration is:\n",
            "[34]\tvalid_0's l2: 1514.16\n",
            "Test RMSE with Best Parameters: 38.912187498337296\n"
          ]
        },
        {
          "name": "stderr",
          "output_type": "stream",
          "text": [
            "/opt/anaconda3/lib/python3.11/site-packages/sklearn/utils/deprecation.py:151: FutureWarning: 'force_all_finite' was renamed to 'ensure_all_finite' in 1.6 and will be removed in 1.8.\n",
            "  warnings.warn(\n"
          ]
        }
      ],
      "source": [
        "import lightgbm as lgb\n",
        "from sklearn.metrics import mean_squared_error\n",
        "\n",
        "# Best parameters from Optuna\n",
        "best_params = study.best_params\n",
        "print(\"Best Parameters:\", best_params)\n",
        "\n",
        "# Create and train the model with the best parameters\n",
        "model = lgb.LGBMRegressor(**best_params)\n",
        "model.fit(X_train_scaled, y_train, eval_set=[(X_test_scaled, y_test)],\n",
        "          callbacks=[lgb.early_stopping(stopping_rounds=10)])\n",
        "\n",
        "# Make predictions on the test set\n",
        "y_pred = model.predict(X_test_scaled)\n",
        "\n",
        "# Evaluate the model\n",
        "mse = mean_squared_error(y_test, y_pred)\n",
        "rmse = mse**0.5\n",
        "print(\"Test RMSE with Best Parameters:\", rmse)"
      ]
    },
    {
      "cell_type": "code",
      "execution_count": null,
      "metadata": {},
      "outputs": [],
      "source": []
    },
    {
      "cell_type": "code",
      "execution_count": null,
      "metadata": {
        "id": "d85ORmwGwrLl"
      },
      "outputs": [],
      "source": []
    }
  ],
  "metadata": {
    "colab": {
      "provenance": []
    },
    "kernelspec": {
      "display_name": "base",
      "language": "python",
      "name": "python3"
    },
    "language_info": {
      "codemirror_mode": {
        "name": "ipython",
        "version": 3
      },
      "file_extension": ".py",
      "mimetype": "text/x-python",
      "name": "python",
      "nbconvert_exporter": "python",
      "pygments_lexer": "ipython3",
      "version": "3.11.7"
    }
  },
  "nbformat": 4,
  "nbformat_minor": 0
}
